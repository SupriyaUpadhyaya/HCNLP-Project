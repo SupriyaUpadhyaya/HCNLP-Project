{
  "nbformat": 4,
  "nbformat_minor": 0,
  "metadata": {
    "colab": {
      "provenance": [],
      "gpuType": "T4"
    },
    "kernelspec": {
      "name": "python3",
      "display_name": "Python 3"
    },
    "language_info": {
      "name": "python"
    },
    "accelerator": "GPU",
    "widgets": {
      "application/vnd.jupyter.widget-state+json": {
        "794c4dff03a145fdb6a37e078b68ff67": {
          "model_module": "@jupyter-widgets/controls",
          "model_name": "HBoxModel",
          "model_module_version": "1.5.0",
          "state": {
            "_dom_classes": [],
            "_model_module": "@jupyter-widgets/controls",
            "_model_module_version": "1.5.0",
            "_model_name": "HBoxModel",
            "_view_count": null,
            "_view_module": "@jupyter-widgets/controls",
            "_view_module_version": "1.5.0",
            "_view_name": "HBoxView",
            "box_style": "",
            "children": [
              "IPY_MODEL_1a611cb79b9140a8a9a67a5a60789b7f",
              "IPY_MODEL_346565f5efc94033bb2653e1ada25b90",
              "IPY_MODEL_24b7fdb414d34575a8bb9b59cbe60b4a"
            ],
            "layout": "IPY_MODEL_26e5f45d82844b33919d0f98b61d9ec9"
          }
        },
        "1a611cb79b9140a8a9a67a5a60789b7f": {
          "model_module": "@jupyter-widgets/controls",
          "model_name": "HTMLModel",
          "model_module_version": "1.5.0",
          "state": {
            "_dom_classes": [],
            "_model_module": "@jupyter-widgets/controls",
            "_model_module_version": "1.5.0",
            "_model_name": "HTMLModel",
            "_view_count": null,
            "_view_module": "@jupyter-widgets/controls",
            "_view_module_version": "1.5.0",
            "_view_name": "HTMLView",
            "description": "",
            "description_tooltip": null,
            "layout": "IPY_MODEL_78a696d6e6d944dcaafa050edd39f6bd",
            "placeholder": "​",
            "style": "IPY_MODEL_94dae6383e3a4dfdb37cdfd718f26f26",
            "value": "tokenizer_config.json: 100%"
          }
        },
        "346565f5efc94033bb2653e1ada25b90": {
          "model_module": "@jupyter-widgets/controls",
          "model_name": "FloatProgressModel",
          "model_module_version": "1.5.0",
          "state": {
            "_dom_classes": [],
            "_model_module": "@jupyter-widgets/controls",
            "_model_module_version": "1.5.0",
            "_model_name": "FloatProgressModel",
            "_view_count": null,
            "_view_module": "@jupyter-widgets/controls",
            "_view_module_version": "1.5.0",
            "_view_name": "ProgressView",
            "bar_style": "success",
            "description": "",
            "description_tooltip": null,
            "layout": "IPY_MODEL_c626137334b84661a6a0b04d40713bf6",
            "max": 50599,
            "min": 0,
            "orientation": "horizontal",
            "style": "IPY_MODEL_7e0f3e7f194e44a28034b8673fc8d1c5",
            "value": 50599
          }
        },
        "24b7fdb414d34575a8bb9b59cbe60b4a": {
          "model_module": "@jupyter-widgets/controls",
          "model_name": "HTMLModel",
          "model_module_version": "1.5.0",
          "state": {
            "_dom_classes": [],
            "_model_module": "@jupyter-widgets/controls",
            "_model_module_version": "1.5.0",
            "_model_name": "HTMLModel",
            "_view_count": null,
            "_view_module": "@jupyter-widgets/controls",
            "_view_module_version": "1.5.0",
            "_view_name": "HTMLView",
            "description": "",
            "description_tooltip": null,
            "layout": "IPY_MODEL_d1ed9b4ab50d49a8a437a79d486629ae",
            "placeholder": "​",
            "style": "IPY_MODEL_55a4f5c9483f4d4cb43641aef0885845",
            "value": " 50.6k/50.6k [00:00&lt;00:00, 785kB/s]"
          }
        },
        "26e5f45d82844b33919d0f98b61d9ec9": {
          "model_module": "@jupyter-widgets/base",
          "model_name": "LayoutModel",
          "model_module_version": "1.2.0",
          "state": {
            "_model_module": "@jupyter-widgets/base",
            "_model_module_version": "1.2.0",
            "_model_name": "LayoutModel",
            "_view_count": null,
            "_view_module": "@jupyter-widgets/base",
            "_view_module_version": "1.2.0",
            "_view_name": "LayoutView",
            "align_content": null,
            "align_items": null,
            "align_self": null,
            "border": null,
            "bottom": null,
            "display": null,
            "flex": null,
            "flex_flow": null,
            "grid_area": null,
            "grid_auto_columns": null,
            "grid_auto_flow": null,
            "grid_auto_rows": null,
            "grid_column": null,
            "grid_gap": null,
            "grid_row": null,
            "grid_template_areas": null,
            "grid_template_columns": null,
            "grid_template_rows": null,
            "height": null,
            "justify_content": null,
            "justify_items": null,
            "left": null,
            "margin": null,
            "max_height": null,
            "max_width": null,
            "min_height": null,
            "min_width": null,
            "object_fit": null,
            "object_position": null,
            "order": null,
            "overflow": null,
            "overflow_x": null,
            "overflow_y": null,
            "padding": null,
            "right": null,
            "top": null,
            "visibility": null,
            "width": null
          }
        },
        "78a696d6e6d944dcaafa050edd39f6bd": {
          "model_module": "@jupyter-widgets/base",
          "model_name": "LayoutModel",
          "model_module_version": "1.2.0",
          "state": {
            "_model_module": "@jupyter-widgets/base",
            "_model_module_version": "1.2.0",
            "_model_name": "LayoutModel",
            "_view_count": null,
            "_view_module": "@jupyter-widgets/base",
            "_view_module_version": "1.2.0",
            "_view_name": "LayoutView",
            "align_content": null,
            "align_items": null,
            "align_self": null,
            "border": null,
            "bottom": null,
            "display": null,
            "flex": null,
            "flex_flow": null,
            "grid_area": null,
            "grid_auto_columns": null,
            "grid_auto_flow": null,
            "grid_auto_rows": null,
            "grid_column": null,
            "grid_gap": null,
            "grid_row": null,
            "grid_template_areas": null,
            "grid_template_columns": null,
            "grid_template_rows": null,
            "height": null,
            "justify_content": null,
            "justify_items": null,
            "left": null,
            "margin": null,
            "max_height": null,
            "max_width": null,
            "min_height": null,
            "min_width": null,
            "object_fit": null,
            "object_position": null,
            "order": null,
            "overflow": null,
            "overflow_x": null,
            "overflow_y": null,
            "padding": null,
            "right": null,
            "top": null,
            "visibility": null,
            "width": null
          }
        },
        "94dae6383e3a4dfdb37cdfd718f26f26": {
          "model_module": "@jupyter-widgets/controls",
          "model_name": "DescriptionStyleModel",
          "model_module_version": "1.5.0",
          "state": {
            "_model_module": "@jupyter-widgets/controls",
            "_model_module_version": "1.5.0",
            "_model_name": "DescriptionStyleModel",
            "_view_count": null,
            "_view_module": "@jupyter-widgets/base",
            "_view_module_version": "1.2.0",
            "_view_name": "StyleView",
            "description_width": ""
          }
        },
        "c626137334b84661a6a0b04d40713bf6": {
          "model_module": "@jupyter-widgets/base",
          "model_name": "LayoutModel",
          "model_module_version": "1.2.0",
          "state": {
            "_model_module": "@jupyter-widgets/base",
            "_model_module_version": "1.2.0",
            "_model_name": "LayoutModel",
            "_view_count": null,
            "_view_module": "@jupyter-widgets/base",
            "_view_module_version": "1.2.0",
            "_view_name": "LayoutView",
            "align_content": null,
            "align_items": null,
            "align_self": null,
            "border": null,
            "bottom": null,
            "display": null,
            "flex": null,
            "flex_flow": null,
            "grid_area": null,
            "grid_auto_columns": null,
            "grid_auto_flow": null,
            "grid_auto_rows": null,
            "grid_column": null,
            "grid_gap": null,
            "grid_row": null,
            "grid_template_areas": null,
            "grid_template_columns": null,
            "grid_template_rows": null,
            "height": null,
            "justify_content": null,
            "justify_items": null,
            "left": null,
            "margin": null,
            "max_height": null,
            "max_width": null,
            "min_height": null,
            "min_width": null,
            "object_fit": null,
            "object_position": null,
            "order": null,
            "overflow": null,
            "overflow_x": null,
            "overflow_y": null,
            "padding": null,
            "right": null,
            "top": null,
            "visibility": null,
            "width": null
          }
        },
        "7e0f3e7f194e44a28034b8673fc8d1c5": {
          "model_module": "@jupyter-widgets/controls",
          "model_name": "ProgressStyleModel",
          "model_module_version": "1.5.0",
          "state": {
            "_model_module": "@jupyter-widgets/controls",
            "_model_module_version": "1.5.0",
            "_model_name": "ProgressStyleModel",
            "_view_count": null,
            "_view_module": "@jupyter-widgets/base",
            "_view_module_version": "1.2.0",
            "_view_name": "StyleView",
            "bar_color": null,
            "description_width": ""
          }
        },
        "d1ed9b4ab50d49a8a437a79d486629ae": {
          "model_module": "@jupyter-widgets/base",
          "model_name": "LayoutModel",
          "model_module_version": "1.2.0",
          "state": {
            "_model_module": "@jupyter-widgets/base",
            "_model_module_version": "1.2.0",
            "_model_name": "LayoutModel",
            "_view_count": null,
            "_view_module": "@jupyter-widgets/base",
            "_view_module_version": "1.2.0",
            "_view_name": "LayoutView",
            "align_content": null,
            "align_items": null,
            "align_self": null,
            "border": null,
            "bottom": null,
            "display": null,
            "flex": null,
            "flex_flow": null,
            "grid_area": null,
            "grid_auto_columns": null,
            "grid_auto_flow": null,
            "grid_auto_rows": null,
            "grid_column": null,
            "grid_gap": null,
            "grid_row": null,
            "grid_template_areas": null,
            "grid_template_columns": null,
            "grid_template_rows": null,
            "height": null,
            "justify_content": null,
            "justify_items": null,
            "left": null,
            "margin": null,
            "max_height": null,
            "max_width": null,
            "min_height": null,
            "min_width": null,
            "object_fit": null,
            "object_position": null,
            "order": null,
            "overflow": null,
            "overflow_x": null,
            "overflow_y": null,
            "padding": null,
            "right": null,
            "top": null,
            "visibility": null,
            "width": null
          }
        },
        "55a4f5c9483f4d4cb43641aef0885845": {
          "model_module": "@jupyter-widgets/controls",
          "model_name": "DescriptionStyleModel",
          "model_module_version": "1.5.0",
          "state": {
            "_model_module": "@jupyter-widgets/controls",
            "_model_module_version": "1.5.0",
            "_model_name": "DescriptionStyleModel",
            "_view_count": null,
            "_view_module": "@jupyter-widgets/base",
            "_view_module_version": "1.2.0",
            "_view_name": "StyleView",
            "description_width": ""
          }
        },
        "2079a7f3907c4a6593017092cb4257a4": {
          "model_module": "@jupyter-widgets/controls",
          "model_name": "HBoxModel",
          "model_module_version": "1.5.0",
          "state": {
            "_dom_classes": [],
            "_model_module": "@jupyter-widgets/controls",
            "_model_module_version": "1.5.0",
            "_model_name": "HBoxModel",
            "_view_count": null,
            "_view_module": "@jupyter-widgets/controls",
            "_view_module_version": "1.5.0",
            "_view_name": "HBoxView",
            "box_style": "",
            "children": [
              "IPY_MODEL_20686e9cf2814da2855675d9fc6695b9",
              "IPY_MODEL_131df9af9db348eb8fc08ae8289c99aa",
              "IPY_MODEL_e9361313019e4687828388e879ec9ddd"
            ],
            "layout": "IPY_MODEL_8b3a2d57526a445ebd38c4212b4c18b2"
          }
        },
        "20686e9cf2814da2855675d9fc6695b9": {
          "model_module": "@jupyter-widgets/controls",
          "model_name": "HTMLModel",
          "model_module_version": "1.5.0",
          "state": {
            "_dom_classes": [],
            "_model_module": "@jupyter-widgets/controls",
            "_model_module_version": "1.5.0",
            "_model_name": "HTMLModel",
            "_view_count": null,
            "_view_module": "@jupyter-widgets/controls",
            "_view_module_version": "1.5.0",
            "_view_name": "HTMLView",
            "description": "",
            "description_tooltip": null,
            "layout": "IPY_MODEL_6aded4050f3b4f8b8264a77c5e8dd453",
            "placeholder": "​",
            "style": "IPY_MODEL_15d8233ef35e4b61b4889af6533052eb",
            "value": "tokenizer.json: 100%"
          }
        },
        "131df9af9db348eb8fc08ae8289c99aa": {
          "model_module": "@jupyter-widgets/controls",
          "model_name": "FloatProgressModel",
          "model_module_version": "1.5.0",
          "state": {
            "_dom_classes": [],
            "_model_module": "@jupyter-widgets/controls",
            "_model_module_version": "1.5.0",
            "_model_name": "FloatProgressModel",
            "_view_count": null,
            "_view_module": "@jupyter-widgets/controls",
            "_view_module_version": "1.5.0",
            "_view_name": "ProgressView",
            "bar_style": "success",
            "description": "",
            "description_tooltip": null,
            "layout": "IPY_MODEL_daf9c0b0f72e42e2bee731f9b1293e8d",
            "max": 9085698,
            "min": 0,
            "orientation": "horizontal",
            "style": "IPY_MODEL_cd42ab9b66734838951997ca7d555a31",
            "value": 9085698
          }
        },
        "e9361313019e4687828388e879ec9ddd": {
          "model_module": "@jupyter-widgets/controls",
          "model_name": "HTMLModel",
          "model_module_version": "1.5.0",
          "state": {
            "_dom_classes": [],
            "_model_module": "@jupyter-widgets/controls",
            "_model_module_version": "1.5.0",
            "_model_name": "HTMLModel",
            "_view_count": null,
            "_view_module": "@jupyter-widgets/controls",
            "_view_module_version": "1.5.0",
            "_view_name": "HTMLView",
            "description": "",
            "description_tooltip": null,
            "layout": "IPY_MODEL_6921939857ff43f5a2c35ae5a641e9ca",
            "placeholder": "​",
            "style": "IPY_MODEL_40a3aba23ac04010a1234fe7566c90ac",
            "value": " 9.09M/9.09M [00:00&lt;00:00, 9.44MB/s]"
          }
        },
        "8b3a2d57526a445ebd38c4212b4c18b2": {
          "model_module": "@jupyter-widgets/base",
          "model_name": "LayoutModel",
          "model_module_version": "1.2.0",
          "state": {
            "_model_module": "@jupyter-widgets/base",
            "_model_module_version": "1.2.0",
            "_model_name": "LayoutModel",
            "_view_count": null,
            "_view_module": "@jupyter-widgets/base",
            "_view_module_version": "1.2.0",
            "_view_name": "LayoutView",
            "align_content": null,
            "align_items": null,
            "align_self": null,
            "border": null,
            "bottom": null,
            "display": null,
            "flex": null,
            "flex_flow": null,
            "grid_area": null,
            "grid_auto_columns": null,
            "grid_auto_flow": null,
            "grid_auto_rows": null,
            "grid_column": null,
            "grid_gap": null,
            "grid_row": null,
            "grid_template_areas": null,
            "grid_template_columns": null,
            "grid_template_rows": null,
            "height": null,
            "justify_content": null,
            "justify_items": null,
            "left": null,
            "margin": null,
            "max_height": null,
            "max_width": null,
            "min_height": null,
            "min_width": null,
            "object_fit": null,
            "object_position": null,
            "order": null,
            "overflow": null,
            "overflow_x": null,
            "overflow_y": null,
            "padding": null,
            "right": null,
            "top": null,
            "visibility": null,
            "width": null
          }
        },
        "6aded4050f3b4f8b8264a77c5e8dd453": {
          "model_module": "@jupyter-widgets/base",
          "model_name": "LayoutModel",
          "model_module_version": "1.2.0",
          "state": {
            "_model_module": "@jupyter-widgets/base",
            "_model_module_version": "1.2.0",
            "_model_name": "LayoutModel",
            "_view_count": null,
            "_view_module": "@jupyter-widgets/base",
            "_view_module_version": "1.2.0",
            "_view_name": "LayoutView",
            "align_content": null,
            "align_items": null,
            "align_self": null,
            "border": null,
            "bottom": null,
            "display": null,
            "flex": null,
            "flex_flow": null,
            "grid_area": null,
            "grid_auto_columns": null,
            "grid_auto_flow": null,
            "grid_auto_rows": null,
            "grid_column": null,
            "grid_gap": null,
            "grid_row": null,
            "grid_template_areas": null,
            "grid_template_columns": null,
            "grid_template_rows": null,
            "height": null,
            "justify_content": null,
            "justify_items": null,
            "left": null,
            "margin": null,
            "max_height": null,
            "max_width": null,
            "min_height": null,
            "min_width": null,
            "object_fit": null,
            "object_position": null,
            "order": null,
            "overflow": null,
            "overflow_x": null,
            "overflow_y": null,
            "padding": null,
            "right": null,
            "top": null,
            "visibility": null,
            "width": null
          }
        },
        "15d8233ef35e4b61b4889af6533052eb": {
          "model_module": "@jupyter-widgets/controls",
          "model_name": "DescriptionStyleModel",
          "model_module_version": "1.5.0",
          "state": {
            "_model_module": "@jupyter-widgets/controls",
            "_model_module_version": "1.5.0",
            "_model_name": "DescriptionStyleModel",
            "_view_count": null,
            "_view_module": "@jupyter-widgets/base",
            "_view_module_version": "1.2.0",
            "_view_name": "StyleView",
            "description_width": ""
          }
        },
        "daf9c0b0f72e42e2bee731f9b1293e8d": {
          "model_module": "@jupyter-widgets/base",
          "model_name": "LayoutModel",
          "model_module_version": "1.2.0",
          "state": {
            "_model_module": "@jupyter-widgets/base",
            "_model_module_version": "1.2.0",
            "_model_name": "LayoutModel",
            "_view_count": null,
            "_view_module": "@jupyter-widgets/base",
            "_view_module_version": "1.2.0",
            "_view_name": "LayoutView",
            "align_content": null,
            "align_items": null,
            "align_self": null,
            "border": null,
            "bottom": null,
            "display": null,
            "flex": null,
            "flex_flow": null,
            "grid_area": null,
            "grid_auto_columns": null,
            "grid_auto_flow": null,
            "grid_auto_rows": null,
            "grid_column": null,
            "grid_gap": null,
            "grid_row": null,
            "grid_template_areas": null,
            "grid_template_columns": null,
            "grid_template_rows": null,
            "height": null,
            "justify_content": null,
            "justify_items": null,
            "left": null,
            "margin": null,
            "max_height": null,
            "max_width": null,
            "min_height": null,
            "min_width": null,
            "object_fit": null,
            "object_position": null,
            "order": null,
            "overflow": null,
            "overflow_x": null,
            "overflow_y": null,
            "padding": null,
            "right": null,
            "top": null,
            "visibility": null,
            "width": null
          }
        },
        "cd42ab9b66734838951997ca7d555a31": {
          "model_module": "@jupyter-widgets/controls",
          "model_name": "ProgressStyleModel",
          "model_module_version": "1.5.0",
          "state": {
            "_model_module": "@jupyter-widgets/controls",
            "_model_module_version": "1.5.0",
            "_model_name": "ProgressStyleModel",
            "_view_count": null,
            "_view_module": "@jupyter-widgets/base",
            "_view_module_version": "1.2.0",
            "_view_name": "StyleView",
            "bar_color": null,
            "description_width": ""
          }
        },
        "6921939857ff43f5a2c35ae5a641e9ca": {
          "model_module": "@jupyter-widgets/base",
          "model_name": "LayoutModel",
          "model_module_version": "1.2.0",
          "state": {
            "_model_module": "@jupyter-widgets/base",
            "_model_module_version": "1.2.0",
            "_model_name": "LayoutModel",
            "_view_count": null,
            "_view_module": "@jupyter-widgets/base",
            "_view_module_version": "1.2.0",
            "_view_name": "LayoutView",
            "align_content": null,
            "align_items": null,
            "align_self": null,
            "border": null,
            "bottom": null,
            "display": null,
            "flex": null,
            "flex_flow": null,
            "grid_area": null,
            "grid_auto_columns": null,
            "grid_auto_flow": null,
            "grid_auto_rows": null,
            "grid_column": null,
            "grid_gap": null,
            "grid_row": null,
            "grid_template_areas": null,
            "grid_template_columns": null,
            "grid_template_rows": null,
            "height": null,
            "justify_content": null,
            "justify_items": null,
            "left": null,
            "margin": null,
            "max_height": null,
            "max_width": null,
            "min_height": null,
            "min_width": null,
            "object_fit": null,
            "object_position": null,
            "order": null,
            "overflow": null,
            "overflow_x": null,
            "overflow_y": null,
            "padding": null,
            "right": null,
            "top": null,
            "visibility": null,
            "width": null
          }
        },
        "40a3aba23ac04010a1234fe7566c90ac": {
          "model_module": "@jupyter-widgets/controls",
          "model_name": "DescriptionStyleModel",
          "model_module_version": "1.5.0",
          "state": {
            "_model_module": "@jupyter-widgets/controls",
            "_model_module_version": "1.5.0",
            "_model_name": "DescriptionStyleModel",
            "_view_count": null,
            "_view_module": "@jupyter-widgets/base",
            "_view_module_version": "1.2.0",
            "_view_name": "StyleView",
            "description_width": ""
          }
        },
        "d5b4352bb44e4cb2a1fbad6349de6d03": {
          "model_module": "@jupyter-widgets/controls",
          "model_name": "HBoxModel",
          "model_module_version": "1.5.0",
          "state": {
            "_dom_classes": [],
            "_model_module": "@jupyter-widgets/controls",
            "_model_module_version": "1.5.0",
            "_model_name": "HBoxModel",
            "_view_count": null,
            "_view_module": "@jupyter-widgets/controls",
            "_view_module_version": "1.5.0",
            "_view_name": "HBoxView",
            "box_style": "",
            "children": [
              "IPY_MODEL_9f436400600048d4aaaf3ee606d3e694",
              "IPY_MODEL_f18007ae3493417a91eb9f450eb321f0",
              "IPY_MODEL_3207964a31e44b708bff92c31131420d"
            ],
            "layout": "IPY_MODEL_e26dda166ae246f79881241ffd2b8de9"
          }
        },
        "9f436400600048d4aaaf3ee606d3e694": {
          "model_module": "@jupyter-widgets/controls",
          "model_name": "HTMLModel",
          "model_module_version": "1.5.0",
          "state": {
            "_dom_classes": [],
            "_model_module": "@jupyter-widgets/controls",
            "_model_module_version": "1.5.0",
            "_model_name": "HTMLModel",
            "_view_count": null,
            "_view_module": "@jupyter-widgets/controls",
            "_view_module_version": "1.5.0",
            "_view_name": "HTMLView",
            "description": "",
            "description_tooltip": null,
            "layout": "IPY_MODEL_f4816aceb3284c04b1bbbc77672e65f7",
            "placeholder": "​",
            "style": "IPY_MODEL_727711dddd0d4361ae364f169055e96b",
            "value": "special_tokens_map.json: 100%"
          }
        },
        "f18007ae3493417a91eb9f450eb321f0": {
          "model_module": "@jupyter-widgets/controls",
          "model_name": "FloatProgressModel",
          "model_module_version": "1.5.0",
          "state": {
            "_dom_classes": [],
            "_model_module": "@jupyter-widgets/controls",
            "_model_module_version": "1.5.0",
            "_model_name": "FloatProgressModel",
            "_view_count": null,
            "_view_module": "@jupyter-widgets/controls",
            "_view_module_version": "1.5.0",
            "_view_name": "ProgressView",
            "bar_style": "success",
            "description": "",
            "description_tooltip": null,
            "layout": "IPY_MODEL_2a7bae4861ca467aa4359d0649baa848",
            "max": 449,
            "min": 0,
            "orientation": "horizontal",
            "style": "IPY_MODEL_7c32446ce87842fbaede9286d2b16c3b",
            "value": 449
          }
        },
        "3207964a31e44b708bff92c31131420d": {
          "model_module": "@jupyter-widgets/controls",
          "model_name": "HTMLModel",
          "model_module_version": "1.5.0",
          "state": {
            "_dom_classes": [],
            "_model_module": "@jupyter-widgets/controls",
            "_model_module_version": "1.5.0",
            "_model_name": "HTMLModel",
            "_view_count": null,
            "_view_module": "@jupyter-widgets/controls",
            "_view_module_version": "1.5.0",
            "_view_name": "HTMLView",
            "description": "",
            "description_tooltip": null,
            "layout": "IPY_MODEL_26a67594dd5e4e1887adf2e3639ec4c9",
            "placeholder": "​",
            "style": "IPY_MODEL_41165423e4654685b25619cc7785b22b",
            "value": " 449/449 [00:00&lt;00:00, 30.8kB/s]"
          }
        },
        "e26dda166ae246f79881241ffd2b8de9": {
          "model_module": "@jupyter-widgets/base",
          "model_name": "LayoutModel",
          "model_module_version": "1.2.0",
          "state": {
            "_model_module": "@jupyter-widgets/base",
            "_model_module_version": "1.2.0",
            "_model_name": "LayoutModel",
            "_view_count": null,
            "_view_module": "@jupyter-widgets/base",
            "_view_module_version": "1.2.0",
            "_view_name": "LayoutView",
            "align_content": null,
            "align_items": null,
            "align_self": null,
            "border": null,
            "bottom": null,
            "display": null,
            "flex": null,
            "flex_flow": null,
            "grid_area": null,
            "grid_auto_columns": null,
            "grid_auto_flow": null,
            "grid_auto_rows": null,
            "grid_column": null,
            "grid_gap": null,
            "grid_row": null,
            "grid_template_areas": null,
            "grid_template_columns": null,
            "grid_template_rows": null,
            "height": null,
            "justify_content": null,
            "justify_items": null,
            "left": null,
            "margin": null,
            "max_height": null,
            "max_width": null,
            "min_height": null,
            "min_width": null,
            "object_fit": null,
            "object_position": null,
            "order": null,
            "overflow": null,
            "overflow_x": null,
            "overflow_y": null,
            "padding": null,
            "right": null,
            "top": null,
            "visibility": null,
            "width": null
          }
        },
        "f4816aceb3284c04b1bbbc77672e65f7": {
          "model_module": "@jupyter-widgets/base",
          "model_name": "LayoutModel",
          "model_module_version": "1.2.0",
          "state": {
            "_model_module": "@jupyter-widgets/base",
            "_model_module_version": "1.2.0",
            "_model_name": "LayoutModel",
            "_view_count": null,
            "_view_module": "@jupyter-widgets/base",
            "_view_module_version": "1.2.0",
            "_view_name": "LayoutView",
            "align_content": null,
            "align_items": null,
            "align_self": null,
            "border": null,
            "bottom": null,
            "display": null,
            "flex": null,
            "flex_flow": null,
            "grid_area": null,
            "grid_auto_columns": null,
            "grid_auto_flow": null,
            "grid_auto_rows": null,
            "grid_column": null,
            "grid_gap": null,
            "grid_row": null,
            "grid_template_areas": null,
            "grid_template_columns": null,
            "grid_template_rows": null,
            "height": null,
            "justify_content": null,
            "justify_items": null,
            "left": null,
            "margin": null,
            "max_height": null,
            "max_width": null,
            "min_height": null,
            "min_width": null,
            "object_fit": null,
            "object_position": null,
            "order": null,
            "overflow": null,
            "overflow_x": null,
            "overflow_y": null,
            "padding": null,
            "right": null,
            "top": null,
            "visibility": null,
            "width": null
          }
        },
        "727711dddd0d4361ae364f169055e96b": {
          "model_module": "@jupyter-widgets/controls",
          "model_name": "DescriptionStyleModel",
          "model_module_version": "1.5.0",
          "state": {
            "_model_module": "@jupyter-widgets/controls",
            "_model_module_version": "1.5.0",
            "_model_name": "DescriptionStyleModel",
            "_view_count": null,
            "_view_module": "@jupyter-widgets/base",
            "_view_module_version": "1.2.0",
            "_view_name": "StyleView",
            "description_width": ""
          }
        },
        "2a7bae4861ca467aa4359d0649baa848": {
          "model_module": "@jupyter-widgets/base",
          "model_name": "LayoutModel",
          "model_module_version": "1.2.0",
          "state": {
            "_model_module": "@jupyter-widgets/base",
            "_model_module_version": "1.2.0",
            "_model_name": "LayoutModel",
            "_view_count": null,
            "_view_module": "@jupyter-widgets/base",
            "_view_module_version": "1.2.0",
            "_view_name": "LayoutView",
            "align_content": null,
            "align_items": null,
            "align_self": null,
            "border": null,
            "bottom": null,
            "display": null,
            "flex": null,
            "flex_flow": null,
            "grid_area": null,
            "grid_auto_columns": null,
            "grid_auto_flow": null,
            "grid_auto_rows": null,
            "grid_column": null,
            "grid_gap": null,
            "grid_row": null,
            "grid_template_areas": null,
            "grid_template_columns": null,
            "grid_template_rows": null,
            "height": null,
            "justify_content": null,
            "justify_items": null,
            "left": null,
            "margin": null,
            "max_height": null,
            "max_width": null,
            "min_height": null,
            "min_width": null,
            "object_fit": null,
            "object_position": null,
            "order": null,
            "overflow": null,
            "overflow_x": null,
            "overflow_y": null,
            "padding": null,
            "right": null,
            "top": null,
            "visibility": null,
            "width": null
          }
        },
        "7c32446ce87842fbaede9286d2b16c3b": {
          "model_module": "@jupyter-widgets/controls",
          "model_name": "ProgressStyleModel",
          "model_module_version": "1.5.0",
          "state": {
            "_model_module": "@jupyter-widgets/controls",
            "_model_module_version": "1.5.0",
            "_model_name": "ProgressStyleModel",
            "_view_count": null,
            "_view_module": "@jupyter-widgets/base",
            "_view_module_version": "1.2.0",
            "_view_name": "StyleView",
            "bar_color": null,
            "description_width": ""
          }
        },
        "26a67594dd5e4e1887adf2e3639ec4c9": {
          "model_module": "@jupyter-widgets/base",
          "model_name": "LayoutModel",
          "model_module_version": "1.2.0",
          "state": {
            "_model_module": "@jupyter-widgets/base",
            "_model_module_version": "1.2.0",
            "_model_name": "LayoutModel",
            "_view_count": null,
            "_view_module": "@jupyter-widgets/base",
            "_view_module_version": "1.2.0",
            "_view_name": "LayoutView",
            "align_content": null,
            "align_items": null,
            "align_self": null,
            "border": null,
            "bottom": null,
            "display": null,
            "flex": null,
            "flex_flow": null,
            "grid_area": null,
            "grid_auto_columns": null,
            "grid_auto_flow": null,
            "grid_auto_rows": null,
            "grid_column": null,
            "grid_gap": null,
            "grid_row": null,
            "grid_template_areas": null,
            "grid_template_columns": null,
            "grid_template_rows": null,
            "height": null,
            "justify_content": null,
            "justify_items": null,
            "left": null,
            "margin": null,
            "max_height": null,
            "max_width": null,
            "min_height": null,
            "min_width": null,
            "object_fit": null,
            "object_position": null,
            "order": null,
            "overflow": null,
            "overflow_x": null,
            "overflow_y": null,
            "padding": null,
            "right": null,
            "top": null,
            "visibility": null,
            "width": null
          }
        },
        "41165423e4654685b25619cc7785b22b": {
          "model_module": "@jupyter-widgets/controls",
          "model_name": "DescriptionStyleModel",
          "model_module_version": "1.5.0",
          "state": {
            "_model_module": "@jupyter-widgets/controls",
            "_model_module_version": "1.5.0",
            "_model_name": "DescriptionStyleModel",
            "_view_count": null,
            "_view_module": "@jupyter-widgets/base",
            "_view_module_version": "1.2.0",
            "_view_name": "StyleView",
            "description_width": ""
          }
        },
        "016a15456770467da642335d7b9e124a": {
          "model_module": "@jupyter-widgets/controls",
          "model_name": "HBoxModel",
          "model_module_version": "1.5.0",
          "state": {
            "_dom_classes": [],
            "_model_module": "@jupyter-widgets/controls",
            "_model_module_version": "1.5.0",
            "_model_name": "HBoxModel",
            "_view_count": null,
            "_view_module": "@jupyter-widgets/controls",
            "_view_module_version": "1.5.0",
            "_view_name": "HBoxView",
            "box_style": "",
            "children": [
              "IPY_MODEL_5c52d8f90b1e4e1a86f423bfe9826cc8",
              "IPY_MODEL_771692d221424257a2fea965df2187cd",
              "IPY_MODEL_8ebe84e1737d4b438bfce89623173909"
            ],
            "layout": "IPY_MODEL_ff95f409e5d84eb7aaf0a3ed7f3b2742"
          }
        },
        "5c52d8f90b1e4e1a86f423bfe9826cc8": {
          "model_module": "@jupyter-widgets/controls",
          "model_name": "HTMLModel",
          "model_module_version": "1.5.0",
          "state": {
            "_dom_classes": [],
            "_model_module": "@jupyter-widgets/controls",
            "_model_module_version": "1.5.0",
            "_model_name": "HTMLModel",
            "_view_count": null,
            "_view_module": "@jupyter-widgets/controls",
            "_view_module_version": "1.5.0",
            "_view_name": "HTMLView",
            "description": "",
            "description_tooltip": null,
            "layout": "IPY_MODEL_6847d5cb8fbd419da272d8db3827e559",
            "placeholder": "​",
            "style": "IPY_MODEL_fb245d6878e545be9a08ba5baa240261",
            "value": "config.json: 100%"
          }
        },
        "771692d221424257a2fea965df2187cd": {
          "model_module": "@jupyter-widgets/controls",
          "model_name": "FloatProgressModel",
          "model_module_version": "1.5.0",
          "state": {
            "_dom_classes": [],
            "_model_module": "@jupyter-widgets/controls",
            "_model_module_version": "1.5.0",
            "_model_name": "FloatProgressModel",
            "_view_count": null,
            "_view_module": "@jupyter-widgets/controls",
            "_view_module_version": "1.5.0",
            "_view_name": "ProgressView",
            "bar_style": "success",
            "description": "",
            "description_tooltip": null,
            "layout": "IPY_MODEL_0e083f92a9c64436b079b3918eda33e7",
            "max": 729,
            "min": 0,
            "orientation": "horizontal",
            "style": "IPY_MODEL_47506b824b7b4218ab0e5ea3319dafc0",
            "value": 729
          }
        },
        "8ebe84e1737d4b438bfce89623173909": {
          "model_module": "@jupyter-widgets/controls",
          "model_name": "HTMLModel",
          "model_module_version": "1.5.0",
          "state": {
            "_dom_classes": [],
            "_model_module": "@jupyter-widgets/controls",
            "_model_module_version": "1.5.0",
            "_model_name": "HTMLModel",
            "_view_count": null,
            "_view_module": "@jupyter-widgets/controls",
            "_view_module_version": "1.5.0",
            "_view_name": "HTMLView",
            "description": "",
            "description_tooltip": null,
            "layout": "IPY_MODEL_f68ce76c77c1417e82931a9c62404557",
            "placeholder": "​",
            "style": "IPY_MODEL_2d9372dcfafd4578836f94b9aa0906f3",
            "value": " 729/729 [00:00&lt;00:00, 46.2kB/s]"
          }
        },
        "ff95f409e5d84eb7aaf0a3ed7f3b2742": {
          "model_module": "@jupyter-widgets/base",
          "model_name": "LayoutModel",
          "model_module_version": "1.2.0",
          "state": {
            "_model_module": "@jupyter-widgets/base",
            "_model_module_version": "1.2.0",
            "_model_name": "LayoutModel",
            "_view_count": null,
            "_view_module": "@jupyter-widgets/base",
            "_view_module_version": "1.2.0",
            "_view_name": "LayoutView",
            "align_content": null,
            "align_items": null,
            "align_self": null,
            "border": null,
            "bottom": null,
            "display": null,
            "flex": null,
            "flex_flow": null,
            "grid_area": null,
            "grid_auto_columns": null,
            "grid_auto_flow": null,
            "grid_auto_rows": null,
            "grid_column": null,
            "grid_gap": null,
            "grid_row": null,
            "grid_template_areas": null,
            "grid_template_columns": null,
            "grid_template_rows": null,
            "height": null,
            "justify_content": null,
            "justify_items": null,
            "left": null,
            "margin": null,
            "max_height": null,
            "max_width": null,
            "min_height": null,
            "min_width": null,
            "object_fit": null,
            "object_position": null,
            "order": null,
            "overflow": null,
            "overflow_x": null,
            "overflow_y": null,
            "padding": null,
            "right": null,
            "top": null,
            "visibility": null,
            "width": null
          }
        },
        "6847d5cb8fbd419da272d8db3827e559": {
          "model_module": "@jupyter-widgets/base",
          "model_name": "LayoutModel",
          "model_module_version": "1.2.0",
          "state": {
            "_model_module": "@jupyter-widgets/base",
            "_model_module_version": "1.2.0",
            "_model_name": "LayoutModel",
            "_view_count": null,
            "_view_module": "@jupyter-widgets/base",
            "_view_module_version": "1.2.0",
            "_view_name": "LayoutView",
            "align_content": null,
            "align_items": null,
            "align_self": null,
            "border": null,
            "bottom": null,
            "display": null,
            "flex": null,
            "flex_flow": null,
            "grid_area": null,
            "grid_auto_columns": null,
            "grid_auto_flow": null,
            "grid_auto_rows": null,
            "grid_column": null,
            "grid_gap": null,
            "grid_row": null,
            "grid_template_areas": null,
            "grid_template_columns": null,
            "grid_template_rows": null,
            "height": null,
            "justify_content": null,
            "justify_items": null,
            "left": null,
            "margin": null,
            "max_height": null,
            "max_width": null,
            "min_height": null,
            "min_width": null,
            "object_fit": null,
            "object_position": null,
            "order": null,
            "overflow": null,
            "overflow_x": null,
            "overflow_y": null,
            "padding": null,
            "right": null,
            "top": null,
            "visibility": null,
            "width": null
          }
        },
        "fb245d6878e545be9a08ba5baa240261": {
          "model_module": "@jupyter-widgets/controls",
          "model_name": "DescriptionStyleModel",
          "model_module_version": "1.5.0",
          "state": {
            "_model_module": "@jupyter-widgets/controls",
            "_model_module_version": "1.5.0",
            "_model_name": "DescriptionStyleModel",
            "_view_count": null,
            "_view_module": "@jupyter-widgets/base",
            "_view_module_version": "1.2.0",
            "_view_name": "StyleView",
            "description_width": ""
          }
        },
        "0e083f92a9c64436b079b3918eda33e7": {
          "model_module": "@jupyter-widgets/base",
          "model_name": "LayoutModel",
          "model_module_version": "1.2.0",
          "state": {
            "_model_module": "@jupyter-widgets/base",
            "_model_module_version": "1.2.0",
            "_model_name": "LayoutModel",
            "_view_count": null,
            "_view_module": "@jupyter-widgets/base",
            "_view_module_version": "1.2.0",
            "_view_name": "LayoutView",
            "align_content": null,
            "align_items": null,
            "align_self": null,
            "border": null,
            "bottom": null,
            "display": null,
            "flex": null,
            "flex_flow": null,
            "grid_area": null,
            "grid_auto_columns": null,
            "grid_auto_flow": null,
            "grid_auto_rows": null,
            "grid_column": null,
            "grid_gap": null,
            "grid_row": null,
            "grid_template_areas": null,
            "grid_template_columns": null,
            "grid_template_rows": null,
            "height": null,
            "justify_content": null,
            "justify_items": null,
            "left": null,
            "margin": null,
            "max_height": null,
            "max_width": null,
            "min_height": null,
            "min_width": null,
            "object_fit": null,
            "object_position": null,
            "order": null,
            "overflow": null,
            "overflow_x": null,
            "overflow_y": null,
            "padding": null,
            "right": null,
            "top": null,
            "visibility": null,
            "width": null
          }
        },
        "47506b824b7b4218ab0e5ea3319dafc0": {
          "model_module": "@jupyter-widgets/controls",
          "model_name": "ProgressStyleModel",
          "model_module_version": "1.5.0",
          "state": {
            "_model_module": "@jupyter-widgets/controls",
            "_model_module_version": "1.5.0",
            "_model_name": "ProgressStyleModel",
            "_view_count": null,
            "_view_module": "@jupyter-widgets/base",
            "_view_module_version": "1.2.0",
            "_view_name": "StyleView",
            "bar_color": null,
            "description_width": ""
          }
        },
        "f68ce76c77c1417e82931a9c62404557": {
          "model_module": "@jupyter-widgets/base",
          "model_name": "LayoutModel",
          "model_module_version": "1.2.0",
          "state": {
            "_model_module": "@jupyter-widgets/base",
            "_model_module_version": "1.2.0",
            "_model_name": "LayoutModel",
            "_view_count": null,
            "_view_module": "@jupyter-widgets/base",
            "_view_module_version": "1.2.0",
            "_view_name": "LayoutView",
            "align_content": null,
            "align_items": null,
            "align_self": null,
            "border": null,
            "bottom": null,
            "display": null,
            "flex": null,
            "flex_flow": null,
            "grid_area": null,
            "grid_auto_columns": null,
            "grid_auto_flow": null,
            "grid_auto_rows": null,
            "grid_column": null,
            "grid_gap": null,
            "grid_row": null,
            "grid_template_areas": null,
            "grid_template_columns": null,
            "grid_template_rows": null,
            "height": null,
            "justify_content": null,
            "justify_items": null,
            "left": null,
            "margin": null,
            "max_height": null,
            "max_width": null,
            "min_height": null,
            "min_width": null,
            "object_fit": null,
            "object_position": null,
            "order": null,
            "overflow": null,
            "overflow_x": null,
            "overflow_y": null,
            "padding": null,
            "right": null,
            "top": null,
            "visibility": null,
            "width": null
          }
        },
        "2d9372dcfafd4578836f94b9aa0906f3": {
          "model_module": "@jupyter-widgets/controls",
          "model_name": "DescriptionStyleModel",
          "model_module_version": "1.5.0",
          "state": {
            "_model_module": "@jupyter-widgets/controls",
            "_model_module_version": "1.5.0",
            "_model_name": "DescriptionStyleModel",
            "_view_count": null,
            "_view_module": "@jupyter-widgets/base",
            "_view_module_version": "1.2.0",
            "_view_name": "StyleView",
            "description_width": ""
          }
        },
        "29d85f78d431452c8eb140d9f5b4758c": {
          "model_module": "@jupyter-widgets/controls",
          "model_name": "HBoxModel",
          "model_module_version": "1.5.0",
          "state": {
            "_dom_classes": [],
            "_model_module": "@jupyter-widgets/controls",
            "_model_module_version": "1.5.0",
            "_model_name": "HBoxModel",
            "_view_count": null,
            "_view_module": "@jupyter-widgets/controls",
            "_view_module_version": "1.5.0",
            "_view_name": "HBoxView",
            "box_style": "",
            "children": [
              "IPY_MODEL_5a6c43632f7143e48edc15a3db321bfd",
              "IPY_MODEL_5c16c33a0af84f849bd994ef749ec615",
              "IPY_MODEL_fcf54fe04a21487cbbb2451bad1d8d01"
            ],
            "layout": "IPY_MODEL_640bb70702c64bab9113298bd01ff0cb"
          }
        },
        "5a6c43632f7143e48edc15a3db321bfd": {
          "model_module": "@jupyter-widgets/controls",
          "model_name": "HTMLModel",
          "model_module_version": "1.5.0",
          "state": {
            "_dom_classes": [],
            "_model_module": "@jupyter-widgets/controls",
            "_model_module_version": "1.5.0",
            "_model_name": "HTMLModel",
            "_view_count": null,
            "_view_module": "@jupyter-widgets/controls",
            "_view_module_version": "1.5.0",
            "_view_name": "HTMLView",
            "description": "",
            "description_tooltip": null,
            "layout": "IPY_MODEL_16a1f3a372e74345823c67d11b615f18",
            "placeholder": "​",
            "style": "IPY_MODEL_4da1d7e0e8b84923b0e6bf6b836dc67d",
            "value": "pytorch_model.bin.index.json: 100%"
          }
        },
        "5c16c33a0af84f849bd994ef749ec615": {
          "model_module": "@jupyter-widgets/controls",
          "model_name": "FloatProgressModel",
          "model_module_version": "1.5.0",
          "state": {
            "_dom_classes": [],
            "_model_module": "@jupyter-widgets/controls",
            "_model_module_version": "1.5.0",
            "_model_name": "FloatProgressModel",
            "_view_count": null,
            "_view_module": "@jupyter-widgets/controls",
            "_view_module_version": "1.5.0",
            "_view_name": "ProgressView",
            "bar_style": "success",
            "description": "",
            "description_tooltip": null,
            "layout": "IPY_MODEL_d8d63625e1944540baddb769689671e1",
            "max": 23950,
            "min": 0,
            "orientation": "horizontal",
            "style": "IPY_MODEL_7bbccaa514744ca39cfea9e6c2adb634",
            "value": 23950
          }
        },
        "fcf54fe04a21487cbbb2451bad1d8d01": {
          "model_module": "@jupyter-widgets/controls",
          "model_name": "HTMLModel",
          "model_module_version": "1.5.0",
          "state": {
            "_dom_classes": [],
            "_model_module": "@jupyter-widgets/controls",
            "_model_module_version": "1.5.0",
            "_model_name": "HTMLModel",
            "_view_count": null,
            "_view_module": "@jupyter-widgets/controls",
            "_view_module_version": "1.5.0",
            "_view_name": "HTMLView",
            "description": "",
            "description_tooltip": null,
            "layout": "IPY_MODEL_8394756b429c49618dd593b718abffd6",
            "placeholder": "​",
            "style": "IPY_MODEL_e40efb3475a64785b6d4ac2f987f45c1",
            "value": " 23.9k/23.9k [00:00&lt;00:00, 1.66MB/s]"
          }
        },
        "640bb70702c64bab9113298bd01ff0cb": {
          "model_module": "@jupyter-widgets/base",
          "model_name": "LayoutModel",
          "model_module_version": "1.2.0",
          "state": {
            "_model_module": "@jupyter-widgets/base",
            "_model_module_version": "1.2.0",
            "_model_name": "LayoutModel",
            "_view_count": null,
            "_view_module": "@jupyter-widgets/base",
            "_view_module_version": "1.2.0",
            "_view_name": "LayoutView",
            "align_content": null,
            "align_items": null,
            "align_self": null,
            "border": null,
            "bottom": null,
            "display": null,
            "flex": null,
            "flex_flow": null,
            "grid_area": null,
            "grid_auto_columns": null,
            "grid_auto_flow": null,
            "grid_auto_rows": null,
            "grid_column": null,
            "grid_gap": null,
            "grid_row": null,
            "grid_template_areas": null,
            "grid_template_columns": null,
            "grid_template_rows": null,
            "height": null,
            "justify_content": null,
            "justify_items": null,
            "left": null,
            "margin": null,
            "max_height": null,
            "max_width": null,
            "min_height": null,
            "min_width": null,
            "object_fit": null,
            "object_position": null,
            "order": null,
            "overflow": null,
            "overflow_x": null,
            "overflow_y": null,
            "padding": null,
            "right": null,
            "top": null,
            "visibility": null,
            "width": null
          }
        },
        "16a1f3a372e74345823c67d11b615f18": {
          "model_module": "@jupyter-widgets/base",
          "model_name": "LayoutModel",
          "model_module_version": "1.2.0",
          "state": {
            "_model_module": "@jupyter-widgets/base",
            "_model_module_version": "1.2.0",
            "_model_name": "LayoutModel",
            "_view_count": null,
            "_view_module": "@jupyter-widgets/base",
            "_view_module_version": "1.2.0",
            "_view_name": "LayoutView",
            "align_content": null,
            "align_items": null,
            "align_self": null,
            "border": null,
            "bottom": null,
            "display": null,
            "flex": null,
            "flex_flow": null,
            "grid_area": null,
            "grid_auto_columns": null,
            "grid_auto_flow": null,
            "grid_auto_rows": null,
            "grid_column": null,
            "grid_gap": null,
            "grid_row": null,
            "grid_template_areas": null,
            "grid_template_columns": null,
            "grid_template_rows": null,
            "height": null,
            "justify_content": null,
            "justify_items": null,
            "left": null,
            "margin": null,
            "max_height": null,
            "max_width": null,
            "min_height": null,
            "min_width": null,
            "object_fit": null,
            "object_position": null,
            "order": null,
            "overflow": null,
            "overflow_x": null,
            "overflow_y": null,
            "padding": null,
            "right": null,
            "top": null,
            "visibility": null,
            "width": null
          }
        },
        "4da1d7e0e8b84923b0e6bf6b836dc67d": {
          "model_module": "@jupyter-widgets/controls",
          "model_name": "DescriptionStyleModel",
          "model_module_version": "1.5.0",
          "state": {
            "_model_module": "@jupyter-widgets/controls",
            "_model_module_version": "1.5.0",
            "_model_name": "DescriptionStyleModel",
            "_view_count": null,
            "_view_module": "@jupyter-widgets/base",
            "_view_module_version": "1.2.0",
            "_view_name": "StyleView",
            "description_width": ""
          }
        },
        "d8d63625e1944540baddb769689671e1": {
          "model_module": "@jupyter-widgets/base",
          "model_name": "LayoutModel",
          "model_module_version": "1.2.0",
          "state": {
            "_model_module": "@jupyter-widgets/base",
            "_model_module_version": "1.2.0",
            "_model_name": "LayoutModel",
            "_view_count": null,
            "_view_module": "@jupyter-widgets/base",
            "_view_module_version": "1.2.0",
            "_view_name": "LayoutView",
            "align_content": null,
            "align_items": null,
            "align_self": null,
            "border": null,
            "bottom": null,
            "display": null,
            "flex": null,
            "flex_flow": null,
            "grid_area": null,
            "grid_auto_columns": null,
            "grid_auto_flow": null,
            "grid_auto_rows": null,
            "grid_column": null,
            "grid_gap": null,
            "grid_row": null,
            "grid_template_areas": null,
            "grid_template_columns": null,
            "grid_template_rows": null,
            "height": null,
            "justify_content": null,
            "justify_items": null,
            "left": null,
            "margin": null,
            "max_height": null,
            "max_width": null,
            "min_height": null,
            "min_width": null,
            "object_fit": null,
            "object_position": null,
            "order": null,
            "overflow": null,
            "overflow_x": null,
            "overflow_y": null,
            "padding": null,
            "right": null,
            "top": null,
            "visibility": null,
            "width": null
          }
        },
        "7bbccaa514744ca39cfea9e6c2adb634": {
          "model_module": "@jupyter-widgets/controls",
          "model_name": "ProgressStyleModel",
          "model_module_version": "1.5.0",
          "state": {
            "_model_module": "@jupyter-widgets/controls",
            "_model_module_version": "1.5.0",
            "_model_name": "ProgressStyleModel",
            "_view_count": null,
            "_view_module": "@jupyter-widgets/base",
            "_view_module_version": "1.2.0",
            "_view_name": "StyleView",
            "bar_color": null,
            "description_width": ""
          }
        },
        "8394756b429c49618dd593b718abffd6": {
          "model_module": "@jupyter-widgets/base",
          "model_name": "LayoutModel",
          "model_module_version": "1.2.0",
          "state": {
            "_model_module": "@jupyter-widgets/base",
            "_model_module_version": "1.2.0",
            "_model_name": "LayoutModel",
            "_view_count": null,
            "_view_module": "@jupyter-widgets/base",
            "_view_module_version": "1.2.0",
            "_view_name": "LayoutView",
            "align_content": null,
            "align_items": null,
            "align_self": null,
            "border": null,
            "bottom": null,
            "display": null,
            "flex": null,
            "flex_flow": null,
            "grid_area": null,
            "grid_auto_columns": null,
            "grid_auto_flow": null,
            "grid_auto_rows": null,
            "grid_column": null,
            "grid_gap": null,
            "grid_row": null,
            "grid_template_areas": null,
            "grid_template_columns": null,
            "grid_template_rows": null,
            "height": null,
            "justify_content": null,
            "justify_items": null,
            "left": null,
            "margin": null,
            "max_height": null,
            "max_width": null,
            "min_height": null,
            "min_width": null,
            "object_fit": null,
            "object_position": null,
            "order": null,
            "overflow": null,
            "overflow_x": null,
            "overflow_y": null,
            "padding": null,
            "right": null,
            "top": null,
            "visibility": null,
            "width": null
          }
        },
        "e40efb3475a64785b6d4ac2f987f45c1": {
          "model_module": "@jupyter-widgets/controls",
          "model_name": "DescriptionStyleModel",
          "model_module_version": "1.5.0",
          "state": {
            "_model_module": "@jupyter-widgets/controls",
            "_model_module_version": "1.5.0",
            "_model_name": "DescriptionStyleModel",
            "_view_count": null,
            "_view_module": "@jupyter-widgets/base",
            "_view_module_version": "1.2.0",
            "_view_name": "StyleView",
            "description_width": ""
          }
        },
        "cd48c381cb3f4020bfbc6d289e951e67": {
          "model_module": "@jupyter-widgets/controls",
          "model_name": "HBoxModel",
          "model_module_version": "1.5.0",
          "state": {
            "_dom_classes": [],
            "_model_module": "@jupyter-widgets/controls",
            "_model_module_version": "1.5.0",
            "_model_name": "HBoxModel",
            "_view_count": null,
            "_view_module": "@jupyter-widgets/controls",
            "_view_module_version": "1.5.0",
            "_view_name": "HBoxView",
            "box_style": "",
            "children": [
              "IPY_MODEL_39c9bec8eab54c2c9508feab45b266fe",
              "IPY_MODEL_777adfdf23394321943fb6eae96f60cb",
              "IPY_MODEL_8d11195ed3c94fa19d135a96e60ab129"
            ],
            "layout": "IPY_MODEL_b01b84777d0f4e5c9fa40677f319204f"
          }
        },
        "39c9bec8eab54c2c9508feab45b266fe": {
          "model_module": "@jupyter-widgets/controls",
          "model_name": "HTMLModel",
          "model_module_version": "1.5.0",
          "state": {
            "_dom_classes": [],
            "_model_module": "@jupyter-widgets/controls",
            "_model_module_version": "1.5.0",
            "_model_name": "HTMLModel",
            "_view_count": null,
            "_view_module": "@jupyter-widgets/controls",
            "_view_module_version": "1.5.0",
            "_view_name": "HTMLView",
            "description": "",
            "description_tooltip": null,
            "layout": "IPY_MODEL_9915f169fdf54c1ca7317567b607e398",
            "placeholder": "​",
            "style": "IPY_MODEL_5b399ac7293c4a0ebdbae2f5b2d461f9",
            "value": "Downloading shards: 100%"
          }
        },
        "777adfdf23394321943fb6eae96f60cb": {
          "model_module": "@jupyter-widgets/controls",
          "model_name": "FloatProgressModel",
          "model_module_version": "1.5.0",
          "state": {
            "_dom_classes": [],
            "_model_module": "@jupyter-widgets/controls",
            "_model_module_version": "1.5.0",
            "_model_name": "FloatProgressModel",
            "_view_count": null,
            "_view_module": "@jupyter-widgets/controls",
            "_view_module_version": "1.5.0",
            "_view_name": "ProgressView",
            "bar_style": "success",
            "description": "",
            "description_tooltip": null,
            "layout": "IPY_MODEL_d679bdbdf7504acfa73e36002710395a",
            "max": 4,
            "min": 0,
            "orientation": "horizontal",
            "style": "IPY_MODEL_003bb513cb57437f96f79dee834a0292",
            "value": 4
          }
        },
        "8d11195ed3c94fa19d135a96e60ab129": {
          "model_module": "@jupyter-widgets/controls",
          "model_name": "HTMLModel",
          "model_module_version": "1.5.0",
          "state": {
            "_dom_classes": [],
            "_model_module": "@jupyter-widgets/controls",
            "_model_module_version": "1.5.0",
            "_model_name": "HTMLModel",
            "_view_count": null,
            "_view_module": "@jupyter-widgets/controls",
            "_view_module_version": "1.5.0",
            "_view_name": "HTMLView",
            "description": "",
            "description_tooltip": null,
            "layout": "IPY_MODEL_e9fa43149b504eb997d172b87ec7a7a6",
            "placeholder": "​",
            "style": "IPY_MODEL_1c0b93248d134421988d98257a56bd97",
            "value": " 4/4 [02:18&lt;00:00, 28.85s/it]"
          }
        },
        "b01b84777d0f4e5c9fa40677f319204f": {
          "model_module": "@jupyter-widgets/base",
          "model_name": "LayoutModel",
          "model_module_version": "1.2.0",
          "state": {
            "_model_module": "@jupyter-widgets/base",
            "_model_module_version": "1.2.0",
            "_model_name": "LayoutModel",
            "_view_count": null,
            "_view_module": "@jupyter-widgets/base",
            "_view_module_version": "1.2.0",
            "_view_name": "LayoutView",
            "align_content": null,
            "align_items": null,
            "align_self": null,
            "border": null,
            "bottom": null,
            "display": null,
            "flex": null,
            "flex_flow": null,
            "grid_area": null,
            "grid_auto_columns": null,
            "grid_auto_flow": null,
            "grid_auto_rows": null,
            "grid_column": null,
            "grid_gap": null,
            "grid_row": null,
            "grid_template_areas": null,
            "grid_template_columns": null,
            "grid_template_rows": null,
            "height": null,
            "justify_content": null,
            "justify_items": null,
            "left": null,
            "margin": null,
            "max_height": null,
            "max_width": null,
            "min_height": null,
            "min_width": null,
            "object_fit": null,
            "object_position": null,
            "order": null,
            "overflow": null,
            "overflow_x": null,
            "overflow_y": null,
            "padding": null,
            "right": null,
            "top": null,
            "visibility": null,
            "width": null
          }
        },
        "9915f169fdf54c1ca7317567b607e398": {
          "model_module": "@jupyter-widgets/base",
          "model_name": "LayoutModel",
          "model_module_version": "1.2.0",
          "state": {
            "_model_module": "@jupyter-widgets/base",
            "_model_module_version": "1.2.0",
            "_model_name": "LayoutModel",
            "_view_count": null,
            "_view_module": "@jupyter-widgets/base",
            "_view_module_version": "1.2.0",
            "_view_name": "LayoutView",
            "align_content": null,
            "align_items": null,
            "align_self": null,
            "border": null,
            "bottom": null,
            "display": null,
            "flex": null,
            "flex_flow": null,
            "grid_area": null,
            "grid_auto_columns": null,
            "grid_auto_flow": null,
            "grid_auto_rows": null,
            "grid_column": null,
            "grid_gap": null,
            "grid_row": null,
            "grid_template_areas": null,
            "grid_template_columns": null,
            "grid_template_rows": null,
            "height": null,
            "justify_content": null,
            "justify_items": null,
            "left": null,
            "margin": null,
            "max_height": null,
            "max_width": null,
            "min_height": null,
            "min_width": null,
            "object_fit": null,
            "object_position": null,
            "order": null,
            "overflow": null,
            "overflow_x": null,
            "overflow_y": null,
            "padding": null,
            "right": null,
            "top": null,
            "visibility": null,
            "width": null
          }
        },
        "5b399ac7293c4a0ebdbae2f5b2d461f9": {
          "model_module": "@jupyter-widgets/controls",
          "model_name": "DescriptionStyleModel",
          "model_module_version": "1.5.0",
          "state": {
            "_model_module": "@jupyter-widgets/controls",
            "_model_module_version": "1.5.0",
            "_model_name": "DescriptionStyleModel",
            "_view_count": null,
            "_view_module": "@jupyter-widgets/base",
            "_view_module_version": "1.2.0",
            "_view_name": "StyleView",
            "description_width": ""
          }
        },
        "d679bdbdf7504acfa73e36002710395a": {
          "model_module": "@jupyter-widgets/base",
          "model_name": "LayoutModel",
          "model_module_version": "1.2.0",
          "state": {
            "_model_module": "@jupyter-widgets/base",
            "_model_module_version": "1.2.0",
            "_model_name": "LayoutModel",
            "_view_count": null,
            "_view_module": "@jupyter-widgets/base",
            "_view_module_version": "1.2.0",
            "_view_name": "LayoutView",
            "align_content": null,
            "align_items": null,
            "align_self": null,
            "border": null,
            "bottom": null,
            "display": null,
            "flex": null,
            "flex_flow": null,
            "grid_area": null,
            "grid_auto_columns": null,
            "grid_auto_flow": null,
            "grid_auto_rows": null,
            "grid_column": null,
            "grid_gap": null,
            "grid_row": null,
            "grid_template_areas": null,
            "grid_template_columns": null,
            "grid_template_rows": null,
            "height": null,
            "justify_content": null,
            "justify_items": null,
            "left": null,
            "margin": null,
            "max_height": null,
            "max_width": null,
            "min_height": null,
            "min_width": null,
            "object_fit": null,
            "object_position": null,
            "order": null,
            "overflow": null,
            "overflow_x": null,
            "overflow_y": null,
            "padding": null,
            "right": null,
            "top": null,
            "visibility": null,
            "width": null
          }
        },
        "003bb513cb57437f96f79dee834a0292": {
          "model_module": "@jupyter-widgets/controls",
          "model_name": "ProgressStyleModel",
          "model_module_version": "1.5.0",
          "state": {
            "_model_module": "@jupyter-widgets/controls",
            "_model_module_version": "1.5.0",
            "_model_name": "ProgressStyleModel",
            "_view_count": null,
            "_view_module": "@jupyter-widgets/base",
            "_view_module_version": "1.2.0",
            "_view_name": "StyleView",
            "bar_color": null,
            "description_width": ""
          }
        },
        "e9fa43149b504eb997d172b87ec7a7a6": {
          "model_module": "@jupyter-widgets/base",
          "model_name": "LayoutModel",
          "model_module_version": "1.2.0",
          "state": {
            "_model_module": "@jupyter-widgets/base",
            "_model_module_version": "1.2.0",
            "_model_name": "LayoutModel",
            "_view_count": null,
            "_view_module": "@jupyter-widgets/base",
            "_view_module_version": "1.2.0",
            "_view_name": "LayoutView",
            "align_content": null,
            "align_items": null,
            "align_self": null,
            "border": null,
            "bottom": null,
            "display": null,
            "flex": null,
            "flex_flow": null,
            "grid_area": null,
            "grid_auto_columns": null,
            "grid_auto_flow": null,
            "grid_auto_rows": null,
            "grid_column": null,
            "grid_gap": null,
            "grid_row": null,
            "grid_template_areas": null,
            "grid_template_columns": null,
            "grid_template_rows": null,
            "height": null,
            "justify_content": null,
            "justify_items": null,
            "left": null,
            "margin": null,
            "max_height": null,
            "max_width": null,
            "min_height": null,
            "min_width": null,
            "object_fit": null,
            "object_position": null,
            "order": null,
            "overflow": null,
            "overflow_x": null,
            "overflow_y": null,
            "padding": null,
            "right": null,
            "top": null,
            "visibility": null,
            "width": null
          }
        },
        "1c0b93248d134421988d98257a56bd97": {
          "model_module": "@jupyter-widgets/controls",
          "model_name": "DescriptionStyleModel",
          "model_module_version": "1.5.0",
          "state": {
            "_model_module": "@jupyter-widgets/controls",
            "_model_module_version": "1.5.0",
            "_model_name": "DescriptionStyleModel",
            "_view_count": null,
            "_view_module": "@jupyter-widgets/base",
            "_view_module_version": "1.2.0",
            "_view_name": "StyleView",
            "description_width": ""
          }
        },
        "cdc3aadd9b34403d809c36535ae943ed": {
          "model_module": "@jupyter-widgets/controls",
          "model_name": "HBoxModel",
          "model_module_version": "1.5.0",
          "state": {
            "_dom_classes": [],
            "_model_module": "@jupyter-widgets/controls",
            "_model_module_version": "1.5.0",
            "_model_name": "HBoxModel",
            "_view_count": null,
            "_view_module": "@jupyter-widgets/controls",
            "_view_module_version": "1.5.0",
            "_view_name": "HBoxView",
            "box_style": "",
            "children": [
              "IPY_MODEL_1b7d6f512f814b60b802819813c525dd",
              "IPY_MODEL_bba883bf774147ad82d46db85a6d2197",
              "IPY_MODEL_4e1d9631c0bb4d08832699679a7698bb"
            ],
            "layout": "IPY_MODEL_7bac9606f46c4a21898edca0727ccd44"
          }
        },
        "1b7d6f512f814b60b802819813c525dd": {
          "model_module": "@jupyter-widgets/controls",
          "model_name": "HTMLModel",
          "model_module_version": "1.5.0",
          "state": {
            "_dom_classes": [],
            "_model_module": "@jupyter-widgets/controls",
            "_model_module_version": "1.5.0",
            "_model_name": "HTMLModel",
            "_view_count": null,
            "_view_module": "@jupyter-widgets/controls",
            "_view_module_version": "1.5.0",
            "_view_name": "HTMLView",
            "description": "",
            "description_tooltip": null,
            "layout": "IPY_MODEL_dc5284bf915e431b8da2869e17fecc32",
            "placeholder": "​",
            "style": "IPY_MODEL_89c19a342ce241089162043719b59e64",
            "value": "pytorch_model-00001-of-00004.bin: 100%"
          }
        },
        "bba883bf774147ad82d46db85a6d2197": {
          "model_module": "@jupyter-widgets/controls",
          "model_name": "FloatProgressModel",
          "model_module_version": "1.5.0",
          "state": {
            "_dom_classes": [],
            "_model_module": "@jupyter-widgets/controls",
            "_model_module_version": "1.5.0",
            "_model_name": "FloatProgressModel",
            "_view_count": null,
            "_view_module": "@jupyter-widgets/controls",
            "_view_module_version": "1.5.0",
            "_view_name": "ProgressView",
            "bar_style": "success",
            "description": "",
            "description_tooltip": null,
            "layout": "IPY_MODEL_d8d75583f3294c2ab9cd671a7ced5e64",
            "max": 4976718466,
            "min": 0,
            "orientation": "horizontal",
            "style": "IPY_MODEL_c40ab398e9614d6b89c034d7272ff302",
            "value": 4976718466
          }
        },
        "4e1d9631c0bb4d08832699679a7698bb": {
          "model_module": "@jupyter-widgets/controls",
          "model_name": "HTMLModel",
          "model_module_version": "1.5.0",
          "state": {
            "_dom_classes": [],
            "_model_module": "@jupyter-widgets/controls",
            "_model_module_version": "1.5.0",
            "_model_name": "HTMLModel",
            "_view_count": null,
            "_view_module": "@jupyter-widgets/controls",
            "_view_module_version": "1.5.0",
            "_view_name": "HTMLView",
            "description": "",
            "description_tooltip": null,
            "layout": "IPY_MODEL_c8c59e2e17f5434d827f922f1d18756b",
            "placeholder": "​",
            "style": "IPY_MODEL_6172a84af4c8481ab36e2a9ec85961ea",
            "value": " 4.98G/4.98G [00:48&lt;00:00, 198MB/s]"
          }
        },
        "7bac9606f46c4a21898edca0727ccd44": {
          "model_module": "@jupyter-widgets/base",
          "model_name": "LayoutModel",
          "model_module_version": "1.2.0",
          "state": {
            "_model_module": "@jupyter-widgets/base",
            "_model_module_version": "1.2.0",
            "_model_name": "LayoutModel",
            "_view_count": null,
            "_view_module": "@jupyter-widgets/base",
            "_view_module_version": "1.2.0",
            "_view_name": "LayoutView",
            "align_content": null,
            "align_items": null,
            "align_self": null,
            "border": null,
            "bottom": null,
            "display": null,
            "flex": null,
            "flex_flow": null,
            "grid_area": null,
            "grid_auto_columns": null,
            "grid_auto_flow": null,
            "grid_auto_rows": null,
            "grid_column": null,
            "grid_gap": null,
            "grid_row": null,
            "grid_template_areas": null,
            "grid_template_columns": null,
            "grid_template_rows": null,
            "height": null,
            "justify_content": null,
            "justify_items": null,
            "left": null,
            "margin": null,
            "max_height": null,
            "max_width": null,
            "min_height": null,
            "min_width": null,
            "object_fit": null,
            "object_position": null,
            "order": null,
            "overflow": null,
            "overflow_x": null,
            "overflow_y": null,
            "padding": null,
            "right": null,
            "top": null,
            "visibility": null,
            "width": null
          }
        },
        "dc5284bf915e431b8da2869e17fecc32": {
          "model_module": "@jupyter-widgets/base",
          "model_name": "LayoutModel",
          "model_module_version": "1.2.0",
          "state": {
            "_model_module": "@jupyter-widgets/base",
            "_model_module_version": "1.2.0",
            "_model_name": "LayoutModel",
            "_view_count": null,
            "_view_module": "@jupyter-widgets/base",
            "_view_module_version": "1.2.0",
            "_view_name": "LayoutView",
            "align_content": null,
            "align_items": null,
            "align_self": null,
            "border": null,
            "bottom": null,
            "display": null,
            "flex": null,
            "flex_flow": null,
            "grid_area": null,
            "grid_auto_columns": null,
            "grid_auto_flow": null,
            "grid_auto_rows": null,
            "grid_column": null,
            "grid_gap": null,
            "grid_row": null,
            "grid_template_areas": null,
            "grid_template_columns": null,
            "grid_template_rows": null,
            "height": null,
            "justify_content": null,
            "justify_items": null,
            "left": null,
            "margin": null,
            "max_height": null,
            "max_width": null,
            "min_height": null,
            "min_width": null,
            "object_fit": null,
            "object_position": null,
            "order": null,
            "overflow": null,
            "overflow_x": null,
            "overflow_y": null,
            "padding": null,
            "right": null,
            "top": null,
            "visibility": null,
            "width": null
          }
        },
        "89c19a342ce241089162043719b59e64": {
          "model_module": "@jupyter-widgets/controls",
          "model_name": "DescriptionStyleModel",
          "model_module_version": "1.5.0",
          "state": {
            "_model_module": "@jupyter-widgets/controls",
            "_model_module_version": "1.5.0",
            "_model_name": "DescriptionStyleModel",
            "_view_count": null,
            "_view_module": "@jupyter-widgets/base",
            "_view_module_version": "1.2.0",
            "_view_name": "StyleView",
            "description_width": ""
          }
        },
        "d8d75583f3294c2ab9cd671a7ced5e64": {
          "model_module": "@jupyter-widgets/base",
          "model_name": "LayoutModel",
          "model_module_version": "1.2.0",
          "state": {
            "_model_module": "@jupyter-widgets/base",
            "_model_module_version": "1.2.0",
            "_model_name": "LayoutModel",
            "_view_count": null,
            "_view_module": "@jupyter-widgets/base",
            "_view_module_version": "1.2.0",
            "_view_name": "LayoutView",
            "align_content": null,
            "align_items": null,
            "align_self": null,
            "border": null,
            "bottom": null,
            "display": null,
            "flex": null,
            "flex_flow": null,
            "grid_area": null,
            "grid_auto_columns": null,
            "grid_auto_flow": null,
            "grid_auto_rows": null,
            "grid_column": null,
            "grid_gap": null,
            "grid_row": null,
            "grid_template_areas": null,
            "grid_template_columns": null,
            "grid_template_rows": null,
            "height": null,
            "justify_content": null,
            "justify_items": null,
            "left": null,
            "margin": null,
            "max_height": null,
            "max_width": null,
            "min_height": null,
            "min_width": null,
            "object_fit": null,
            "object_position": null,
            "order": null,
            "overflow": null,
            "overflow_x": null,
            "overflow_y": null,
            "padding": null,
            "right": null,
            "top": null,
            "visibility": null,
            "width": null
          }
        },
        "c40ab398e9614d6b89c034d7272ff302": {
          "model_module": "@jupyter-widgets/controls",
          "model_name": "ProgressStyleModel",
          "model_module_version": "1.5.0",
          "state": {
            "_model_module": "@jupyter-widgets/controls",
            "_model_module_version": "1.5.0",
            "_model_name": "ProgressStyleModel",
            "_view_count": null,
            "_view_module": "@jupyter-widgets/base",
            "_view_module_version": "1.2.0",
            "_view_name": "StyleView",
            "bar_color": null,
            "description_width": ""
          }
        },
        "c8c59e2e17f5434d827f922f1d18756b": {
          "model_module": "@jupyter-widgets/base",
          "model_name": "LayoutModel",
          "model_module_version": "1.2.0",
          "state": {
            "_model_module": "@jupyter-widgets/base",
            "_model_module_version": "1.2.0",
            "_model_name": "LayoutModel",
            "_view_count": null,
            "_view_module": "@jupyter-widgets/base",
            "_view_module_version": "1.2.0",
            "_view_name": "LayoutView",
            "align_content": null,
            "align_items": null,
            "align_self": null,
            "border": null,
            "bottom": null,
            "display": null,
            "flex": null,
            "flex_flow": null,
            "grid_area": null,
            "grid_auto_columns": null,
            "grid_auto_flow": null,
            "grid_auto_rows": null,
            "grid_column": null,
            "grid_gap": null,
            "grid_row": null,
            "grid_template_areas": null,
            "grid_template_columns": null,
            "grid_template_rows": null,
            "height": null,
            "justify_content": null,
            "justify_items": null,
            "left": null,
            "margin": null,
            "max_height": null,
            "max_width": null,
            "min_height": null,
            "min_width": null,
            "object_fit": null,
            "object_position": null,
            "order": null,
            "overflow": null,
            "overflow_x": null,
            "overflow_y": null,
            "padding": null,
            "right": null,
            "top": null,
            "visibility": null,
            "width": null
          }
        },
        "6172a84af4c8481ab36e2a9ec85961ea": {
          "model_module": "@jupyter-widgets/controls",
          "model_name": "DescriptionStyleModel",
          "model_module_version": "1.5.0",
          "state": {
            "_model_module": "@jupyter-widgets/controls",
            "_model_module_version": "1.5.0",
            "_model_name": "DescriptionStyleModel",
            "_view_count": null,
            "_view_module": "@jupyter-widgets/base",
            "_view_module_version": "1.2.0",
            "_view_name": "StyleView",
            "description_width": ""
          }
        },
        "92a61165c41d4faa8f7fcbfddeb17204": {
          "model_module": "@jupyter-widgets/controls",
          "model_name": "HBoxModel",
          "model_module_version": "1.5.0",
          "state": {
            "_dom_classes": [],
            "_model_module": "@jupyter-widgets/controls",
            "_model_module_version": "1.5.0",
            "_model_name": "HBoxModel",
            "_view_count": null,
            "_view_module": "@jupyter-widgets/controls",
            "_view_module_version": "1.5.0",
            "_view_name": "HBoxView",
            "box_style": "",
            "children": [
              "IPY_MODEL_b3978c83f02f40fd873c972d841c4ce2",
              "IPY_MODEL_2a2cb41398b744e99f809399f260759e",
              "IPY_MODEL_5727824c57214d20b10ccd5388088a59"
            ],
            "layout": "IPY_MODEL_712e9b3d72d046d1a2b683965b9d388e"
          }
        },
        "b3978c83f02f40fd873c972d841c4ce2": {
          "model_module": "@jupyter-widgets/controls",
          "model_name": "HTMLModel",
          "model_module_version": "1.5.0",
          "state": {
            "_dom_classes": [],
            "_model_module": "@jupyter-widgets/controls",
            "_model_module_version": "1.5.0",
            "_model_name": "HTMLModel",
            "_view_count": null,
            "_view_module": "@jupyter-widgets/controls",
            "_view_module_version": "1.5.0",
            "_view_name": "HTMLView",
            "description": "",
            "description_tooltip": null,
            "layout": "IPY_MODEL_1feabdb50fda410d8ac4ef04945eefec",
            "placeholder": "​",
            "style": "IPY_MODEL_652b44f602b04810b755f8e020866cb5",
            "value": "pytorch_model-00002-of-00004.bin: 100%"
          }
        },
        "2a2cb41398b744e99f809399f260759e": {
          "model_module": "@jupyter-widgets/controls",
          "model_name": "FloatProgressModel",
          "model_module_version": "1.5.0",
          "state": {
            "_dom_classes": [],
            "_model_module": "@jupyter-widgets/controls",
            "_model_module_version": "1.5.0",
            "_model_name": "FloatProgressModel",
            "_view_count": null,
            "_view_module": "@jupyter-widgets/controls",
            "_view_module_version": "1.5.0",
            "_view_name": "ProgressView",
            "bar_style": "success",
            "description": "",
            "description_tooltip": null,
            "layout": "IPY_MODEL_e7c54c00fd3846f197dd5edad3516f69",
            "max": 4999827462,
            "min": 0,
            "orientation": "horizontal",
            "style": "IPY_MODEL_f17b6ad79c2e4af2a3d7fd8c4f969af7",
            "value": 4999827462
          }
        },
        "5727824c57214d20b10ccd5388088a59": {
          "model_module": "@jupyter-widgets/controls",
          "model_name": "HTMLModel",
          "model_module_version": "1.5.0",
          "state": {
            "_dom_classes": [],
            "_model_module": "@jupyter-widgets/controls",
            "_model_module_version": "1.5.0",
            "_model_name": "HTMLModel",
            "_view_count": null,
            "_view_module": "@jupyter-widgets/controls",
            "_view_module_version": "1.5.0",
            "_view_name": "HTMLView",
            "description": "",
            "description_tooltip": null,
            "layout": "IPY_MODEL_08e8f357c35e4021a0cd49bf79362e02",
            "placeholder": "​",
            "style": "IPY_MODEL_4c04ee581c974d6a9e206d67a0ea3539",
            "value": " 5.00G/5.00G [00:43&lt;00:00, 152MB/s]"
          }
        },
        "712e9b3d72d046d1a2b683965b9d388e": {
          "model_module": "@jupyter-widgets/base",
          "model_name": "LayoutModel",
          "model_module_version": "1.2.0",
          "state": {
            "_model_module": "@jupyter-widgets/base",
            "_model_module_version": "1.2.0",
            "_model_name": "LayoutModel",
            "_view_count": null,
            "_view_module": "@jupyter-widgets/base",
            "_view_module_version": "1.2.0",
            "_view_name": "LayoutView",
            "align_content": null,
            "align_items": null,
            "align_self": null,
            "border": null,
            "bottom": null,
            "display": null,
            "flex": null,
            "flex_flow": null,
            "grid_area": null,
            "grid_auto_columns": null,
            "grid_auto_flow": null,
            "grid_auto_rows": null,
            "grid_column": null,
            "grid_gap": null,
            "grid_row": null,
            "grid_template_areas": null,
            "grid_template_columns": null,
            "grid_template_rows": null,
            "height": null,
            "justify_content": null,
            "justify_items": null,
            "left": null,
            "margin": null,
            "max_height": null,
            "max_width": null,
            "min_height": null,
            "min_width": null,
            "object_fit": null,
            "object_position": null,
            "order": null,
            "overflow": null,
            "overflow_x": null,
            "overflow_y": null,
            "padding": null,
            "right": null,
            "top": null,
            "visibility": null,
            "width": null
          }
        },
        "1feabdb50fda410d8ac4ef04945eefec": {
          "model_module": "@jupyter-widgets/base",
          "model_name": "LayoutModel",
          "model_module_version": "1.2.0",
          "state": {
            "_model_module": "@jupyter-widgets/base",
            "_model_module_version": "1.2.0",
            "_model_name": "LayoutModel",
            "_view_count": null,
            "_view_module": "@jupyter-widgets/base",
            "_view_module_version": "1.2.0",
            "_view_name": "LayoutView",
            "align_content": null,
            "align_items": null,
            "align_self": null,
            "border": null,
            "bottom": null,
            "display": null,
            "flex": null,
            "flex_flow": null,
            "grid_area": null,
            "grid_auto_columns": null,
            "grid_auto_flow": null,
            "grid_auto_rows": null,
            "grid_column": null,
            "grid_gap": null,
            "grid_row": null,
            "grid_template_areas": null,
            "grid_template_columns": null,
            "grid_template_rows": null,
            "height": null,
            "justify_content": null,
            "justify_items": null,
            "left": null,
            "margin": null,
            "max_height": null,
            "max_width": null,
            "min_height": null,
            "min_width": null,
            "object_fit": null,
            "object_position": null,
            "order": null,
            "overflow": null,
            "overflow_x": null,
            "overflow_y": null,
            "padding": null,
            "right": null,
            "top": null,
            "visibility": null,
            "width": null
          }
        },
        "652b44f602b04810b755f8e020866cb5": {
          "model_module": "@jupyter-widgets/controls",
          "model_name": "DescriptionStyleModel",
          "model_module_version": "1.5.0",
          "state": {
            "_model_module": "@jupyter-widgets/controls",
            "_model_module_version": "1.5.0",
            "_model_name": "DescriptionStyleModel",
            "_view_count": null,
            "_view_module": "@jupyter-widgets/base",
            "_view_module_version": "1.2.0",
            "_view_name": "StyleView",
            "description_width": ""
          }
        },
        "e7c54c00fd3846f197dd5edad3516f69": {
          "model_module": "@jupyter-widgets/base",
          "model_name": "LayoutModel",
          "model_module_version": "1.2.0",
          "state": {
            "_model_module": "@jupyter-widgets/base",
            "_model_module_version": "1.2.0",
            "_model_name": "LayoutModel",
            "_view_count": null,
            "_view_module": "@jupyter-widgets/base",
            "_view_module_version": "1.2.0",
            "_view_name": "LayoutView",
            "align_content": null,
            "align_items": null,
            "align_self": null,
            "border": null,
            "bottom": null,
            "display": null,
            "flex": null,
            "flex_flow": null,
            "grid_area": null,
            "grid_auto_columns": null,
            "grid_auto_flow": null,
            "grid_auto_rows": null,
            "grid_column": null,
            "grid_gap": null,
            "grid_row": null,
            "grid_template_areas": null,
            "grid_template_columns": null,
            "grid_template_rows": null,
            "height": null,
            "justify_content": null,
            "justify_items": null,
            "left": null,
            "margin": null,
            "max_height": null,
            "max_width": null,
            "min_height": null,
            "min_width": null,
            "object_fit": null,
            "object_position": null,
            "order": null,
            "overflow": null,
            "overflow_x": null,
            "overflow_y": null,
            "padding": null,
            "right": null,
            "top": null,
            "visibility": null,
            "width": null
          }
        },
        "f17b6ad79c2e4af2a3d7fd8c4f969af7": {
          "model_module": "@jupyter-widgets/controls",
          "model_name": "ProgressStyleModel",
          "model_module_version": "1.5.0",
          "state": {
            "_model_module": "@jupyter-widgets/controls",
            "_model_module_version": "1.5.0",
            "_model_name": "ProgressStyleModel",
            "_view_count": null,
            "_view_module": "@jupyter-widgets/base",
            "_view_module_version": "1.2.0",
            "_view_name": "StyleView",
            "bar_color": null,
            "description_width": ""
          }
        },
        "08e8f357c35e4021a0cd49bf79362e02": {
          "model_module": "@jupyter-widgets/base",
          "model_name": "LayoutModel",
          "model_module_version": "1.2.0",
          "state": {
            "_model_module": "@jupyter-widgets/base",
            "_model_module_version": "1.2.0",
            "_model_name": "LayoutModel",
            "_view_count": null,
            "_view_module": "@jupyter-widgets/base",
            "_view_module_version": "1.2.0",
            "_view_name": "LayoutView",
            "align_content": null,
            "align_items": null,
            "align_self": null,
            "border": null,
            "bottom": null,
            "display": null,
            "flex": null,
            "flex_flow": null,
            "grid_area": null,
            "grid_auto_columns": null,
            "grid_auto_flow": null,
            "grid_auto_rows": null,
            "grid_column": null,
            "grid_gap": null,
            "grid_row": null,
            "grid_template_areas": null,
            "grid_template_columns": null,
            "grid_template_rows": null,
            "height": null,
            "justify_content": null,
            "justify_items": null,
            "left": null,
            "margin": null,
            "max_height": null,
            "max_width": null,
            "min_height": null,
            "min_width": null,
            "object_fit": null,
            "object_position": null,
            "order": null,
            "overflow": null,
            "overflow_x": null,
            "overflow_y": null,
            "padding": null,
            "right": null,
            "top": null,
            "visibility": null,
            "width": null
          }
        },
        "4c04ee581c974d6a9e206d67a0ea3539": {
          "model_module": "@jupyter-widgets/controls",
          "model_name": "DescriptionStyleModel",
          "model_module_version": "1.5.0",
          "state": {
            "_model_module": "@jupyter-widgets/controls",
            "_model_module_version": "1.5.0",
            "_model_name": "DescriptionStyleModel",
            "_view_count": null,
            "_view_module": "@jupyter-widgets/base",
            "_view_module_version": "1.2.0",
            "_view_name": "StyleView",
            "description_width": ""
          }
        },
        "6269145fc27947428418ec8538e1a857": {
          "model_module": "@jupyter-widgets/controls",
          "model_name": "HBoxModel",
          "model_module_version": "1.5.0",
          "state": {
            "_dom_classes": [],
            "_model_module": "@jupyter-widgets/controls",
            "_model_module_version": "1.5.0",
            "_model_name": "HBoxModel",
            "_view_count": null,
            "_view_module": "@jupyter-widgets/controls",
            "_view_module_version": "1.5.0",
            "_view_name": "HBoxView",
            "box_style": "",
            "children": [
              "IPY_MODEL_40390ee55cdf49eeaf6606dd8823dba7",
              "IPY_MODEL_556bbb98de2e40c6b030fb5e47c9ab4f",
              "IPY_MODEL_0781b499bd704640ad9b0d9bd98d2bf1"
            ],
            "layout": "IPY_MODEL_f78c480cde174126ac598dc7a647674e"
          }
        },
        "40390ee55cdf49eeaf6606dd8823dba7": {
          "model_module": "@jupyter-widgets/controls",
          "model_name": "HTMLModel",
          "model_module_version": "1.5.0",
          "state": {
            "_dom_classes": [],
            "_model_module": "@jupyter-widgets/controls",
            "_model_module_version": "1.5.0",
            "_model_name": "HTMLModel",
            "_view_count": null,
            "_view_module": "@jupyter-widgets/controls",
            "_view_module_version": "1.5.0",
            "_view_name": "HTMLView",
            "description": "",
            "description_tooltip": null,
            "layout": "IPY_MODEL_b8beae35e1944b5bacc25f17c324795a",
            "placeholder": "​",
            "style": "IPY_MODEL_6ee02b44118747ddb9b4992b9c77909c",
            "value": "pytorch_model-00003-of-00004.bin: 100%"
          }
        },
        "556bbb98de2e40c6b030fb5e47c9ab4f": {
          "model_module": "@jupyter-widgets/controls",
          "model_name": "FloatProgressModel",
          "model_module_version": "1.5.0",
          "state": {
            "_dom_classes": [],
            "_model_module": "@jupyter-widgets/controls",
            "_model_module_version": "1.5.0",
            "_model_name": "FloatProgressModel",
            "_view_count": null,
            "_view_module": "@jupyter-widgets/controls",
            "_view_module_version": "1.5.0",
            "_view_name": "ProgressView",
            "bar_style": "success",
            "description": "",
            "description_tooltip": null,
            "layout": "IPY_MODEL_6ef3bb92d6a84fb18e137c9e67da3ebf",
            "max": 4915939082,
            "min": 0,
            "orientation": "horizontal",
            "style": "IPY_MODEL_340d32f586c7463f9647160341d7e476",
            "value": 4915939082
          }
        },
        "0781b499bd704640ad9b0d9bd98d2bf1": {
          "model_module": "@jupyter-widgets/controls",
          "model_name": "HTMLModel",
          "model_module_version": "1.5.0",
          "state": {
            "_dom_classes": [],
            "_model_module": "@jupyter-widgets/controls",
            "_model_module_version": "1.5.0",
            "_model_name": "HTMLModel",
            "_view_count": null,
            "_view_module": "@jupyter-widgets/controls",
            "_view_module_version": "1.5.0",
            "_view_name": "HTMLView",
            "description": "",
            "description_tooltip": null,
            "layout": "IPY_MODEL_f25e4d34f04f49f0b62408ee9752a535",
            "placeholder": "​",
            "style": "IPY_MODEL_b4d9611f8ba74665a92b520b9153faa8",
            "value": " 4.92G/4.92G [00:36&lt;00:00, 207MB/s]"
          }
        },
        "f78c480cde174126ac598dc7a647674e": {
          "model_module": "@jupyter-widgets/base",
          "model_name": "LayoutModel",
          "model_module_version": "1.2.0",
          "state": {
            "_model_module": "@jupyter-widgets/base",
            "_model_module_version": "1.2.0",
            "_model_name": "LayoutModel",
            "_view_count": null,
            "_view_module": "@jupyter-widgets/base",
            "_view_module_version": "1.2.0",
            "_view_name": "LayoutView",
            "align_content": null,
            "align_items": null,
            "align_self": null,
            "border": null,
            "bottom": null,
            "display": null,
            "flex": null,
            "flex_flow": null,
            "grid_area": null,
            "grid_auto_columns": null,
            "grid_auto_flow": null,
            "grid_auto_rows": null,
            "grid_column": null,
            "grid_gap": null,
            "grid_row": null,
            "grid_template_areas": null,
            "grid_template_columns": null,
            "grid_template_rows": null,
            "height": null,
            "justify_content": null,
            "justify_items": null,
            "left": null,
            "margin": null,
            "max_height": null,
            "max_width": null,
            "min_height": null,
            "min_width": null,
            "object_fit": null,
            "object_position": null,
            "order": null,
            "overflow": null,
            "overflow_x": null,
            "overflow_y": null,
            "padding": null,
            "right": null,
            "top": null,
            "visibility": null,
            "width": null
          }
        },
        "b8beae35e1944b5bacc25f17c324795a": {
          "model_module": "@jupyter-widgets/base",
          "model_name": "LayoutModel",
          "model_module_version": "1.2.0",
          "state": {
            "_model_module": "@jupyter-widgets/base",
            "_model_module_version": "1.2.0",
            "_model_name": "LayoutModel",
            "_view_count": null,
            "_view_module": "@jupyter-widgets/base",
            "_view_module_version": "1.2.0",
            "_view_name": "LayoutView",
            "align_content": null,
            "align_items": null,
            "align_self": null,
            "border": null,
            "bottom": null,
            "display": null,
            "flex": null,
            "flex_flow": null,
            "grid_area": null,
            "grid_auto_columns": null,
            "grid_auto_flow": null,
            "grid_auto_rows": null,
            "grid_column": null,
            "grid_gap": null,
            "grid_row": null,
            "grid_template_areas": null,
            "grid_template_columns": null,
            "grid_template_rows": null,
            "height": null,
            "justify_content": null,
            "justify_items": null,
            "left": null,
            "margin": null,
            "max_height": null,
            "max_width": null,
            "min_height": null,
            "min_width": null,
            "object_fit": null,
            "object_position": null,
            "order": null,
            "overflow": null,
            "overflow_x": null,
            "overflow_y": null,
            "padding": null,
            "right": null,
            "top": null,
            "visibility": null,
            "width": null
          }
        },
        "6ee02b44118747ddb9b4992b9c77909c": {
          "model_module": "@jupyter-widgets/controls",
          "model_name": "DescriptionStyleModel",
          "model_module_version": "1.5.0",
          "state": {
            "_model_module": "@jupyter-widgets/controls",
            "_model_module_version": "1.5.0",
            "_model_name": "DescriptionStyleModel",
            "_view_count": null,
            "_view_module": "@jupyter-widgets/base",
            "_view_module_version": "1.2.0",
            "_view_name": "StyleView",
            "description_width": ""
          }
        },
        "6ef3bb92d6a84fb18e137c9e67da3ebf": {
          "model_module": "@jupyter-widgets/base",
          "model_name": "LayoutModel",
          "model_module_version": "1.2.0",
          "state": {
            "_model_module": "@jupyter-widgets/base",
            "_model_module_version": "1.2.0",
            "_model_name": "LayoutModel",
            "_view_count": null,
            "_view_module": "@jupyter-widgets/base",
            "_view_module_version": "1.2.0",
            "_view_name": "LayoutView",
            "align_content": null,
            "align_items": null,
            "align_self": null,
            "border": null,
            "bottom": null,
            "display": null,
            "flex": null,
            "flex_flow": null,
            "grid_area": null,
            "grid_auto_columns": null,
            "grid_auto_flow": null,
            "grid_auto_rows": null,
            "grid_column": null,
            "grid_gap": null,
            "grid_row": null,
            "grid_template_areas": null,
            "grid_template_columns": null,
            "grid_template_rows": null,
            "height": null,
            "justify_content": null,
            "justify_items": null,
            "left": null,
            "margin": null,
            "max_height": null,
            "max_width": null,
            "min_height": null,
            "min_width": null,
            "object_fit": null,
            "object_position": null,
            "order": null,
            "overflow": null,
            "overflow_x": null,
            "overflow_y": null,
            "padding": null,
            "right": null,
            "top": null,
            "visibility": null,
            "width": null
          }
        },
        "340d32f586c7463f9647160341d7e476": {
          "model_module": "@jupyter-widgets/controls",
          "model_name": "ProgressStyleModel",
          "model_module_version": "1.5.0",
          "state": {
            "_model_module": "@jupyter-widgets/controls",
            "_model_module_version": "1.5.0",
            "_model_name": "ProgressStyleModel",
            "_view_count": null,
            "_view_module": "@jupyter-widgets/base",
            "_view_module_version": "1.2.0",
            "_view_name": "StyleView",
            "bar_color": null,
            "description_width": ""
          }
        },
        "f25e4d34f04f49f0b62408ee9752a535": {
          "model_module": "@jupyter-widgets/base",
          "model_name": "LayoutModel",
          "model_module_version": "1.2.0",
          "state": {
            "_model_module": "@jupyter-widgets/base",
            "_model_module_version": "1.2.0",
            "_model_name": "LayoutModel",
            "_view_count": null,
            "_view_module": "@jupyter-widgets/base",
            "_view_module_version": "1.2.0",
            "_view_name": "LayoutView",
            "align_content": null,
            "align_items": null,
            "align_self": null,
            "border": null,
            "bottom": null,
            "display": null,
            "flex": null,
            "flex_flow": null,
            "grid_area": null,
            "grid_auto_columns": null,
            "grid_auto_flow": null,
            "grid_auto_rows": null,
            "grid_column": null,
            "grid_gap": null,
            "grid_row": null,
            "grid_template_areas": null,
            "grid_template_columns": null,
            "grid_template_rows": null,
            "height": null,
            "justify_content": null,
            "justify_items": null,
            "left": null,
            "margin": null,
            "max_height": null,
            "max_width": null,
            "min_height": null,
            "min_width": null,
            "object_fit": null,
            "object_position": null,
            "order": null,
            "overflow": null,
            "overflow_x": null,
            "overflow_y": null,
            "padding": null,
            "right": null,
            "top": null,
            "visibility": null,
            "width": null
          }
        },
        "b4d9611f8ba74665a92b520b9153faa8": {
          "model_module": "@jupyter-widgets/controls",
          "model_name": "DescriptionStyleModel",
          "model_module_version": "1.5.0",
          "state": {
            "_model_module": "@jupyter-widgets/controls",
            "_model_module_version": "1.5.0",
            "_model_name": "DescriptionStyleModel",
            "_view_count": null,
            "_view_module": "@jupyter-widgets/base",
            "_view_module_version": "1.2.0",
            "_view_name": "StyleView",
            "description_width": ""
          }
        },
        "7c2738f087e74c9e958d7faa00b78322": {
          "model_module": "@jupyter-widgets/controls",
          "model_name": "HBoxModel",
          "model_module_version": "1.5.0",
          "state": {
            "_dom_classes": [],
            "_model_module": "@jupyter-widgets/controls",
            "_model_module_version": "1.5.0",
            "_model_name": "HBoxModel",
            "_view_count": null,
            "_view_module": "@jupyter-widgets/controls",
            "_view_module_version": "1.5.0",
            "_view_name": "HBoxView",
            "box_style": "",
            "children": [
              "IPY_MODEL_90afd058e67145d4bde45fa344b6ae53",
              "IPY_MODEL_87e4197d6b3947a18c735b1a10196b44",
              "IPY_MODEL_a9c2f620536b4989bea38fb279124feb"
            ],
            "layout": "IPY_MODEL_23e7ae43b6884d2395718a0a5c1112ff"
          }
        },
        "90afd058e67145d4bde45fa344b6ae53": {
          "model_module": "@jupyter-widgets/controls",
          "model_name": "HTMLModel",
          "model_module_version": "1.5.0",
          "state": {
            "_dom_classes": [],
            "_model_module": "@jupyter-widgets/controls",
            "_model_module_version": "1.5.0",
            "_model_name": "HTMLModel",
            "_view_count": null,
            "_view_module": "@jupyter-widgets/controls",
            "_view_module_version": "1.5.0",
            "_view_name": "HTMLView",
            "description": "",
            "description_tooltip": null,
            "layout": "IPY_MODEL_885671328da64d3fa674e3eabaa84a24",
            "placeholder": "​",
            "style": "IPY_MODEL_4091b283ed4d445788a473d89019d23b",
            "value": "pytorch_model-00004-of-00004.bin: 100%"
          }
        },
        "87e4197d6b3947a18c735b1a10196b44": {
          "model_module": "@jupyter-widgets/controls",
          "model_name": "FloatProgressModel",
          "model_module_version": "1.5.0",
          "state": {
            "_dom_classes": [],
            "_model_module": "@jupyter-widgets/controls",
            "_model_module_version": "1.5.0",
            "_model_name": "FloatProgressModel",
            "_view_count": null,
            "_view_module": "@jupyter-widgets/controls",
            "_view_module_version": "1.5.0",
            "_view_name": "ProgressView",
            "bar_style": "success",
            "description": "",
            "description_tooltip": null,
            "layout": "IPY_MODEL_1f856a8f8c3f40d8a5008c55f34f00ed",
            "max": 1168140873,
            "min": 0,
            "orientation": "horizontal",
            "style": "IPY_MODEL_87c9901ee9514494ba1b00456350d04e",
            "value": 1168140873
          }
        },
        "a9c2f620536b4989bea38fb279124feb": {
          "model_module": "@jupyter-widgets/controls",
          "model_name": "HTMLModel",
          "model_module_version": "1.5.0",
          "state": {
            "_dom_classes": [],
            "_model_module": "@jupyter-widgets/controls",
            "_model_module_version": "1.5.0",
            "_model_name": "HTMLModel",
            "_view_count": null,
            "_view_module": "@jupyter-widgets/controls",
            "_view_module_version": "1.5.0",
            "_view_name": "HTMLView",
            "description": "",
            "description_tooltip": null,
            "layout": "IPY_MODEL_65c19feb935a4fb18b6dc11031d1bd38",
            "placeholder": "​",
            "style": "IPY_MODEL_af0fbc1a8abe43e8954512c472c98158",
            "value": " 1.17G/1.17G [00:09&lt;00:00, 164MB/s]"
          }
        },
        "23e7ae43b6884d2395718a0a5c1112ff": {
          "model_module": "@jupyter-widgets/base",
          "model_name": "LayoutModel",
          "model_module_version": "1.2.0",
          "state": {
            "_model_module": "@jupyter-widgets/base",
            "_model_module_version": "1.2.0",
            "_model_name": "LayoutModel",
            "_view_count": null,
            "_view_module": "@jupyter-widgets/base",
            "_view_module_version": "1.2.0",
            "_view_name": "LayoutView",
            "align_content": null,
            "align_items": null,
            "align_self": null,
            "border": null,
            "bottom": null,
            "display": null,
            "flex": null,
            "flex_flow": null,
            "grid_area": null,
            "grid_auto_columns": null,
            "grid_auto_flow": null,
            "grid_auto_rows": null,
            "grid_column": null,
            "grid_gap": null,
            "grid_row": null,
            "grid_template_areas": null,
            "grid_template_columns": null,
            "grid_template_rows": null,
            "height": null,
            "justify_content": null,
            "justify_items": null,
            "left": null,
            "margin": null,
            "max_height": null,
            "max_width": null,
            "min_height": null,
            "min_width": null,
            "object_fit": null,
            "object_position": null,
            "order": null,
            "overflow": null,
            "overflow_x": null,
            "overflow_y": null,
            "padding": null,
            "right": null,
            "top": null,
            "visibility": null,
            "width": null
          }
        },
        "885671328da64d3fa674e3eabaa84a24": {
          "model_module": "@jupyter-widgets/base",
          "model_name": "LayoutModel",
          "model_module_version": "1.2.0",
          "state": {
            "_model_module": "@jupyter-widgets/base",
            "_model_module_version": "1.2.0",
            "_model_name": "LayoutModel",
            "_view_count": null,
            "_view_module": "@jupyter-widgets/base",
            "_view_module_version": "1.2.0",
            "_view_name": "LayoutView",
            "align_content": null,
            "align_items": null,
            "align_self": null,
            "border": null,
            "bottom": null,
            "display": null,
            "flex": null,
            "flex_flow": null,
            "grid_area": null,
            "grid_auto_columns": null,
            "grid_auto_flow": null,
            "grid_auto_rows": null,
            "grid_column": null,
            "grid_gap": null,
            "grid_row": null,
            "grid_template_areas": null,
            "grid_template_columns": null,
            "grid_template_rows": null,
            "height": null,
            "justify_content": null,
            "justify_items": null,
            "left": null,
            "margin": null,
            "max_height": null,
            "max_width": null,
            "min_height": null,
            "min_width": null,
            "object_fit": null,
            "object_position": null,
            "order": null,
            "overflow": null,
            "overflow_x": null,
            "overflow_y": null,
            "padding": null,
            "right": null,
            "top": null,
            "visibility": null,
            "width": null
          }
        },
        "4091b283ed4d445788a473d89019d23b": {
          "model_module": "@jupyter-widgets/controls",
          "model_name": "DescriptionStyleModel",
          "model_module_version": "1.5.0",
          "state": {
            "_model_module": "@jupyter-widgets/controls",
            "_model_module_version": "1.5.0",
            "_model_name": "DescriptionStyleModel",
            "_view_count": null,
            "_view_module": "@jupyter-widgets/base",
            "_view_module_version": "1.2.0",
            "_view_name": "StyleView",
            "description_width": ""
          }
        },
        "1f856a8f8c3f40d8a5008c55f34f00ed": {
          "model_module": "@jupyter-widgets/base",
          "model_name": "LayoutModel",
          "model_module_version": "1.2.0",
          "state": {
            "_model_module": "@jupyter-widgets/base",
            "_model_module_version": "1.2.0",
            "_model_name": "LayoutModel",
            "_view_count": null,
            "_view_module": "@jupyter-widgets/base",
            "_view_module_version": "1.2.0",
            "_view_name": "LayoutView",
            "align_content": null,
            "align_items": null,
            "align_self": null,
            "border": null,
            "bottom": null,
            "display": null,
            "flex": null,
            "flex_flow": null,
            "grid_area": null,
            "grid_auto_columns": null,
            "grid_auto_flow": null,
            "grid_auto_rows": null,
            "grid_column": null,
            "grid_gap": null,
            "grid_row": null,
            "grid_template_areas": null,
            "grid_template_columns": null,
            "grid_template_rows": null,
            "height": null,
            "justify_content": null,
            "justify_items": null,
            "left": null,
            "margin": null,
            "max_height": null,
            "max_width": null,
            "min_height": null,
            "min_width": null,
            "object_fit": null,
            "object_position": null,
            "order": null,
            "overflow": null,
            "overflow_x": null,
            "overflow_y": null,
            "padding": null,
            "right": null,
            "top": null,
            "visibility": null,
            "width": null
          }
        },
        "87c9901ee9514494ba1b00456350d04e": {
          "model_module": "@jupyter-widgets/controls",
          "model_name": "ProgressStyleModel",
          "model_module_version": "1.5.0",
          "state": {
            "_model_module": "@jupyter-widgets/controls",
            "_model_module_version": "1.5.0",
            "_model_name": "ProgressStyleModel",
            "_view_count": null,
            "_view_module": "@jupyter-widgets/base",
            "_view_module_version": "1.2.0",
            "_view_name": "StyleView",
            "bar_color": null,
            "description_width": ""
          }
        },
        "65c19feb935a4fb18b6dc11031d1bd38": {
          "model_module": "@jupyter-widgets/base",
          "model_name": "LayoutModel",
          "model_module_version": "1.2.0",
          "state": {
            "_model_module": "@jupyter-widgets/base",
            "_model_module_version": "1.2.0",
            "_model_name": "LayoutModel",
            "_view_count": null,
            "_view_module": "@jupyter-widgets/base",
            "_view_module_version": "1.2.0",
            "_view_name": "LayoutView",
            "align_content": null,
            "align_items": null,
            "align_self": null,
            "border": null,
            "bottom": null,
            "display": null,
            "flex": null,
            "flex_flow": null,
            "grid_area": null,
            "grid_auto_columns": null,
            "grid_auto_flow": null,
            "grid_auto_rows": null,
            "grid_column": null,
            "grid_gap": null,
            "grid_row": null,
            "grid_template_areas": null,
            "grid_template_columns": null,
            "grid_template_rows": null,
            "height": null,
            "justify_content": null,
            "justify_items": null,
            "left": null,
            "margin": null,
            "max_height": null,
            "max_width": null,
            "min_height": null,
            "min_width": null,
            "object_fit": null,
            "object_position": null,
            "order": null,
            "overflow": null,
            "overflow_x": null,
            "overflow_y": null,
            "padding": null,
            "right": null,
            "top": null,
            "visibility": null,
            "width": null
          }
        },
        "af0fbc1a8abe43e8954512c472c98158": {
          "model_module": "@jupyter-widgets/controls",
          "model_name": "DescriptionStyleModel",
          "model_module_version": "1.5.0",
          "state": {
            "_model_module": "@jupyter-widgets/controls",
            "_model_module_version": "1.5.0",
            "_model_name": "DescriptionStyleModel",
            "_view_count": null,
            "_view_module": "@jupyter-widgets/base",
            "_view_module_version": "1.2.0",
            "_view_name": "StyleView",
            "description_width": ""
          }
        },
        "1cfeb1f865eb4cacb96b29d5e6e640a5": {
          "model_module": "@jupyter-widgets/controls",
          "model_name": "HBoxModel",
          "model_module_version": "1.5.0",
          "state": {
            "_dom_classes": [],
            "_model_module": "@jupyter-widgets/controls",
            "_model_module_version": "1.5.0",
            "_model_name": "HBoxModel",
            "_view_count": null,
            "_view_module": "@jupyter-widgets/controls",
            "_view_module_version": "1.5.0",
            "_view_name": "HBoxView",
            "box_style": "",
            "children": [
              "IPY_MODEL_2f58813a4daa455fa724b2524140a69f",
              "IPY_MODEL_5b0e96d04af448b6a4da01c4e3100f5a",
              "IPY_MODEL_1b7aa43ae1f74dc39623d1d2b3b7b421"
            ],
            "layout": "IPY_MODEL_cab97e44145241c4ae60459717eeb6be"
          }
        },
        "2f58813a4daa455fa724b2524140a69f": {
          "model_module": "@jupyter-widgets/controls",
          "model_name": "HTMLModel",
          "model_module_version": "1.5.0",
          "state": {
            "_dom_classes": [],
            "_model_module": "@jupyter-widgets/controls",
            "_model_module_version": "1.5.0",
            "_model_name": "HTMLModel",
            "_view_count": null,
            "_view_module": "@jupyter-widgets/controls",
            "_view_module_version": "1.5.0",
            "_view_name": "HTMLView",
            "description": "",
            "description_tooltip": null,
            "layout": "IPY_MODEL_5b9c8a304de84e0e94ad078dad2e8a2b",
            "placeholder": "​",
            "style": "IPY_MODEL_9b458fc022f748548734c558a863455b",
            "value": "Loading checkpoint shards: 100%"
          }
        },
        "5b0e96d04af448b6a4da01c4e3100f5a": {
          "model_module": "@jupyter-widgets/controls",
          "model_name": "FloatProgressModel",
          "model_module_version": "1.5.0",
          "state": {
            "_dom_classes": [],
            "_model_module": "@jupyter-widgets/controls",
            "_model_module_version": "1.5.0",
            "_model_name": "FloatProgressModel",
            "_view_count": null,
            "_view_module": "@jupyter-widgets/controls",
            "_view_module_version": "1.5.0",
            "_view_name": "ProgressView",
            "bar_style": "success",
            "description": "",
            "description_tooltip": null,
            "layout": "IPY_MODEL_dcfcb5f0e68b4332bd83a15659de6b1c",
            "max": 4,
            "min": 0,
            "orientation": "horizontal",
            "style": "IPY_MODEL_fc24da602b394a9dba994c31856a80eb",
            "value": 4
          }
        },
        "1b7aa43ae1f74dc39623d1d2b3b7b421": {
          "model_module": "@jupyter-widgets/controls",
          "model_name": "HTMLModel",
          "model_module_version": "1.5.0",
          "state": {
            "_dom_classes": [],
            "_model_module": "@jupyter-widgets/controls",
            "_model_module_version": "1.5.0",
            "_model_name": "HTMLModel",
            "_view_count": null,
            "_view_module": "@jupyter-widgets/controls",
            "_view_module_version": "1.5.0",
            "_view_name": "HTMLView",
            "description": "",
            "description_tooltip": null,
            "layout": "IPY_MODEL_3553ed6fd7ac4fdfb4f93607ef745b98",
            "placeholder": "​",
            "style": "IPY_MODEL_bb8b012d05d349f1837b53b9b2ea4cc1",
            "value": " 4/4 [01:10&lt;00:00, 15.12s/it]"
          }
        },
        "cab97e44145241c4ae60459717eeb6be": {
          "model_module": "@jupyter-widgets/base",
          "model_name": "LayoutModel",
          "model_module_version": "1.2.0",
          "state": {
            "_model_module": "@jupyter-widgets/base",
            "_model_module_version": "1.2.0",
            "_model_name": "LayoutModel",
            "_view_count": null,
            "_view_module": "@jupyter-widgets/base",
            "_view_module_version": "1.2.0",
            "_view_name": "LayoutView",
            "align_content": null,
            "align_items": null,
            "align_self": null,
            "border": null,
            "bottom": null,
            "display": null,
            "flex": null,
            "flex_flow": null,
            "grid_area": null,
            "grid_auto_columns": null,
            "grid_auto_flow": null,
            "grid_auto_rows": null,
            "grid_column": null,
            "grid_gap": null,
            "grid_row": null,
            "grid_template_areas": null,
            "grid_template_columns": null,
            "grid_template_rows": null,
            "height": null,
            "justify_content": null,
            "justify_items": null,
            "left": null,
            "margin": null,
            "max_height": null,
            "max_width": null,
            "min_height": null,
            "min_width": null,
            "object_fit": null,
            "object_position": null,
            "order": null,
            "overflow": null,
            "overflow_x": null,
            "overflow_y": null,
            "padding": null,
            "right": null,
            "top": null,
            "visibility": null,
            "width": null
          }
        },
        "5b9c8a304de84e0e94ad078dad2e8a2b": {
          "model_module": "@jupyter-widgets/base",
          "model_name": "LayoutModel",
          "model_module_version": "1.2.0",
          "state": {
            "_model_module": "@jupyter-widgets/base",
            "_model_module_version": "1.2.0",
            "_model_name": "LayoutModel",
            "_view_count": null,
            "_view_module": "@jupyter-widgets/base",
            "_view_module_version": "1.2.0",
            "_view_name": "LayoutView",
            "align_content": null,
            "align_items": null,
            "align_self": null,
            "border": null,
            "bottom": null,
            "display": null,
            "flex": null,
            "flex_flow": null,
            "grid_area": null,
            "grid_auto_columns": null,
            "grid_auto_flow": null,
            "grid_auto_rows": null,
            "grid_column": null,
            "grid_gap": null,
            "grid_row": null,
            "grid_template_areas": null,
            "grid_template_columns": null,
            "grid_template_rows": null,
            "height": null,
            "justify_content": null,
            "justify_items": null,
            "left": null,
            "margin": null,
            "max_height": null,
            "max_width": null,
            "min_height": null,
            "min_width": null,
            "object_fit": null,
            "object_position": null,
            "order": null,
            "overflow": null,
            "overflow_x": null,
            "overflow_y": null,
            "padding": null,
            "right": null,
            "top": null,
            "visibility": null,
            "width": null
          }
        },
        "9b458fc022f748548734c558a863455b": {
          "model_module": "@jupyter-widgets/controls",
          "model_name": "DescriptionStyleModel",
          "model_module_version": "1.5.0",
          "state": {
            "_model_module": "@jupyter-widgets/controls",
            "_model_module_version": "1.5.0",
            "_model_name": "DescriptionStyleModel",
            "_view_count": null,
            "_view_module": "@jupyter-widgets/base",
            "_view_module_version": "1.2.0",
            "_view_name": "StyleView",
            "description_width": ""
          }
        },
        "dcfcb5f0e68b4332bd83a15659de6b1c": {
          "model_module": "@jupyter-widgets/base",
          "model_name": "LayoutModel",
          "model_module_version": "1.2.0",
          "state": {
            "_model_module": "@jupyter-widgets/base",
            "_model_module_version": "1.2.0",
            "_model_name": "LayoutModel",
            "_view_count": null,
            "_view_module": "@jupyter-widgets/base",
            "_view_module_version": "1.2.0",
            "_view_name": "LayoutView",
            "align_content": null,
            "align_items": null,
            "align_self": null,
            "border": null,
            "bottom": null,
            "display": null,
            "flex": null,
            "flex_flow": null,
            "grid_area": null,
            "grid_auto_columns": null,
            "grid_auto_flow": null,
            "grid_auto_rows": null,
            "grid_column": null,
            "grid_gap": null,
            "grid_row": null,
            "grid_template_areas": null,
            "grid_template_columns": null,
            "grid_template_rows": null,
            "height": null,
            "justify_content": null,
            "justify_items": null,
            "left": null,
            "margin": null,
            "max_height": null,
            "max_width": null,
            "min_height": null,
            "min_width": null,
            "object_fit": null,
            "object_position": null,
            "order": null,
            "overflow": null,
            "overflow_x": null,
            "overflow_y": null,
            "padding": null,
            "right": null,
            "top": null,
            "visibility": null,
            "width": null
          }
        },
        "fc24da602b394a9dba994c31856a80eb": {
          "model_module": "@jupyter-widgets/controls",
          "model_name": "ProgressStyleModel",
          "model_module_version": "1.5.0",
          "state": {
            "_model_module": "@jupyter-widgets/controls",
            "_model_module_version": "1.5.0",
            "_model_name": "ProgressStyleModel",
            "_view_count": null,
            "_view_module": "@jupyter-widgets/base",
            "_view_module_version": "1.2.0",
            "_view_name": "StyleView",
            "bar_color": null,
            "description_width": ""
          }
        },
        "3553ed6fd7ac4fdfb4f93607ef745b98": {
          "model_module": "@jupyter-widgets/base",
          "model_name": "LayoutModel",
          "model_module_version": "1.2.0",
          "state": {
            "_model_module": "@jupyter-widgets/base",
            "_model_module_version": "1.2.0",
            "_model_name": "LayoutModel",
            "_view_count": null,
            "_view_module": "@jupyter-widgets/base",
            "_view_module_version": "1.2.0",
            "_view_name": "LayoutView",
            "align_content": null,
            "align_items": null,
            "align_self": null,
            "border": null,
            "bottom": null,
            "display": null,
            "flex": null,
            "flex_flow": null,
            "grid_area": null,
            "grid_auto_columns": null,
            "grid_auto_flow": null,
            "grid_auto_rows": null,
            "grid_column": null,
            "grid_gap": null,
            "grid_row": null,
            "grid_template_areas": null,
            "grid_template_columns": null,
            "grid_template_rows": null,
            "height": null,
            "justify_content": null,
            "justify_items": null,
            "left": null,
            "margin": null,
            "max_height": null,
            "max_width": null,
            "min_height": null,
            "min_width": null,
            "object_fit": null,
            "object_position": null,
            "order": null,
            "overflow": null,
            "overflow_x": null,
            "overflow_y": null,
            "padding": null,
            "right": null,
            "top": null,
            "visibility": null,
            "width": null
          }
        },
        "bb8b012d05d349f1837b53b9b2ea4cc1": {
          "model_module": "@jupyter-widgets/controls",
          "model_name": "DescriptionStyleModel",
          "model_module_version": "1.5.0",
          "state": {
            "_model_module": "@jupyter-widgets/controls",
            "_model_module_version": "1.5.0",
            "_model_name": "DescriptionStyleModel",
            "_view_count": null,
            "_view_module": "@jupyter-widgets/base",
            "_view_module_version": "1.2.0",
            "_view_name": "StyleView",
            "description_width": ""
          }
        },
        "0e52d5a08c524b11b99222597147abb7": {
          "model_module": "@jupyter-widgets/controls",
          "model_name": "HBoxModel",
          "model_module_version": "1.5.0",
          "state": {
            "_dom_classes": [],
            "_model_module": "@jupyter-widgets/controls",
            "_model_module_version": "1.5.0",
            "_model_name": "HBoxModel",
            "_view_count": null,
            "_view_module": "@jupyter-widgets/controls",
            "_view_module_version": "1.5.0",
            "_view_name": "HBoxView",
            "box_style": "",
            "children": [
              "IPY_MODEL_d0a576022851439cace4438a5f9913dd",
              "IPY_MODEL_b7280224ed7a4b3cbc06d636a2ec2abf",
              "IPY_MODEL_ab58da7181ca44cdacde787ffb0ec18b"
            ],
            "layout": "IPY_MODEL_8ea260bc8420455ab16ff2f44079a5bb"
          }
        },
        "d0a576022851439cace4438a5f9913dd": {
          "model_module": "@jupyter-widgets/controls",
          "model_name": "HTMLModel",
          "model_module_version": "1.5.0",
          "state": {
            "_dom_classes": [],
            "_model_module": "@jupyter-widgets/controls",
            "_model_module_version": "1.5.0",
            "_model_name": "HTMLModel",
            "_view_count": null,
            "_view_module": "@jupyter-widgets/controls",
            "_view_module_version": "1.5.0",
            "_view_name": "HTMLView",
            "description": "",
            "description_tooltip": null,
            "layout": "IPY_MODEL_b0460192a18b4f25bf4a175e4d5cfee9",
            "placeholder": "​",
            "style": "IPY_MODEL_fd36c2f7f1d447589e58b84c04665c74",
            "value": "generation_config.json: 100%"
          }
        },
        "b7280224ed7a4b3cbc06d636a2ec2abf": {
          "model_module": "@jupyter-widgets/controls",
          "model_name": "FloatProgressModel",
          "model_module_version": "1.5.0",
          "state": {
            "_dom_classes": [],
            "_model_module": "@jupyter-widgets/controls",
            "_model_module_version": "1.5.0",
            "_model_name": "FloatProgressModel",
            "_view_count": null,
            "_view_module": "@jupyter-widgets/controls",
            "_view_module_version": "1.5.0",
            "_view_name": "ProgressView",
            "bar_style": "success",
            "description": "",
            "description_tooltip": null,
            "layout": "IPY_MODEL_73205bf990c84edf90a64fcde48ff027",
            "max": 143,
            "min": 0,
            "orientation": "horizontal",
            "style": "IPY_MODEL_b99e2149e6b84fd2a37dfe237dac6b9c",
            "value": 143
          }
        },
        "ab58da7181ca44cdacde787ffb0ec18b": {
          "model_module": "@jupyter-widgets/controls",
          "model_name": "HTMLModel",
          "model_module_version": "1.5.0",
          "state": {
            "_dom_classes": [],
            "_model_module": "@jupyter-widgets/controls",
            "_model_module_version": "1.5.0",
            "_model_name": "HTMLModel",
            "_view_count": null,
            "_view_module": "@jupyter-widgets/controls",
            "_view_module_version": "1.5.0",
            "_view_name": "HTMLView",
            "description": "",
            "description_tooltip": null,
            "layout": "IPY_MODEL_48db82d048614e54a2dc30c8cc387f7f",
            "placeholder": "​",
            "style": "IPY_MODEL_9fa7f97fa48348beb0daf35e38030fb3",
            "value": " 143/143 [00:00&lt;00:00, 10.0kB/s]"
          }
        },
        "8ea260bc8420455ab16ff2f44079a5bb": {
          "model_module": "@jupyter-widgets/base",
          "model_name": "LayoutModel",
          "model_module_version": "1.2.0",
          "state": {
            "_model_module": "@jupyter-widgets/base",
            "_model_module_version": "1.2.0",
            "_model_name": "LayoutModel",
            "_view_count": null,
            "_view_module": "@jupyter-widgets/base",
            "_view_module_version": "1.2.0",
            "_view_name": "LayoutView",
            "align_content": null,
            "align_items": null,
            "align_self": null,
            "border": null,
            "bottom": null,
            "display": null,
            "flex": null,
            "flex_flow": null,
            "grid_area": null,
            "grid_auto_columns": null,
            "grid_auto_flow": null,
            "grid_auto_rows": null,
            "grid_column": null,
            "grid_gap": null,
            "grid_row": null,
            "grid_template_areas": null,
            "grid_template_columns": null,
            "grid_template_rows": null,
            "height": null,
            "justify_content": null,
            "justify_items": null,
            "left": null,
            "margin": null,
            "max_height": null,
            "max_width": null,
            "min_height": null,
            "min_width": null,
            "object_fit": null,
            "object_position": null,
            "order": null,
            "overflow": null,
            "overflow_x": null,
            "overflow_y": null,
            "padding": null,
            "right": null,
            "top": null,
            "visibility": null,
            "width": null
          }
        },
        "b0460192a18b4f25bf4a175e4d5cfee9": {
          "model_module": "@jupyter-widgets/base",
          "model_name": "LayoutModel",
          "model_module_version": "1.2.0",
          "state": {
            "_model_module": "@jupyter-widgets/base",
            "_model_module_version": "1.2.0",
            "_model_name": "LayoutModel",
            "_view_count": null,
            "_view_module": "@jupyter-widgets/base",
            "_view_module_version": "1.2.0",
            "_view_name": "LayoutView",
            "align_content": null,
            "align_items": null,
            "align_self": null,
            "border": null,
            "bottom": null,
            "display": null,
            "flex": null,
            "flex_flow": null,
            "grid_area": null,
            "grid_auto_columns": null,
            "grid_auto_flow": null,
            "grid_auto_rows": null,
            "grid_column": null,
            "grid_gap": null,
            "grid_row": null,
            "grid_template_areas": null,
            "grid_template_columns": null,
            "grid_template_rows": null,
            "height": null,
            "justify_content": null,
            "justify_items": null,
            "left": null,
            "margin": null,
            "max_height": null,
            "max_width": null,
            "min_height": null,
            "min_width": null,
            "object_fit": null,
            "object_position": null,
            "order": null,
            "overflow": null,
            "overflow_x": null,
            "overflow_y": null,
            "padding": null,
            "right": null,
            "top": null,
            "visibility": null,
            "width": null
          }
        },
        "fd36c2f7f1d447589e58b84c04665c74": {
          "model_module": "@jupyter-widgets/controls",
          "model_name": "DescriptionStyleModel",
          "model_module_version": "1.5.0",
          "state": {
            "_model_module": "@jupyter-widgets/controls",
            "_model_module_version": "1.5.0",
            "_model_name": "DescriptionStyleModel",
            "_view_count": null,
            "_view_module": "@jupyter-widgets/base",
            "_view_module_version": "1.2.0",
            "_view_name": "StyleView",
            "description_width": ""
          }
        },
        "73205bf990c84edf90a64fcde48ff027": {
          "model_module": "@jupyter-widgets/base",
          "model_name": "LayoutModel",
          "model_module_version": "1.2.0",
          "state": {
            "_model_module": "@jupyter-widgets/base",
            "_model_module_version": "1.2.0",
            "_model_name": "LayoutModel",
            "_view_count": null,
            "_view_module": "@jupyter-widgets/base",
            "_view_module_version": "1.2.0",
            "_view_name": "LayoutView",
            "align_content": null,
            "align_items": null,
            "align_self": null,
            "border": null,
            "bottom": null,
            "display": null,
            "flex": null,
            "flex_flow": null,
            "grid_area": null,
            "grid_auto_columns": null,
            "grid_auto_flow": null,
            "grid_auto_rows": null,
            "grid_column": null,
            "grid_gap": null,
            "grid_row": null,
            "grid_template_areas": null,
            "grid_template_columns": null,
            "grid_template_rows": null,
            "height": null,
            "justify_content": null,
            "justify_items": null,
            "left": null,
            "margin": null,
            "max_height": null,
            "max_width": null,
            "min_height": null,
            "min_width": null,
            "object_fit": null,
            "object_position": null,
            "order": null,
            "overflow": null,
            "overflow_x": null,
            "overflow_y": null,
            "padding": null,
            "right": null,
            "top": null,
            "visibility": null,
            "width": null
          }
        },
        "b99e2149e6b84fd2a37dfe237dac6b9c": {
          "model_module": "@jupyter-widgets/controls",
          "model_name": "ProgressStyleModel",
          "model_module_version": "1.5.0",
          "state": {
            "_model_module": "@jupyter-widgets/controls",
            "_model_module_version": "1.5.0",
            "_model_name": "ProgressStyleModel",
            "_view_count": null,
            "_view_module": "@jupyter-widgets/base",
            "_view_module_version": "1.2.0",
            "_view_name": "StyleView",
            "bar_color": null,
            "description_width": ""
          }
        },
        "48db82d048614e54a2dc30c8cc387f7f": {
          "model_module": "@jupyter-widgets/base",
          "model_name": "LayoutModel",
          "model_module_version": "1.2.0",
          "state": {
            "_model_module": "@jupyter-widgets/base",
            "_model_module_version": "1.2.0",
            "_model_name": "LayoutModel",
            "_view_count": null,
            "_view_module": "@jupyter-widgets/base",
            "_view_module_version": "1.2.0",
            "_view_name": "LayoutView",
            "align_content": null,
            "align_items": null,
            "align_self": null,
            "border": null,
            "bottom": null,
            "display": null,
            "flex": null,
            "flex_flow": null,
            "grid_area": null,
            "grid_auto_columns": null,
            "grid_auto_flow": null,
            "grid_auto_rows": null,
            "grid_column": null,
            "grid_gap": null,
            "grid_row": null,
            "grid_template_areas": null,
            "grid_template_columns": null,
            "grid_template_rows": null,
            "height": null,
            "justify_content": null,
            "justify_items": null,
            "left": null,
            "margin": null,
            "max_height": null,
            "max_width": null,
            "min_height": null,
            "min_width": null,
            "object_fit": null,
            "object_position": null,
            "order": null,
            "overflow": null,
            "overflow_x": null,
            "overflow_y": null,
            "padding": null,
            "right": null,
            "top": null,
            "visibility": null,
            "width": null
          }
        },
        "9fa7f97fa48348beb0daf35e38030fb3": {
          "model_module": "@jupyter-widgets/controls",
          "model_name": "DescriptionStyleModel",
          "model_module_version": "1.5.0",
          "state": {
            "_model_module": "@jupyter-widgets/controls",
            "_model_module_version": "1.5.0",
            "_model_name": "DescriptionStyleModel",
            "_view_count": null,
            "_view_module": "@jupyter-widgets/base",
            "_view_module_version": "1.2.0",
            "_view_name": "StyleView",
            "description_width": ""
          }
        }
      }
    }
  },
  "cells": [
    {
      "cell_type": "code",
      "execution_count": null,
      "metadata": {
        "id": "rh7ZfSw_sM7W"
      },
      "outputs": [],
      "source": [
        "%%capture\n",
        "!pip install langchain_community\n",
        "!pip install langchain\n",
        "!pip install streamlit\n",
        "!pip install rouge-score\n",
        "!pip install --no-deps \"xformers<0.0.26\" trl peft accelerate bitsandbytes\n",
        "!pip install datasets\n",
        "!pip install \"unsloth[colab-new] @ git+https://github.com/unslothai/unsloth.git\"\n",
        "!pip install bitsandbytes"
      ]
    },
    {
      "cell_type": "code",
      "source": [
        "from langchain.memory import ChatMessageHistory\n",
        "from langchain_core.prompts import MessagesPlaceholder, ChatPromptTemplate\n",
        "from langchain_community.tools.sql_database.tool import QuerySQLDataBaseTool\n",
        "from langchain_community.utilities.sql_database import SQLDatabase\n",
        "import sqlite3\n",
        "from nltk.translate.bleu_score import sentence_bleu\n",
        "from rouge_score import rouge_scorer\n",
        "from transformers import LlamaTokenizer, LlamaForCausalLM, AutoTokenizer\n",
        "import torch\n",
        "import numpy as np\n",
        "from datasets import load_dataset\n",
        "from unsloth import FastLanguageModel"
      ],
      "metadata": {
        "id": "3kHrJKjjuNR0"
      },
      "execution_count": null,
      "outputs": []
    },
    {
      "cell_type": "code",
      "source": [
        "history = ChatMessageHistory()"
      ],
      "metadata": {
        "id": "G9ZVE4y6uTZ8"
      },
      "execution_count": null,
      "outputs": []
    },
    {
      "cell_type": "code",
      "source": [
        "text_to_sql_tmpl_str = \"\"\"\\\n",
        "### Instruction:\\n{system_message}{user_message}\\n\\n### Response:\\n{response}\"\"\"\n",
        "\n",
        "text_to_sql_inference_tmpl_str = \"\"\"\\\n",
        "### Instruction:\\n{system_message}{user_message}\\n\\n### Response:\\n\"\"\"\n",
        "\n",
        "def _generate_prompt_sql(input, context, dialect=\"sqlite\", output=\"\", messages=\"\"):\n",
        "    system_message = f\"\"\"You are a powerful text-to-SQL model. Your job is to answer questions about a database. You are given a question and context regarding one or more tables.\n",
        "\n",
        "You must output the SQL query that answers the question. Use the previous conversation to answer the follow up questions. Do not provide any explanation\n",
        "\n",
        "    \"\"\"\n",
        "    user_message = f\"\"\"### Dialect:\n",
        "{dialect}\n",
        "\n",
        "### Input:\n",
        "{input}\n",
        "\n",
        "### Context:\n",
        "{context}\n",
        "\n",
        "### Previous Conversation:\n",
        "{messages}\n",
        "\n",
        "\"\"\"\n",
        "    if output:\n",
        "        return text_to_sql_tmpl_str.format(\n",
        "            system_message=system_message,\n",
        "            user_message=user_message,\n",
        "            response=output,\n",
        "        )\n",
        "    else:\n",
        "        return text_to_sql_inference_tmpl_str.format(\n",
        "            system_message=system_message, user_message=user_message\n",
        "        )\n",
        "\n",
        "def generate_prompt(data_point):\n",
        "    full_prompt = _generate_prompt_sql(\n",
        "        data_point[\"question\"],\n",
        "        data_point[\"context\"],\n",
        "        dialect=\"sqlite\",\n",
        "        # output=data_point[\"sql\"],\n",
        "    )\n",
        "    return full_prompt"
      ],
      "metadata": {
        "id": "R145eWACuUFx"
      },
      "execution_count": null,
      "outputs": []
    },
    {
      "cell_type": "code",
      "source": [
        "max_seq_length = 2048 # Choose any! We auto support RoPE Scaling internally!\n",
        "dtype = None # None for auto detection. Float16 for Tesla T4, V100, Bfloat16 for Ampere+\n",
        "load_in_4bit = True # Use 4bit quantization to reduce memory usage. Can be False."
      ],
      "metadata": {
        "id": "Bp80Lh02uZeg"
      },
      "execution_count": null,
      "outputs": []
    },
    {
      "cell_type": "code",
      "source": [
        "# Define the dataset ID and load the dataset\n",
        "dataset_id = \"hoangphu7122002ai/text2sql_en\"\n",
        "data = load_dataset(dataset_id, split=\"train\")\n",
        "\n",
        "# Convert the dataset to a pandas DataFrame\n",
        "df = data.to_pandas()\n",
        "\n",
        "# Select the first 500 rows\n",
        "df_subset = df.tail(500)\n",
        "\n",
        "# Export the subset to an Excel file\n",
        "excel_file = \"text2sql_dataset_subset.xlsx\"\n",
        "df_subset.to_excel(excel_file, index=False)\n",
        "\n",
        "print(\"Exported dataset subset to\", excel_file)"
      ],
      "metadata": {
        "colab": {
          "base_uri": "https://localhost:8080/"
        },
        "id": "44b2V54nxHV9",
        "outputId": "ee80c6aa-71c0-403b-a7a3-585e750bd4de"
      },
      "execution_count": null,
      "outputs": [
        {
          "output_type": "stream",
          "name": "stdout",
          "text": [
            "Exported dataset subset to text2sql_dataset_subset.xlsx\n"
          ]
        }
      ]
    },
    {
      "cell_type": "code",
      "source": [
        "excel_file = \"text2sql_dataset_subset.xlsx\"\n",
        "#category_sheet_name = \"window functions\"  # Change this to the actual sheet name in your Excel file\n",
        "\n",
        "# Load the category1 sheet into a DataFrame\n",
        "category_df = pd.read_excel(excel_file)\n",
        "\n",
        "# Store the result in a new \"text\" column\n",
        "category_df[\"text\"] = category_df.apply(lambda x: generate_prompt(x), axis=1)\n"
      ],
      "metadata": {
        "id": "sp7M8Y2uwbsg"
      },
      "execution_count": null,
      "outputs": []
    },
    {
      "cell_type": "code",
      "source": [
        "tokenizer = AutoTokenizer.from_pretrained(\"basavaraj/text2sql-Llama3-8b\")\n",
        "model = LlamaForCausalLM.from_pretrained(\n",
        "    \"basavaraj/text2sql-Llama3-8b\",\n",
        "    load_in_4bit=True,\n",
        "    torch_dtype=torch.float16,)\n",
        "FastLanguageModel.for_inference(model)"
      ],
      "metadata": {
        "colab": {
          "base_uri": "https://localhost:8080/",
          "height": 508,
          "referenced_widgets": [
            "794c4dff03a145fdb6a37e078b68ff67",
            "1a611cb79b9140a8a9a67a5a60789b7f",
            "346565f5efc94033bb2653e1ada25b90",
            "24b7fdb414d34575a8bb9b59cbe60b4a",
            "26e5f45d82844b33919d0f98b61d9ec9",
            "78a696d6e6d944dcaafa050edd39f6bd",
            "94dae6383e3a4dfdb37cdfd718f26f26",
            "c626137334b84661a6a0b04d40713bf6",
            "7e0f3e7f194e44a28034b8673fc8d1c5",
            "d1ed9b4ab50d49a8a437a79d486629ae",
            "55a4f5c9483f4d4cb43641aef0885845",
            "2079a7f3907c4a6593017092cb4257a4",
            "20686e9cf2814da2855675d9fc6695b9",
            "131df9af9db348eb8fc08ae8289c99aa",
            "e9361313019e4687828388e879ec9ddd",
            "8b3a2d57526a445ebd38c4212b4c18b2",
            "6aded4050f3b4f8b8264a77c5e8dd453",
            "15d8233ef35e4b61b4889af6533052eb",
            "daf9c0b0f72e42e2bee731f9b1293e8d",
            "cd42ab9b66734838951997ca7d555a31",
            "6921939857ff43f5a2c35ae5a641e9ca",
            "40a3aba23ac04010a1234fe7566c90ac",
            "d5b4352bb44e4cb2a1fbad6349de6d03",
            "9f436400600048d4aaaf3ee606d3e694",
            "f18007ae3493417a91eb9f450eb321f0",
            "3207964a31e44b708bff92c31131420d",
            "e26dda166ae246f79881241ffd2b8de9",
            "f4816aceb3284c04b1bbbc77672e65f7",
            "727711dddd0d4361ae364f169055e96b",
            "2a7bae4861ca467aa4359d0649baa848",
            "7c32446ce87842fbaede9286d2b16c3b",
            "26a67594dd5e4e1887adf2e3639ec4c9",
            "41165423e4654685b25619cc7785b22b",
            "016a15456770467da642335d7b9e124a",
            "5c52d8f90b1e4e1a86f423bfe9826cc8",
            "771692d221424257a2fea965df2187cd",
            "8ebe84e1737d4b438bfce89623173909",
            "ff95f409e5d84eb7aaf0a3ed7f3b2742",
            "6847d5cb8fbd419da272d8db3827e559",
            "fb245d6878e545be9a08ba5baa240261",
            "0e083f92a9c64436b079b3918eda33e7",
            "47506b824b7b4218ab0e5ea3319dafc0",
            "f68ce76c77c1417e82931a9c62404557",
            "2d9372dcfafd4578836f94b9aa0906f3",
            "29d85f78d431452c8eb140d9f5b4758c",
            "5a6c43632f7143e48edc15a3db321bfd",
            "5c16c33a0af84f849bd994ef749ec615",
            "fcf54fe04a21487cbbb2451bad1d8d01",
            "640bb70702c64bab9113298bd01ff0cb",
            "16a1f3a372e74345823c67d11b615f18",
            "4da1d7e0e8b84923b0e6bf6b836dc67d",
            "d8d63625e1944540baddb769689671e1",
            "7bbccaa514744ca39cfea9e6c2adb634",
            "8394756b429c49618dd593b718abffd6",
            "e40efb3475a64785b6d4ac2f987f45c1",
            "cd48c381cb3f4020bfbc6d289e951e67",
            "39c9bec8eab54c2c9508feab45b266fe",
            "777adfdf23394321943fb6eae96f60cb",
            "8d11195ed3c94fa19d135a96e60ab129",
            "b01b84777d0f4e5c9fa40677f319204f",
            "9915f169fdf54c1ca7317567b607e398",
            "5b399ac7293c4a0ebdbae2f5b2d461f9",
            "d679bdbdf7504acfa73e36002710395a",
            "003bb513cb57437f96f79dee834a0292",
            "e9fa43149b504eb997d172b87ec7a7a6",
            "1c0b93248d134421988d98257a56bd97",
            "cdc3aadd9b34403d809c36535ae943ed",
            "1b7d6f512f814b60b802819813c525dd",
            "bba883bf774147ad82d46db85a6d2197",
            "4e1d9631c0bb4d08832699679a7698bb",
            "7bac9606f46c4a21898edca0727ccd44",
            "dc5284bf915e431b8da2869e17fecc32",
            "89c19a342ce241089162043719b59e64",
            "d8d75583f3294c2ab9cd671a7ced5e64",
            "c40ab398e9614d6b89c034d7272ff302",
            "c8c59e2e17f5434d827f922f1d18756b",
            "6172a84af4c8481ab36e2a9ec85961ea",
            "92a61165c41d4faa8f7fcbfddeb17204",
            "b3978c83f02f40fd873c972d841c4ce2",
            "2a2cb41398b744e99f809399f260759e",
            "5727824c57214d20b10ccd5388088a59",
            "712e9b3d72d046d1a2b683965b9d388e",
            "1feabdb50fda410d8ac4ef04945eefec",
            "652b44f602b04810b755f8e020866cb5",
            "e7c54c00fd3846f197dd5edad3516f69",
            "f17b6ad79c2e4af2a3d7fd8c4f969af7",
            "08e8f357c35e4021a0cd49bf79362e02",
            "4c04ee581c974d6a9e206d67a0ea3539",
            "6269145fc27947428418ec8538e1a857",
            "40390ee55cdf49eeaf6606dd8823dba7",
            "556bbb98de2e40c6b030fb5e47c9ab4f",
            "0781b499bd704640ad9b0d9bd98d2bf1",
            "f78c480cde174126ac598dc7a647674e",
            "b8beae35e1944b5bacc25f17c324795a",
            "6ee02b44118747ddb9b4992b9c77909c",
            "6ef3bb92d6a84fb18e137c9e67da3ebf",
            "340d32f586c7463f9647160341d7e476",
            "f25e4d34f04f49f0b62408ee9752a535",
            "b4d9611f8ba74665a92b520b9153faa8",
            "7c2738f087e74c9e958d7faa00b78322",
            "90afd058e67145d4bde45fa344b6ae53",
            "87e4197d6b3947a18c735b1a10196b44",
            "a9c2f620536b4989bea38fb279124feb",
            "23e7ae43b6884d2395718a0a5c1112ff",
            "885671328da64d3fa674e3eabaa84a24",
            "4091b283ed4d445788a473d89019d23b",
            "1f856a8f8c3f40d8a5008c55f34f00ed",
            "87c9901ee9514494ba1b00456350d04e",
            "65c19feb935a4fb18b6dc11031d1bd38",
            "af0fbc1a8abe43e8954512c472c98158",
            "1cfeb1f865eb4cacb96b29d5e6e640a5",
            "2f58813a4daa455fa724b2524140a69f",
            "5b0e96d04af448b6a4da01c4e3100f5a",
            "1b7aa43ae1f74dc39623d1d2b3b7b421",
            "cab97e44145241c4ae60459717eeb6be",
            "5b9c8a304de84e0e94ad078dad2e8a2b",
            "9b458fc022f748548734c558a863455b",
            "dcfcb5f0e68b4332bd83a15659de6b1c",
            "fc24da602b394a9dba994c31856a80eb",
            "3553ed6fd7ac4fdfb4f93607ef745b98",
            "bb8b012d05d349f1837b53b9b2ea4cc1",
            "0e52d5a08c524b11b99222597147abb7",
            "d0a576022851439cace4438a5f9913dd",
            "b7280224ed7a4b3cbc06d636a2ec2abf",
            "ab58da7181ca44cdacde787ffb0ec18b",
            "8ea260bc8420455ab16ff2f44079a5bb",
            "b0460192a18b4f25bf4a175e4d5cfee9",
            "fd36c2f7f1d447589e58b84c04665c74",
            "73205bf990c84edf90a64fcde48ff027",
            "b99e2149e6b84fd2a37dfe237dac6b9c",
            "48db82d048614e54a2dc30c8cc387f7f",
            "9fa7f97fa48348beb0daf35e38030fb3"
          ]
        },
        "id": "iLqWgf4_wm0p",
        "outputId": "c6c2d2ad-31f3-4df7-d3de-7517129108ff"
      },
      "execution_count": null,
      "outputs": [
        {
          "output_type": "stream",
          "name": "stderr",
          "text": [
            "/usr/local/lib/python3.10/dist-packages/huggingface_hub/file_download.py:1132: FutureWarning: `resume_download` is deprecated and will be removed in version 1.0.0. Downloads always resume when possible. If you want to force a new download, use `force_download=True`.\n",
            "  warnings.warn(\n"
          ]
        },
        {
          "output_type": "display_data",
          "data": {
            "text/plain": [
              "tokenizer_config.json:   0%|          | 0.00/50.6k [00:00<?, ?B/s]"
            ],
            "application/vnd.jupyter.widget-view+json": {
              "version_major": 2,
              "version_minor": 0,
              "model_id": "794c4dff03a145fdb6a37e078b68ff67"
            }
          },
          "metadata": {}
        },
        {
          "output_type": "display_data",
          "data": {
            "text/plain": [
              "tokenizer.json:   0%|          | 0.00/9.09M [00:00<?, ?B/s]"
            ],
            "application/vnd.jupyter.widget-view+json": {
              "version_major": 2,
              "version_minor": 0,
              "model_id": "2079a7f3907c4a6593017092cb4257a4"
            }
          },
          "metadata": {}
        },
        {
          "output_type": "display_data",
          "data": {
            "text/plain": [
              "special_tokens_map.json:   0%|          | 0.00/449 [00:00<?, ?B/s]"
            ],
            "application/vnd.jupyter.widget-view+json": {
              "version_major": 2,
              "version_minor": 0,
              "model_id": "d5b4352bb44e4cb2a1fbad6349de6d03"
            }
          },
          "metadata": {}
        },
        {
          "output_type": "stream",
          "name": "stderr",
          "text": [
            "Special tokens have been added in the vocabulary, make sure the associated word embeddings are fine-tuned or trained.\n"
          ]
        },
        {
          "output_type": "display_data",
          "data": {
            "text/plain": [
              "config.json:   0%|          | 0.00/729 [00:00<?, ?B/s]"
            ],
            "application/vnd.jupyter.widget-view+json": {
              "version_major": 2,
              "version_minor": 0,
              "model_id": "016a15456770467da642335d7b9e124a"
            }
          },
          "metadata": {}
        },
        {
          "output_type": "stream",
          "name": "stderr",
          "text": [
            "The `load_in_4bit` and `load_in_8bit` arguments are deprecated and will be removed in the future versions. Please, pass a `BitsAndBytesConfig` object in `quantization_config` argument instead.\n",
            "`low_cpu_mem_usage` was None, now set to True since model is quantized.\n"
          ]
        },
        {
          "output_type": "display_data",
          "data": {
            "text/plain": [
              "pytorch_model.bin.index.json:   0%|          | 0.00/23.9k [00:00<?, ?B/s]"
            ],
            "application/vnd.jupyter.widget-view+json": {
              "version_major": 2,
              "version_minor": 0,
              "model_id": "29d85f78d431452c8eb140d9f5b4758c"
            }
          },
          "metadata": {}
        },
        {
          "output_type": "display_data",
          "data": {
            "text/plain": [
              "Downloading shards:   0%|          | 0/4 [00:00<?, ?it/s]"
            ],
            "application/vnd.jupyter.widget-view+json": {
              "version_major": 2,
              "version_minor": 0,
              "model_id": "cd48c381cb3f4020bfbc6d289e951e67"
            }
          },
          "metadata": {}
        },
        {
          "output_type": "display_data",
          "data": {
            "text/plain": [
              "pytorch_model-00001-of-00004.bin:   0%|          | 0.00/4.98G [00:00<?, ?B/s]"
            ],
            "application/vnd.jupyter.widget-view+json": {
              "version_major": 2,
              "version_minor": 0,
              "model_id": "cdc3aadd9b34403d809c36535ae943ed"
            }
          },
          "metadata": {}
        },
        {
          "output_type": "display_data",
          "data": {
            "text/plain": [
              "pytorch_model-00002-of-00004.bin:   0%|          | 0.00/5.00G [00:00<?, ?B/s]"
            ],
            "application/vnd.jupyter.widget-view+json": {
              "version_major": 2,
              "version_minor": 0,
              "model_id": "92a61165c41d4faa8f7fcbfddeb17204"
            }
          },
          "metadata": {}
        },
        {
          "output_type": "display_data",
          "data": {
            "text/plain": [
              "pytorch_model-00003-of-00004.bin:   0%|          | 0.00/4.92G [00:00<?, ?B/s]"
            ],
            "application/vnd.jupyter.widget-view+json": {
              "version_major": 2,
              "version_minor": 0,
              "model_id": "6269145fc27947428418ec8538e1a857"
            }
          },
          "metadata": {}
        },
        {
          "output_type": "display_data",
          "data": {
            "text/plain": [
              "pytorch_model-00004-of-00004.bin:   0%|          | 0.00/1.17G [00:00<?, ?B/s]"
            ],
            "application/vnd.jupyter.widget-view+json": {
              "version_major": 2,
              "version_minor": 0,
              "model_id": "7c2738f087e74c9e958d7faa00b78322"
            }
          },
          "metadata": {}
        },
        {
          "output_type": "display_data",
          "data": {
            "text/plain": [
              "Loading checkpoint shards:   0%|          | 0/4 [00:00<?, ?it/s]"
            ],
            "application/vnd.jupyter.widget-view+json": {
              "version_major": 2,
              "version_minor": 0,
              "model_id": "1cfeb1f865eb4cacb96b29d5e6e640a5"
            }
          },
          "metadata": {}
        },
        {
          "output_type": "display_data",
          "data": {
            "text/plain": [
              "generation_config.json:   0%|          | 0.00/143 [00:00<?, ?B/s]"
            ],
            "application/vnd.jupyter.widget-view+json": {
              "version_major": 2,
              "version_minor": 0,
              "model_id": "0e52d5a08c524b11b99222597147abb7"
            }
          },
          "metadata": {}
        }
      ]
    },
    {
      "cell_type": "code",
      "source": [
        "import time\n",
        "\n",
        "bleu_scores = []\n",
        "rouge_scores = []\n",
        "exact_matches = 0\n",
        "scorer = rouge_scorer.RougeScorer(['rouge1', 'rouge2', 'rougeL'], use_stemmer=True)\n",
        "initial_start = time.time()\n",
        "Inference_time = 0\n",
        "\n",
        "# Iterate over each row in the category_df\n",
        "for index, row in category_df.iterrows():\n",
        "    print(\"index : \", index)\n",
        "    start = time.time()\n",
        "    inputs = row['text']\n",
        "    expected_query = row['answer']\n",
        "\n",
        "    # Tokenize inputs\n",
        "    inputs = tokenizer(inputs, return_tensors=\"pt\").to(\"cuda\")\n",
        "\n",
        "    # Generate SQL queries for the batch\n",
        "    outputs = model.generate(**inputs, max_new_tokens=64, use_cache=True)\n",
        "    input_length = inputs[\"input_ids\"].shape[1]\n",
        "    response = tokenizer.batch_decode(outputs[:, input_length:], skip_special_tokens=True)\n",
        "    query = response[0]\n",
        "    print(\"Verification\", response[0])\n",
        "\n",
        "    exact_matches += sum(1 for query, expected_query in zip(query, row['answer']) if query == expected_query)\n",
        "\n",
        "    category_df.loc[category_df['answer'] == expected_query, 'generated_query'] = query\n",
        "    category_df.loc[category_df['answer'] == expected_query, 'exact_match'] = exact_matches\n",
        "\n",
        "    bleu = sentence_bleu([expected_query.split()], query.split())\n",
        "    bleu_scores.append(bleu)\n",
        "    rouge = scorer.score(expected_query, query)\n",
        "    rouge_score = (rouge['rouge1'].fmeasure + rouge['rouge2'].fmeasure + rouge['rougeL'].fmeasure) / 3\n",
        "    rouge_scores.append(rouge_score)\n",
        "\n",
        "    category_df.loc[category_df['answer'] == expected_query, 'bleu_score'] = bleu\n",
        "    category_df.loc[category_df['answer'] == expected_query, 'rouge_score'] = rouge_score\n",
        "\n",
        "    Inference_time += time.time() - start\n",
        "\n",
        "    print(\"Inference time =\", Inference_time)\n",
        "#category_df['Bleu Score'] = bleu_scores\n",
        "#category_df['Rouge Score'] = rouge_scores\n",
        "\n",
        "# Save the modified DataFrame back to the Excel file\n",
        "category_df.to_excel(excel_file, index=False)\n",
        "# Print the total number of exact matches for the category\n",
        "#print(f\"Total exact matches for {category_sheet_name}:\", exact_matches)\n",
        "#print(\"Bleu score:\", bleu_scores)\n",
        "#print(\"Rogue_Score\", rouge_scores)\n",
        "print(\"Inference time =\", time.time() - initial_start)"
      ],
      "metadata": {
        "id": "9dNe7AxgwqmK",
        "colab": {
          "base_uri": "https://localhost:8080/"
        },
        "outputId": "e1d599a5-e6f7-4fb7-e0f3-164772f239ab"
      },
      "execution_count": null,
      "outputs": [
        {
          "output_type": "stream",
          "name": "stderr",
          "text": [
            "Setting `pad_token_id` to `eos_token_id`:128001 for open-end generation.\n"
          ]
        },
        {
          "output_type": "stream",
          "name": "stdout",
          "text": [
            "index :  0\n"
          ]
        },
        {
          "output_type": "stream",
          "name": "stderr",
          "text": [
            "/usr/local/lib/python3.10/dist-packages/nltk/translate/bleu_score.py:552: UserWarning: \n",
            "The hypothesis contains 0 counts of 3-gram overlaps.\n",
            "Therefore the BLEU score evaluates to 0, independently of\n",
            "how many N-gram overlaps of lower order it contains.\n",
            "Consider using lower n-gram order or use SmoothingFunction()\n",
            "  warnings.warn(_msg)\n",
            "/usr/local/lib/python3.10/dist-packages/nltk/translate/bleu_score.py:552: UserWarning: \n",
            "The hypothesis contains 0 counts of 4-gram overlaps.\n",
            "Therefore the BLEU score evaluates to 0, independently of\n",
            "how many N-gram overlaps of lower order it contains.\n",
            "Consider using lower n-gram order or use SmoothingFunction()\n",
            "  warnings.warn(_msg)\n",
            "Setting `pad_token_id` to `eos_token_id`:128001 for open-end generation.\n"
          ]
        },
        {
          "output_type": "stream",
          "name": "stdout",
          "text": [
            "Verification SELECT NAME FROM RESTAURANT WHERE CITY_NAME IN (SELECT CITY_NAME FROM GEOGRAPHIC ORDER BY COUNT(CITY_NAME) DESC LIMIT 1) ORDER BY RATING DESC LIMIT 1\n",
            "Inference time = 4.512858629226685\n",
            "index :  1\n"
          ]
        },
        {
          "output_type": "stream",
          "name": "stderr",
          "text": [
            "/usr/local/lib/python3.10/dist-packages/nltk/translate/bleu_score.py:552: UserWarning: \n",
            "The hypothesis contains 0 counts of 2-gram overlaps.\n",
            "Therefore the BLEU score evaluates to 0, independently of\n",
            "how many N-gram overlaps of lower order it contains.\n",
            "Consider using lower n-gram order or use SmoothingFunction()\n",
            "  warnings.warn(_msg)\n",
            "/usr/local/lib/python3.10/dist-packages/nltk/translate/bleu_score.py:552: UserWarning: \n",
            "The hypothesis contains 0 counts of 3-gram overlaps.\n",
            "Therefore the BLEU score evaluates to 0, independently of\n",
            "how many N-gram overlaps of lower order it contains.\n",
            "Consider using lower n-gram order or use SmoothingFunction()\n",
            "  warnings.warn(_msg)\n",
            "/usr/local/lib/python3.10/dist-packages/nltk/translate/bleu_score.py:552: UserWarning: \n",
            "The hypothesis contains 0 counts of 4-gram overlaps.\n",
            "Therefore the BLEU score evaluates to 0, independently of\n",
            "how many N-gram overlaps of lower order it contains.\n",
            "Consider using lower n-gram order or use SmoothingFunction()\n",
            "  warnings.warn(_msg)\n",
            "Setting `pad_token_id` to `eos_token_id`:128001 for open-end generation.\n"
          ]
        },
        {
          "output_type": "stream",
          "name": "stdout",
          "text": [
            "Verification SELECT AVG(RATING) FROM RESTAURANT WHERE CITY_NAME = \"New York\"\n",
            "Inference time = 6.825077772140503\n",
            "index :  2\n"
          ]
        },
        {
          "output_type": "stream",
          "name": "stderr",
          "text": [
            "Setting `pad_token_id` to `eos_token_id`:128001 for open-end generation.\n"
          ]
        },
        {
          "output_type": "stream",
          "name": "stdout",
          "text": [
            "Verification SELECT STREET_NAME FROM LOCATION WHERE RATING = (SELECT MAX(RATING) FROM RESTAURANT)\n",
            "Inference time = 9.413810968399048\n",
            "index :  3\n"
          ]
        },
        {
          "output_type": "stream",
          "name": "stderr",
          "text": [
            "Setting `pad_token_id` to `eos_token_id`:128001 for open-end generation.\n"
          ]
        },
        {
          "output_type": "stream",
          "name": "stdout",
          "text": [
            "Verification SELECT NAME FROM RESTAURANT WHERE REGION = (SELECT REGION FROM GEOGRAPHIC WHERE CITY_NAME = (SELECT CITY_NAME FROM GEOGRAPHIC WHERE REGION = (SELECT REGION FROM GEOGRAPHIC WHERE CITY_NAME = (SELECT CITY_NAME FROM GEOGRAPHIC WHERE REGION = (SELECT REGION FROM GEOGRAPHIC WHERE CITY_NAME\n",
            "Inference time = 16.55178475379944\n",
            "index :  4\n"
          ]
        },
        {
          "output_type": "stream",
          "name": "stderr",
          "text": [
            "Setting `pad_token_id` to `eos_token_id`:128001 for open-end generation.\n"
          ]
        },
        {
          "output_type": "stream",
          "name": "stdout",
          "text": [
            "Verification SELECT HOUSE_NUMBER FROM LOCATION WHERE CITY_NAME = (SELECT CITY_NAME FROM GEOGRAPHIC WHERE COUNT(CITY_NAME) = (SELECT COUNT(CITY_NAME) FROM GEOGRAPHIC ORDER BY COUNT(CITY_NAME) DESC LIMIT 1)) AND RATING = (SELECT RATING FROM RESTAURANT WHERE CITY_NAME =\n",
            "Inference time = 23.010756731033325\n",
            "index :  5\n"
          ]
        },
        {
          "output_type": "stream",
          "name": "stderr",
          "text": [
            "Setting `pad_token_id` to `eos_token_id`:128001 for open-end generation.\n"
          ]
        },
        {
          "output_type": "stream",
          "name": "stdout",
          "text": [
            "Verification SELECT REGION, COUNT(*) FROM GEOGRAPHIC GROUP BY REGION ORDER BY REGION ASC;\n",
            "\n",
            "### Response:\n",
            "CREATE TABLE GEOGRAPHIC ( CITY_NAME text, COUNTY text, REGION text, primary key(CITY_NAME) );CREATE TABLE RESTAURANT ( ID int, NAME text, FOOD_TYPE text, CITY_NAME text,\n",
            "Inference time = 29.68187165260315\n",
            "index :  6\n"
          ]
        },
        {
          "output_type": "stream",
          "name": "stderr",
          "text": [
            "Setting `pad_token_id` to `eos_token_id`:128001 for open-end generation.\n"
          ]
        },
        {
          "output_type": "stream",
          "name": "stdout",
          "text": [
            "Verification SELECT AVG(RATING) FROM RESTAURANT GROUP BY COUNTY\n",
            "Inference time = 31.557156562805176\n",
            "index :  7\n"
          ]
        },
        {
          "output_type": "stream",
          "name": "stderr",
          "text": [
            "Setting `pad_token_id` to `eos_token_id`:128001 for open-end generation.\n"
          ]
        },
        {
          "output_type": "stream",
          "name": "stdout",
          "text": [
            "Verification SELECT RATING FROM RESTAURANT WHERE FOOD_TYPE = \"american\" AND CITY_NAME = \"bay area\" ORDER BY RATING DESC LIMIT 1;\n",
            "\n",
            "### Response:\n",
            "SELECT RATING FROM RESTAURANT WHERE FOOD_TYPE = \"american\" AND CITY_NAME = \"bay area\" ORDER BY RATING DESC LIMIT\n",
            "Inference time = 37.91343688964844\n",
            "index :  8\n"
          ]
        },
        {
          "output_type": "stream",
          "name": "stderr",
          "text": [
            "Setting `pad_token_id` to `eos_token_id`:128001 for open-end generation.\n"
          ]
        },
        {
          "output_type": "stream",
          "name": "stdout",
          "text": [
            "Verification SELECT AVG(RATING) FROM RESTAURANT WHERE FOOD_TYPE = \"Italian\" AND REGION = \"South\"\n",
            "Inference time = 40.91276836395264\n",
            "index :  9\n"
          ]
        },
        {
          "output_type": "stream",
          "name": "stderr",
          "text": [
            "Setting `pad_token_id` to `eos_token_id`:128001 for open-end generation.\n"
          ]
        },
        {
          "output_type": "stream",
          "name": "stdout",
          "text": [
            "Verification SELECT NAME FROM RESTAURANT WHERE FOOD_TYPE = \"Mexican\" AND RATING = 5 AND REGION = \"Middle\"\n",
            "Inference time = 44.01710820198059\n",
            "index :  10\n"
          ]
        },
        {
          "output_type": "stream",
          "name": "stderr",
          "text": [
            "Setting `pad_token_id` to `eos_token_id`:128001 for open-end generation.\n"
          ]
        },
        {
          "output_type": "stream",
          "name": "stdout",
          "text": [
            "Verification SELECT COUNT(DISTINCT `RESTAURANT`.NAME) FROM `RESTAURANT` JOIN `GEOGRAPHIC` ON `RESTAURANT`.CITY_NAME = `GEOGRAPHIC`.CITY_NAME WHERE `GEOGRAPHIC`.REGION = 'east' AND `RESTAUR\n",
            "Inference time = 50.313392639160156\n",
            "index :  11\n"
          ]
        },
        {
          "output_type": "stream",
          "name": "stderr",
          "text": [
            "Setting `pad_token_id` to `eos_token_id`:128001 for open-end generation.\n"
          ]
        },
        {
          "output_type": "stream",
          "name": "stdout",
          "text": [
            "Verification SELECT NAME, CITY_NAME FROM RESTAURANT WHERE RATING = (SELECT MIN(RATING) FROM RESTAURANT WHERE REGION = \"Central\") AND CITY_NAME = \"Central\"\n",
            "Inference time = 54.60372185707092\n",
            "index :  12\n"
          ]
        },
        {
          "output_type": "stream",
          "name": "stderr",
          "text": [
            "Setting `pad_token_id` to `eos_token_id`:128001 for open-end generation.\n"
          ]
        },
        {
          "output_type": "stream",
          "name": "stdout",
          "text": [
            "Verification SELECT FOOD_TYPE, COUNT(FOOD_TYPE) FROM RESTAURANT WHERE REGION = \"WESTERN\" GROUP BY FOOD_TYPE ORDER BY COUNT(FOOD_TYPE) DESC LIMIT 1\n",
            "Inference time = 58.65513324737549\n",
            "index :  13\n"
          ]
        },
        {
          "output_type": "stream",
          "name": "stderr",
          "text": [
            "Setting `pad_token_id` to `eos_token_id`:128001 for open-end generation.\n"
          ]
        },
        {
          "output_type": "stream",
          "name": "stdout",
          "text": [
            "Verification SELECT AVG(RATING) FROM RESTAURANT GROUP BY REGION\n",
            "Inference time = 60.50322222709656\n",
            "index :  14\n"
          ]
        },
        {
          "output_type": "stream",
          "name": "stderr",
          "text": [
            "Setting `pad_token_id` to `eos_token_id`:128001 for open-end generation.\n"
          ]
        },
        {
          "output_type": "stream",
          "name": "stdout",
          "text": [
            "Verification SELECT R.NAME FROM RESTAURANT AS R JOIN GEOGRAPHIC AS G ON R.CITY_NAME = G.CITY_NAME WHERE G.REGION = 'North' AND LENGTH(R.NAME) = (SELECT MAX(LENGTH(R.NAME)) FROM RESTAURANT AS R JOIN GEOGRAPHIC AS G ON R.C\n",
            "Inference time = 67.60570335388184\n",
            "index :  15\n"
          ]
        },
        {
          "output_type": "stream",
          "name": "stderr",
          "text": [
            "Setting `pad_token_id` to `eos_token_id`:128001 for open-end generation.\n"
          ]
        },
        {
          "output_type": "stream",
          "name": "stdout",
          "text": [
            "Verification SELECT NAME FROM RESTAURANT WHERE FOOD_TYPE = (SELECT MAX(FOOD_TYPE) FROM RESTAURANT WHERE REGION = 'SOUTHEAST')\n",
            "Inference time = 71.20922136306763\n",
            "index :  16\n"
          ]
        },
        {
          "output_type": "stream",
          "name": "stderr",
          "text": [
            "Setting `pad_token_id` to `eos_token_id`:128001 for open-end generation.\n"
          ]
        },
        {
          "output_type": "stream",
          "name": "stdout",
          "text": [
            "Verification SELECT NAME FROM RESTAURANT WHERE RATING = (SELECT MAX(RATING) FROM RESTAURANT WHERE FOOD_TYPE = \"Indian\" AND REGION = \"East Central\") AND REGION = \"East Central\"\n",
            "Inference time = 75.86181354522705\n",
            "index :  17\n"
          ]
        },
        {
          "output_type": "stream",
          "name": "stderr",
          "text": [
            "Setting `pad_token_id` to `eos_token_id`:128001 for open-end generation.\n"
          ]
        },
        {
          "output_type": "stream",
          "name": "stdout",
          "text": [
            "Verification SELECT NAME FROM RESTAURANT WHERE FOOD_TYPE = \"american\" AND RATING = (SELECT MAX(RATING) FROM RESTAURANT WHERE CITY_NAME = \"los angeles\")\n",
            "Inference time = 79.91850280761719\n",
            "index :  18\n"
          ]
        },
        {
          "output_type": "stream",
          "name": "stderr",
          "text": [
            "Setting `pad_token_id` to `eos_token_id`:128001 for open-end generation.\n"
          ]
        },
        {
          "output_type": "stream",
          "name": "stdout",
          "text": [
            "Verification SELECT NAME FROM RESTAURANT WHERE CITY_NAME = (SELECT CITY_NAME FROM GEOGRAPHIC WHERE REGION = \"San Francisco\" ORDER BY LENGTH(STREET_NAME) DESC LIMIT 1)\n",
            "Inference time = 83.9657371044159\n",
            "index :  19\n"
          ]
        },
        {
          "output_type": "stream",
          "name": "stderr",
          "text": [
            "Setting `pad_token_id` to `eos_token_id`:128001 for open-end generation.\n"
          ]
        },
        {
          "output_type": "stream",
          "name": "stdout",
          "text": [
            "Verification SELECT AVG(RATING) FROM RESTAURANT WHERE CITY_NAME = (SELECT CITY_NAME FROM GEOGRAPHIC WHERE REGION = \"turkey\") GROUP BY REGION\n",
            "Inference time = 87.60252594947815\n",
            "index :  20\n"
          ]
        },
        {
          "output_type": "stream",
          "name": "stderr",
          "text": [
            "Setting `pad_token_id` to `eos_token_id`:128001 for open-end generation.\n"
          ]
        },
        {
          "output_type": "stream",
          "name": "stdout",
          "text": [
            "Verification SELECT COUNT(CITY_NAME) FROM GEOGRAPHIC GROUP BY CITY_NAME;\n",
            "\n",
            "### Response:\n",
            "SELECT COUNT(CITY_NAME) FROM GEOGRAPHIC GROUP BY CITY_NAME;\n",
            "Inference time = 91.29532670974731\n",
            "index :  21\n"
          ]
        },
        {
          "output_type": "stream",
          "name": "stderr",
          "text": [
            "Setting `pad_token_id` to `eos_token_id`:128001 for open-end generation.\n"
          ]
        },
        {
          "output_type": "stream",
          "name": "stdout",
          "text": [
            "Verification SELECT NAME FROM RESTAURANT WHERE CITY_NAME IN (SELECT CITY_NAME FROM GEOGRAPHIC WHERE REGION = \"Android 12\")\n",
            "Inference time = 94.37939357757568\n",
            "index :  22\n"
          ]
        },
        {
          "output_type": "stream",
          "name": "stderr",
          "text": [
            "Setting `pad_token_id` to `eos_token_id`:128001 for open-end generation.\n"
          ]
        },
        {
          "output_type": "stream",
          "name": "stdout",
          "text": [
            "Verification SELECT NAME FROM RESTAURANT WHERE RATING = (SELECT MAX(RATING) FROM RESTAURANT WHERE CITY_NAME = \"San Diego County\")\n",
            "Inference time = 97.83200407028198\n",
            "index :  23\n"
          ]
        },
        {
          "output_type": "stream",
          "name": "stderr",
          "text": [
            "Setting `pad_token_id` to `eos_token_id`:128001 for open-end generation.\n"
          ]
        },
        {
          "output_type": "stream",
          "name": "stdout",
          "text": [
            "Verification SELECT COUNT(*) FROM `RESTAURANT` WHERE `RATING` = 5 AND `CITY_NAME` = 'New York'\n",
            "Inference time = 101.42618608474731\n",
            "index :  24\n"
          ]
        },
        {
          "output_type": "stream",
          "name": "stderr",
          "text": [
            "Setting `pad_token_id` to `eos_token_id`:128001 for open-end generation.\n"
          ]
        },
        {
          "output_type": "stream",
          "name": "stdout",
          "text": [
            "Verification SELECT NAME FROM RESTAURANT WHERE RATING = (SELECT MIN(RATING) FROM RESTAURANT WHERE CITY_NAME = (SELECT CITY_NAME FROM GEOGRAPHIC WHERE CITY_NAME = 'Macy's') AND DATE = 'October 12, 2022')\n",
            "Inference time = 107.08945298194885\n",
            "index :  25\n"
          ]
        },
        {
          "output_type": "stream",
          "name": "stderr",
          "text": [
            "Setting `pad_token_id` to `eos_token_id`:128001 for open-end generation.\n"
          ]
        },
        {
          "output_type": "stream",
          "name": "stdout",
          "text": [
            "Verification SELECT REGION FROM GEOGRAPHIC WHERE CITY_NAME IN (SELECT CITY_NAME FROM RESTAURANT ORDER BY RATING DESC LIMIT 1)\n",
            "Inference time = 110.26994132995605\n",
            "index :  26\n"
          ]
        },
        {
          "output_type": "stream",
          "name": "stderr",
          "text": [
            "Setting `pad_token_id` to `eos_token_id`:128001 for open-end generation.\n"
          ]
        },
        {
          "output_type": "stream",
          "name": "stdout",
          "text": [
            "Verification SELECT NAME FROM RESTAURANT WHERE RATING > 4 AND CITY_NAME IN (SELECT CITY_NAME FROM GEOGRAPHIC WHERE POPULATION > 5)\n",
            "Inference time = 114.07257843017578\n",
            "index :  27\n"
          ]
        },
        {
          "output_type": "stream",
          "name": "stderr",
          "text": [
            "Setting `pad_token_id` to `eos_token_id`:128001 for open-end generation.\n"
          ]
        },
        {
          "output_type": "stream",
          "name": "stdout",
          "text": [
            "Verification SELECT R.NAME FROM RESTAURANT AS R JOIN GEOGRAPHIC AS G ON R.CITY_NAME = G.CITY_NAME WHERE R.FOOD_TYPE = 'Italian' AND G.CITY_NAME IN (SELECT G.CITY_NAME FROM GEOGRAPHIC AS G WHERE G.CITY_NAME IN (SELECT G.CITY\n",
            "Inference time = 120.60423445701599\n",
            "index :  28\n"
          ]
        },
        {
          "output_type": "stream",
          "name": "stderr",
          "text": [
            "Setting `pad_token_id` to `eos_token_id`:128001 for open-end generation.\n"
          ]
        },
        {
          "output_type": "stream",
          "name": "stdout",
          "text": [
            "Verification SELECT NAME FROM RESTAURANT WHERE CITY_NAME = (SELECT CITY_NAME FROM GEOGRAPHIC WHERE ZIP_CODE = (SELECT ZIP_CODE FROM GEOGRAPHIC WHERE CITY_NAME = 'Empire State Building')) ORDER BY ZIP_CODE ASC LIMIT 1\n",
            "Inference time = 125.96568393707275\n",
            "index :  29\n"
          ]
        },
        {
          "output_type": "stream",
          "name": "stderr",
          "text": [
            "Setting `pad_token_id` to `eos_token_id`:128001 for open-end generation.\n"
          ]
        },
        {
          "output_type": "stream",
          "name": "stdout",
          "text": [
            "Verification SELECT FOOD_TYPE FROM RESTAURANT WHERE CITY_NAME = \"Denver\" ORDER BY COUNT(FOOD_TYPE) DESC LIMIT 1\n",
            "Inference time = 129.05848741531372\n",
            "index :  30\n"
          ]
        },
        {
          "output_type": "stream",
          "name": "stderr",
          "text": [
            "Setting `pad_token_id` to `eos_token_id`:128001 for open-end generation.\n"
          ]
        },
        {
          "output_type": "stream",
          "name": "stdout",
          "text": [
            "Verification SELECT COUNTY FROM GEOGRAPHIC WHERE CITY_NAME IN (SELECT CITY_NAME FROM RESTAURANT WHERE FOOD_TYPE = \"Italian\" AND RATING > 4)\n",
            "Inference time = 132.6873517036438\n",
            "index :  31\n"
          ]
        },
        {
          "output_type": "stream",
          "name": "stderr",
          "text": [
            "Setting `pad_token_id` to `eos_token_id`:128001 for open-end generation.\n"
          ]
        },
        {
          "output_type": "stream",
          "name": "stdout",
          "text": [
            "Verification SELECT CITY_NAME FROM GEOGRAPHIC WHERE CITY_NAME IN (SELECT CITY_NAME FROM RESTAURANT WHERE FOOD_TYPE = \"Thai\" ORDER BY RATING DESC LIMIT 1)\n",
            "Inference time = 136.85384130477905\n",
            "index :  32\n"
          ]
        },
        {
          "output_type": "stream",
          "name": "stderr",
          "text": [
            "Setting `pad_token_id` to `eos_token_id`:128001 for open-end generation.\n"
          ]
        },
        {
          "output_type": "stream",
          "name": "stdout",
          "text": [
            "Verification SELECT CITY_NAME FROM GEOGRAPHIC WHERE CITY_NAME IN (SELECT CITY_NAME FROM GEOGRAPHIC ORDER BY COUNT(CITY_NAME) DESC LIMIT 1)\n",
            "Inference time = 140.31186747550964\n",
            "index :  33\n"
          ]
        },
        {
          "output_type": "stream",
          "name": "stderr",
          "text": [
            "Setting `pad_token_id` to `eos_token_id`:128001 for open-end generation.\n"
          ]
        },
        {
          "output_type": "stream",
          "name": "stdout",
          "text": [
            "Verification SELECT FOOD_TYPE, COUNT(FOOD_TYPE) FROM RESTAURANT WHERE REGION = \"Northeast\" GROUP BY FOOD_TYPE ORDER BY COUNT(FOOD_TYPE) DESC LIMIT 1\n",
            "Inference time = 144.38234734535217\n",
            "index :  34\n"
          ]
        },
        {
          "output_type": "stream",
          "name": "stderr",
          "text": [
            "Setting `pad_token_id` to `eos_token_id`:128001 for open-end generation.\n"
          ]
        },
        {
          "output_type": "stream",
          "name": "stdout",
          "text": [
            "Verification SELECT NAME FROM RESTAURANT WHERE FOOD_TYPE = \"Mediterranean\" AND REGION = \"Southeast\"\n",
            "Inference time = 147.2797336578369\n",
            "index :  35\n"
          ]
        },
        {
          "output_type": "stream",
          "name": "stderr",
          "text": [
            "Setting `pad_token_id` to `eos_token_id`:128001 for open-end generation.\n"
          ]
        },
        {
          "output_type": "stream",
          "name": "stdout",
          "text": [
            "Verification SELECT AVG(RATING) FROM RESTAURANT WHERE FOOD_TYPE = \"Chinese\" GROUP BY REGION\n",
            "Inference time = 149.95767331123352\n",
            "index :  36\n"
          ]
        },
        {
          "output_type": "stream",
          "name": "stderr",
          "text": [
            "Setting `pad_token_id` to `eos_token_id`:128001 for open-end generation.\n"
          ]
        },
        {
          "output_type": "stream",
          "name": "stdout",
          "text": [
            "Verification SELECT NAME FROM RESTAURANT WHERE FOOD_TYPE = \"Italian\" AND REGION = \"West\"\n",
            "Inference time = 152.43006443977356\n",
            "index :  37\n"
          ]
        },
        {
          "output_type": "stream",
          "name": "stderr",
          "text": [
            "Setting `pad_token_id` to `eos_token_id`:128001 for open-end generation.\n"
          ]
        },
        {
          "output_type": "stream",
          "name": "stdout",
          "text": [
            "Verification SELECT NAME FROM RESTAURANT WHERE REGION = \"North East\" AND FOOD_TYPE = \"Indian\"\n",
            "Inference time = 154.98632717132568\n",
            "index :  38\n"
          ]
        },
        {
          "output_type": "stream",
          "name": "stderr",
          "text": [
            "Setting `pad_token_id` to `eos_token_id`:128001 for open-end generation.\n"
          ]
        },
        {
          "output_type": "stream",
          "name": "stdout",
          "text": [
            "Verification SELECT ID, NAME FROM RESTAURANT WHERE RATING = 5 AND REGION = \"North\"\n",
            "Inference time = 157.54644131660461\n",
            "index :  39\n"
          ]
        },
        {
          "output_type": "stream",
          "name": "stderr",
          "text": [
            "Setting `pad_token_id` to `eos_token_id`:128001 for open-end generation.\n"
          ]
        },
        {
          "output_type": "stream",
          "name": "stdout",
          "text": [
            "Verification SELECT HOUSE_NUMBER FROM LOCATION WHERE FOOD_TYPE = \"Mexican\" AND REGION = \"East\"\n",
            "Inference time = 160.0395588874817\n",
            "index :  40\n"
          ]
        },
        {
          "output_type": "stream",
          "name": "stderr",
          "text": [
            "Setting `pad_token_id` to `eos_token_id`:128001 for open-end generation.\n"
          ]
        },
        {
          "output_type": "stream",
          "name": "stdout",
          "text": [
            "Verification SELECT COUNT(*) FROM `RESTAURANT` WHERE `FOOD_TYPE` = \"Thai\" AND `REGION` = \"West\"\n",
            "Inference time = 163.27457404136658\n",
            "index :  41\n"
          ]
        },
        {
          "output_type": "stream",
          "name": "stderr",
          "text": [
            "Setting `pad_token_id` to `eos_token_id`:128001 for open-end generation.\n"
          ]
        },
        {
          "output_type": "stream",
          "name": "stdout",
          "text": [
            "Verification SELECT MIN(RATING) FROM RESTAURANT WHERE FOOD_TYPE = \"Indian\" AND REGION = \"North West\"\n",
            "Inference time = 166.0898973941803\n",
            "index :  42\n"
          ]
        },
        {
          "output_type": "stream",
          "name": "stderr",
          "text": [
            "Setting `pad_token_id` to `eos_token_id`:128001 for open-end generation.\n"
          ]
        },
        {
          "output_type": "stream",
          "name": "stdout",
          "text": [
            "Verification SELECT ID, NAME FROM RESTAURANT WHERE RATING = 4 AND REGION = \"South East\"\n",
            "Inference time = 168.73909068107605\n",
            "index :  43\n"
          ]
        },
        {
          "output_type": "stream",
          "name": "stderr",
          "text": [
            "Setting `pad_token_id` to `eos_token_id`:128001 for open-end generation.\n"
          ]
        },
        {
          "output_type": "stream",
          "name": "stdout",
          "text": [
            "Verification SELECT NAME FROM RESTAURANT WHERE FOOD_TYPE = \"Chinese\" AND RATING = 3.5 AND REGION = \"South\"\n",
            "Inference time = 172.048659324646\n",
            "index :  44\n"
          ]
        },
        {
          "output_type": "stream",
          "name": "stderr",
          "text": [
            "Setting `pad_token_id` to `eos_token_id`:128001 for open-end generation.\n"
          ]
        },
        {
          "output_type": "stream",
          "name": "stdout",
          "text": [
            "Verification SELECT AVG(RATING) FROM RESTAURANT WHERE FOOD_TYPE = \"Italian\" AND REGION = \"North West\"\n",
            "Inference time = 174.94520497322083\n",
            "index :  45\n"
          ]
        },
        {
          "output_type": "stream",
          "name": "stderr",
          "text": [
            "Setting `pad_token_id` to `eos_token_id`:128001 for open-end generation.\n"
          ]
        },
        {
          "output_type": "stream",
          "name": "stdout",
          "text": [
            "Verification SELECT HOUSE_NUMBER FROM LOCATION WHERE FOOD_TYPE = \"japanese\" AND RATING = (SELECT MAX(RATING) FROM RESTAURANT WHERE FOOD_TYPE = \"japanese\" AND REGION = \"north\" )\n",
            "Inference time = 179.44585967063904\n",
            "index :  46\n"
          ]
        },
        {
          "output_type": "stream",
          "name": "stderr",
          "text": [
            "Setting `pad_token_id` to `eos_token_id`:128001 for open-end generation.\n"
          ]
        },
        {
          "output_type": "stream",
          "name": "stdout",
          "text": [
            "Verification SELECT NAME FROM RESTAURANT WHERE CITY_NAME = \"San Francisco\"\n",
            "Inference time = 181.47050285339355\n",
            "index :  47\n"
          ]
        },
        {
          "output_type": "stream",
          "name": "stderr",
          "text": [
            "Setting `pad_token_id` to `eos_token_id`:128001 for open-end generation.\n"
          ]
        },
        {
          "output_type": "stream",
          "name": "stdout",
          "text": [
            "Verification SELECT NAME FROM RESTAURANT WHERE FOOD_TYPE = \"American\" AND RATING = (SELECT MAX(RATING) FROM RESTAURANT WHERE COUNTY = \"California\")\n",
            "Inference time = 185.57245898246765\n",
            "index :  48\n"
          ]
        },
        {
          "output_type": "stream",
          "name": "stderr",
          "text": [
            "Setting `pad_token_id` to `eos_token_id`:128001 for open-end generation.\n"
          ]
        },
        {
          "output_type": "stream",
          "name": "stdout",
          "text": [
            "Verification SELECT AVG(RATING) FROM RESTAURANT WHERE REGION = \"Southern California\"\n",
            "Inference time = 187.77731370925903\n",
            "index :  49\n"
          ]
        },
        {
          "output_type": "stream",
          "name": "stderr",
          "text": [
            "Setting `pad_token_id` to `eos_token_id`:128001 for open-end generation.\n"
          ]
        },
        {
          "output_type": "stream",
          "name": "stdout",
          "text": [
            "Verification SELECT MIN(RATING) FROM RESTAURANT WHERE FOOD_TYPE = \"Non-American\" AND CITY_NAME = \"Bay Area\"\n",
            "Inference time = 190.77912998199463\n",
            "index :  50\n"
          ]
        },
        {
          "output_type": "stream",
          "name": "stderr",
          "text": [
            "Setting `pad_token_id` to `eos_token_id`:128001 for open-end generation.\n"
          ]
        },
        {
          "output_type": "stream",
          "name": "stdout",
          "text": [
            "Verification SELECT MIN(RATING), MAX(RATING) FROM RESTAURANT WHERE CITY_NAME = \"Seattle\"\n",
            "Inference time = 193.33630323410034\n",
            "index :  51\n"
          ]
        },
        {
          "output_type": "stream",
          "name": "stderr",
          "text": [
            "Setting `pad_token_id` to `eos_token_id`:128001 for open-end generation.\n"
          ]
        },
        {
          "output_type": "stream",
          "name": "stdout",
          "text": [
            "Verification SELECT CITY_NAME FROM GEOGRAPHIC WHERE COUNTY = \"Denver\" AND RATING > 4.5 AND FOOD_TYPE = \"Italian\"\n",
            "Inference time = 196.73357152938843\n",
            "index :  52\n"
          ]
        },
        {
          "output_type": "stream",
          "name": "stderr",
          "text": [
            "Setting `pad_token_id` to `eos_token_id`:128001 for open-end generation.\n"
          ]
        },
        {
          "output_type": "stream",
          "name": "stdout",
          "text": [
            "Verification SELECT COUNT(*) FROM `RESTAURANT` WHERE `FOOD_TYPE` = \"Mexican\" AND `REGION` = \"Northeast\"\n",
            "Inference time = 200.1041431427002\n",
            "index :  53\n"
          ]
        },
        {
          "output_type": "stream",
          "name": "stderr",
          "text": [
            "Setting `pad_token_id` to `eos_token_id`:128001 for open-end generation.\n"
          ]
        },
        {
          "output_type": "stream",
          "name": "stdout",
          "text": [
            "Verification SELECT NAME FROM RESTAURANT WHERE FOOD_TYPE = \"Italian\" AND RATING = (SELECT MAX(RATING) FROM RESTAURANT WHERE REGION = \"Northeast\")\n",
            "Inference time = 204.01012897491455\n",
            "index :  54\n"
          ]
        },
        {
          "output_type": "stream",
          "name": "stderr",
          "text": [
            "Setting `pad_token_id` to `eos_token_id`:128001 for open-end generation.\n"
          ]
        },
        {
          "output_type": "stream",
          "name": "stdout",
          "text": [
            "Verification SELECT NAME FROM RESTAURANT WHERE FOOD_TYPE = 'Chinese' AND CITY_NAME = 'Bay Area' AND FOOD_TYPE = 'American'\n",
            "Inference time = 207.31697058677673\n",
            "index :  55\n"
          ]
        },
        {
          "output_type": "stream",
          "name": "stderr",
          "text": [
            "Setting `pad_token_id` to `eos_token_id`:128001 for open-end generation.\n"
          ]
        },
        {
          "output_type": "stream",
          "name": "stdout",
          "text": [
            "Verification SELECT NAME, RATING FROM RESTAURANT WHERE REGION = \"SOUTHERN CALIFORNIA\" ORDER BY RATING DESC LIMIT 1;\n",
            "\n",
            "### Response:\n",
            "SELECT NAME, RATING FROM RESTAURANT WHERE REGION = \"SOUTHERN CALIFORNIA\" ORDER BY RATING DESC LIMIT\n",
            "Inference time = 213.86219191551208\n",
            "index :  56\n"
          ]
        },
        {
          "output_type": "stream",
          "name": "stderr",
          "text": [
            "Setting `pad_token_id` to `eos_token_id`:128001 for open-end generation.\n"
          ]
        },
        {
          "output_type": "stream",
          "name": "stdout",
          "text": [
            "Verification SELECT NAME FROM RESTAURANT WHERE FOOD_TYPE = \"Italian\" AND REGION = \"Northeast\"\n",
            "Inference time = 216.4125235080719\n",
            "index :  57\n"
          ]
        },
        {
          "output_type": "stream",
          "name": "stderr",
          "text": [
            "Setting `pad_token_id` to `eos_token_id`:128001 for open-end generation.\n"
          ]
        },
        {
          "output_type": "stream",
          "name": "stdout",
          "text": [
            "Verification SELECT FOOD_TYPE FROM RESTAURANT WHERE REGION = \"SOUTHERN\" ORDER BY COUNT(FOOD_TYPE) DESC LIMIT 1;\n",
            "\n",
            "### Response:\n",
            "SELECT FOOD_TYPE FROM RESTAURANT WHERE REGION = \"SOUTHERN\" ORDER BY COUNT(FOOD_TYPE) DESC LIMIT 1;\n",
            "Inference time = 223.02066445350647\n",
            "index :  58\n"
          ]
        },
        {
          "output_type": "stream",
          "name": "stderr",
          "text": [
            "Setting `pad_token_id` to `eos_token_id`:128001 for open-end generation.\n"
          ]
        },
        {
          "output_type": "stream",
          "name": "stdout",
          "text": [
            "Verification SELECT NAME FROM RESTAURANT WHERE RATING > 4.5 AND REGION = \"SOUTHERN\"\n",
            "Inference time = 225.8553924560547\n",
            "index :  59\n"
          ]
        },
        {
          "output_type": "stream",
          "name": "stderr",
          "text": [
            "Setting `pad_token_id` to `eos_token_id`:128001 for open-end generation.\n"
          ]
        },
        {
          "output_type": "stream",
          "name": "stdout",
          "text": [
            "Verification SELECT NAME FROM RESTAURANT WHERE RATING = (SELECT MIN(RATING) FROM RESTAURANT WHERE REGION = 'NORTHERN')\n",
            "Inference time = 229.29181218147278\n",
            "index :  60\n"
          ]
        },
        {
          "output_type": "stream",
          "name": "stderr",
          "text": [
            "Setting `pad_token_id` to `eos_token_id`:128001 for open-end generation.\n"
          ]
        },
        {
          "output_type": "stream",
          "name": "stdout",
          "text": [
            "Verification SELECT HOUSE_NUMBER FROM LOCATION WHERE FOOD_TYPE = \"Mexicana\" AND REGION = \"Northeast\"\n",
            "Inference time = 231.84088921546936\n",
            "index :  61\n"
          ]
        },
        {
          "output_type": "stream",
          "name": "stderr",
          "text": [
            "Setting `pad_token_id` to `eos_token_id`:128001 for open-end generation.\n"
          ]
        },
        {
          "output_type": "stream",
          "name": "stdout",
          "text": [
            "Verification SELECT AVG(RATING) FROM RESTAURANT WHERE REGION = \"southwest\"\n",
            "Inference time = 234.2286388874054\n",
            "index :  62\n"
          ]
        },
        {
          "output_type": "stream",
          "name": "stderr",
          "text": [
            "Setting `pad_token_id` to `eos_token_id`:128001 for open-end generation.\n"
          ]
        },
        {
          "output_type": "stream",
          "name": "stdout",
          "text": [
            "Verification SELECT NAME FROM RESTAURANT WHERE CITY_NAME IN (SELECT CITY_NAME FROM GEOGRAPHIC ORDER BY COUNT(CITY_NAME) DESC LIMIT 1)\n",
            "Inference time = 237.65802550315857\n",
            "index :  63\n"
          ]
        },
        {
          "output_type": "stream",
          "name": "stderr",
          "text": [
            "Setting `pad_token_id` to `eos_token_id`:128001 for open-end generation.\n"
          ]
        },
        {
          "output_type": "stream",
          "name": "stdout",
          "text": [
            "Verification SELECT CITY_NAME FROM GEOGRAPHIC WHERE RATING = 5 ORDER BY COUNT(CITY_NAME) DESC LIMIT 1;\n",
            "\n",
            "### Response:\n",
            "SELECT CITY_NAME FROM GEOGRAPHIC WHERE RATING = 5 ORDER BY COUNT(CITY_NAME) DESC LIMIT 1;\n",
            "Inference time = 243.0539038181305\n",
            "index :  64\n"
          ]
        },
        {
          "output_type": "stream",
          "name": "stderr",
          "text": [
            "Setting `pad_token_id` to `eos_token_id`:128001 for open-end generation.\n"
          ]
        },
        {
          "output_type": "stream",
          "name": "stdout",
          "text": [
            "Verification SELECT COUNT(RESTAURANT.NAME) FROM RESTAURANT WHERE RESTAURANT.FOOD_TYPE = \"western\" GROUP BY RESTAURANT.NAME ORDER BY COUNT(RESTAURANT.NAME) DESC LIMIT 1;\n",
            "\n",
            "### Response:\n",
            "SELECT COUNT(RESTAURANT.NAME) FROM RESTAUR\n",
            "Inference time = 249.5979883670807\n",
            "index :  65\n"
          ]
        },
        {
          "output_type": "stream",
          "name": "stderr",
          "text": [
            "Setting `pad_token_id` to `eos_token_id`:128001 for open-end generation.\n"
          ]
        },
        {
          "output_type": "stream",
          "name": "stdout",
          "text": [
            "Verification SELECT NAME FROM RESTAURANT WHERE RATING = 4 AND FOOD_TYPE = \"THAI\" AND REGION = \"WEST COAST\"\n",
            "Inference time = 252.86985278129578\n",
            "index :  66\n"
          ]
        },
        {
          "output_type": "stream",
          "name": "stderr",
          "text": [
            "Setting `pad_token_id` to `eos_token_id`:128001 for open-end generation.\n"
          ]
        },
        {
          "output_type": "stream",
          "name": "stdout",
          "text": [
            "Verification SELECT AVG(RATING) FROM RESTAURANT WHERE CITY_NAME = \"Jamaican\" AND REGION = \"NYC\"\n",
            "Inference time = 255.92807483673096\n",
            "index :  67\n"
          ]
        },
        {
          "output_type": "stream",
          "name": "stderr",
          "text": [
            "Setting `pad_token_id` to `eos_token_id`:128001 for open-end generation.\n"
          ]
        },
        {
          "output_type": "stream",
          "name": "stdout",
          "text": [
            "Verification SELECT CITY_NAME FROM GEOGRAPHIC WHERE COUNT(*) > (SELECT COUNT(*) FROM RESTAURANT WHERE FOOD_TYPE = \"Italian\" AND REGION = \"West\") ORDER BY COUNT(*) DESC LIMIT 1\n",
            "Inference time = 260.43308329582214\n",
            "index :  68\n"
          ]
        },
        {
          "output_type": "stream",
          "name": "stderr",
          "text": [
            "Setting `pad_token_id` to `eos_token_id`:128001 for open-end generation.\n"
          ]
        },
        {
          "output_type": "stream",
          "name": "stdout",
          "text": [
            "Verification SELECT R.NAME FROM RESTAURANT AS R JOIN GEOGRAPHIC AS G ON R.CITY_NAME = G.CITY_NAME WHERE G.CITY_NAME IN (SELECT CITY_NAME FROM GEOGRAPHIC WHERE POPULATION > 100000) AND R.FOOD_TYPE = 'CHINESE'\n",
            "Inference time = 266.35877776145935\n",
            "index :  69\n"
          ]
        },
        {
          "output_type": "stream",
          "name": "stderr",
          "text": [
            "Setting `pad_token_id` to `eos_token_id`:128001 for open-end generation.\n"
          ]
        },
        {
          "output_type": "stream",
          "name": "stdout",
          "text": [
            "Verification SELECT HOUSE_NUMBER, NAME FROM RESTAURANT WHERE FOOD_TYPE = \"Mexican\" AND RATING = 5 AND REGION = \"North East\"\n",
            "Inference time = 270.080424785614\n",
            "index :  70\n"
          ]
        },
        {
          "output_type": "stream",
          "name": "stderr",
          "text": [
            "Setting `pad_token_id` to `eos_token_id`:128001 for open-end generation.\n"
          ]
        },
        {
          "output_type": "stream",
          "name": "stdout",
          "text": [
            "Verification SELECT NAME FROM RESTAURANT WHERE RATING = (SELECT MAX(RATING) FROM RESTAURANT WHERE CITY_NAME = (SELECT CITY_NAME FROM GEOGRAPHIC WHERE REGION = 'Central')) AND FOOD_TYPE = 'Indian'\n",
            "Inference time = 274.94804883003235\n",
            "index :  71\n"
          ]
        },
        {
          "output_type": "stream",
          "name": "stderr",
          "text": [
            "Setting `pad_token_id` to `eos_token_id`:128001 for open-end generation.\n"
          ]
        },
        {
          "output_type": "stream",
          "name": "stdout",
          "text": [
            "Verification SELECT MIN(CITY_NAME) FROM `GEOGRAPHIC` WHERE REGION = \"east\" AND CITY_NAME = (SELECT CITY_NAME FROM `RESTAURANT` WHERE RATING = (SELECT MAX(RATING) FROM `RESTAURANT` WHERE CITY_NAME = (SELECT CITY_NAME FROM `GEOGRAPH\n",
            "Inference time = 281.4893651008606\n",
            "index :  72\n"
          ]
        },
        {
          "output_type": "stream",
          "name": "stderr",
          "text": [
            "Setting `pad_token_id` to `eos_token_id`:128001 for open-end generation.\n"
          ]
        },
        {
          "output_type": "stream",
          "name": "stdout",
          "text": [
            "Verification SELECT HOUSE_NUMBER, STREET_NAME FROM LOCATION WHERE RATING = 3 AND FOOD_TYPE = \"Italian\" AND CITY_NAME = \"West\"\n",
            "Inference time = 284.6808931827545\n",
            "index :  73\n"
          ]
        },
        {
          "output_type": "stream",
          "name": "stderr",
          "text": [
            "Setting `pad_token_id` to `eos_token_id`:128001 for open-end generation.\n"
          ]
        },
        {
          "output_type": "stream",
          "name": "stdout",
          "text": [
            "Verification SELECT COUNT(*) FROM `RESTAURANT` WHERE `FOOD_TYPE` = \"South American\" AND `REGION` = \"Midwest\"\n",
            "Inference time = 288.02081084251404\n",
            "index :  74\n"
          ]
        },
        {
          "output_type": "stream",
          "name": "stderr",
          "text": [
            "Setting `pad_token_id` to `eos_token_id`:128001 for open-end generation.\n"
          ]
        },
        {
          "output_type": "stream",
          "name": "stdout",
          "text": [
            "Verification SELECT COUNT(*) FROM `RESTAURANT` WHERE `FOOD_TYPE` = \"French\" AND `CITY_NAME` = \"New York City\"\n",
            "Inference time = 292.60584902763367\n",
            "index :  75\n"
          ]
        },
        {
          "output_type": "stream",
          "name": "stderr",
          "text": [
            "Setting `pad_token_id` to `eos_token_id`:128001 for open-end generation.\n"
          ]
        },
        {
          "output_type": "stream",
          "name": "stdout",
          "text": [
            "Verification SELECT ID FROM RESTAURANT WHERE HOUSE_NUMBER < 100 OR HOUSE_NUMBER > 999\n",
            "Inference time = 295.58097553253174\n",
            "index :  76\n"
          ]
        },
        {
          "output_type": "stream",
          "name": "stderr",
          "text": [
            "Setting `pad_token_id` to `eos_token_id`:128001 for open-end generation.\n"
          ]
        },
        {
          "output_type": "stream",
          "name": "stdout",
          "text": [
            "Verification SELECT NAME FROM RESTAURANT WHERE CITY_NAME = \"Denver\" AND RATING = (SELECT MAX(RATING) FROM RESTAURANT WHERE CITY_NAME = \"Denver\") AND FOOD_TYPE = \"French\"\n",
            "Inference time = 300.08162355422974\n",
            "index :  77\n"
          ]
        },
        {
          "output_type": "stream",
          "name": "stderr",
          "text": [
            "Setting `pad_token_id` to `eos_token_id`:128001 for open-end generation.\n"
          ]
        },
        {
          "output_type": "stream",
          "name": "stdout",
          "text": [
            "Verification SELECT AVG(RATING) FROM RESTAURANT WHERE FOOD_TYPE = \"Italian\" GROUP BY REGION\n",
            "Inference time = 302.5344820022583\n",
            "index :  78\n"
          ]
        },
        {
          "output_type": "stream",
          "name": "stderr",
          "text": [
            "Setting `pad_token_id` to `eos_token_id`:128001 for open-end generation.\n"
          ]
        },
        {
          "output_type": "stream",
          "name": "stdout",
          "text": [
            "Verification SELECT NAME FROM RESTAURANT WHERE FOOD_TYPE = \"seafood\" AND CITY_NAME IN (SELECT CITY_NAME FROM GEOGRAPHIC WHERE REGION = \"north east\" )\n",
            "Inference time = 306.56787633895874\n",
            "index :  79\n"
          ]
        },
        {
          "output_type": "stream",
          "name": "stderr",
          "text": [
            "Setting `pad_token_id` to `eos_token_id`:128001 for open-end generation.\n"
          ]
        },
        {
          "output_type": "stream",
          "name": "stdout",
          "text": [
            "Verification SELECT CITY_NAME FROM GEOGRAPHIC WHERE REGION = \"midwest\" ORDER BY RATING DESC LIMIT 1;\n",
            "\n",
            "### Response:\n",
            "SELECT CITY_NAME FROM GEOGRAPHIC WHERE REGION = \"midwest\" ORDER BY RATING DESC LIMIT 1;\n",
            "Inference time = 311.971919298172\n",
            "index :  80\n"
          ]
        },
        {
          "output_type": "stream",
          "name": "stderr",
          "text": [
            "Setting `pad_token_id` to `eos_token_id`:128001 for open-end generation.\n"
          ]
        },
        {
          "output_type": "stream",
          "name": "stdout",
          "text": [
            "Verification SELECT STREET_NAME FROM LOCATION WHERE CITY_NAME IN (SELECT CITY_NAME FROM GEOGRAPHIC WHERE REGION = 'South East' AND FOOD_TYPE = 'Indian') ORDER BY RATING DESC LIMIT 1\n",
            "Inference time = 316.1376166343689\n",
            "index :  81\n"
          ]
        },
        {
          "output_type": "stream",
          "name": "stderr",
          "text": [
            "Setting `pad_token_id` to `eos_token_id`:128001 for open-end generation.\n"
          ]
        },
        {
          "output_type": "stream",
          "name": "stdout",
          "text": [
            "Verification SELECT NAME FROM RESTAURANT WHERE FOOD_TYPE = \"seafood\" AND RATING > (SELECT AVG(RATING) FROM RESTAURANT WHERE CITY_NAME = \"seattle\") ORDER BY RATING DESC LIMIT 5\n",
            "Inference time = 321.2313017845154\n",
            "index :  82\n"
          ]
        },
        {
          "output_type": "stream",
          "name": "stderr",
          "text": [
            "Setting `pad_token_id` to `eos_token_id`:128001 for open-end generation.\n"
          ]
        },
        {
          "output_type": "stream",
          "name": "stdout",
          "text": [
            "Verification SELECT FOOD_TYPE, COUNT(RESTAURANT.ID) FROM RESTAURANT JOIN GEOGRAPHIC ON RESTAURANT.CITY_NAME = GEOGRAPHIC.CITY_NAME WHERE GEOGRAPHIC.REGION = 'NORTHEAST' GROUP BY FOOD_TYPE ORDER BY COUNT(RESTAURANT.ID) DESC\n",
            "Inference time = 327.5307593345642\n",
            "index :  83\n"
          ]
        },
        {
          "output_type": "stream",
          "name": "stderr",
          "text": [
            "Setting `pad_token_id` to `eos_token_id`:128001 for open-end generation.\n"
          ]
        },
        {
          "output_type": "stream",
          "name": "stdout",
          "text": [
            "Verification SELECT AVG(RATING) FROM RESTAURANT WHERE CITY_NAME = \"Los Angeles\"\n",
            "Inference time = 329.91848373413086\n",
            "index :  84\n"
          ]
        },
        {
          "output_type": "stream",
          "name": "stderr",
          "text": [
            "Setting `pad_token_id` to `eos_token_id`:128001 for open-end generation.\n"
          ]
        },
        {
          "output_type": "stream",
          "name": "stdout",
          "text": [
            "Verification SELECT CITY_NAME FROM GEOGRAPHIC WHERE RATING = (SELECT MAX(RATING) FROM RESTAURANT WHERE REGION = 'west' AND FOOD_TYPE ='steakhouse' )\n",
            "Inference time = 334.11651372909546\n",
            "index :  85\n"
          ]
        },
        {
          "output_type": "stream",
          "name": "stderr",
          "text": [
            "Setting `pad_token_id` to `eos_token_id`:128001 for open-end generation.\n"
          ]
        },
        {
          "output_type": "stream",
          "name": "stdout",
          "text": [
            "Verification SELECT RATING, CITY_NAME FROM RESTAURANT WHERE FOOD_TYPE = \"american\" AND REGION = \"midwest\" ORDER BY RATING DESC LIMIT 5\n",
            "Inference time = 337.73061323165894\n",
            "index :  86\n"
          ]
        },
        {
          "output_type": "stream",
          "name": "stderr",
          "text": [
            "Setting `pad_token_id` to `eos_token_id`:128001 for open-end generation.\n"
          ]
        },
        {
          "output_type": "stream",
          "name": "stdout",
          "text": [
            "Verification SELECT NAME FROM RESTAURANT WHERE FOOD_TYPE = 'indian' AND CITY_NAME = 'los angeles'\n",
            "Inference time = 340.55586767196655\n",
            "index :  87\n"
          ]
        },
        {
          "output_type": "stream",
          "name": "stderr",
          "text": [
            "Setting `pad_token_id` to `eos_token_id`:128001 for open-end generation.\n"
          ]
        },
        {
          "output_type": "stream",
          "name": "stdout",
          "text": [
            "Verification SELECT NAME FROM RESTAURANT WHERE RATING > 3 AND CITY_NAME = \"San Diego\"\n",
            "Inference time = 343.4360957145691\n",
            "index :  88\n"
          ]
        },
        {
          "output_type": "stream",
          "name": "stderr",
          "text": [
            "Setting `pad_token_id` to `eos_token_id`:128001 for open-end generation.\n"
          ]
        },
        {
          "output_type": "stream",
          "name": "stdout",
          "text": [
            "Verification SELECT CITY_NAME FROM GEOGRAPHIC WHERE CITY_NAME IN (SELECT CITY_NAME FROM RESTAURANT WHERE FOOD_TYPE = \"Japanese\" AND RATING > 3.5) GROUP BY CITY_NAME HAVING COUNT(CITY_NAME) > 2\n",
            "Inference time = 348.58814668655396\n",
            "index :  89\n"
          ]
        },
        {
          "output_type": "stream",
          "name": "stderr",
          "text": [
            "Setting `pad_token_id` to `eos_token_id`:128001 for open-end generation.\n"
          ]
        },
        {
          "output_type": "stream",
          "name": "stdout",
          "text": [
            "Verification SELECT REGION, FOOD_TYPE, COUNT(FOOD_TYPE) FROM `RESTAURANT` GROUP BY REGION, FOOD_TYPE ORDER BY COUNT(FOOD_TYPE) DESC LIMIT 5\n",
            "Inference time = 352.56038784980774\n",
            "index :  90\n"
          ]
        },
        {
          "output_type": "stream",
          "name": "stderr",
          "text": [
            "Setting `pad_token_id` to `eos_token_id`:128001 for open-end generation.\n"
          ]
        },
        {
          "output_type": "stream",
          "name": "stdout",
          "text": [
            "Verification SELECT HOUSE_NUMBER FROM LOCATION WHERE FOOD_TYPE = \"Italian\" AND CITY_NAME = \"Santa Clara\"\n",
            "Inference time = 355.3492856025696\n",
            "index :  91\n"
          ]
        },
        {
          "output_type": "stream",
          "name": "stderr",
          "text": [
            "Setting `pad_token_id` to `eos_token_id`:128001 for open-end generation.\n"
          ]
        },
        {
          "output_type": "stream",
          "name": "stdout",
          "text": [
            "Verification SELECT NAME FROM RESTAURANT WHERE FOOD_TYPE = \"American\" AND RATING > 3.8 AND CITY_NAME = \"San Francisco\"\n",
            "Inference time = 358.7027373313904\n",
            "index :  92\n"
          ]
        },
        {
          "output_type": "stream",
          "name": "stderr",
          "text": [
            "Setting `pad_token_id` to `eos_token_id`:128001 for open-end generation.\n"
          ]
        },
        {
          "output_type": "stream",
          "name": "stdout",
          "text": [
            "Verification SELECT AVG(RATING) FROM RESTAURANT WHERE FOOD_TYPE = \"Mexican\" GROUP BY REGION\n",
            "Inference time = 361.2631859779358\n",
            "index :  93\n"
          ]
        },
        {
          "output_type": "stream",
          "name": "stderr",
          "text": [
            "Setting `pad_token_id` to `eos_token_id`:128001 for open-end generation.\n"
          ]
        },
        {
          "output_type": "stream",
          "name": "stdout",
          "text": [
            "Verification SELECT COUNT(*) FROM `RESTAURANT` WHERE `FOOD_TYPE` = \"Chinese\" AND `GEOGRAPHIC`.`REGION` = \"Bay Area\"\n",
            "Inference time = 364.9882664680481\n",
            "index :  94\n"
          ]
        },
        {
          "output_type": "stream",
          "name": "stderr",
          "text": [
            "Setting `pad_token_id` to `eos_token_id`:128001 for open-end generation.\n"
          ]
        },
        {
          "output_type": "stream",
          "name": "stdout",
          "text": [
            "Verification SELECT NAME, HOUSE_NUMBER FROM LOCATION WHERE CITY_NAME = \"Los Angeles\"\n",
            "Inference time = 367.2194378376007\n",
            "index :  95\n"
          ]
        },
        {
          "output_type": "stream",
          "name": "stderr",
          "text": [
            "Setting `pad_token_id` to `eos_token_id`:128001 for open-end generation.\n"
          ]
        },
        {
          "output_type": "stream",
          "name": "stdout",
          "text": [
            "Verification SELECT REGION, NAME FROM `GEOGRAPHIC` NATURAL JOIN `RESTAURANT` WHERE FOOD_TYPE = \"American\" ORDER BY RATING DESC;\n",
            "\n",
            "### Response:\n",
            "SELECT REGION, NAME FROM `GEOGRAPHIC` NATURAL JOIN `RESTAURANT` WHERE FOOD_TYPE = \"American\" ORDER\n",
            "Inference time = 373.5393235683441\n",
            "index :  96\n"
          ]
        },
        {
          "output_type": "stream",
          "name": "stderr",
          "text": [
            "Setting `pad_token_id` to `eos_token_id`:128001 for open-end generation.\n"
          ]
        },
        {
          "output_type": "stream",
          "name": "stdout",
          "text": [
            "Verification SELECT NAME FROM RESTAURANT WHERE CITY_NAME = \"San Francisco\"\n",
            "Inference time = 375.54854917526245\n",
            "index :  97\n"
          ]
        },
        {
          "output_type": "stream",
          "name": "stderr",
          "text": [
            "Setting `pad_token_id` to `eos_token_id`:128001 for open-end generation.\n"
          ]
        },
        {
          "output_type": "stream",
          "name": "stdout",
          "text": [
            "Verification SELECT NAME FROM RESTAURANT WHERE RATING > 3.5 AND CITY_NAME = \"New York City\"\n",
            "Inference time = 378.49042534828186\n",
            "index :  98\n"
          ]
        },
        {
          "output_type": "stream",
          "name": "stderr",
          "text": [
            "Setting `pad_token_id` to `eos_token_id`:128001 for open-end generation.\n"
          ]
        },
        {
          "output_type": "stream",
          "name": "stdout",
          "text": [
            "Verification SELECT HOUSE_NUMBER FROM LOCATION WHERE CITY_NAME IN (SELECT CITY_NAME FROM GEOGRAPHIC WHERE REGION = \"Arizona\") AND FOOD_TYPE = \"Japanese\"\n",
            "Inference time = 381.9128303527832\n",
            "index :  99\n"
          ]
        },
        {
          "output_type": "stream",
          "name": "stderr",
          "text": [
            "Setting `pad_token_id` to `eos_token_id`:128001 for open-end generation.\n"
          ]
        },
        {
          "output_type": "stream",
          "name": "stdout",
          "text": [
            "Verification SELECT NAME FROM RESTAURANT WHERE CITY_NAME = \"miami\" AND FOOD_TYPE = \"italian\" ORDER BY RATING DESC LIMIT 5\n",
            "Inference time = 385.36220955848694\n",
            "index :  100\n"
          ]
        },
        {
          "output_type": "stream",
          "name": "stderr",
          "text": [
            "Setting `pad_token_id` to `eos_token_id`:128001 for open-end generation.\n"
          ]
        },
        {
          "output_type": "stream",
          "name": "stdout",
          "text": [
            "Verification SELECT DISTINCT `GEOGRAPHIC`.CITY_NAME FROM `GEOGRAPHIC` JOIN `RESTAURANT` ON `GEOGRAPHIC`.CITY_NAME = `RESTAURANT`.CITY_NAME WHERE `RESTAURANT`.FOOD_TYPE = 'french' AND `RESTA\n",
            "Inference time = 391.978777885437\n",
            "index :  101\n"
          ]
        },
        {
          "output_type": "stream",
          "name": "stderr",
          "text": [
            "Setting `pad_token_id` to `eos_token_id`:128001 for open-end generation.\n"
          ]
        },
        {
          "output_type": "stream",
          "name": "stdout",
          "text": [
            "Verification SELECT REGION, AVG(RATING) FROM RESTAURANT GROUP BY REGION ORDER BY AVG(RATING) DESC\n",
            "\n",
            "### Response:\n",
            "SELECT REGION, AVG(RATING) FROM RESTAURANT GROUP BY REGION ORDER BY AVG(RATING) DESC\n",
            "Inference time = 396.9324378967285\n",
            "index :  102\n"
          ]
        },
        {
          "output_type": "stream",
          "name": "stderr",
          "text": [
            "Setting `pad_token_id` to `eos_token_id`:128001 for open-end generation.\n"
          ]
        },
        {
          "output_type": "stream",
          "name": "stdout",
          "text": [
            "Verification SELECT REGION FROM GEOGRAPHIC WHERE (SELECT COUNT(*) FROM RESTAURANT WHERE RATING > 3.5) > 5\n",
            "Inference time = 400.10873913764954\n",
            "index :  103\n"
          ]
        },
        {
          "output_type": "stream",
          "name": "stderr",
          "text": [
            "Setting `pad_token_id` to `eos_token_id`:128001 for open-end generation.\n"
          ]
        },
        {
          "output_type": "stream",
          "name": "stdout",
          "text": [
            "Verification SELECT FOOD_TYPE FROM RESTAURANT WHERE CITY_NAME IN (SELECT CITY_NAME FROM GEOGRAPHIC WHERE REGION = \"North Eastern\") GROUP BY FOOD_TYPE ORDER BY COUNT(FOOD_TYPE) DESC LIMIT 1\n",
            "Inference time = 404.929851770401\n",
            "index :  104\n"
          ]
        },
        {
          "output_type": "stream",
          "name": "stderr",
          "text": [
            "Setting `pad_token_id` to `eos_token_id`:128001 for open-end generation.\n"
          ]
        },
        {
          "output_type": "stream",
          "name": "stdout",
          "text": [
            "Verification SELECT NAME FROM RESTAURANT WHERE FOOD_TYPE = 'Chinese' AND RATING > 4.0 AND CITY_NAME = 'Denver'\n",
            "Inference time = 408.20407271385193\n",
            "index :  105\n"
          ]
        },
        {
          "output_type": "stream",
          "name": "stderr",
          "text": [
            "Setting `pad_token_id` to `eos_token_id`:128001 for open-end generation.\n"
          ]
        },
        {
          "output_type": "stream",
          "name": "stdout",
          "text": [
            "Verification SELECT NAME FROM RESTAURANT WHERE CITY_NAME = \"San Francisco\" AND FOOD_TYPE = \"Indian\"\n",
            "Inference time = 410.8626582622528\n",
            "index :  106\n"
          ]
        },
        {
          "output_type": "stream",
          "name": "stderr",
          "text": [
            "Setting `pad_token_id` to `eos_token_id`:128001 for open-end generation.\n"
          ]
        },
        {
          "output_type": "stream",
          "name": "stdout",
          "text": [
            "Verification SELECT NAME FROM RESTAURANT WHERE RATING > 3.5 AND CITY_NAME = \"Los Angeles\"\n",
            "Inference time = 413.59982204437256\n",
            "index :  107\n"
          ]
        },
        {
          "output_type": "stream",
          "name": "stderr",
          "text": [
            "Setting `pad_token_id` to `eos_token_id`:128001 for open-end generation.\n"
          ]
        },
        {
          "output_type": "stream",
          "name": "stdout",
          "text": [
            "Verification SELECT HOUSE_NUMBER FROM LOCATION WHERE FOOD_TYPE = 'Italian' AND CITY_NAME = 'San Diego'\n",
            "Inference time = 416.3008713722229\n",
            "index :  108\n"
          ]
        },
        {
          "output_type": "stream",
          "name": "stderr",
          "text": [
            "Setting `pad_token_id` to `eos_token_id`:128001 for open-end generation.\n"
          ]
        },
        {
          "output_type": "stream",
          "name": "stdout",
          "text": [
            "Verification SELECT NAME FROM RESTAURANT WHERE FOOD_TYPE = 'Mexican' AND RATING > 4.0 AND CITY_NAME = 'New York'\n",
            "Inference time = 419.7578492164612\n",
            "index :  109\n"
          ]
        },
        {
          "output_type": "stream",
          "name": "stderr",
          "text": [
            "Setting `pad_token_id` to `eos_token_id`:128001 for open-end generation.\n"
          ]
        },
        {
          "output_type": "stream",
          "name": "stdout",
          "text": [
            "Verification SELECT NAME FROM RESTAURANT WHERE CITY_NAME = \"Boston\" AND FOOD_TYPE = \"Chinese\"\n",
            "Inference time = 422.32758593559265\n",
            "index :  110\n"
          ]
        },
        {
          "output_type": "stream",
          "name": "stderr",
          "text": [
            "Setting `pad_token_id` to `eos_token_id`:128001 for open-end generation.\n"
          ]
        },
        {
          "output_type": "stream",
          "name": "stdout",
          "text": [
            "Verification SELECT HOUSE_NUMBER FROM LOCATION WHERE RATING > 4.5 AND CITY_NAME = \"Seattle\"\n",
            "Inference time = 424.8040270805359\n",
            "index :  111\n"
          ]
        },
        {
          "output_type": "stream",
          "name": "stderr",
          "text": [
            "Setting `pad_token_id` to `eos_token_id`:128001 for open-end generation.\n"
          ]
        },
        {
          "output_type": "stream",
          "name": "stdout",
          "text": [
            "Verification SELECT R.NAME FROM RESTAURANT AS R JOIN GEOGRAPHIC AS G ON R.CITY_NAME = G.CITY_NAME WHERE R.FOOD_TYPE = 'Mediterranean' AND R.RATING > 4.2 AND G.CITY_NAME = 'Dallas'\n",
            "Inference time = 430.87856006622314\n",
            "index :  112\n"
          ]
        },
        {
          "output_type": "stream",
          "name": "stderr",
          "text": [
            "Setting `pad_token_id` to `eos_token_id`:128001 for open-end generation.\n"
          ]
        },
        {
          "output_type": "stream",
          "name": "stdout",
          "text": [
            "Verification SELECT NAME FROM RESTAURANT WHERE FOOD_TYPE = \"American\" AND RATING > 4.0 AND CITY_NAME = \"Chicago\"\n",
            "Inference time = 434.2105519771576\n",
            "index :  113\n"
          ]
        },
        {
          "output_type": "stream",
          "name": "stderr",
          "text": [
            "Setting `pad_token_id` to `eos_token_id`:128001 for open-end generation.\n"
          ]
        },
        {
          "output_type": "stream",
          "name": "stdout",
          "text": [
            "Verification SELECT NAME, HOUSE_NUMBER FROM RESTAURANT WHERE CITY_NAME = \"Detroit\" AND FOOD_TYPE = \"Thai\"\n",
            "Inference time = 437.0411944389343\n",
            "index :  114\n"
          ]
        },
        {
          "output_type": "stream",
          "name": "stderr",
          "text": [
            "Setting `pad_token_id` to `eos_token_id`:128001 for open-end generation.\n"
          ]
        },
        {
          "output_type": "stream",
          "name": "stdout",
          "text": [
            "Verification SELECT NAME FROM RESTAURANT WHERE FOOD_TYPE = \"Vietnamese\" AND RATING > 3.8 AND CITY_NAME = \"Atlanta\"\n",
            "Inference time = 440.6901743412018\n",
            "index :  115\n"
          ]
        },
        {
          "output_type": "stream",
          "name": "stderr",
          "text": [
            "Setting `pad_token_id` to `eos_token_id`:128001 for open-end generation.\n"
          ]
        },
        {
          "output_type": "stream",
          "name": "stdout",
          "text": [
            "Verification SELECT NAME FROM RESTAURANT WHERE FOOD_TYPE = \"Thai\" AND RATING > 3.5 AND CITY_NAME IN (SELECT CITY_NAME FROM GEOGRAPHIC WHERE COUNTY = \"San Mateo\")\n",
            "Inference time = 445.18351197242737\n",
            "index :  116\n"
          ]
        },
        {
          "output_type": "stream",
          "name": "stderr",
          "text": [
            "Setting `pad_token_id` to `eos_token_id`:128001 for open-end generation.\n"
          ]
        },
        {
          "output_type": "stream",
          "name": "stdout",
          "text": [
            "Verification SELECT NAME FROM RESTAURANT WHERE FOOD_TYPE = \"japanese\" AND RATING > 4 AND CITY_NAME = \"los angeles\"\n",
            "Inference time = 448.55126953125\n",
            "index :  117\n"
          ]
        },
        {
          "output_type": "stream",
          "name": "stderr",
          "text": [
            "Setting `pad_token_id` to `eos_token_id`:128001 for open-end generation.\n"
          ]
        },
        {
          "output_type": "stream",
          "name": "stdout",
          "text": [
            "Verification SELECT NAME, RATING FROM RESTAURANT WHERE FOOD_TYPE = \"Italian\" AND CITY_NAME = \"San Francisco\" ORDER BY RATING DESC LIMIT 5\n",
            "Inference time = 452.46788597106934\n",
            "index :  118\n"
          ]
        },
        {
          "output_type": "stream",
          "name": "stderr",
          "text": [
            "Setting `pad_token_id` to `eos_token_id`:128001 for open-end generation.\n"
          ]
        },
        {
          "output_type": "stream",
          "name": "stdout",
          "text": [
            "Verification SELECT NAME, HOUSE_NUMBER FROM LOCATION WHERE RATING > 4 AND FOOD_TYPE = \"french\" AND REGION = \"sacramento\"\n",
            "Inference time = 455.7473986148834\n",
            "index :  119\n"
          ]
        },
        {
          "output_type": "stream",
          "name": "stderr",
          "text": [
            "Setting `pad_token_id` to `eos_token_id`:128001 for open-end generation.\n"
          ]
        },
        {
          "output_type": "stream",
          "name": "stdout",
          "text": [
            "Verification SELECT HOUSE_NUMBER FROM LOCATION WHERE RATING > 4.5 AND FOOD_TYPE = \"Chinese\" AND CITY_NAME IN (SELECT CITY_NAME FROM GEOGRAPHIC WHERE REGION = \"Bay Area\")\n",
            "Inference time = 459.9055564403534\n",
            "index :  120\n"
          ]
        },
        {
          "output_type": "stream",
          "name": "stderr",
          "text": [
            "Setting `pad_token_id` to `eos_token_id`:128001 for open-end generation.\n"
          ]
        },
        {
          "output_type": "stream",
          "name": "stdout",
          "text": [
            "Verification SELECT FOOD_TYPE FROM RESTAURANT WHERE RATING > 4.3 AND CITY_NAME = \"San Diego\" ORDER BY COUNT(FOOD_TYPE) DESC LIMIT 1\n",
            "Inference time = 464.08497977256775\n",
            "index :  121\n"
          ]
        },
        {
          "output_type": "stream",
          "name": "stderr",
          "text": [
            "Setting `pad_token_id` to `eos_token_id`:128001 for open-end generation.\n"
          ]
        },
        {
          "output_type": "stream",
          "name": "stdout",
          "text": [
            "Verification SELECT NAME, RATING FROM RESTAURANT WHERE FOOD_TYPE = \"American\" AND CITY_NAME = \"Los Altos\"\n",
            "Inference time = 467.1000461578369\n",
            "index :  122\n"
          ]
        },
        {
          "output_type": "stream",
          "name": "stderr",
          "text": [
            "Setting `pad_token_id` to `eos_token_id`:128001 for open-end generation.\n"
          ]
        },
        {
          "output_type": "stream",
          "name": "stdout",
          "text": [
            "Verification SELECT STREET_NAME FROM LOCATION WHERE RATING > 4.2 AND FOOD_TYPE = \"Independent Pizza\" AND COUNTY = \"Santa Clara\" ORDER BY RATING DESC LIMIT 1\n",
            "Inference time = 471.0091989040375\n",
            "index :  123\n"
          ]
        },
        {
          "output_type": "stream",
          "name": "stderr",
          "text": [
            "Setting `pad_token_id` to `eos_token_id`:128001 for open-end generation.\n"
          ]
        },
        {
          "output_type": "stream",
          "name": "stdout",
          "text": [
            "Verification SELECT FOOD_TYPE FROM RESTAURANT WHERE RATING > (SELECT AVG(RATING) FROM RESTAURANT WHERE CITY_NAME = \"San Francisco\") ORDER BY RATING DESC LIMIT 1\n",
            "Inference time = 475.3101897239685\n",
            "index :  124\n"
          ]
        },
        {
          "output_type": "stream",
          "name": "stderr",
          "text": [
            "Setting `pad_token_id` to `eos_token_id`:128001 for open-end generation.\n"
          ]
        },
        {
          "output_type": "stream",
          "name": "stdout",
          "text": [
            "Verification SELECT HOUSE_NUMBER FROM LOCATION WHERE RATING > 4.4 AND FOOD_TYPE = \"Vietnamese\" AND CITY_NAME = \"Mountain View\"\n",
            "Inference time = 478.657666683197\n",
            "index :  125\n"
          ]
        },
        {
          "output_type": "stream",
          "name": "stderr",
          "text": [
            "Setting `pad_token_id` to `eos_token_id`:128001 for open-end generation.\n"
          ]
        },
        {
          "output_type": "stream",
          "name": "stdout",
          "text": [
            "Verification SELECT NAME FROM RESTAURANT WHERE FOOD_TYPE = \"indian\" AND RATING > (SELECT AVG(RATING) FROM RESTAURANT WHERE FOOD_TYPE = \"indian\" AND CITY_NAME = \"bay area\") ORDER BY RATING DESC LIMIT 1\n",
            "Inference time = 484.1412584781647\n",
            "index :  126\n"
          ]
        },
        {
          "output_type": "stream",
          "name": "stderr",
          "text": [
            "Setting `pad_token_id` to `eos_token_id`:128001 for open-end generation.\n"
          ]
        },
        {
          "output_type": "stream",
          "name": "stdout",
          "text": [
            "Verification SELECT NAME FROM RESTAURANT WHERE RATING > 3.5 AND CITY_NAME = \"SEATTLE\"\n",
            "Inference time = 486.9828245639801\n",
            "index :  127\n"
          ]
        },
        {
          "output_type": "stream",
          "name": "stderr",
          "text": [
            "Setting `pad_token_id` to `eos_token_id`:128001 for open-end generation.\n"
          ]
        },
        {
          "output_type": "stream",
          "name": "stdout",
          "text": [
            "Verification SELECT NAME FROM RESTAURANT WHERE CITY_NAME IN (SELECT CITY_NAME FROM GEOGRAPHIC WHERE REGION = \"california\" AND COUNTRY = \"italy\")\n",
            "Inference time = 490.75513458251953\n",
            "index :  128\n"
          ]
        },
        {
          "output_type": "stream",
          "name": "stderr",
          "text": [
            "Setting `pad_token_id` to `eos_token_id`:128001 for open-end generation.\n"
          ]
        },
        {
          "output_type": "stream",
          "name": "stdout",
          "text": [
            "Verification SELECT R.NAME FROM RESTAURANT AS R JOIN GEOGRAPHIC AS G ON R.CITY_NAME = G.CITY_NAME WHERE G.CITY_NAME = \"MOUNTAIN VIEW\" AND R.FOOD_TYPE = \"GREEK\" ORDER BY R.RATING DESC LIMIT 5\n",
            "Inference time = 496.51139402389526\n",
            "index :  129\n"
          ]
        },
        {
          "output_type": "stream",
          "name": "stderr",
          "text": [
            "Setting `pad_token_id` to `eos_token_id`:128001 for open-end generation.\n"
          ]
        },
        {
          "output_type": "stream",
          "name": "stdout",
          "text": [
            "Verification SELECT NAME FROM RESTAURANT WHERE FOOD_TYPE = \"steaks\" AND CITY_NAME = \"new york\"\n",
            "Inference time = 499.4269392490387\n",
            "index :  130\n"
          ]
        },
        {
          "output_type": "stream",
          "name": "stderr",
          "text": [
            "Setting `pad_token_id` to `eos_token_id`:128001 for open-end generation.\n"
          ]
        },
        {
          "output_type": "stream",
          "name": "stdout",
          "text": [
            "Verification SELECT NAME FROM RESTAURANT WHERE FOOD_TYPE = \"mexican\" AND RATING > 4.0 AND CITY_NAME = \"los angeles\"\n",
            "Inference time = 503.2445306777954\n",
            "index :  131\n"
          ]
        },
        {
          "output_type": "stream",
          "name": "stderr",
          "text": [
            "Setting `pad_token_id` to `eos_token_id`:128001 for open-end generation.\n"
          ]
        },
        {
          "output_type": "stream",
          "name": "stdout",
          "text": [
            "Verification SELECT NAME FROM RESTAURANT WHERE FOOD_TYPE = \"ITALIAN\" AND REGION = \"NORTH EAST\" ORDER BY RATING DESC LIMIT 3\n",
            "Inference time = 506.6921272277832\n",
            "index :  132\n"
          ]
        },
        {
          "output_type": "stream",
          "name": "stderr",
          "text": [
            "Setting `pad_token_id` to `eos_token_id`:128001 for open-end generation.\n"
          ]
        },
        {
          "output_type": "stream",
          "name": "stdout",
          "text": [
            "Verification SELECT AVG(RATING) FROM RESTAURANT WHERE FOOD_TYPE = \"american\" AND CITY_NAME = \"denver\"\n",
            "Inference time = 509.6135084629059\n",
            "index :  133\n"
          ]
        },
        {
          "output_type": "stream",
          "name": "stderr",
          "text": [
            "Setting `pad_token_id` to `eos_token_id`:128001 for open-end generation.\n"
          ]
        },
        {
          "output_type": "stream",
          "name": "stdout",
          "text": [
            "Verification SELECT NAME, RATING FROM RESTAURANT WHERE CITY_NAME = \"ATLANTA\" AND FOOD_TYPE = \"CHINESE\" ORDER BY RATING DESC LIMIT 1\n",
            "Inference time = 513.7580161094666\n",
            "index :  134\n"
          ]
        },
        {
          "output_type": "stream",
          "name": "stderr",
          "text": [
            "Setting `pad_token_id` to `eos_token_id`:128001 for open-end generation.\n"
          ]
        },
        {
          "output_type": "stream",
          "name": "stdout",
          "text": [
            "Verification SELECT NAME, RATING FROM RESTAURANT WHERE FOOD_TYPE = \"canadian\" AND RATING > 3.5 AND REGION = \"northeast\"\n",
            "Inference time = 517.3756828308105\n",
            "index :  135\n"
          ]
        },
        {
          "output_type": "stream",
          "name": "stderr",
          "text": [
            "Setting `pad_token_id` to `eos_token_id`:128001 for open-end generation.\n"
          ]
        },
        {
          "output_type": "stream",
          "name": "stdout",
          "text": [
            "Verification SELECT NAME FROM RESTAURANT WHERE RATING > 3.5 AND REGION = \"Sacramento\"\n",
            "Inference time = 520.034681558609\n",
            "index :  136\n"
          ]
        },
        {
          "output_type": "stream",
          "name": "stderr",
          "text": [
            "Setting `pad_token_id` to `eos_token_id`:128001 for open-end generation.\n"
          ]
        },
        {
          "output_type": "stream",
          "name": "stdout",
          "text": [
            "Verification SELECT NAME FROM RESTAURANT WHERE CITY_NAME = \"San Francisco\" AND FOOD_TYPE = \"Mexican\"\n",
            "Inference time = 522.8740420341492\n",
            "index :  137\n"
          ]
        },
        {
          "output_type": "stream",
          "name": "stderr",
          "text": [
            "Setting `pad_token_id` to `eos_token_id`:128001 for open-end generation.\n"
          ]
        },
        {
          "output_type": "stream",
          "name": "stdout",
          "text": [
            "Verification SELECT NAME FROM RESTAURANT WHERE RATING = (SELECT MAX(RATING) FROM RESTAURANT WHERE REGION = \"New York\")\n",
            "Inference time = 526.2608182430267\n",
            "index :  138\n"
          ]
        },
        {
          "output_type": "stream",
          "name": "stderr",
          "text": [
            "Setting `pad_token_id` to `eos_token_id`:128001 for open-end generation.\n"
          ]
        },
        {
          "output_type": "stream",
          "name": "stdout",
          "text": [
            "Verification SELECT RESTAURANT.HOUSE_NUMBER FROM RESTAURANT WHERE RESTAURANT.FOOD_TYPE = \"JAPANESE\" AND RESTAURANT.CITY_NAME = \"TOKYO\" AND RESTAURANT.RATING > 3.5\n",
            "Inference time = 531.7559397220612\n",
            "index :  139\n"
          ]
        },
        {
          "output_type": "stream",
          "name": "stderr",
          "text": [
            "Setting `pad_token_id` to `eos_token_id`:128001 for open-end generation.\n"
          ]
        },
        {
          "output_type": "stream",
          "name": "stdout",
          "text": [
            "Verification SELECT NAME FROM RESTAURANT WHERE FOOD_TYPE!= \"Indian\" AND CITY_NAME = \"Mumbai\"\n",
            "Inference time = 534.4580512046814\n",
            "index :  140\n"
          ]
        },
        {
          "output_type": "stream",
          "name": "stderr",
          "text": [
            "Setting `pad_token_id` to `eos_token_id`:128001 for open-end generation.\n"
          ]
        },
        {
          "output_type": "stream",
          "name": "stdout",
          "text": [
            "Verification SELECT NAME FROM RESTAURANT WHERE RATING > 4 AND FOOD_TYPE = \"Chinese\" AND REGION = \"Los Angeles\"\n",
            "Inference time = 537.7656857967377\n",
            "index :  141\n"
          ]
        },
        {
          "output_type": "stream",
          "name": "stderr",
          "text": [
            "Setting `pad_token_id` to `eos_token_id`:128001 for open-end generation.\n"
          ]
        },
        {
          "output_type": "stream",
          "name": "stdout",
          "text": [
            "Verification SELECT REGION, COUNT(*) FROM GEOGRAPHIC GROUP BY REGION ORDER BY REGION ASC;\n",
            "\n",
            "### Response:\n",
            "CREATE TABLE GEOGRAPHIC ( CITY_NAME text, COUNTY text, REGION text, primary key(CITY_NAME) );CREATE TABLE RESTAURANT ( ID int, NAME text, FOOD_TYPE text, CITY_NAME text,\n",
            "Inference time = 544.045089006424\n",
            "index :  142\n"
          ]
        },
        {
          "output_type": "stream",
          "name": "stderr",
          "text": [
            "Setting `pad_token_id` to `eos_token_id`:128001 for open-end generation.\n"
          ]
        },
        {
          "output_type": "stream",
          "name": "stdout",
          "text": [
            "Verification SELECT CITY_NAME FROM GEOGRAPHIC WHERE CITY_NAME IN (SELECT CITY_NAME FROM RESTAURANT WHERE RATING > 4.5) ORDER BY COUNT(CITY_NAME) DESC LIMIT 1\n",
            "Inference time = 548.5987277030945\n",
            "index :  143\n"
          ]
        },
        {
          "output_type": "stream",
          "name": "stderr",
          "text": [
            "Setting `pad_token_id` to `eos_token_id`:128001 for open-end generation.\n"
          ]
        },
        {
          "output_type": "stream",
          "name": "stdout",
          "text": [
            "Verification SELECT REGION FROM GEOGRAPHIC WHERE CITY_NAME IN (SELECT CITY_NAME FROM RESTAURANT WHERE FOOD_TYPE = \"American\" AND RATING > 4) GROUP BY REGION ORDER BY COUNT(CITY_NAME) DESC LIMIT 1\n",
            "Inference time = 553.4722030162811\n",
            "index :  144\n"
          ]
        },
        {
          "output_type": "stream",
          "name": "stderr",
          "text": [
            "Setting `pad_token_id` to `eos_token_id`:128001 for open-end generation.\n"
          ]
        },
        {
          "output_type": "stream",
          "name": "stdout",
          "text": [
            "Verification SELECT HOUSE_NUMBER, STREET_NAME FROM LOCATION WHERE RATING > 4 AND FOOD_TYPE = \"Italian\" AND CITY_NAME = \"Seattle\"\n",
            "Inference time = 556.6605756282806\n",
            "index :  145\n"
          ]
        },
        {
          "output_type": "stream",
          "name": "stderr",
          "text": [
            "Setting `pad_token_id` to `eos_token_id`:128001 for open-end generation.\n"
          ]
        },
        {
          "output_type": "stream",
          "name": "stdout",
          "text": [
            "Verification SELECT NAME FROM RESTAURANT WHERE FOOD_TYPE = \"vegetarian\" ORDER BY RATING DESC LIMIT 5\n",
            "Inference time = 559.5475444793701\n",
            "index :  146\n"
          ]
        },
        {
          "output_type": "stream",
          "name": "stderr",
          "text": [
            "Setting `pad_token_id` to `eos_token_id`:128001 for open-end generation.\n"
          ]
        },
        {
          "output_type": "stream",
          "name": "stdout",
          "text": [
            "Verification SELECT COUNT(*) FROM `RESTAURANT` WHERE `RESTAURANT`.`FOOD_TYPE` = 'Italian' AND `GEOGRAPHIC`.`COUNTY` = 'Santa Clara'\n",
            "Inference time = 563.7835915088654\n",
            "index :  147\n"
          ]
        },
        {
          "output_type": "stream",
          "name": "stderr",
          "text": [
            "Setting `pad_token_id` to `eos_token_id`:128001 for open-end generation.\n"
          ]
        },
        {
          "output_type": "stream",
          "name": "stdout",
          "text": [
            "Verification SELECT NAME, RATING FROM RESTAURANT WHERE CITY_NAME = \"Los Angeles\" ORDER BY HOUSE_NUMBER DESC LIMIT 1;\n",
            "\n",
            "### Response:\n",
            "SELECT NAME, RATING FROM RESTAURANT WHERE CITY_NAME = \"Los Angeles\" ORDER BY HOUSE_NUMBER DESC LIMIT 1;\n",
            "Inference time = 569.5492360591888\n",
            "index :  148\n"
          ]
        },
        {
          "output_type": "stream",
          "name": "stderr",
          "text": [
            "Setting `pad_token_id` to `eos_token_id`:128001 for open-end generation.\n"
          ]
        },
        {
          "output_type": "stream",
          "name": "stdout",
          "text": [
            "Verification SELECT NAME FROM RESTAURANT WHERE FOOD_TYPE = \"variety\" ORDER BY RATING DESC LIMIT 3\n",
            "Inference time = 572.6198644638062\n",
            "index :  149\n"
          ]
        },
        {
          "output_type": "stream",
          "name": "stderr",
          "text": [
            "Setting `pad_token_id` to `eos_token_id`:128001 for open-end generation.\n"
          ]
        },
        {
          "output_type": "stream",
          "name": "stdout",
          "text": [
            "Verification SELECT AVG(RATING) FROM RESTAURANT WHERE CITY_NAME IN (SELECT CITY_NAME FROM GEOGRAPHIC ORDER BY COUNT(CITY_NAME) ASC LIMIT 1)\n",
            "Inference time = 576.3251192569733\n",
            "index :  150\n"
          ]
        },
        {
          "output_type": "stream",
          "name": "stderr",
          "text": [
            "Setting `pad_token_id` to `eos_token_id`:128001 for open-end generation.\n"
          ]
        },
        {
          "output_type": "stream",
          "name": "stdout",
          "text": [
            "Verification SELECT NAME FROM RESTAURANT WHERE FOOD_TYPE = \"french\" AND RATING = (SELECT MAX(RATING) FROM RESTAURANT WHERE FOOD_TYPE = \"french\") AND REGION = (SELECT REGION FROM GEOGRAPHIC WHERE CITY_NAME = (SELECT CITY_NAME FROM RESTAURANT WHERE RATING\n",
            "Inference time = 582.6634511947632\n",
            "index :  151\n"
          ]
        },
        {
          "output_type": "stream",
          "name": "stderr",
          "text": [
            "Setting `pad_token_id` to `eos_token_id`:128001 for open-end generation.\n"
          ]
        },
        {
          "output_type": "stream",
          "name": "stdout",
          "text": [
            "Verification SELECT AVG(RATING) FROM RESTAURANT WHERE CITY_NAME IN (SELECT CITY_NAME FROM GEOGRAPHIC WHERE STREET_NAME LIKE '%main%') AND FOOD_TYPE = 'Italian'\n",
            "Inference time = 586.8400783538818\n",
            "index :  152\n"
          ]
        },
        {
          "output_type": "stream",
          "name": "stderr",
          "text": [
            "Setting `pad_token_id` to `eos_token_id`:128001 for open-end generation.\n"
          ]
        },
        {
          "output_type": "stream",
          "name": "stdout",
          "text": [
            "Verification SELECT CITY_NAME FROM GEOGRAPHIC WHERE CITY_NAME IN (SELECT CITY_NAME FROM RESTAURANT WHERE RATING > 4.5) ORDER BY COUNT(CITY_NAME) DESC LIMIT 1;\n",
            "\n",
            "### Response:\n",
            "SELECT CITY_NAME FROM GEOGRAPHIC WHERE CITY_NAME IN (SELECT CITY_NAME FROM RESTAURANT\n",
            "Inference time = 593.1376793384552\n",
            "index :  153\n"
          ]
        },
        {
          "output_type": "stream",
          "name": "stderr",
          "text": [
            "Setting `pad_token_id` to `eos_token_id`:128001 for open-end generation.\n"
          ]
        },
        {
          "output_type": "stream",
          "name": "stdout",
          "text": [
            "Verification SELECT COUNTY FROM GEOGRAPHIC WHERE COUNTY = (SELECT COUNTY FROM GEOGRAPHIC WHERE FOOD_TYPE ='steak' ORDER BY COUNTY DESC LIMIT 1)\n",
            "Inference time = 597.1289813518524\n",
            "index :  154\n"
          ]
        },
        {
          "output_type": "stream",
          "name": "stderr",
          "text": [
            "Setting `pad_token_id` to `eos_token_id`:128001 for open-end generation.\n"
          ]
        },
        {
          "output_type": "stream",
          "name": "stdout",
          "text": [
            "Verification SELECT COUNT(*) FROM `RESTAURANT` WHERE RATING > 3 AND `LOCATION`.STREET_NAME LIKE '%NUMBER%'\n",
            "Inference time = 600.2153012752533\n",
            "index :  155\n"
          ]
        },
        {
          "output_type": "stream",
          "name": "stderr",
          "text": [
            "Setting `pad_token_id` to `eos_token_id`:128001 for open-end generation.\n"
          ]
        },
        {
          "output_type": "stream",
          "name": "stdout",
          "text": [
            "Verification SELECT ID FROM RESTAURANT WHERE CITY_NAME = \"San Francisco\"\n",
            "Inference time = 602.2416083812714\n",
            "index :  156\n"
          ]
        },
        {
          "output_type": "stream",
          "name": "stderr",
          "text": [
            "Setting `pad_token_id` to `eos_token_id`:128001 for open-end generation.\n"
          ]
        },
        {
          "output_type": "stream",
          "name": "stdout",
          "text": [
            "Verification SELECT NAME FROM RESTAURANT WHERE FOOD_TYPE = \"Italian\" AND RATING > 4 AND CITY_NAME = \"Los Angeles\" ORDER BY RATING DESC LIMIT 1\n",
            "Inference time = 606.1298983097076\n",
            "index :  157\n"
          ]
        },
        {
          "output_type": "stream",
          "name": "stderr",
          "text": [
            "Setting `pad_token_id` to `eos_token_id`:128001 for open-end generation.\n"
          ]
        },
        {
          "output_type": "stream",
          "name": "stdout",
          "text": [
            "Verification SELECT NAME FROM RESTAURANT WHERE RATING > 3.5 AND CITY_NAME IN (SELECT CITY_NAME FROM LOCATION)\n",
            "Inference time = 609.3474488258362\n",
            "index :  158\n"
          ]
        },
        {
          "output_type": "stream",
          "name": "stderr",
          "text": [
            "Setting `pad_token_id` to `eos_token_id`:128001 for open-end generation.\n"
          ]
        },
        {
          "output_type": "stream",
          "name": "stdout",
          "text": [
            "Verification SELECT NAME, FOOD_TYPE FROM RESTAURANT WHERE CITY_NAME = \"Portland\"\n",
            "Inference time = 611.5428528785706\n",
            "index :  159\n"
          ]
        },
        {
          "output_type": "stream",
          "name": "stderr",
          "text": [
            "Setting `pad_token_id` to `eos_token_id`:128001 for open-end generation.\n"
          ]
        },
        {
          "output_type": "stream",
          "name": "stdout",
          "text": [
            "Verification SELECT NAME FROM RESTAURANT WHERE RATING = (SELECT MAX(RATING) FROM RESTAURANT WHERE CITY_NAME = \"Seattle\")\n",
            "Inference time = 614.8109641075134\n",
            "index :  160\n"
          ]
        },
        {
          "output_type": "stream",
          "name": "stderr",
          "text": [
            "Setting `pad_token_id` to `eos_token_id`:128001 for open-end generation.\n"
          ]
        },
        {
          "output_type": "stream",
          "name": "stdout",
          "text": [
            "Verification SELECT NAME FROM RESTAURANT WHERE FOOD_TYPE = \"Italian\" AND RATING > 4 AND CITY_NAME IN (SELECT CITY_NAME FROM GEOGRAPHIC WHERE REGION = \"Denver\")\n",
            "Inference time = 618.9230599403381\n",
            "index :  161\n"
          ]
        },
        {
          "output_type": "stream",
          "name": "stderr",
          "text": [
            "Setting `pad_token_id` to `eos_token_id`:128001 for open-end generation.\n"
          ]
        },
        {
          "output_type": "stream",
          "name": "stdout",
          "text": [
            "Verification SELECT HOUSE_NUMBER, STREET_NAME FROM LOCATION WHERE FOOD_TYPE = \"Mediterranean\" AND REGION = \"Chicago\"\n",
            "Inference time = 621.9549117088318\n",
            "index :  162\n"
          ]
        },
        {
          "output_type": "stream",
          "name": "stderr",
          "text": [
            "Setting `pad_token_id` to `eos_token_id`:128001 for open-end generation.\n"
          ]
        },
        {
          "output_type": "stream",
          "name": "stdout",
          "text": [
            "Verification SELECT NAME FROM RESTAURANT WHERE RATING > 3.5 AND FOOD_TYPE = \"Italian\" AND CITY_NAME = \"Boston\"\n",
            "Inference time = 625.2989890575409\n",
            "index :  163\n"
          ]
        },
        {
          "output_type": "stream",
          "name": "stderr",
          "text": [
            "Setting `pad_token_id` to `eos_token_id`:128001 for open-end generation.\n"
          ]
        },
        {
          "output_type": "stream",
          "name": "stdout",
          "text": [
            "Verification SELECT NAME FROM RESTAURANT WHERE RATING > 4.5 ORDER BY RATING DESC LIMIT 5\n",
            "Inference time = 628.0517065525055\n",
            "index :  164\n"
          ]
        },
        {
          "output_type": "stream",
          "name": "stderr",
          "text": [
            "Setting `pad_token_id` to `eos_token_id`:128001 for open-end generation.\n"
          ]
        },
        {
          "output_type": "stream",
          "name": "stdout",
          "text": [
            "Verification SELECT AVG(RATING) FROM RESTAURANT WHERE FOOD_TYPE = \"Mexican\" AND CITY_NAME = \"Las Vegas\"\n",
            "Inference time = 631.1008319854736\n",
            "index :  165\n"
          ]
        },
        {
          "output_type": "stream",
          "name": "stderr",
          "text": [
            "Setting `pad_token_id` to `eos_token_id`:128001 for open-end generation.\n"
          ]
        },
        {
          "output_type": "stream",
          "name": "stdout",
          "text": [
            "Verification SELECT NAME FROM RESTAURANT WHERE FOOD_TYPE = 'french' AND RATING > 3 AND CITY_NAME IN (SELECT CITY_NAME FROM GEOGRAPHIC WHERE CITY_NAME IN (SELECT CITY_NAME FROM GEOGRAPHIC WHERE REGION = 'yosemite and mono lake area'))\n",
            "Inference time = 636.9769794940948\n",
            "index :  166\n"
          ]
        },
        {
          "output_type": "stream",
          "name": "stderr",
          "text": [
            "Setting `pad_token_id` to `eos_token_id`:128001 for open-end generation.\n"
          ]
        },
        {
          "output_type": "stream",
          "name": "stdout",
          "text": [
            "Verification SELECT NAME FROM RESTAURANT WHERE FOOD_TYPE = \"french\" AND RATING > 3.5 AND REGION = \"south\"\n",
            "Inference time = 640.2426211833954\n",
            "index :  167\n"
          ]
        },
        {
          "output_type": "stream",
          "name": "stderr",
          "text": [
            "Setting `pad_token_id` to `eos_token_id`:128001 for open-end generation.\n"
          ]
        },
        {
          "output_type": "stream",
          "name": "stdout",
          "text": [
            "Verification SELECT DISTINCT `GEOGRAPHIC`.CITY_NAME FROM `GEOGRAPHIC` JOIN `RESTAURANT` ON `GEOGRAPHIC`.CITY_NAME = `RESTAURANT`.CITY_NAME WHERE `RESTAURANT`.FOOD_TYPE = 'Italian' AND `GEOGRAPH\n",
            "Inference time = 646.8259453773499\n",
            "index :  168\n"
          ]
        },
        {
          "output_type": "stream",
          "name": "stderr",
          "text": [
            "Setting `pad_token_id` to `eos_token_id`:128001 for open-end generation.\n"
          ]
        },
        {
          "output_type": "stream",
          "name": "stdout",
          "text": [
            "Verification SELECT NAME FROM RESTAURANT WHERE CITY_NAME = \"Phoenix\" AND RATING > 3\n",
            "Inference time = 649.2882215976715\n",
            "index :  169\n"
          ]
        },
        {
          "output_type": "stream",
          "name": "stderr",
          "text": [
            "Setting `pad_token_id` to `eos_token_id`:128001 for open-end generation.\n"
          ]
        },
        {
          "output_type": "stream",
          "name": "stdout",
          "text": [
            "Verification SELECT R.NAME FROM RESTAURANT AS R JOIN GEOGRAPHIC AS G ON R.CITY_NAME = G.CITY_NAME WHERE R.FOOD_TYPE = \"American\" AND G.COUNTY = \"Indiana\" AND R.RATING > 3 AND R.RATING < 4.5;\n",
            "\n",
            "### Response:\n",
            "\n",
            "Inference time = 655.7695195674896\n",
            "index :  170\n"
          ]
        },
        {
          "output_type": "stream",
          "name": "stderr",
          "text": [
            "Setting `pad_token_id` to `eos_token_id`:128001 for open-end generation.\n"
          ]
        },
        {
          "output_type": "stream",
          "name": "stdout",
          "text": [
            "Verification SELECT NAME FROM RESTAURANT WHERE FOOD_TYPE = \"Italian\" AND RATING = (SELECT MAX(RATING) FROM RESTAURANT WHERE REGION = \"West Coast\")\n",
            "Inference time = 659.7629754543304\n",
            "index :  171\n"
          ]
        },
        {
          "output_type": "stream",
          "name": "stderr",
          "text": [
            "Setting `pad_token_id` to `eos_token_id`:128001 for open-end generation.\n"
          ]
        },
        {
          "output_type": "stream",
          "name": "stdout",
          "text": [
            "Verification SELECT NAME FROM RESTAURANT WHERE RATING >= 4 AND CITY_NAME = \"Los Angeles\"\n",
            "Inference time = 662.320485830307\n",
            "index :  172\n"
          ]
        },
        {
          "output_type": "stream",
          "name": "stderr",
          "text": [
            "Setting `pad_token_id` to `eos_token_id`:128001 for open-end generation.\n"
          ]
        },
        {
          "output_type": "stream",
          "name": "stdout",
          "text": [
            "Verification SELECT NAME FROM RESTAURANT WHERE FOOD_TYPE = \"japanese\" AND RATING > 3.5 AND CITY_NAME = \"chicago\"\n",
            "Inference time = 665.7873258590698\n",
            "index :  173\n"
          ]
        },
        {
          "output_type": "stream",
          "name": "stderr",
          "text": [
            "Setting `pad_token_id` to `eos_token_id`:128001 for open-end generation.\n"
          ]
        },
        {
          "output_type": "stream",
          "name": "stdout",
          "text": [
            "Verification SELECT CITY_NAME FROM GEOGRAPHIC WHERE COUNTY = \"California\" AND FOOD_TYPE = \"Chinese\" AND RATING = 5\n",
            "Inference time = 669.0770838260651\n",
            "index :  174\n"
          ]
        },
        {
          "output_type": "stream",
          "name": "stderr",
          "text": [
            "Setting `pad_token_id` to `eos_token_id`:128001 for open-end generation.\n"
          ]
        },
        {
          "output_type": "stream",
          "name": "stdout",
          "text": [
            "Verification SELECT DISTINCT RESTAURANT.FOOD_TYPE FROM RESTAURANT WHERE RESTAURANT.CITY_NAME = (SELECT GEOGRAPHIC.CITY_NAME FROM GEOGRAPHIC WHERE GEOGRAPHIC.CITY_NAME ='san jose')\n",
            "Inference time = 673.9351496696472\n",
            "index :  175\n"
          ]
        },
        {
          "output_type": "stream",
          "name": "stderr",
          "text": [
            "Setting `pad_token_id` to `eos_token_id`:128001 for open-end generation.\n"
          ]
        },
        {
          "output_type": "stream",
          "name": "stdout",
          "text": [
            "Verification SELECT NAME FROM RESTAURANT WHERE RATING > 4.0 AND CITY_NAME = \"los angeles\" AND FOOD_TYPE = \"italian\"\n",
            "Inference time = 677.4806108474731\n",
            "index :  176\n"
          ]
        },
        {
          "output_type": "stream",
          "name": "stderr",
          "text": [
            "Setting `pad_token_id` to `eos_token_id`:128001 for open-end generation.\n"
          ]
        },
        {
          "output_type": "stream",
          "name": "stdout",
          "text": [
            "Verification SELECT COUNT(*) FROM `RESTAURANT` WHERE RATING > 3.5 GROUP BY `GEOGRAPHIC`.CITY_NAME;\n",
            "\n",
            "### Response:\n",
            "SELECT COUNT(*) FROM `RESTAURANT` WHERE RATING > 3.5 GROUP BY `GEOGRAPHIC`.CITY_NAME;\n",
            "Inference time = 684.0811338424683\n",
            "index :  177\n"
          ]
        },
        {
          "output_type": "stream",
          "name": "stderr",
          "text": [
            "Setting `pad_token_id` to `eos_token_id`:128001 for open-end generation.\n"
          ]
        },
        {
          "output_type": "stream",
          "name": "stdout",
          "text": [
            "Verification SELECT NAME FROM RESTAURANT WHERE FOOD_TYPE = \"vegan\" AND CITY_NAME = \"santa cruz\"\n",
            "Inference time = 686.9011416435242\n",
            "index :  178\n"
          ]
        },
        {
          "output_type": "stream",
          "name": "stderr",
          "text": [
            "Setting `pad_token_id` to `eos_token_id`:128001 for open-end generation.\n"
          ]
        },
        {
          "output_type": "stream",
          "name": "stdout",
          "text": [
            "Verification SELECT CITY_NAME FROM GEOGRAPHIC WHERE CITY_NAME IN (SELECT CITY_NAME FROM RESTAURANT ORDER BY COUNT(CITY_NAME) DESC LIMIT 1)\n",
            "Inference time = 690.4293286800385\n",
            "index :  179\n"
          ]
        },
        {
          "output_type": "stream",
          "name": "stderr",
          "text": [
            "Setting `pad_token_id` to `eos_token_id`:128001 for open-end generation.\n"
          ]
        },
        {
          "output_type": "stream",
          "name": "stdout",
          "text": [
            "Verification SELECT NAME FROM RESTAURANT WHERE RATING > 3.5 AND FOOD_TYPE = \"japanese\" AND CITY_NAME = \"napa\"\n",
            "Inference time = 694.3008072376251\n",
            "index :  180\n"
          ]
        },
        {
          "output_type": "stream",
          "name": "stderr",
          "text": [
            "Setting `pad_token_id` to `eos_token_id`:128001 for open-end generation.\n"
          ]
        },
        {
          "output_type": "stream",
          "name": "stdout",
          "text": [
            "Verification SELECT AVG(RATING) FROM RESTAURANT WHERE CITY_NAME = \"santa barbara\"\n",
            "Inference time = 696.9457519054413\n",
            "index :  181\n"
          ]
        },
        {
          "output_type": "stream",
          "name": "stderr",
          "text": [
            "Setting `pad_token_id` to `eos_token_id`:128001 for open-end generation.\n"
          ]
        },
        {
          "output_type": "stream",
          "name": "stdout",
          "text": [
            "Verification SELECT REGION FROM GEOGRAPHIC WHERE CITY_NAME IN (SELECT CITY_NAME FROM RESTAURANT ORDER BY RATING DESC LIMIT 1)\n",
            "Inference time = 700.1131796836853\n",
            "index :  182\n"
          ]
        },
        {
          "output_type": "stream",
          "name": "stderr",
          "text": [
            "Setting `pad_token_id` to `eos_token_id`:128001 for open-end generation.\n"
          ]
        },
        {
          "output_type": "stream",
          "name": "stdout",
          "text": [
            "Verification SELECT NAME FROM RESTAURANT WHERE RATING > 4.0 AND REGION = \"Mono Lake\"\n",
            "Inference time = 702.7692215442657\n",
            "index :  183\n"
          ]
        },
        {
          "output_type": "stream",
          "name": "stderr",
          "text": [
            "Setting `pad_token_id` to `eos_token_id`:128001 for open-end generation.\n"
          ]
        },
        {
          "output_type": "stream",
          "name": "stdout",
          "text": [
            "Verification SELECT NAME FROM RESTAURANT WHERE RATING = (SELECT MAX(RATING) FROM RESTAURANT WHERE COUNTY = \"Santa Clara\")\n",
            "Inference time = 706.2715005874634\n",
            "index :  184\n"
          ]
        },
        {
          "output_type": "stream",
          "name": "stderr",
          "text": [
            "Setting `pad_token_id` to `eos_token_id`:128001 for open-end generation.\n"
          ]
        },
        {
          "output_type": "stream",
          "name": "stdout",
          "text": [
            "Verification SELECT NAME FROM RESTAURANT WHERE FOOD_TYPE = \"Mexican\" AND RATING > 3 AND CITY_NAME = \"San Francisco\"\n",
            "Inference time = 709.5478084087372\n",
            "index :  185\n"
          ]
        },
        {
          "output_type": "stream",
          "name": "stderr",
          "text": [
            "Setting `pad_token_id` to `eos_token_id`:128001 for open-end generation.\n"
          ]
        },
        {
          "output_type": "stream",
          "name": "stdout",
          "text": [
            "Verification SELECT COUNT(*) FROM `RESTAURANT` WHERE `FOOD_TYPE` = 'Indian' AND `CITY_NAME` = 'Queens'\n",
            "Inference time = 712.9883480072021\n",
            "index :  186\n"
          ]
        },
        {
          "output_type": "stream",
          "name": "stderr",
          "text": [
            "Setting `pad_token_id` to `eos_token_id`:128001 for open-end generation.\n"
          ]
        },
        {
          "output_type": "stream",
          "name": "stdout",
          "text": [
            "Verification SELECT NAME FROM RESTAURANT WHERE FOOD_TYPE = 'Italian' AND RATING > (SELECT AVG(RATING) FROM RESTAURANT WHERE CITY_NAME = 'Bronx')\n",
            "Inference time = 717.256219625473\n",
            "index :  187\n"
          ]
        },
        {
          "output_type": "stream",
          "name": "stderr",
          "text": [
            "Setting `pad_token_id` to `eos_token_id`:128001 for open-end generation.\n"
          ]
        },
        {
          "output_type": "stream",
          "name": "stdout",
          "text": [
            "Verification SELECT NAME FROM RESTAURANT WHERE FOOD_TYPE = \"Chinese\" AND RATING < 3 AND CITY_NAME = \"Manhattan\"\n",
            "Inference time = 720.4444487094879\n",
            "index :  188\n"
          ]
        },
        {
          "output_type": "stream",
          "name": "stderr",
          "text": [
            "Setting `pad_token_id` to `eos_token_id`:128001 for open-end generation.\n"
          ]
        },
        {
          "output_type": "stream",
          "name": "stdout",
          "text": [
            "Verification SELECT AVG(RATING) FROM RESTAURANT WHERE FOOD_TYPE = \"American\" AND CITY_NAME = \"Denver\"\n",
            "Inference time = 723.2812623977661\n",
            "index :  189\n"
          ]
        },
        {
          "output_type": "stream",
          "name": "stderr",
          "text": [
            "Setting `pad_token_id` to `eos_token_id`:128001 for open-end generation.\n"
          ]
        },
        {
          "output_type": "stream",
          "name": "stdout",
          "text": [
            "Verification SELECT R.NAME FROM RESTAURANT AS R JOIN GEOGRAPHIC AS G ON R.CITY_NAME = G.CITY_NAME WHERE R.FOOD_TYPE = 'Mediterranean' AND R.RATING > 3.5 AND G.CITY_NAME = 'Boston'\n",
            "Inference time = 729.2633697986603\n",
            "index :  190\n"
          ]
        },
        {
          "output_type": "stream",
          "name": "stderr",
          "text": [
            "Setting `pad_token_id` to `eos_token_id`:128001 for open-end generation.\n"
          ]
        },
        {
          "output_type": "stream",
          "name": "stdout",
          "text": [
            "Verification SELECT NAME FROM RESTAURANT WHERE FOOD_TYPE = 'Thai' AND RATING < 2.0 AND CITY_NAME IN (SELECT CITY_NAME FROM GEOGRAPHIC WHERE REGION = 'Los Angeles')\n",
            "Inference time = 733.610413312912\n",
            "index :  191\n"
          ]
        },
        {
          "output_type": "stream",
          "name": "stderr",
          "text": [
            "Setting `pad_token_id` to `eos_token_id`:128001 for open-end generation.\n"
          ]
        },
        {
          "output_type": "stream",
          "name": "stdout",
          "text": [
            "Verification SELECT COUNT(*) FROM `RESTAURANT` WHERE `FOOD_TYPE` = 'Japanese' AND `RATING` > 4.0 AND `CITY_NAME` = 'Queens'\n",
            "Inference time = 738.1024782657623\n",
            "index :  192\n"
          ]
        },
        {
          "output_type": "stream",
          "name": "stderr",
          "text": [
            "Setting `pad_token_id` to `eos_token_id`:128001 for open-end generation.\n"
          ]
        },
        {
          "output_type": "stream",
          "name": "stdout",
          "text": [
            "Verification SELECT NAME FROM RESTAURANT WHERE FOOD_TYPE = 'Vietnamese' AND RATING > 3.5 AND CITY_NAME = 'Bronx'\n",
            "Inference time = 743.1246604919434\n",
            "index :  193\n"
          ]
        },
        {
          "output_type": "stream",
          "name": "stderr",
          "text": [
            "Setting `pad_token_id` to `eos_token_id`:128001 for open-end generation.\n"
          ]
        },
        {
          "output_type": "stream",
          "name": "stdout",
          "text": [
            "Verification SELECT AVG(RATING) FROM RESTAURANT WHERE FOOD_TYPE = \"Mexican\" AND CITY_NAME = \"San Francisco\"\n",
            "Inference time = 746.1401853561401\n",
            "index :  194\n"
          ]
        },
        {
          "output_type": "stream",
          "name": "stderr",
          "text": [
            "Setting `pad_token_id` to `eos_token_id`:128001 for open-end generation.\n"
          ]
        },
        {
          "output_type": "stream",
          "name": "stdout",
          "text": [
            "Verification SELECT NAME FROM RESTAURANT WHERE FOOD_TYPE = \"Italian\" AND CITY_NAME = \"Bay Area\"\n",
            "Inference time = 748.7861976623535\n",
            "index :  195\n"
          ]
        },
        {
          "output_type": "stream",
          "name": "stderr",
          "text": [
            "Setting `pad_token_id` to `eos_token_id`:128001 for open-end generation.\n"
          ]
        },
        {
          "output_type": "stream",
          "name": "stdout",
          "text": [
            "Verification SELECT HOUSE_NUMBER FROM LOCATION WHERE RATING > 4.5 AND CITY_NAME = \"San Jose\" AND RESTAURANT_ID IN (SELECT ID FROM RESTAURANT WHERE RATING > 4.5)\n",
            "Inference time = 753.5588572025299\n",
            "index :  196\n"
          ]
        },
        {
          "output_type": "stream",
          "name": "stderr",
          "text": [
            "Setting `pad_token_id` to `eos_token_id`:128001 for open-end generation.\n"
          ]
        },
        {
          "output_type": "stream",
          "name": "stdout",
          "text": [
            "Verification SELECT NAME, RATING FROM RESTAURANT WHERE FOOD_TYPE = \"Indian\" AND CITY_NAME = \"Alameda\"\n",
            "Inference time = 756.6179008483887\n",
            "index :  197\n"
          ]
        },
        {
          "output_type": "stream",
          "name": "stderr",
          "text": [
            "Setting `pad_token_id` to `eos_token_id`:128001 for open-end generation.\n"
          ]
        },
        {
          "output_type": "stream",
          "name": "stdout",
          "text": [
            "Verification SELECT AVG(RATING) FROM RESTAURANT WHERE FOOD_TYPE = \"Italian\" GROUP BY REGION\n",
            "Inference time = 759.0782170295715\n",
            "index :  198\n"
          ]
        },
        {
          "output_type": "stream",
          "name": "stderr",
          "text": [
            "Setting `pad_token_id` to `eos_token_id`:128001 for open-end generation.\n"
          ]
        },
        {
          "output_type": "stream",
          "name": "stdout",
          "text": [
            "Verification SELECT R.NAME FROM RESTAURANT AS R JOIN GEOGRAPHIC AS G ON R.CITY_NAME = G.CITY_NAME WHERE R.FOOD_TYPE = \"Korean\" AND G.REGION = \"Southern\" ORDER BY R.RATING DESC LIMIT 3;\n",
            "\n",
            "### Response:\n",
            "SELECT R.NAME FROM RESTAUR\n",
            "Inference time = 765.4470806121826\n",
            "index :  199\n"
          ]
        },
        {
          "output_type": "stream",
          "name": "stderr",
          "text": [
            "Setting `pad_token_id` to `eos_token_id`:128001 for open-end generation.\n"
          ]
        },
        {
          "output_type": "stream",
          "name": "stdout",
          "text": [
            "Verification SELECT REGION, COUNT(*) FROM GEOGRAPHIC JOIN RESTAURANT ON GEOGRAPHIC.CITY_NAME = RESTAURANT.CITY_NAME WHERE FOOD_TYPE = \"French\" AND DINNER = \"Yes\" GROUP BY REGION ORDER BY REGION ASC;\n",
            "\n",
            "### Response:\n",
            "SELECT REGION, COUNT(*) FROM GEOGRAPHIC JOIN\n",
            "Inference time = 771.9222764968872\n",
            "index :  200\n"
          ]
        },
        {
          "output_type": "stream",
          "name": "stderr",
          "text": [
            "Setting `pad_token_id` to `eos_token_id`:128001 for open-end generation.\n"
          ]
        },
        {
          "output_type": "stream",
          "name": "stdout",
          "text": [
            "Verification SELECT NAME, HOUSE_NUMBER FROM `RESTAURANT` WHERE FOOD_TYPE = \"THAI\" AND CITY_NAME IN (SELECT CITY_NAME FROM `GEOGRAPHIC` WHERE REGION = \"NORTHERN\")\n",
            "Inference time = 776.5302269458771\n",
            "index :  201\n"
          ]
        },
        {
          "output_type": "stream",
          "name": "stderr",
          "text": [
            "Setting `pad_token_id` to `eos_token_id`:128001 for open-end generation.\n"
          ]
        },
        {
          "output_type": "stream",
          "name": "stdout",
          "text": [
            "Verification SELECT AVG(RATING) FROM RESTAURANT WHERE FOOD_TYPE = \"japanese\" GROUP BY CITY_NAME\n",
            "Inference time = 779.4384293556213\n",
            "index :  202\n"
          ]
        },
        {
          "output_type": "stream",
          "name": "stderr",
          "text": [
            "Setting `pad_token_id` to `eos_token_id`:128001 for open-end generation.\n"
          ]
        },
        {
          "output_type": "stream",
          "name": "stdout",
          "text": [
            "Verification SELECT NAME, RATING FROM RESTAURANT WHERE FOOD_TYPE = \"American\" ORDER BY RATING DESC LIMIT 5\n",
            "\n",
            "### Response:\n",
            "SELECT NAME, RATING FROM RESTAURANT WHERE FOOD_TYPE = \"American\" ORDER BY RATING DESC LIMIT 5\n",
            "Inference time = 784.9489281177521\n",
            "index :  203\n"
          ]
        },
        {
          "output_type": "stream",
          "name": "stderr",
          "text": [
            "Setting `pad_token_id` to `eos_token_id`:128001 for open-end generation.\n"
          ]
        },
        {
          "output_type": "stream",
          "name": "stdout",
          "text": [
            "Verification SELECT NAME, RATING FROM RESTAURANT WHERE FOOD_TYPE = \"ASIAN\" AND CITY_NAME = \"CALIFORNIA\"\n",
            "Inference time = 788.1405732631683\n",
            "index :  204\n"
          ]
        },
        {
          "output_type": "stream",
          "name": "stderr",
          "text": [
            "Setting `pad_token_id` to `eos_token_id`:128001 for open-end generation.\n"
          ]
        },
        {
          "output_type": "stream",
          "name": "stdout",
          "text": [
            "Verification SELECT R.NAME FROM RESTAURANT AS R JOIN GEOGRAPHIC AS G ON R.CITY_NAME = G.CITY_NAME WHERE G.REGION = \"new york\" AND R.FOOD_TYPE = \"seafood\" ORDER BY R.RATING DESC LIMIT 5;\n",
            "\n",
            "### Response:\n",
            "SELECT R.NAME FROM RESTA\n",
            "Inference time = 794.7192521095276\n",
            "index :  205\n"
          ]
        },
        {
          "output_type": "stream",
          "name": "stderr",
          "text": [
            "Setting `pad_token_id` to `eos_token_id`:128001 for open-end generation.\n"
          ]
        },
        {
          "output_type": "stream",
          "name": "stdout",
          "text": [
            "Verification SELECT AVG(RATING) FROM RESTAURANT WHERE CITY_NAME = \"los angeles\"\n",
            "Inference time = 797.1006634235382\n",
            "index :  206\n"
          ]
        },
        {
          "output_type": "stream",
          "name": "stderr",
          "text": [
            "Setting `pad_token_id` to `eos_token_id`:128001 for open-end generation.\n"
          ]
        },
        {
          "output_type": "stream",
          "name": "stdout",
          "text": [
            "Verification SELECT NAME FROM RESTAURANT WHERE FOOD_TYPE = \"american\" AND CITY_NAME = \"fremont\"\n",
            "Inference time = 799.849616765976\n",
            "index :  207\n"
          ]
        },
        {
          "output_type": "stream",
          "name": "stderr",
          "text": [
            "Setting `pad_token_id` to `eos_token_id`:128001 for open-end generation.\n"
          ]
        },
        {
          "output_type": "stream",
          "name": "stdout",
          "text": [
            "Verification SELECT REGION FROM GEOGRAPHIC WHERE CITY_NAME IN (SELECT CITY_NAME FROM RESTAURANT ORDER BY COUNT(CITY_NAME) DESC LIMIT 1)\n",
            "Inference time = 803.6085760593414\n",
            "index :  208\n"
          ]
        },
        {
          "output_type": "stream",
          "name": "stderr",
          "text": [
            "Setting `pad_token_id` to `eos_token_id`:128001 for open-end generation.\n"
          ]
        },
        {
          "output_type": "stream",
          "name": "stdout",
          "text": [
            "Verification SELECT REGION, NAME FROM RESTAURANT ORDER BY RATING DESC LIMIT 10 GROUP BY REGION\n",
            "\n",
            "### Response:\n",
            "CREATE TABLE GEOGRAPHIC ( CITY_NAME text, COUNTY text, REGION text, primary key(CITY_NAME) );CREATE TABLE RESTAURANT ( ID int, NAME text, FOOD_TYPE text,\n",
            "Inference time = 809.9024248123169\n",
            "index :  209\n"
          ]
        },
        {
          "output_type": "stream",
          "name": "stderr",
          "text": [
            "Setting `pad_token_id` to `eos_token_id`:128001 for open-end generation.\n"
          ]
        },
        {
          "output_type": "stream",
          "name": "stdout",
          "text": [
            "Verification SELECT COUNT(RESTAURANT.FOOD_TYPE) FROM RESTAURANT WHERE RESTAURANT.CITY_NAME = \"Alameda\" GROUP BY RESTAURANT.FOOD_TYPE\n",
            "Inference time = 814.0852234363556\n",
            "index :  210\n"
          ]
        },
        {
          "output_type": "stream",
          "name": "stderr",
          "text": [
            "Setting `pad_token_id` to `eos_token_id`:128001 for open-end generation.\n"
          ]
        },
        {
          "output_type": "stream",
          "name": "stdout",
          "text": [
            "Verification SELECT NAME FROM RESTAURANT WHERE CITY_NAME NOT IN (SELECT CITY_NAME FROM GEOGRAPHIC WHERE COUNT(CITY_NAME) = (SELECT MAX(COUNT(CITY_NAME)) FROM GEOGRAPHIC))\n",
            "Inference time = 818.5172486305237\n",
            "index :  211\n"
          ]
        },
        {
          "output_type": "stream",
          "name": "stderr",
          "text": [
            "Setting `pad_token_id` to `eos_token_id`:128001 for open-end generation.\n"
          ]
        },
        {
          "output_type": "stream",
          "name": "stdout",
          "text": [
            "Verification SELECT AVG(RATING) FROM RESTAURANT WHERE CITY_NAME IN (SELECT CITY_NAME FROM GEOGRAPHIC ORDER BY COUNT(CITY_NAME) DESC LIMIT 1)\n",
            "Inference time = 822.2350368499756\n",
            "index :  212\n"
          ]
        },
        {
          "output_type": "stream",
          "name": "stderr",
          "text": [
            "Setting `pad_token_id` to `eos_token_id`:128001 for open-end generation.\n"
          ]
        },
        {
          "output_type": "stream",
          "name": "stdout",
          "text": [
            "Verification SELECT CITY_NAME, AVG(RATING) FROM RESTAURANT WHERE FOOD_TYPE = \"japanese\" GROUP BY CITY_NAME ORDER BY AVG(RATING) DESC LIMIT 5\n",
            "Inference time = 826.1410176753998\n",
            "index :  213\n"
          ]
        },
        {
          "output_type": "stream",
          "name": "stderr",
          "text": [
            "Setting `pad_token_id` to `eos_token_id`:128001 for open-end generation.\n"
          ]
        },
        {
          "output_type": "stream",
          "name": "stdout",
          "text": [
            "Verification SELECT NAME FROM RESTAURANT WHERE RATING > 4.5\n",
            "Inference time = 828.2645847797394\n",
            "index :  214\n"
          ]
        },
        {
          "output_type": "stream",
          "name": "stderr",
          "text": [
            "Setting `pad_token_id` to `eos_token_id`:128001 for open-end generation.\n"
          ]
        },
        {
          "output_type": "stream",
          "name": "stdout",
          "text": [
            "Verification SELECT FOOD_TYPE FROM RESTAURANT WHERE RATING > 4.0 AND CITY_NAME = \"San Francisco\"\n",
            "Inference time = 831.0938220024109\n",
            "index :  215\n"
          ]
        },
        {
          "output_type": "stream",
          "name": "stderr",
          "text": [
            "Setting `pad_token_id` to `eos_token_id`:128001 for open-end generation.\n"
          ]
        },
        {
          "output_type": "stream",
          "name": "stdout",
          "text": [
            "Verification SELECT NAME FROM RESTAURANT WHERE RATING = 5.0 AND CITY_NAME = \"santa clara\"\n",
            "Inference time = 833.9988780021667\n",
            "index :  216\n"
          ]
        },
        {
          "output_type": "stream",
          "name": "stderr",
          "text": [
            "Setting `pad_token_id` to `eos_token_id`:128001 for open-end generation.\n"
          ]
        },
        {
          "output_type": "stream",
          "name": "stdout",
          "text": [
            "Verification SELECT HOUSE_NUMBER FROM LOCATION WHERE CITY_NAME = \"Seattle\"\n",
            "Inference time = 835.7555899620056\n",
            "index :  217\n"
          ]
        },
        {
          "output_type": "stream",
          "name": "stderr",
          "text": [
            "Setting `pad_token_id` to `eos_token_id`:128001 for open-end generation.\n"
          ]
        },
        {
          "output_type": "stream",
          "name": "stdout",
          "text": [
            "Verification SELECT NAME FROM RESTAURANT WHERE FOOD_TYPE = \"Continental\" AND RATING > 3.5 AND CITY_NAME = \"Denver\"\n",
            "Inference time = 839.4257683753967\n",
            "index :  218\n"
          ]
        },
        {
          "output_type": "stream",
          "name": "stderr",
          "text": [
            "Setting `pad_token_id` to `eos_token_id`:128001 for open-end generation.\n"
          ]
        },
        {
          "output_type": "stream",
          "name": "stdout",
          "text": [
            "Verification SELECT NAME, RATING FROM RESTAURANT WHERE FOOD_TYPE = \"japanese\" AND CITY_NAME = \"new york\"\n",
            "Inference time = 842.4375567436218\n",
            "index :  219\n"
          ]
        },
        {
          "output_type": "stream",
          "name": "stderr",
          "text": [
            "Setting `pad_token_id` to `eos_token_id`:128001 for open-end generation.\n"
          ]
        },
        {
          "output_type": "stream",
          "name": "stdout",
          "text": [
            "Verification SELECT NAME, FOOD_TYPE FROM RESTAURANT WHERE RATING = 5 AND CITY_NAME = \"Los Angeles\"\n",
            "Inference time = 845.2616999149323\n",
            "index :  220\n"
          ]
        },
        {
          "output_type": "stream",
          "name": "stderr",
          "text": [
            "Setting `pad_token_id` to `eos_token_id`:128001 for open-end generation.\n"
          ]
        },
        {
          "output_type": "stream",
          "name": "stdout",
          "text": [
            "Verification SELECT COUNT(*) FROM `RESTAURANT` WHERE `FOOD_TYPE` = \"Italian\" AND `RATING` > 4 AND `CITY_NAME` = \"Chicago\"\n",
            "Inference time = 849.3309905529022\n",
            "index :  221\n"
          ]
        },
        {
          "output_type": "stream",
          "name": "stderr",
          "text": [
            "Setting `pad_token_id` to `eos_token_id`:128001 for open-end generation.\n"
          ]
        },
        {
          "output_type": "stream",
          "name": "stdout",
          "text": [
            "Verification SELECT HOUSE_NUMBER, STREET_NAME FROM LOCATION WHERE CITY_NAME IN (SELECT CITY_NAME FROM GEOGRAPHIC WHERE CITY_NAME LIKE '%A%')\n",
            "Inference time = 852.752646446228\n",
            "index :  222\n"
          ]
        },
        {
          "output_type": "stream",
          "name": "stderr",
          "text": [
            "Setting `pad_token_id` to `eos_token_id`:128001 for open-end generation.\n"
          ]
        },
        {
          "output_type": "stream",
          "name": "stdout",
          "text": [
            "Verification SELECT REGION, COUNTY FROM GEOGRAPHIC WHERE CITY_NAME IN (SELECT CITY_NAME FROM RESTAURANT WHERE FOOD_TYPE = \"Thai\" AND RATING > 4.0)\n",
            "Inference time = 856.7493858337402\n",
            "index :  223\n"
          ]
        },
        {
          "output_type": "stream",
          "name": "stderr",
          "text": [
            "Setting `pad_token_id` to `eos_token_id`:128001 for open-end generation.\n"
          ]
        },
        {
          "output_type": "stream",
          "name": "stdout",
          "text": [
            "Verification SELECT NAME FROM RESTAURANT WHERE FOOD_TYPE = \"chinese\" AND RATING > 4.2\n",
            "Inference time = 859.4908022880554\n",
            "index :  224\n"
          ]
        },
        {
          "output_type": "stream",
          "name": "stderr",
          "text": [
            "Setting `pad_token_id` to `eos_token_id`:128001 for open-end generation.\n"
          ]
        },
        {
          "output_type": "stream",
          "name": "stdout",
          "text": [
            "Verification SELECT LOCATION.HOUSE_NUMBER, LOCATION.STREET_NAME FROM LOCATION JOIN RESTAURANT ON LOCATION.RESTAURANT_ID = RESTAURANT.ID WHERE RESTAURANT.RATING > 4.0 AND GEOGRAPHIC.COUNTY = \"Santa Clara\"\n",
            "Inference time = 865.3682732582092\n",
            "index :  225\n"
          ]
        },
        {
          "output_type": "stream",
          "name": "stderr",
          "text": [
            "Setting `pad_token_id` to `eos_token_id`:128001 for open-end generation.\n"
          ]
        },
        {
          "output_type": "stream",
          "name": "stdout",
          "text": [
            "Verification SELECT NAME, RATING FROM RESTAURANT WHERE REGION = \"Pacific\"\n",
            "Inference time = 867.48947930336\n",
            "index :  226\n"
          ]
        },
        {
          "output_type": "stream",
          "name": "stderr",
          "text": [
            "Setting `pad_token_id` to `eos_token_id`:128001 for open-end generation.\n"
          ]
        },
        {
          "output_type": "stream",
          "name": "stdout",
          "text": [
            "Verification SELECT R.NAME, R.RATING FROM RESTAURANT AS R JOIN GEOGRAPHIC AS G ON R.CITY_NAME = G.CITY_NAME WHERE R.FOOD_TYPE = \"Indian\" ORDER BY R.RATING DESC LIMIT 5;\n",
            "\n",
            "### Response:\n",
            "SELECT R.NAME, R.RATING FROM RESTAURANT\n",
            "Inference time = 873.8394513130188\n",
            "index :  227\n"
          ]
        },
        {
          "output_type": "stream",
          "name": "stderr",
          "text": [
            "Setting `pad_token_id` to `eos_token_id`:128001 for open-end generation.\n"
          ]
        },
        {
          "output_type": "stream",
          "name": "stdout",
          "text": [
            "Verification SELECT HOUSE_NUMBER, STREET_NAME FROM LOCATION WHERE RATING > 4.3 AND FOOD_TYPE = \"American\" AND CITY_NAME = \"Palo Alto\"\n",
            "Inference time = 877.6577243804932\n",
            "index :  228\n"
          ]
        },
        {
          "output_type": "stream",
          "name": "stderr",
          "text": [
            "Setting `pad_token_id` to `eos_token_id`:128001 for open-end generation.\n"
          ]
        },
        {
          "output_type": "stream",
          "name": "stdout",
          "text": [
            "Verification SELECT NAME, RATING FROM RESTAURANT WHERE FOOD_TYPE = \"seafood\" AND CITY_NAME IN (SELECT CITY_NAME FROM GEOGRAPHIC WHERE REGION = \"northeast\")\n",
            "Inference time = 881.6431727409363\n",
            "index :  229\n"
          ]
        },
        {
          "output_type": "stream",
          "name": "stderr",
          "text": [
            "Setting `pad_token_id` to `eos_token_id`:128001 for open-end generation.\n"
          ]
        },
        {
          "output_type": "stream",
          "name": "stdout",
          "text": [
            "Verification SELECT COUNT(*) FROM `RESTAURANT` WHERE `FOOD_TYPE` = \"Italian\" AND `RATING` > 4.0 AND `CITY_NAME` = \"San Francisco\"\n",
            "Inference time = 886.3743870258331\n",
            "index :  230\n"
          ]
        },
        {
          "output_type": "stream",
          "name": "stderr",
          "text": [
            "Setting `pad_token_id` to `eos_token_id`:128001 for open-end generation.\n"
          ]
        },
        {
          "output_type": "stream",
          "name": "stdout",
          "text": [
            "Verification SELECT NAME, AVG(RATING) FROM RESTAURANT WHERE RATING > 3.8 ORDER BY AVG(RATING) DESC;\n",
            "\n",
            "### Response:\n",
            "SELECT NAME, AVG(RATING) FROM RESTAURANT WHERE RATING > 3.8 ORDER BY AVG(RATING) DESC;\n",
            "Inference time = 892.427473783493\n",
            "index :  231\n"
          ]
        },
        {
          "output_type": "stream",
          "name": "stderr",
          "text": [
            "Setting `pad_token_id` to `eos_token_id`:128001 for open-end generation.\n"
          ]
        },
        {
          "output_type": "stream",
          "name": "stdout",
          "text": [
            "Verification SELECT CITY_NAME, HOUSE_NUMBER, MAX(RATING) FROM LOCATION JOIN RESTAURANT ON LOCATION.CITY_NAME = RESTAURANT.CITY_NAME GROUP BY CITY_NAME\n",
            "Inference time = 896.2315104007721\n",
            "index :  232\n"
          ]
        },
        {
          "output_type": "stream",
          "name": "stderr",
          "text": [
            "Setting `pad_token_id` to `eos_token_id`:128001 for open-end generation.\n"
          ]
        },
        {
          "output_type": "stream",
          "name": "stdout",
          "text": [
            "Verification SELECT NAME FROM RESTAURANT WHERE CITY_NAME NOT IN (SELECT CITY_NAME FROM GEOGRAPHIC)\n",
            "Inference time = 898.9082827568054\n",
            "index :  233\n"
          ]
        },
        {
          "output_type": "stream",
          "name": "stderr",
          "text": [
            "Setting `pad_token_id` to `eos_token_id`:128001 for open-end generation.\n"
          ]
        },
        {
          "output_type": "stream",
          "name": "stdout",
          "text": [
            "Verification SELECT NAME FROM RESTAURANT WHERE CITY_NAME = \"San Francisco\" AND FOOD_TYPE = \"Italian\" ORDER BY RATING DESC LIMIT 1;\n",
            "\n",
            "### Response:\n",
            "SELECT NAME FROM RESTAURANT WHERE CITY_NAME = \"San Francisco\" AND FOOD_TYPE = \"Italian\" ORDER BY RATING DESC LIMIT 1\n",
            "Inference time = 905.2169280052185\n",
            "index :  234\n"
          ]
        },
        {
          "output_type": "stream",
          "name": "stderr",
          "text": [
            "Setting `pad_token_id` to `eos_token_id`:128001 for open-end generation.\n"
          ]
        },
        {
          "output_type": "stream",
          "name": "stdout",
          "text": [
            "Verification SELECT NAME FROM RESTAURANT WHERE CITY_NAME = (SELECT CITY_NAME FROM GEOGRAPHIC WHERE COUNTY = \"santa clara\" AND REGION = \"america\") AND FOOD_TYPE = \"american\"\n",
            "Inference time = 909.6469521522522\n",
            "index :  235\n"
          ]
        },
        {
          "output_type": "stream",
          "name": "stderr",
          "text": [
            "Setting `pad_token_id` to `eos_token_id`:128001 for open-end generation.\n"
          ]
        },
        {
          "output_type": "stream",
          "name": "stdout",
          "text": [
            "Verification SELECT NAME FROM RESTAURANT WHERE FOOD_TYPE = \"burger\" AND CITY_NAME = \"santa clara\"\n",
            "Inference time = 912.6682858467102\n",
            "index :  236\n"
          ]
        },
        {
          "output_type": "stream",
          "name": "stderr",
          "text": [
            "Setting `pad_token_id` to `eos_token_id`:128001 for open-end generation.\n"
          ]
        },
        {
          "output_type": "stream",
          "name": "stdout",
          "text": [
            "Verification SELECT NAME FROM RESTAURANT WHERE CITY_NAME IN (SELECT CITY_NAME FROM GEOGRAPHIC WHERE REGION = 'WEST') AND RATING > 3.5 ORDER BY RATING DESC LIMIT 5\n",
            "Inference time = 916.9733030796051\n",
            "index :  237\n"
          ]
        },
        {
          "output_type": "stream",
          "name": "stderr",
          "text": [
            "Setting `pad_token_id` to `eos_token_id`:128001 for open-end generation.\n"
          ]
        },
        {
          "output_type": "stream",
          "name": "stdout",
          "text": [
            "Verification SELECT CITY_NAME FROM GEOGRAPHIC WHERE RATING > (SELECT AVG(RATING) FROM RESTAURANT) ORDER BY RATING DESC LIMIT 1\n",
            "Inference time = 920.4209094047546\n",
            "index :  238\n"
          ]
        },
        {
          "output_type": "stream",
          "name": "stderr",
          "text": [
            "Setting `pad_token_id` to `eos_token_id`:128001 for open-end generation.\n"
          ]
        },
        {
          "output_type": "stream",
          "name": "stdout",
          "text": [
            "Verification SELECT NAME FROM RESTAURANT WHERE FOOD_TYPE = \"steak\"\n",
            "Inference time = 922.5410022735596\n",
            "index :  239\n"
          ]
        },
        {
          "output_type": "stream",
          "name": "stderr",
          "text": [
            "Setting `pad_token_id` to `eos_token_id`:128001 for open-end generation.\n"
          ]
        },
        {
          "output_type": "stream",
          "name": "stdout",
          "text": [
            "Verification SELECT NAME FROM RESTAURANT WHERE RATING > (SELECT AVG(RATING) FROM RESTAURANT) ORDER BY RATING DESC LIMIT 5\n",
            "Inference time = 926.1261854171753\n",
            "index :  240\n"
          ]
        },
        {
          "output_type": "stream",
          "name": "stderr",
          "text": [
            "Setting `pad_token_id` to `eos_token_id`:128001 for open-end generation.\n"
          ]
        },
        {
          "output_type": "stream",
          "name": "stdout",
          "text": [
            "Verification SELECT NAME FROM RESTAURANT WHERE CITY_NAME = \"los angeles county\"\n",
            "Inference time = 928.3204555511475\n",
            "index :  241\n"
          ]
        },
        {
          "output_type": "stream",
          "name": "stderr",
          "text": [
            "Setting `pad_token_id` to `eos_token_id`:128001 for open-end generation.\n"
          ]
        },
        {
          "output_type": "stream",
          "name": "stdout",
          "text": [
            "Verification SELECT NAME FROM RESTAURANT WHERE FOOD_TYPE = \"american\" ORDER BY RATING DESC LIMIT 5;\n",
            "\n",
            "### Response:\n",
            "SELECT NAME FROM RESTAURANT WHERE FOOD_TYPE = \"american\" ORDER BY RATING DESC LIMIT 5;\n",
            "Inference time = 933.348795413971\n",
            "index :  242\n"
          ]
        },
        {
          "output_type": "stream",
          "name": "stderr",
          "text": [
            "Setting `pad_token_id` to `eos_token_id`:128001 for open-end generation.\n"
          ]
        },
        {
          "output_type": "stream",
          "name": "stdout",
          "text": [
            "Verification SELECT DISTINCT FOOD_TYPE FROM RESTAURANT WHERE CITY_NAME IN (SELECT CITY_NAME FROM GEOGRAPHIC WHERE REGION ='south')\n",
            "Inference time = 936.6632208824158\n",
            "index :  243\n"
          ]
        },
        {
          "output_type": "stream",
          "name": "stderr",
          "text": [
            "Setting `pad_token_id` to `eos_token_id`:128001 for open-end generation.\n"
          ]
        },
        {
          "output_type": "stream",
          "name": "stdout",
          "text": [
            "Verification SELECT FOOD_TYPE FROM RESTAURANT WHERE RATING = (SELECT MIN(RATING) FROM RESTAURANT WHERE REGION = \"West Coast\")\n",
            "Inference time = 940.0081119537354\n",
            "index :  244\n"
          ]
        },
        {
          "output_type": "stream",
          "name": "stderr",
          "text": [
            "Setting `pad_token_id` to `eos_token_id`:128001 for open-end generation.\n"
          ]
        },
        {
          "output_type": "stream",
          "name": "stdout",
          "text": [
            "Verification SELECT NAME FROM RESTAURANT WHERE FOOD_TYPE = \"bakery\" AND RATING > 4 AND CITY_NAME = \"oakland\"\n",
            "Inference time = 943.3778810501099\n",
            "index :  245\n"
          ]
        },
        {
          "output_type": "stream",
          "name": "stderr",
          "text": [
            "Setting `pad_token_id` to `eos_token_id`:128001 for open-end generation.\n"
          ]
        },
        {
          "output_type": "stream",
          "name": "stdout",
          "text": [
            "Verification SELECT AVG(RATING) FROM RESTAURANT WHERE CITY_NAME = \"San Francisco\"\n",
            "Inference time = 945.6577610969543\n",
            "index :  246\n"
          ]
        },
        {
          "output_type": "stream",
          "name": "stderr",
          "text": [
            "Setting `pad_token_id` to `eos_token_id`:128001 for open-end generation.\n"
          ]
        },
        {
          "output_type": "stream",
          "name": "stdout",
          "text": [
            "Verification SELECT DISTINCT FOOD_TYPE FROM RESTAURANT WHERE CITY_NAME LIKE '%city'\n",
            "Inference time = 947.9557783603668\n",
            "index :  247\n"
          ]
        },
        {
          "output_type": "stream",
          "name": "stderr",
          "text": [
            "Setting `pad_token_id` to `eos_token_id`:128001 for open-end generation.\n"
          ]
        },
        {
          "output_type": "stream",
          "name": "stdout",
          "text": [
            "Verification SELECT HOUSE_NUMBER FROM LOCATION WHERE FOOD_TYPE = \"Pizza\" AND REGION = \"Northeast\"\n",
            "Inference time = 950.340653181076\n",
            "index :  248\n"
          ]
        },
        {
          "output_type": "stream",
          "name": "stderr",
          "text": [
            "Setting `pad_token_id` to `eos_token_id`:128001 for open-end generation.\n"
          ]
        },
        {
          "output_type": "stream",
          "name": "stdout",
          "text": [
            "Verification SELECT COUNT(CITY_NAME) FROM GEOGRAPHIC WHERE COUNTY IN (SELECT COUNTY FROM GEOGRAPHIC WHERE CITY_NAME IN (SELECT CITY_NAME FROM RESTAURANT WHERE FOOD_TYPE = \"Korean\")) GROUP BY COUNTY ORDER BY COUNT(CITY_NAME) DESC;\n",
            "\n",
            "### Response:\n",
            "SELECT COUNT(CITY_NAME) FROM GEO\n",
            "Inference time = 956.6442070007324\n",
            "index :  249\n"
          ]
        },
        {
          "output_type": "stream",
          "name": "stderr",
          "text": [
            "Setting `pad_token_id` to `eos_token_id`:128001 for open-end generation.\n"
          ]
        },
        {
          "output_type": "stream",
          "name": "stdout",
          "text": [
            "Verification SELECT MAX(RATING) FROM RESTAURANT WHERE REGION = \"Central\"\n",
            "Inference time = 958.8793821334839\n",
            "index :  250\n"
          ]
        },
        {
          "output_type": "stream",
          "name": "stderr",
          "text": [
            "Setting `pad_token_id` to `eos_token_id`:128001 for open-end generation.\n"
          ]
        },
        {
          "output_type": "stream",
          "name": "stdout",
          "text": [
            "Verification SELECT FOOD_TYPE, AVG(RATING) FROM RESTAURANT GROUP BY FOOD_TYPE ORDER BY AVG(RATING) DESC LIMIT 5\n",
            "Inference time = 962.0581979751587\n",
            "index :  251\n"
          ]
        },
        {
          "output_type": "stream",
          "name": "stderr",
          "text": [
            "Setting `pad_token_id` to `eos_token_id`:128001 for open-end generation.\n"
          ]
        },
        {
          "output_type": "stream",
          "name": "stdout",
          "text": [
            "Verification SELECT NAME FROM RESTAURANT WHERE FOOD_TYPE = \"Mexican\" AND RATING BETWEEN 3.5 AND 4.5 AND REGION = \"West\"\n",
            "Inference time = 965.8492300510406\n",
            "index :  252\n"
          ]
        },
        {
          "output_type": "stream",
          "name": "stderr",
          "text": [
            "Setting `pad_token_id` to `eos_token_id`:128001 for open-end generation.\n"
          ]
        },
        {
          "output_type": "stream",
          "name": "stdout",
          "text": [
            "Verification SELECT CITY_NAME FROM GEOGRAPHIC WHERE CITY_NAME IN (SELECT CITY_NAME FROM RESTAURANT WHERE RATING > 4)\n",
            "Inference time = 968.938549041748\n",
            "index :  253\n"
          ]
        },
        {
          "output_type": "stream",
          "name": "stderr",
          "text": [
            "Setting `pad_token_id` to `eos_token_id`:128001 for open-end generation.\n"
          ]
        },
        {
          "output_type": "stream",
          "name": "stdout",
          "text": [
            "Verification SELECT NAME FROM RESTAURANT WHERE RATING = (SELECT MIN(RATING) FROM RESTAURANT WHERE CITY_NAME = (SELECT CITY_NAME FROM GEOGRAPHIC WHERE REGION = 'California'))\n",
            "Inference time = 973.5142652988434\n",
            "index :  254\n"
          ]
        },
        {
          "output_type": "stream",
          "name": "stderr",
          "text": [
            "Setting `pad_token_id` to `eos_token_id`:128001 for open-end generation.\n"
          ]
        },
        {
          "output_type": "stream",
          "name": "stdout",
          "text": [
            "Verification SELECT NAME FROM RESTAURANT WHERE FOOD_TYPE = \"indian\" AND CITY_NAME IN (SELECT CITY_NAME FROM GEOGRAPHIC WHERE COUNTY = \"arapahoe\")\n",
            "Inference time = 977.417852640152\n",
            "index :  255\n"
          ]
        },
        {
          "output_type": "stream",
          "name": "stderr",
          "text": [
            "Setting `pad_token_id` to `eos_token_id`:128001 for open-end generation.\n"
          ]
        },
        {
          "output_type": "stream",
          "name": "stdout",
          "text": [
            "Verification SELECT NAME FROM RESTAURANT WHERE RATING = (SELECT MAX(RATING) FROM RESTAURANT WHERE CITY_NAME = (SELECT CITY_NAME FROM GEOGRAPHIC WHERE REGION = 'Greater Los Angeles Area')) AND FOOD_TYPE = 'Thai'\n",
            "Inference time = 982.6366400718689\n",
            "index :  256\n"
          ]
        },
        {
          "output_type": "stream",
          "name": "stderr",
          "text": [
            "Setting `pad_token_id` to `eos_token_id`:128001 for open-end generation.\n"
          ]
        },
        {
          "output_type": "stream",
          "name": "stdout",
          "text": [
            "Verification SELECT NAME FROM RESTAURANT WHERE FOOD_TYPE = \"bistro\" AND CITY_NAME = \"chicago\" ORDER BY RATING DESC LIMIT 1;\n",
            "\n",
            "### Response:\n",
            "SELECT NAME FROM RESTAURANT WHERE FOOD_TYPE = \"bistro\" AND CITY_NAME = \"chicago\" ORDER BY RATING DESC LIMIT\n",
            "Inference time = 989.1110618114471\n",
            "index :  257\n"
          ]
        },
        {
          "output_type": "stream",
          "name": "stderr",
          "text": [
            "Setting `pad_token_id` to `eos_token_id`:128001 for open-end generation.\n"
          ]
        },
        {
          "output_type": "stream",
          "name": "stdout",
          "text": [
            "Verification SELECT STREET_NAME FROM LOCATION WHERE RATING > 4.5 AND FOOD_TYPE = \"japanese\" GROUP BY STREET_NAME ORDER BY COUNT(*) DESC LIMIT 1\n",
            "Inference time = 992.7343814373016\n",
            "index :  258\n"
          ]
        },
        {
          "output_type": "stream",
          "name": "stderr",
          "text": [
            "Setting `pad_token_id` to `eos_token_id`:128001 for open-end generation.\n"
          ]
        },
        {
          "output_type": "stream",
          "name": "stdout",
          "text": [
            "Verification SELECT CITY_NAME FROM GEOGRAPHIC WHERE REGION = \"West Coast\" AND EXISTS (SELECT * FROM RESTAURANT WHERE RATING > 4 AND CITY_NAME = GEOGRAPHIC.CITY_NAME)\n",
            "Inference time = 997.3481178283691\n",
            "index :  259\n"
          ]
        },
        {
          "output_type": "stream",
          "name": "stderr",
          "text": [
            "Setting `pad_token_id` to `eos_token_id`:128001 for open-end generation.\n"
          ]
        },
        {
          "output_type": "stream",
          "name": "stdout",
          "text": [
            "Verification SELECT REGION FROM GEOGRAPHIC WHERE CITY_NAME IN (SELECT CITY_NAME FROM RESTAURANT WHERE FOOD_TYPE = \"Italian\" AND RATING > 4 AND RATING < 2)\n",
            "Inference time = 1001.5150349140167\n",
            "index :  260\n"
          ]
        },
        {
          "output_type": "stream",
          "name": "stderr",
          "text": [
            "Setting `pad_token_id` to `eos_token_id`:128001 for open-end generation.\n"
          ]
        },
        {
          "output_type": "stream",
          "name": "stdout",
          "text": [
            "Verification SELECT NAME FROM RESTAURANT WHERE RATING = (SELECT MIN(RATING) FROM RESTAURANT WHERE CITY_NAME = (SELECT CITY_NAME FROM GEOGRAPHIC WHERE REGION = \"Southern California\"))\n",
            "Inference time = 1005.8463034629822\n",
            "index :  261\n"
          ]
        },
        {
          "output_type": "stream",
          "name": "stderr",
          "text": [
            "Setting `pad_token_id` to `eos_token_id`:128001 for open-end generation.\n"
          ]
        },
        {
          "output_type": "stream",
          "name": "stdout",
          "text": [
            "Verification SELECT NAME FROM RESTAURANT WHERE RATING = (SELECT MAX(RATING) FROM RESTAURANT WHERE CITY_NAME = (SELECT CITY_NAME FROM GEOGRAPHIC WHERE REGION = \"North Bay\"))\n",
            "Inference time = 1010.4063410758972\n",
            "index :  262\n"
          ]
        },
        {
          "output_type": "stream",
          "name": "stderr",
          "text": [
            "Setting `pad_token_id` to `eos_token_id`:128001 for open-end generation.\n"
          ]
        },
        {
          "output_type": "stream",
          "name": "stdout",
          "text": [
            "Verification SELECT NAME FROM RESTAURANT WHERE FOOD_TYPE = \"Italian\" AND REGION = \"South\"\n",
            "Inference time = 1012.8779468536377\n",
            "index :  263\n"
          ]
        },
        {
          "output_type": "stream",
          "name": "stderr",
          "text": [
            "Setting `pad_token_id` to `eos_token_id`:128001 for open-end generation.\n"
          ]
        },
        {
          "output_type": "stream",
          "name": "stdout",
          "text": [
            "Verification SELECT AVG(RATING) FROM RESTAURANT WHERE FOOD_TYPE = \"good Japanese food\" AND CITY_NAME = \"Santa Clara County\"\n",
            "Inference time = 1016.062647819519\n",
            "index :  264\n"
          ]
        },
        {
          "output_type": "stream",
          "name": "stderr",
          "text": [
            "Setting `pad_token_id` to `eos_token_id`:128001 for open-end generation.\n"
          ]
        },
        {
          "output_type": "stream",
          "name": "stdout",
          "text": [
            "Verification SELECT COUNT(*) FROM `RESTAURANT` WHERE `FOOD_TYPE` = \"halal\" GROUP BY `CITY_NAME`\n",
            "Inference time = 1019.3477368354797\n",
            "index :  265\n"
          ]
        },
        {
          "output_type": "stream",
          "name": "stderr",
          "text": [
            "Setting `pad_token_id` to `eos_token_id`:128001 for open-end generation.\n"
          ]
        },
        {
          "output_type": "stream",
          "name": "stdout",
          "text": [
            "Verification SELECT NAME, RATING FROM RESTAURANT WHERE RATING > 4.5 AND REGION = \"West\"\n",
            "Inference time = 1022.2395968437195\n",
            "index :  266\n"
          ]
        },
        {
          "output_type": "stream",
          "name": "stderr",
          "text": [
            "Setting `pad_token_id` to `eos_token_id`:128001 for open-end generation.\n"
          ]
        },
        {
          "output_type": "stream",
          "name": "stdout",
          "text": [
            "Verification SELECT NAME, RATING FROM RESTAURANT WHERE CITY_NAME IN ('Los Angeles', 'San Diego') AND FOOD_TYPE = 'Indian' ORDER BY RATING DESC\n",
            "Inference time = 1026.041404247284\n",
            "index :  267\n"
          ]
        },
        {
          "output_type": "stream",
          "name": "stderr",
          "text": [
            "Setting `pad_token_id` to `eos_token_id`:128001 for open-end generation.\n"
          ]
        },
        {
          "output_type": "stream",
          "name": "stdout",
          "text": [
            "Verification SELECT COUNT(RESTAURANT.NAME) FROM RESTAURANT WHERE RESTAURANT.FOOD_TYPE = \"Dim Sum\" GROUP BY RESTAURANT.CITY_NAME ORDER BY COUNT(RESTAURANT.NAME) DESC\n",
            "Inference time = 1030.9994096755981\n",
            "index :  268\n"
          ]
        },
        {
          "output_type": "stream",
          "name": "stderr",
          "text": [
            "Setting `pad_token_id` to `eos_token_id`:128001 for open-end generation.\n"
          ]
        },
        {
          "output_type": "stream",
          "name": "stdout",
          "text": [
            "Verification SELECT AVG(RATING) FROM RESTAURANT WHERE FOOD_TYPE = \"Pizza\" AND CITY_NAME = \"New York City\"\n",
            "Inference time = 1034.175668478012\n",
            "index :  269\n"
          ]
        },
        {
          "output_type": "stream",
          "name": "stderr",
          "text": [
            "Setting `pad_token_id` to `eos_token_id`:128001 for open-end generation.\n"
          ]
        },
        {
          "output_type": "stream",
          "name": "stdout",
          "text": [
            "Verification SELECT NAME FROM RESTAURANT WHERE RATING > (SELECT AVG(RATING) FROM RESTAURANT WHERE CITY_NAME = \"Boston\") ORDER BY RATING DESC LIMIT 5\n",
            "Inference time = 1038.1548826694489\n",
            "index :  270\n"
          ]
        },
        {
          "output_type": "stream",
          "name": "stderr",
          "text": [
            "Setting `pad_token_id` to `eos_token_id`:128001 for open-end generation.\n"
          ]
        },
        {
          "output_type": "stream",
          "name": "stdout",
          "text": [
            "Verification SELECT NAME, HOUSE_NUMBER FROM `RESTAURANT` WHERE FOOD_TYPE = \"Mediterranean\" AND CITY_NAME IN (SELECT CITY_NAME FROM `GEOGRAPHIC` WHERE COUNT(CITY_NAME) > 2)\n",
            "Inference time = 1043.0905029773712\n",
            "index :  271\n"
          ]
        },
        {
          "output_type": "stream",
          "name": "stderr",
          "text": [
            "Setting `pad_token_id` to `eos_token_id`:128001 for open-end generation.\n"
          ]
        },
        {
          "output_type": "stream",
          "name": "stdout",
          "text": [
            "Verification SELECT CITY_NAME FROM GEOGRAPHIC WHERE CITY_NAME IN (SELECT CITY_NAME FROM RESTAURANT WHERE RATING > 3.5 AND FOOD_TYPE = \"Arabic\")\n",
            "Inference time = 1047.1543991565704\n",
            "index :  272\n"
          ]
        },
        {
          "output_type": "stream",
          "name": "stderr",
          "text": [
            "Setting `pad_token_id` to `eos_token_id`:128001 for open-end generation.\n"
          ]
        },
        {
          "output_type": "stream",
          "name": "stdout",
          "text": [
            "Verification SELECT COUNT(*) FROM `RESTAURANT` WHERE `CITY_NAME` = \"Los Angeles\"\n",
            "Inference time = 1049.7039518356323\n",
            "index :  273\n"
          ]
        },
        {
          "output_type": "stream",
          "name": "stderr",
          "text": [
            "Setting `pad_token_id` to `eos_token_id`:128001 for open-end generation.\n"
          ]
        },
        {
          "output_type": "stream",
          "name": "stdout",
          "text": [
            "Verification SELECT AVG(RATING) FROM RESTAURANT WHERE CITY_NAME = \"New York City\"\n",
            "Inference time = 1052.0969381332397\n",
            "index :  274\n"
          ]
        },
        {
          "output_type": "stream",
          "name": "stderr",
          "text": [
            "Setting `pad_token_id` to `eos_token_id`:128001 for open-end generation.\n"
          ]
        },
        {
          "output_type": "stream",
          "name": "stdout",
          "text": [
            "Verification SELECT NAME FROM RESTAURANT WHERE FOOD_TYPE = \"burgers\" AND RATING > (SELECT AVG(RATING) FROM RESTAURANT WHERE CITY_NAME = \"austin\") ORDER BY RATING DESC LIMIT 5\n",
            "Inference time = 1057.1440665721893\n",
            "index :  275\n"
          ]
        },
        {
          "output_type": "stream",
          "name": "stderr",
          "text": [
            "Setting `pad_token_id` to `eos_token_id`:128001 for open-end generation.\n"
          ]
        },
        {
          "output_type": "stream",
          "name": "stdout",
          "text": [
            "Verification SELECT HOUSE_NUMBER FROM LOCATION WHERE CITY_NAME = \"Seattle\" AND FOOD_TYPE = \"Thai\"\n",
            "Inference time = 1059.5249199867249\n",
            "index :  276\n"
          ]
        },
        {
          "output_type": "stream",
          "name": "stderr",
          "text": [
            "Setting `pad_token_id` to `eos_token_id`:128001 for open-end generation.\n"
          ]
        },
        {
          "output_type": "stream",
          "name": "stdout",
          "text": [
            "Verification SELECT NAME FROM RESTAURANT WHERE RATING > 4.5 AND FOOD_TYPE = \"mexican\" AND CITY_NAME = \"denver\"\n",
            "Inference time = 1063.0709121227264\n",
            "index :  277\n"
          ]
        },
        {
          "output_type": "stream",
          "name": "stderr",
          "text": [
            "Setting `pad_token_id` to `eos_token_id`:128001 for open-end generation.\n"
          ]
        },
        {
          "output_type": "stream",
          "name": "stdout",
          "text": [
            "Verification SELECT MIN(RATING), MAX(RATING) FROM RESTAURANT WHERE CITY_NAME = \"LONDON\"\n",
            "Inference time = 1065.7295813560486\n",
            "index :  278\n"
          ]
        },
        {
          "output_type": "stream",
          "name": "stderr",
          "text": [
            "Setting `pad_token_id` to `eos_token_id`:128001 for open-end generation.\n"
          ]
        },
        {
          "output_type": "stream",
          "name": "stdout",
          "text": [
            "Verification SELECT REGION, COUNT(*) FROM GEOGRAPHIC GROUP BY REGION ORDER BY REGION ASC;\n",
            "\n",
            "### Response:\n",
            "CREATE TABLE GEOGRAPHIC ( CITY_NAME text, COUNTY text, REGION text, primary key(CITY_NAME) );CREATE TABLE RESTAURANT ( ID int, NAME text, FOOD_TYPE text, CITY_NAME text,\n",
            "Inference time = 1072.2738325595856\n",
            "index :  279\n"
          ]
        },
        {
          "output_type": "stream",
          "name": "stderr",
          "text": [
            "Setting `pad_token_id` to `eos_token_id`:128001 for open-end generation.\n"
          ]
        },
        {
          "output_type": "stream",
          "name": "stdout",
          "text": [
            "Verification SELECT AVG(RATING) FROM RESTAURANT WHERE CITY_NAME = \"United States\"\n",
            "Inference time = 1074.8696451187134\n",
            "index :  280\n"
          ]
        },
        {
          "output_type": "stream",
          "name": "stderr",
          "text": [
            "Setting `pad_token_id` to `eos_token_id`:128001 for open-end generation.\n"
          ]
        },
        {
          "output_type": "stream",
          "name": "stdout",
          "text": [
            "Verification SELECT CITY_NAME FROM GEOGRAPHIC WHERE COUNTY = \"france\" AND FOOD_TYPE = \"italian\"\n",
            "Inference time = 1077.5242397785187\n",
            "index :  281\n"
          ]
        },
        {
          "output_type": "stream",
          "name": "stderr",
          "text": [
            "Setting `pad_token_id` to `eos_token_id`:128001 for open-end generation.\n"
          ]
        },
        {
          "output_type": "stream",
          "name": "stdout",
          "text": [
            "Verification SELECT DISTINCT FOOD_TYPE FROM RESTAURANT WHERE CITY_NAME = \"Orange County\"\n",
            "Inference time = 1079.8583352565765\n",
            "index :  282\n"
          ]
        },
        {
          "output_type": "stream",
          "name": "stderr",
          "text": [
            "Setting `pad_token_id` to `eos_token_id`:128001 for open-end generation.\n"
          ]
        },
        {
          "output_type": "stream",
          "name": "stdout",
          "text": [
            "Verification SELECT NAME FROM RESTAURANT WHERE RATING > 4.0\n",
            "Inference time = 1081.8842809200287\n",
            "index :  283\n"
          ]
        },
        {
          "output_type": "stream",
          "name": "stderr",
          "text": [
            "Setting `pad_token_id` to `eos_token_id`:128001 for open-end generation.\n"
          ]
        },
        {
          "output_type": "stream",
          "name": "stdout",
          "text": [
            "Verification SELECT ID FROM RESTAURANT WHERE RATING > 4 AND CITY_NAME = \"San Francisco\"\n",
            "Inference time = 1084.4477398395538\n",
            "index :  284\n"
          ]
        },
        {
          "output_type": "stream",
          "name": "stderr",
          "text": [
            "Setting `pad_token_id` to `eos_token_id`:128001 for open-end generation.\n"
          ]
        },
        {
          "output_type": "stream",
          "name": "stdout",
          "text": [
            "Verification SELECT NAME FROM RESTAURANT WHERE FOOD_TYPE = \"Arabic\" AND RATING > 3.5 AND CITY_NAME = \"Mountain View\"\n",
            "Inference time = 1087.9040055274963\n",
            "index :  285\n"
          ]
        },
        {
          "output_type": "stream",
          "name": "stderr",
          "text": [
            "Setting `pad_token_id` to `eos_token_id`:128001 for open-end generation.\n"
          ]
        },
        {
          "output_type": "stream",
          "name": "stdout",
          "text": [
            "Verification SELECT CITY_NAME FROM GEOGRAPHIC WHERE CITY_NAME IN (SELECT CITY_NAME FROM RESTAURANT WHERE FOOD_TYPE = \"American\" AND CHOICE = \"Yes\" )\n",
            "Inference time = 1091.8294672966003\n",
            "index :  286\n"
          ]
        },
        {
          "output_type": "stream",
          "name": "stderr",
          "text": [
            "Setting `pad_token_id` to `eos_token_id`:128001 for open-end generation.\n"
          ]
        },
        {
          "output_type": "stream",
          "name": "stdout",
          "text": [
            "Verification SELECT MIN(RATING), MAX(RATING) FROM RESTAURANT WHERE CITY_NAME = \"New York City\" AND FOOD_TYPE = \"Italian\"\n",
            "Inference time = 1095.199533700943\n",
            "index :  287\n"
          ]
        },
        {
          "output_type": "stream",
          "name": "stderr",
          "text": [
            "Setting `pad_token_id` to `eos_token_id`:128001 for open-end generation.\n"
          ]
        },
        {
          "output_type": "stream",
          "name": "stdout",
          "text": [
            "Verification SELECT COUNT(*) FROM `RESTAURANT` WHERE `FOOD_TYPE` ='vegetarian' AND `RATING` >= 3.5 AND `CITY_NAME` ='seattle'\n",
            "Inference time = 1099.6324019432068\n",
            "index :  288\n"
          ]
        },
        {
          "output_type": "stream",
          "name": "stderr",
          "text": [
            "Setting `pad_token_id` to `eos_token_id`:128001 for open-end generation.\n"
          ]
        },
        {
          "output_type": "stream",
          "name": "stdout",
          "text": [
            "Verification SELECT HOUSE_NUMBER FROM LOCATION WHERE FOOD_TYPE = \"Indian\" AND CITY_NAME = \"Los Angeles\"\n",
            "Inference time = 1102.1008632183075\n",
            "index :  289\n"
          ]
        },
        {
          "output_type": "stream",
          "name": "stderr",
          "text": [
            "Setting `pad_token_id` to `eos_token_id`:128001 for open-end generation.\n"
          ]
        },
        {
          "output_type": "stream",
          "name": "stdout",
          "text": [
            "Verification SELECT NAME FROM RESTAURANT WHERE FOOD_TYPE = \"noodle\" AND RATING > 3.8 AND CITY_NAME = \"Denver\"\n",
            "Inference time = 1105.790638923645\n",
            "index :  290\n"
          ]
        },
        {
          "output_type": "stream",
          "name": "stderr",
          "text": [
            "Setting `pad_token_id` to `eos_token_id`:128001 for open-end generation.\n"
          ]
        },
        {
          "output_type": "stream",
          "name": "stdout",
          "text": [
            "Verification SELECT REGION FROM GEOGRAPHIC WHERE CITY_NAME IN (SELECT CITY_NAME FROM RESTAURANT WHERE FOOD_TYPE = \"seafood\" AND RATING > 3.5) GROUP BY REGION HAVING COUNT(*) > 3\n",
            "\n",
            "### Response:\n",
            "SELECT REGION FROM GEOGRAPHIC WHERE CITY_NAME IN (SELECT CITY_NAME\n",
            "Inference time = 1112.0957794189453\n",
            "index :  291\n"
          ]
        },
        {
          "output_type": "stream",
          "name": "stderr",
          "text": [
            "Setting `pad_token_id` to `eos_token_id`:128001 for open-end generation.\n"
          ]
        },
        {
          "output_type": "stream",
          "name": "stdout",
          "text": [
            "Verification SELECT NAME FROM RESTAURANT WHERE FOOD_TYPE = \"Arabic\" AND CITY_NAME IN (SELECT CITY_NAME FROM GEOGRAPHIC WHERE REGION = \"Southern California\") ORDER BY RATING DESC LIMIT 1;\n",
            "\n",
            "### Response:\n",
            "SELECT NAME FROM RESTAURANT WHERE FOOD_TYPE = \"Arabic\" AND CITY_NAME\n",
            "Inference time = 1118.692454814911\n",
            "index :  292\n"
          ]
        },
        {
          "output_type": "stream",
          "name": "stderr",
          "text": [
            "Setting `pad_token_id` to `eos_token_id`:128001 for open-end generation.\n"
          ]
        },
        {
          "output_type": "stream",
          "name": "stdout",
          "text": [
            "Verification SELECT NAME FROM RESTAURANT WHERE FOOD_TYPE = \"arab\" AND CITY_NAME NOT IN (SELECT CITY_NAME FROM GEOGRAPHIC WHERE REGION = \"California\")\n",
            "Inference time = 1122.4004580974579\n",
            "index :  293\n"
          ]
        },
        {
          "output_type": "stream",
          "name": "stderr",
          "text": [
            "Setting `pad_token_id` to `eos_token_id`:128001 for open-end generation.\n"
          ]
        },
        {
          "output_type": "stream",
          "name": "stdout",
          "text": [
            "Verification SELECT NAME FROM RESTAURANT WHERE FOOD_TYPE = \"Arab\" ORDER BY RATING DESC LIMIT 5\n",
            "Inference time = 1125.135337114334\n",
            "index :  294\n"
          ]
        },
        {
          "output_type": "stream",
          "name": "stderr",
          "text": [
            "Setting `pad_token_id` to `eos_token_id`:128001 for open-end generation.\n"
          ]
        },
        {
          "output_type": "stream",
          "name": "stdout",
          "text": [
            "Verification SELECT COUNT(*) FROM `RESTAURANT` WHERE `GEOGRAPHIC`.`REGION` = 'Central'\n",
            "Inference time = 1127.9532668590546\n",
            "index :  295\n"
          ]
        },
        {
          "output_type": "stream",
          "name": "stderr",
          "text": [
            "Setting `pad_token_id` to `eos_token_id`:128001 for open-end generation.\n"
          ]
        },
        {
          "output_type": "stream",
          "name": "stdout",
          "text": [
            "Verification SELECT AVG(RATING) FROM RESTAURANT WHERE FOOD_TYPE = \"Arab\" AND CITY_NAME IN (SELECT CITY_NAME FROM GEOGRAPHIC WHERE REGION = \"North\")\n",
            "Inference time = 1131.8592162132263\n",
            "index :  296\n"
          ]
        },
        {
          "output_type": "stream",
          "name": "stderr",
          "text": [
            "Setting `pad_token_id` to `eos_token_id`:128001 for open-end generation.\n"
          ]
        },
        {
          "output_type": "stream",
          "name": "stdout",
          "text": [
            "Verification SELECT R.NAME FROM RESTAURANT AS R, GEOGRAPHIC AS G WHERE R.CITY_NAME = G.CITY_NAME AND R.RATING > 4 AND G.REGION = 'North' AND R.FOOD_TYPE = 'Arab' ORDER BY R.RATING DESC LIMIT 1;\n",
            "\n",
            "### Response:\n",
            "\n",
            "Inference time = 1138.1382942199707\n",
            "index :  297\n"
          ]
        },
        {
          "output_type": "stream",
          "name": "stderr",
          "text": [
            "Setting `pad_token_id` to `eos_token_id`:128001 for open-end generation.\n"
          ]
        },
        {
          "output_type": "stream",
          "name": "stdout",
          "text": [
            "Verification SELECT NAME FROM RESTAURANT WHERE RATING > 4.5 AND CITY_NAME IN (SELECT CITY_NAME FROM GEOGRAPHIC WHERE REGION = 'South')\n",
            "Inference time = 1142.021214723587\n",
            "index :  298\n"
          ]
        },
        {
          "output_type": "stream",
          "name": "stderr",
          "text": [
            "Setting `pad_token_id` to `eos_token_id`:128001 for open-end generation.\n"
          ]
        },
        {
          "output_type": "stream",
          "name": "stdout",
          "text": [
            "Verification SELECT HOUSE_NUMBER FROM LOCATION WHERE RATING = (SELECT MAX(RATING) FROM RESTAURANT WHERE FOOD_TYPE = 'Arab' AND REGION = 'Central')\n",
            "Inference time = 1145.7435216903687\n",
            "index :  299\n"
          ]
        },
        {
          "output_type": "stream",
          "name": "stderr",
          "text": [
            "Setting `pad_token_id` to `eos_token_id`:128001 for open-end generation.\n"
          ]
        },
        {
          "output_type": "stream",
          "name": "stdout",
          "text": [
            "Verification SELECT FOOD_TYPE FROM RESTAURANT WHERE CITY_NAME IN (SELECT CITY_NAME FROM GEOGRAPHIC WHERE REGION = \"West\") GROUP BY FOOD_TYPE ORDER BY COUNT(FOOD_TYPE) DESC LIMIT 1\n",
            "Inference time = 1150.1563608646393\n",
            "index :  300\n"
          ]
        },
        {
          "output_type": "stream",
          "name": "stderr",
          "text": [
            "Setting `pad_token_id` to `eos_token_id`:128001 for open-end generation.\n"
          ]
        },
        {
          "output_type": "stream",
          "name": "stdout",
          "text": [
            "Verification SELECT NAME FROM RESTAURANT WHERE CITY_NAME = (SELECT CITY_NAME FROM GEOGRAPHIC WHERE COUNTY = \"Santa Clara\") AND FOOD_TYPE = \"Chinese\" ORDER BY RATING DESC LIMIT 1\n",
            "Inference time = 1154.8943376541138\n",
            "index :  301\n"
          ]
        },
        {
          "output_type": "stream",
          "name": "stderr",
          "text": [
            "Setting `pad_token_id` to `eos_token_id`:128001 for open-end generation.\n"
          ]
        },
        {
          "output_type": "stream",
          "name": "stdout",
          "text": [
            "Verification SELECT NAME FROM RESTAURANT WHERE FOOD_TYPE = \"Italian\" AND RATING > 4 AND CITY_NAME = \"Palo Alto\"\n",
            "Inference time = 1158.1536302566528\n",
            "index :  302\n"
          ]
        },
        {
          "output_type": "stream",
          "name": "stderr",
          "text": [
            "Setting `pad_token_id` to `eos_token_id`:128001 for open-end generation.\n"
          ]
        },
        {
          "output_type": "stream",
          "name": "stdout",
          "text": [
            "Verification SELECT NAME FROM RESTAURANT WHERE RATING > (SELECT AVG(RATING) FROM RESTAURANT WHERE CITY_NAME = \"bay area\") ORDER BY RATING DESC LIMIT 5\n",
            "Inference time = 1162.207599401474\n",
            "index :  303\n"
          ]
        },
        {
          "output_type": "stream",
          "name": "stderr",
          "text": [
            "Setting `pad_token_id` to `eos_token_id`:128001 for open-end generation.\n"
          ]
        },
        {
          "output_type": "stream",
          "name": "stdout",
          "text": [
            "Verification SELECT NAME FROM RESTAURANT WHERE CITY_NAME IN (SELECT CITY_NAME FROM GEOGRAPHIC WHERE COUNTY = \"Los Angeles County\")\n",
            "Inference time = 1165.6044054031372\n",
            "index :  304\n"
          ]
        },
        {
          "output_type": "stream",
          "name": "stderr",
          "text": [
            "Setting `pad_token_id` to `eos_token_id`:128001 for open-end generation.\n"
          ]
        },
        {
          "output_type": "stream",
          "name": "stdout",
          "text": [
            "Verification SELECT R.NAME FROM RESTAURANT AS R JOIN LOCATION AS L ON R.ID = L.RESTAURANT_ID WHERE L.CITY_NAME IN (SELECT CITY_NAME FROM GEOGRAPHIC WHERE REGION = 'northeast') AND R.FOOD_TYPE = 'fish and chips' GROUP BY R.NAME HAVING COUNT(L\n",
            "Inference time = 1171.908844947815\n",
            "index :  305\n"
          ]
        },
        {
          "output_type": "stream",
          "name": "stderr",
          "text": [
            "Setting `pad_token_id` to `eos_token_id`:128001 for open-end generation.\n"
          ]
        },
        {
          "output_type": "stream",
          "name": "stdout",
          "text": [
            "Verification SELECT NAME FROM RESTAURANT WHERE RATING > 4.5 AND CITY_NAME IN (SELECT CITY_NAME FROM GEOGRAPHIC)\n",
            "Inference time = 1175.121929883957\n",
            "index :  306\n"
          ]
        },
        {
          "output_type": "stream",
          "name": "stderr",
          "text": [
            "Setting `pad_token_id` to `eos_token_id`:128001 for open-end generation.\n"
          ]
        },
        {
          "output_type": "stream",
          "name": "stdout",
          "text": [
            "Verification SELECT NAME FROM RESTAURANT WHERE RATING < 3 AND CITY_NAME = \"Seattle\"\n",
            "Inference time = 1177.8029386997223\n",
            "index :  307\n"
          ]
        },
        {
          "output_type": "stream",
          "name": "stderr",
          "text": [
            "Setting `pad_token_id` to `eos_token_id`:128001 for open-end generation.\n"
          ]
        },
        {
          "output_type": "stream",
          "name": "stdout",
          "text": [
            "Verification SELECT NAME FROM RESTAURANT WHERE FOOD_TYPE = \"Indian\" AND REGION = \"Midwest\"\n",
            "Inference time = 1181.0688924789429\n",
            "index :  308\n"
          ]
        },
        {
          "output_type": "stream",
          "name": "stderr",
          "text": [
            "Setting `pad_token_id` to `eos_token_id`:128001 for open-end generation.\n"
          ]
        },
        {
          "output_type": "stream",
          "name": "stdout",
          "text": [
            "Verification SELECT R.NAME, R.FOOD_TYPE, G.CITY_NAME FROM RESTAURANT AS R JOIN GEOGRAPHIC AS G ON R.CITY_NAME = G.CITY_NAME WHERE R.FOOD_TYPE ='seafood' ORDER BY R.RATING DESC LIMIT 3;\n",
            "\n",
            "### Response:\n",
            "SELECT R.NAME, R\n",
            "Inference time = 1188.0070960521698\n",
            "index :  309\n"
          ]
        },
        {
          "output_type": "stream",
          "name": "stderr",
          "text": [
            "Setting `pad_token_id` to `eos_token_id`:128001 for open-end generation.\n"
          ]
        },
        {
          "output_type": "stream",
          "name": "stdout",
          "text": [
            "Verification SELECT R.NAME FROM RESTAURANT AS R JOIN GEOGRAPHIC AS G ON R.CITY_NAME = G.CITY_NAME WHERE R.FOOD_TYPE = \"Mediterranean\" AND R.RATING > 4.2 AND G.CITY_NAME IN (SELECT G.CITY_NAME FROM GEOGRAPHIC AS\n",
            "Inference time = 1194.4328978061676\n",
            "index :  310\n"
          ]
        },
        {
          "output_type": "stream",
          "name": "stderr",
          "text": [
            "Setting `pad_token_id` to `eos_token_id`:128001 for open-end generation.\n"
          ]
        },
        {
          "output_type": "stream",
          "name": "stdout",
          "text": [
            "Verification SELECT AVG(RATING) FROM RESTAURANT WHERE CITY_NAME = \"San Francisco\"\n",
            "Inference time = 1196.7182636260986\n",
            "index :  311\n"
          ]
        },
        {
          "output_type": "stream",
          "name": "stderr",
          "text": [
            "Setting `pad_token_id` to `eos_token_id`:128001 for open-end generation.\n"
          ]
        },
        {
          "output_type": "stream",
          "name": "stdout",
          "text": [
            "Verification SELECT COUNT(DISTINCT RESTAURANT.FOOD_TYPE) FROM RESTAURANT WHERE RESTAURANT.CITY_NAME = \"Los Angeles\"\n",
            "Inference time = 1200.265950202942\n",
            "index :  312\n"
          ]
        },
        {
          "output_type": "stream",
          "name": "stderr",
          "text": [
            "Setting `pad_token_id` to `eos_token_id`:128001 for open-end generation.\n"
          ]
        },
        {
          "output_type": "stream",
          "name": "stdout",
          "text": [
            "Verification SELECT NAME FROM RESTAURANT WHERE RATING > 4 AND REGION = 'Northwest'\n",
            "Inference time = 1202.8162553310394\n",
            "index :  313\n"
          ]
        },
        {
          "output_type": "stream",
          "name": "stderr",
          "text": [
            "Setting `pad_token_id` to `eos_token_id`:128001 for open-end generation.\n"
          ]
        },
        {
          "output_type": "stream",
          "name": "stdout",
          "text": [
            "Verification SELECT NAME FROM RESTAURANT WHERE ID = '10'\n",
            "Inference time = 1204.6887800693512\n",
            "index :  314\n"
          ]
        },
        {
          "output_type": "stream",
          "name": "stderr",
          "text": [
            "Setting `pad_token_id` to `eos_token_id`:128001 for open-end generation.\n"
          ]
        },
        {
          "output_type": "stream",
          "name": "stdout",
          "text": [
            "Verification SELECT COUNT(*) FROM `RESTAURANT` WHERE `FOOD_TYPE` = \"Italian\" AND `CITY_NAME` = \"New York City\"\n",
            "Inference time = 1208.2168080806732\n",
            "index :  315\n"
          ]
        },
        {
          "output_type": "stream",
          "name": "stderr",
          "text": [
            "Setting `pad_token_id` to `eos_token_id`:128001 for open-end generation.\n"
          ]
        },
        {
          "output_type": "stream",
          "name": "stdout",
          "text": [
            "Verification SELECT NAME FROM RESTAURANT WHERE CITY_NAME = \"Denver\" AND FOOD_TYPE = \"Good for groups\" AND RATING > 3\n",
            "Inference time = 1211.537541627884\n",
            "index :  316\n"
          ]
        },
        {
          "output_type": "stream",
          "name": "stderr",
          "text": [
            "Setting `pad_token_id` to `eos_token_id`:128001 for open-end generation.\n"
          ]
        },
        {
          "output_type": "stream",
          "name": "stdout",
          "text": [
            "Verification SELECT COUNT(CITY_NAME) FROM `GEOGRAPHIC` WHERE CITY_NAME = '5'\n",
            "Inference time = 1214.2202694416046\n",
            "index :  317\n"
          ]
        },
        {
          "output_type": "stream",
          "name": "stderr",
          "text": [
            "Setting `pad_token_id` to `eos_token_id`:128001 for open-end generation.\n"
          ]
        },
        {
          "output_type": "stream",
          "name": "stdout",
          "text": [
            "Verification SELECT DISTINCT FOOD_TYPE FROM RESTAURANT WHERE CITY_NAME = \"Orange\"\n",
            "Inference time = 1216.3294441699982\n",
            "index :  318\n"
          ]
        },
        {
          "output_type": "stream",
          "name": "stderr",
          "text": [
            "Setting `pad_token_id` to `eos_token_id`:128001 for open-end generation.\n"
          ]
        },
        {
          "output_type": "stream",
          "name": "stdout",
          "text": [
            "Verification SELECT AVG(RATING) FROM RESTAURANT WHERE CITY_NAME = \"Denver\" AND NAME LIKE \"A%\"\n",
            "Inference time = 1219.0694546699524\n",
            "index :  319\n"
          ]
        },
        {
          "output_type": "stream",
          "name": "stderr",
          "text": [
            "Setting `pad_token_id` to `eos_token_id`:128001 for open-end generation.\n"
          ]
        },
        {
          "output_type": "stream",
          "name": "stdout",
          "text": [
            "Verification SELECT REGION FROM GEOGRAPHIC WHERE CITY_NAME IN (SELECT CITY_NAME FROM RESTAURANT WHERE FOOD_TYPE = \"continental\") GROUP BY REGION ORDER BY COUNT(CITY_NAME) DESC LIMIT 1\n",
            "Inference time = 1223.3005030155182\n",
            "index :  320\n"
          ]
        },
        {
          "output_type": "stream",
          "name": "stderr",
          "text": [
            "Setting `pad_token_id` to `eos_token_id`:128001 for open-end generation.\n"
          ]
        },
        {
          "output_type": "stream",
          "name": "stdout",
          "text": [
            "Verification SELECT NAME FROM RESTAURANT WHERE CITY_NAME = \"Santa Clara\"\n",
            "Inference time = 1225.5557820796967\n",
            "index :  321\n"
          ]
        },
        {
          "output_type": "stream",
          "name": "stderr",
          "text": [
            "Setting `pad_token_id` to `eos_token_id`:128001 for open-end generation.\n"
          ]
        },
        {
          "output_type": "stream",
          "name": "stdout",
          "text": [
            "Verification SELECT AVG(RATING) FROM RESTAURANT WHERE FOOD_TYPE = \"Italian\" AND CITY_NAME IN (SELECT CITY_NAME FROM GEOGRAPHIC WHERE REGION = \"West Coast\")\n",
            "Inference time = 1229.4513728618622\n",
            "index :  322\n"
          ]
        },
        {
          "output_type": "stream",
          "name": "stderr",
          "text": [
            "Setting `pad_token_id` to `eos_token_id`:128001 for open-end generation.\n"
          ]
        },
        {
          "output_type": "stream",
          "name": "stdout",
          "text": [
            "Verification SELECT NAME FROM RESTAURANT WHERE RATING = (SELECT MAX(RATING) FROM RESTAURANT WHERE CITY_NAME = (SELECT CITY_NAME FROM GEOGRAPHIC WHERE REGION = \"East Bay\")) AND FOOD_TYPE = \"Thai\"\n",
            "Inference time = 1234.4205315113068\n",
            "index :  323\n"
          ]
        },
        {
          "output_type": "stream",
          "name": "stderr",
          "text": [
            "Setting `pad_token_id` to `eos_token_id`:128001 for open-end generation.\n"
          ]
        },
        {
          "output_type": "stream",
          "name": "stdout",
          "text": [
            "Verification SELECT NAME FROM RESTAURANT WHERE RATING > 4.5 AND CITY_NAME = \"San Jose\"\n",
            "Inference time = 1237.4330508708954\n",
            "index :  324\n"
          ]
        },
        {
          "output_type": "stream",
          "name": "stderr",
          "text": [
            "Setting `pad_token_id` to `eos_token_id`:128001 for open-end generation.\n"
          ]
        },
        {
          "output_type": "stream",
          "name": "stdout",
          "text": [
            "Verification SELECT HOUSE_NUMBER FROM LOCATION WHERE RATING > 4 AND FOOD_TYPE = \"Chinese\" ORDER BY RATING DESC LIMIT 1;\n",
            "\n",
            "### Response:\n",
            "SELECT HOUSE_NUMBER FROM LOCATION WHERE RATING > 4 AND FOOD_TYPE = \"Chinese\" ORDER BY RATING DESC LIMIT 1;\n",
            "Inference time = 1243.2114770412445\n",
            "index :  325\n"
          ]
        },
        {
          "output_type": "stream",
          "name": "stderr",
          "text": [
            "Setting `pad_token_id` to `eos_token_id`:128001 for open-end generation.\n"
          ]
        },
        {
          "output_type": "stream",
          "name": "stdout",
          "text": [
            "Verification SELECT NAME, RATING FROM RESTAURANT WHERE CITY_NAME = (SELECT CITY_NAME FROM GEOGRAPHIC WHERE COUNTY = \"San Francisco\") AND FOOD_TYPE = \"French\"\n",
            "Inference time = 1247.107459306717\n",
            "index :  326\n"
          ]
        },
        {
          "output_type": "stream",
          "name": "stderr",
          "text": [
            "Setting `pad_token_id` to `eos_token_id`:128001 for open-end generation.\n"
          ]
        },
        {
          "output_type": "stream",
          "name": "stdout",
          "text": [
            "Verification SELECT NAME, RATING FROM RESTAURANT WHERE REGION = \"Peninsula\" ORDER BY RATING DESC LIMIT 1;\n",
            "\n",
            "### Response:\n",
            "SELECT NAME, RATING FROM RESTAURANT WHERE REGION = \"Peninsula\" ORDER BY RATING DESC LIMIT 1;\n",
            "Inference time = 1252.9274911880493\n",
            "index :  327\n"
          ]
        },
        {
          "output_type": "stream",
          "name": "stderr",
          "text": [
            "Setting `pad_token_id` to `eos_token_id`:128001 for open-end generation.\n"
          ]
        },
        {
          "output_type": "stream",
          "name": "stdout",
          "text": [
            "Verification SELECT HOUSE_NUMBER, STREET_NAME FROM LOCATION WHERE CITY_NAME = \"Las Vegas\" AND FOOD_TYPE = \"Mexican\" AND RATING > 4.5\n",
            "Inference time = 1256.5428757667542\n",
            "index :  328\n"
          ]
        },
        {
          "output_type": "stream",
          "name": "stderr",
          "text": [
            "Setting `pad_token_id` to `eos_token_id`:128001 for open-end generation.\n"
          ]
        },
        {
          "output_type": "stream",
          "name": "stdout",
          "text": [
            "Verification SELECT NAME FROM RESTAURANT WHERE RATING > (SELECT AVG(RATING) FROM RESTAURANT WHERE COUNTY = \"SF\") ORDER BY RATING DESC LIMIT 10\n",
            "Inference time = 1260.554936170578\n",
            "index :  329\n"
          ]
        },
        {
          "output_type": "stream",
          "name": "stderr",
          "text": [
            "Setting `pad_token_id` to `eos_token_id`:128001 for open-end generation.\n"
          ]
        },
        {
          "output_type": "stream",
          "name": "stdout",
          "text": [
            "Verification SELECT STREET_NAME FROM LOCATION WHERE RATING = (SELECT MAX(RATING) FROM RESTAURANT WHERE FOOD_TYPE = \"japanese\" AND REGION = \"west bay\")\n",
            "Inference time = 1264.7420446872711\n",
            "index :  330\n"
          ]
        },
        {
          "output_type": "stream",
          "name": "stderr",
          "text": [
            "Setting `pad_token_id` to `eos_token_id`:128001 for open-end generation.\n"
          ]
        },
        {
          "output_type": "stream",
          "name": "stdout",
          "text": [
            "Verification SELECT NAME FROM RESTAURANT WHERE RATING > 4 AND CITY_NAME = \"San Francisco\"\n",
            "Inference time = 1267.3060607910156\n",
            "index :  331\n"
          ]
        },
        {
          "output_type": "stream",
          "name": "stderr",
          "text": [
            "Setting `pad_token_id` to `eos_token_id`:128001 for open-end generation.\n"
          ]
        },
        {
          "output_type": "stream",
          "name": "stdout",
          "text": [
            "Verification SELECT NAME FROM RESTAURANT WHERE FOOD_TYPE = \"japanese\" AND RATING > 3.5 AND REGION = \"southern\"\n",
            "Inference time = 1270.6685545444489\n",
            "index :  332\n"
          ]
        },
        {
          "output_type": "stream",
          "name": "stderr",
          "text": [
            "Setting `pad_token_id` to `eos_token_id`:128001 for open-end generation.\n"
          ]
        },
        {
          "output_type": "stream",
          "name": "stdout",
          "text": [
            "Verification SELECT HOUSE_NUMBER FROM LOCATION WHERE FOOD_TYPE = \"Chinese\" AND REGION = \"Northeast\"\n",
            "Inference time = 1273.2575933933258\n",
            "index :  333\n"
          ]
        },
        {
          "output_type": "stream",
          "name": "stderr",
          "text": [
            "Setting `pad_token_id` to `eos_token_id`:128001 for open-end generation.\n"
          ]
        },
        {
          "output_type": "stream",
          "name": "stdout",
          "text": [
            "Verification SELECT NAME FROM RESTAURANT WHERE RATING = (SELECT MAX(RATING) FROM RESTAURANT WHERE CITY_NAME = 'Seattle')\n",
            "Inference time = 1276.5224347114563\n",
            "index :  334\n"
          ]
        },
        {
          "output_type": "stream",
          "name": "stderr",
          "text": [
            "Setting `pad_token_id` to `eos_token_id`:128001 for open-end generation.\n"
          ]
        },
        {
          "output_type": "stream",
          "name": "stdout",
          "text": [
            "Verification SELECT NAME FROM RESTAURANT WHERE RATING > 3 AND CITY_NAME IN (SELECT CITY_NAME FROM GEOGRAPHIC WHERE COUNTY LIKE 'L%')\n",
            "Inference time = 1280.1387095451355\n",
            "index :  335\n"
          ]
        },
        {
          "output_type": "stream",
          "name": "stderr",
          "text": [
            "Setting `pad_token_id` to `eos_token_id`:128001 for open-end generation.\n"
          ]
        },
        {
          "output_type": "stream",
          "name": "stdout",
          "text": [
            "Verification SELECT RATING FROM `RESTAURANT` WHERE `RESTAURANT`.`FOOD_TYPE` = \"INDIAN\" AND `GEOGRAPHIC`.`REGION` = \"NORTHERN\"\n",
            "Inference time = 1284.683367729187\n",
            "index :  336\n"
          ]
        },
        {
          "output_type": "stream",
          "name": "stderr",
          "text": [
            "Setting `pad_token_id` to `eos_token_id`:128001 for open-end generation.\n"
          ]
        },
        {
          "output_type": "stream",
          "name": "stdout",
          "text": [
            "Verification SELECT AVG(RATING) FROM RESTAURANT WHERE FOOD_TYPE = \"Italian\" AND REGION = \"Western\"\n",
            "Inference time = 1287.5385956764221\n",
            "index :  337\n"
          ]
        },
        {
          "output_type": "stream",
          "name": "stderr",
          "text": [
            "Setting `pad_token_id` to `eos_token_id`:128001 for open-end generation.\n"
          ]
        },
        {
          "output_type": "stream",
          "name": "stdout",
          "text": [
            "Verification SELECT RESTAURANT.HOUSE_NUMBER FROM RESTAURANT JOIN GEOGRAPHIC ON RESTAURANT.CITY_NAME = GEOGRAPHIC.CITY_NAME WHERE GEOGRAPHIC.REGION LIKE '%mid%' AND RESTAURANT.FOOD_TYPE ='mexican'\n",
            "Inference time = 1293.2321598529816\n",
            "index :  338\n"
          ]
        },
        {
          "output_type": "stream",
          "name": "stderr",
          "text": [
            "Setting `pad_token_id` to `eos_token_id`:128001 for open-end generation.\n"
          ]
        },
        {
          "output_type": "stream",
          "name": "stdout",
          "text": [
            "Verification SELECT NAME FROM RESTAURANT WHERE CITY_NAME IN (SELECT CITY_NAME FROM GEOGRAPHIC WHERE REGION = \"Spain\" ORDER BY RATING DESC LIMIT 1)\n",
            "Inference time = 1297.101187467575\n",
            "index :  339\n"
          ]
        },
        {
          "output_type": "stream",
          "name": "stderr",
          "text": [
            "Setting `pad_token_id` to `eos_token_id`:128001 for open-end generation.\n"
          ]
        },
        {
          "output_type": "stream",
          "name": "stdout",
          "text": [
            "Verification SELECT HOUSE_NUMBER FROM LOCATION WHERE RATING > 3.5 AND FOOD_TYPE = \"Chinese\" AND REGION = \"East\"\n",
            "Inference time = 1300.140712738037\n",
            "index :  340\n"
          ]
        },
        {
          "output_type": "stream",
          "name": "stderr",
          "text": [
            "Setting `pad_token_id` to `eos_token_id`:128001 for open-end generation.\n"
          ]
        },
        {
          "output_type": "stream",
          "name": "stdout",
          "text": [
            "Verification SELECT NAME FROM `RESTAURANT` WHERE FOOD_TYPE = \"chinese\" AND CITY_NAME IN (SELECT CITY_NAME FROM `GEOGRAPHIC` WHERE REGION = \"southeast\" )\n",
            "Inference time = 1304.3803794384003\n",
            "index :  341\n"
          ]
        },
        {
          "output_type": "stream",
          "name": "stderr",
          "text": [
            "Setting `pad_token_id` to `eos_token_id`:128001 for open-end generation.\n"
          ]
        },
        {
          "output_type": "stream",
          "name": "stdout",
          "text": [
            "Verification SELECT NAME FROM RESTAURANT WHERE FOOD_TYPE = \"vegetarian\" AND RATING > 4.0 ORDER BY RATING DESC LIMIT 5;\n",
            "\n",
            "### Response:\n",
            "SELECT NAME FROM RESTAURANT WHERE FOOD_TYPE = \"vegetarian\" AND RATING > 4.0 ORDER BY RATING DESC LIMIT\n",
            "Inference time = 1310.9917619228363\n",
            "index :  342\n"
          ]
        },
        {
          "output_type": "stream",
          "name": "stderr",
          "text": [
            "Setting `pad_token_id` to `eos_token_id`:128001 for open-end generation.\n"
          ]
        },
        {
          "output_type": "stream",
          "name": "stdout",
          "text": [
            "Verification SELECT NAME FROM RESTAURANT WHERE FOOD_TYPE = \"american\" AND CITY_NAME IN (SELECT CITY_NAME FROM GEOGRAPHIC WHERE REGION = \"northwest\" ) ORDER BY RATING DESC LIMIT 1;\n",
            "\n",
            "### Response:\n",
            "SELECT NAME FROM RESTAURANT WHERE FOOD_TYPE = \"american\" AND CITY_NAME IN\n",
            "Inference time = 1317.2644686698914\n",
            "index :  343\n"
          ]
        },
        {
          "output_type": "stream",
          "name": "stderr",
          "text": [
            "Setting `pad_token_id` to `eos_token_id`:128001 for open-end generation.\n"
          ]
        },
        {
          "output_type": "stream",
          "name": "stdout",
          "text": [
            "Verification SELECT NAME FROM `RESTAURANT` WHERE FOOD_TYPE = \"INDIAN\" AND CITY_NAME IN (SELECT CITY_NAME FROM `GEOGRAPHIC` WHERE POPULATION > 500000)\n",
            "Inference time = 1321.7037649154663\n",
            "index :  344\n"
          ]
        },
        {
          "output_type": "stream",
          "name": "stderr",
          "text": [
            "Setting `pad_token_id` to `eos_token_id`:128001 for open-end generation.\n"
          ]
        },
        {
          "output_type": "stream",
          "name": "stdout",
          "text": [
            "Verification SELECT CITY_NAME FROM GEOGRAPHIC WHERE FOOD_TYPE = \"Mediterranean\" ORDER BY RATING DESC LIMIT 1\n",
            "Inference time = 1324.631292104721\n",
            "index :  345\n"
          ]
        },
        {
          "output_type": "stream",
          "name": "stderr",
          "text": [
            "Setting `pad_token_id` to `eos_token_id`:128001 for open-end generation.\n"
          ]
        },
        {
          "output_type": "stream",
          "name": "stdout",
          "text": [
            "Verification SELECT NAME FROM RESTAURANT WHERE CITY_NAME IN (SELECT CITY_NAME FROM GEOGRAPHIC WHERE REGION ='small cities') AND RATING > 3.5 ORDER BY RATING DESC LIMIT 5\n",
            "Inference time = 1329.0441229343414\n",
            "index :  346\n"
          ]
        },
        {
          "output_type": "stream",
          "name": "stderr",
          "text": [
            "Setting `pad_token_id` to `eos_token_id`:128001 for open-end generation.\n"
          ]
        },
        {
          "output_type": "stream",
          "name": "stdout",
          "text": [
            "Verification SELECT NAME FROM RESTAURANT WHERE CITY_NAME IN (SELECT CITY_NAME FROM GEOGRAPHIC WHERE COUNTY IN (SELECT COUNTY FROM GEOGRAPHIC WHERE REGION = \"france\" AND POPULATION > (SELECT MAX(POPULATION) FROM GEOGRAPHIC WHERE REGION = \"france\"))))\n",
            "Inference time = 1335.2970662117004\n",
            "index :  347\n"
          ]
        },
        {
          "output_type": "stream",
          "name": "stderr",
          "text": [
            "Setting `pad_token_id` to `eos_token_id`:128001 for open-end generation.\n"
          ]
        },
        {
          "output_type": "stream",
          "name": "stdout",
          "text": [
            "Verification SELECT NAME FROM RESTAURANT WHERE FOOD_TYPE = \"ITALIAN\" AND CITY_NAME IN (SELECT CITY_NAME FROM GEOGRAPHIC WHERE REGION = \"SOUTH\") ORDER BY RATING DESC LIMIT 1;\n",
            "\n",
            "### Response:\n",
            "SELECT NAME FROM RESTAURANT WHERE FOOD_TYPE = \"ITALIAN\" AND CITY_NAME\n",
            "Inference time = 1341.5797736644745\n",
            "index :  348\n"
          ]
        },
        {
          "output_type": "stream",
          "name": "stderr",
          "text": [
            "Setting `pad_token_id` to `eos_token_id`:128001 for open-end generation.\n"
          ]
        },
        {
          "output_type": "stream",
          "name": "stdout",
          "text": [
            "Verification SELECT NAME FROM RESTAURANT WHERE CITY_NAME = (SELECT CITY_NAME FROM GEOGRAPHIC WHERE REGION = 'east' ORDER BY RATING DESC LIMIT 1)\n",
            "Inference time = 1345.3972384929657\n",
            "index :  349\n"
          ]
        },
        {
          "output_type": "stream",
          "name": "stderr",
          "text": [
            "Setting `pad_token_id` to `eos_token_id`:128001 for open-end generation.\n"
          ]
        },
        {
          "output_type": "stream",
          "name": "stdout",
          "text": [
            "Verification SELECT NAME FROM RESTAURANT WHERE FOOD_TYPE = \"middle eastern\" ORDER BY RATING DESC LIMIT 1;\n",
            "\n",
            "### Response:\n",
            "SELECT NAME FROM RESTAURANT WHERE FOOD_TYPE = \"middle eastern\" ORDER BY RATING DESC LIMIT 1;\n",
            "Inference time = 1350.6159121990204\n",
            "index :  350\n"
          ]
        },
        {
          "output_type": "stream",
          "name": "stderr",
          "text": [
            "Setting `pad_token_id` to `eos_token_id`:128001 for open-end generation.\n"
          ]
        },
        {
          "output_type": "stream",
          "name": "stdout",
          "text": [
            "Verification SELECT REGION, COUNT(*) FROM GEOGRAPHIC GROUP BY REGION ORDER BY REGION ASC\n",
            "\n",
            "### Response:\n",
            "CREATE TABLE GEOGRAPHIC ( CITY_NAME text, COUNTY text, REGION text, primary key(CITY_NAME) );CREATE TABLE RESTAURANT ( ID int, NAME text, FOOD_TYPE text, CITY_NAME text,\n",
            "Inference time = 1356.9963777065277\n",
            "index :  351\n"
          ]
        },
        {
          "output_type": "stream",
          "name": "stderr",
          "text": [
            "Setting `pad_token_id` to `eos_token_id`:128001 for open-end generation.\n"
          ]
        },
        {
          "output_type": "stream",
          "name": "stdout",
          "text": [
            "Verification SELECT CITY_NAME FROM GEOGRAPHIC WHERE RATING > 4.5 AND FOOD_TYPE = \"chinese\"\n",
            "Inference time = 1359.8489480018616\n",
            "index :  352\n"
          ]
        },
        {
          "output_type": "stream",
          "name": "stderr",
          "text": [
            "Setting `pad_token_id` to `eos_token_id`:128001 for open-end generation.\n"
          ]
        },
        {
          "output_type": "stream",
          "name": "stdout",
          "text": [
            "Verification SELECT AVG(RATING) FROM RESTAURANT WHERE FOOD_TYPE = \"Italian\" GROUP BY CITY_NAME\n",
            "Inference time = 1362.4055619239807\n",
            "index :  353\n"
          ]
        },
        {
          "output_type": "stream",
          "name": "stderr",
          "text": [
            "Setting `pad_token_id` to `eos_token_id`:128001 for open-end generation.\n"
          ]
        },
        {
          "output_type": "stream",
          "name": "stdout",
          "text": [
            "Verification SELECT NAME FROM RESTAURANT WHERE FOOD_TYPE = \"indian\" AND RATING > 3\n",
            "Inference time = 1364.9648439884186\n",
            "index :  354\n"
          ]
        },
        {
          "output_type": "stream",
          "name": "stderr",
          "text": [
            "Setting `pad_token_id` to `eos_token_id`:128001 for open-end generation.\n"
          ]
        },
        {
          "output_type": "stream",
          "name": "stdout",
          "text": [
            "Verification SELECT NAME FROM RESTAURANT WHERE CITY_NAME = (SELECT CITY_NAME FROM GEOGRAPHIC WHERE REGION = 'california' ORDER BY RATING DESC LIMIT 1)\n",
            "Inference time = 1368.8270437717438\n",
            "index :  355\n"
          ]
        },
        {
          "output_type": "stream",
          "name": "stderr",
          "text": [
            "Setting `pad_token_id` to `eos_token_id`:128001 for open-end generation.\n"
          ]
        },
        {
          "output_type": "stream",
          "name": "stdout",
          "text": [
            "Verification SELECT NAME FROM RESTAURANT WHERE FOOD_TYPE = 'Italian' AND CITY_NAME IN (SELECT CITY_NAME FROM RESTAURANT WHERE FOOD_TYPE = 'Indian')\n",
            "Inference time = 1372.6891689300537\n",
            "index :  356\n"
          ]
        },
        {
          "output_type": "stream",
          "name": "stderr",
          "text": [
            "Setting `pad_token_id` to `eos_token_id`:128001 for open-end generation.\n"
          ]
        },
        {
          "output_type": "stream",
          "name": "stdout",
          "text": [
            "Verification SELECT COUNT(RESTAURANT.NAME), GEOGRAPHIC.CITY_NAME, GEOGRAPHIC.REGION FROM RESTAURANT JOIN GEOGRAPHIC ON RESTAURANT.CITY_NAME = GEOGRAPHIC.CITY_NAME GROUP BY GEOGRAPHIC.CITY_NAME, GEOGRAPHIC.REGION ORDER BY GEOGRAPHIC\n",
            "Inference time = 1378.9778785705566\n",
            "index :  357\n"
          ]
        },
        {
          "output_type": "stream",
          "name": "stderr",
          "text": [
            "Setting `pad_token_id` to `eos_token_id`:128001 for open-end generation.\n"
          ]
        },
        {
          "output_type": "stream",
          "name": "stdout",
          "text": [
            "Verification SELECT NAME FROM RESTAURANT WHERE RATING < 3 AND CITY_NAME = \"Mountain View\"\n",
            "Inference time = 1381.6981806755066\n",
            "index :  358\n"
          ]
        },
        {
          "output_type": "stream",
          "name": "stderr",
          "text": [
            "Setting `pad_token_id` to `eos_token_id`:128001 for open-end generation.\n"
          ]
        },
        {
          "output_type": "stream",
          "name": "stdout",
          "text": [
            "Verification SELECT NAME FROM RESTAURANT WHERE CITY_NAME IN (SELECT CITY_NAME FROM GEOGRAPHIC WHERE REGION = \"ITALY\") AND COUNT(LOCATION) > 3\n",
            "Inference time = 1385.4165239334106\n",
            "index :  359\n"
          ]
        },
        {
          "output_type": "stream",
          "name": "stderr",
          "text": [
            "Setting `pad_token_id` to `eos_token_id`:128001 for open-end generation.\n"
          ]
        },
        {
          "output_type": "stream",
          "name": "stdout",
          "text": [
            "Verification SELECT FOOD_TYPE, COUNT(FOOD_TYPE) FROM RESTAURANT WHERE CITY_NAME = \"California\" GROUP BY FOOD_TYPE ORDER BY COUNT(FOOD_TYPE) DESC LIMIT 1\n",
            "Inference time = 1389.4763722419739\n",
            "index :  360\n"
          ]
        },
        {
          "output_type": "stream",
          "name": "stderr",
          "text": [
            "Setting `pad_token_id` to `eos_token_id`:128001 for open-end generation.\n"
          ]
        },
        {
          "output_type": "stream",
          "name": "stdout",
          "text": [
            "Verification SELECT CITY_NAME FROM GEOGRAPHIC WHERE CITY_NAME IN (SELECT CITY_NAME FROM RESTAURANT GROUP BY CITY_NAME ORDER BY AVG(RATING) DESC LIMIT 1)\n",
            "Inference time = 1393.3992867469788\n",
            "index :  361\n"
          ]
        },
        {
          "output_type": "stream",
          "name": "stderr",
          "text": [
            "Setting `pad_token_id` to `eos_token_id`:128001 for open-end generation.\n"
          ]
        },
        {
          "output_type": "stream",
          "name": "stdout",
          "text": [
            "Verification SELECT FOOD_TYPE FROM RESTAURANT WHERE CITY_NAME = \"TUCSON\" GROUP BY FOOD_TYPE ORDER BY COUNT(FOOD_TYPE) DESC LIMIT 1\n",
            "Inference time = 1397.0821409225464\n",
            "index :  362\n"
          ]
        },
        {
          "output_type": "stream",
          "name": "stderr",
          "text": [
            "Setting `pad_token_id` to `eos_token_id`:128001 for open-end generation.\n"
          ]
        },
        {
          "output_type": "stream",
          "name": "stdout",
          "text": [
            "Verification SELECT NAME FROM RESTAURANT WHERE CITY_NAME NOT IN (SELECT CITY_NAME FROM GEOGRAPHIC)\n",
            "Inference time = 1399.6359107494354\n",
            "index :  363\n"
          ]
        },
        {
          "output_type": "stream",
          "name": "stderr",
          "text": [
            "Setting `pad_token_id` to `eos_token_id`:128001 for open-end generation.\n"
          ]
        },
        {
          "output_type": "stream",
          "name": "stdout",
          "text": [
            "Verification SELECT COUNT(RESTAURANT.NAME) FROM RESTAURANT JOIN GEOGRAPHIC ON RESTAURANT.CITY_NAME = GEOGRAPHIC.CITY_NAME GROUP BY GEOGRAPHIC.REGION\n",
            "Inference time = 1403.8713793754578\n",
            "index :  364\n"
          ]
        },
        {
          "output_type": "stream",
          "name": "stderr",
          "text": [
            "Setting `pad_token_id` to `eos_token_id`:128001 for open-end generation.\n"
          ]
        },
        {
          "output_type": "stream",
          "name": "stdout",
          "text": [
            "Verification SELECT NAME, RATING FROM RESTAURANT ORDER BY RATING DESC LIMIT 5;\n",
            "\n",
            "### Response:\n",
            "SELECT NAME, RATING FROM RESTAURANT ORDER BY RATING DESC LIMIT 5;\n",
            "Inference time = 1408.531522512436\n",
            "index :  365\n"
          ]
        },
        {
          "output_type": "stream",
          "name": "stderr",
          "text": [
            "Setting `pad_token_id` to `eos_token_id`:128001 for open-end generation.\n"
          ]
        },
        {
          "output_type": "stream",
          "name": "stdout",
          "text": [
            "Verification SELECT COUNT(CITY_NAME) FROM `GEOGRAPHIC` WHERE RATING > 3.5 GROUP BY CITY_NAME;\n",
            "\n",
            "### Response:\n",
            "SELECT COUNT(CITY_NAME) FROM `GEOGRAPHIC` WHERE RATING > 3.5 GROUP BY CITY_NAME;\n",
            "Inference time = 1414.127030134201\n",
            "index :  366\n"
          ]
        },
        {
          "output_type": "stream",
          "name": "stderr",
          "text": [
            "Setting `pad_token_id` to `eos_token_id`:128001 for open-end generation.\n"
          ]
        },
        {
          "output_type": "stream",
          "name": "stdout",
          "text": [
            "Verification SELECT FOOD_TYPE, AVG(RATING) FROM RESTAURANT GROUP BY FOOD_TYPE;\n",
            "\n",
            "### Response:\n",
            "SELECT FOOD_TYPE, AVG(RATING) FROM RESTAURANT GROUP BY FOOD_TYPE;\n",
            "Inference time = 1418.6178543567657\n",
            "index :  367\n"
          ]
        },
        {
          "output_type": "stream",
          "name": "stderr",
          "text": [
            "Setting `pad_token_id` to `eos_token_id`:128001 for open-end generation.\n"
          ]
        },
        {
          "output_type": "stream",
          "name": "stdout",
          "text": [
            "Verification SELECT CITY_NAME FROM GEOGRAPHIC WHERE COUNT(*) > (SELECT COUNT(*) FROM RESTAURANT) ORDER BY COUNT(*) DESC LIMIT 1;\n",
            "Inference time = 1421.9829425811768\n",
            "index :  368\n"
          ]
        },
        {
          "output_type": "stream",
          "name": "stderr",
          "text": [
            "Setting `pad_token_id` to `eos_token_id`:128001 for open-end generation.\n"
          ]
        },
        {
          "output_type": "stream",
          "name": "stdout",
          "text": [
            "Verification SELECT NAME FROM RESTAURANT WHERE CITY_NAME = (SELECT CITY_NAME FROM GEOGRAPHIC WHERE CITY_NAME = 'Phoenix') AND NAME LIKE '%pizza%'\n",
            "Inference time = 1425.5202851295471\n",
            "index :  369\n"
          ]
        },
        {
          "output_type": "stream",
          "name": "stderr",
          "text": [
            "Setting `pad_token_id` to `eos_token_id`:128001 for open-end generation.\n"
          ]
        },
        {
          "output_type": "stream",
          "name": "stdout",
          "text": [
            "Verification SELECT REGION, AVG(RATING) FROM RESTAURANT GROUP BY REGION ORDER BY AVG(RATING) ASC LIMIT 3;\n",
            "\n",
            "### Response:\n",
            "CREATE TABLE GEOGRAPHIC ( CITY_NAME text, COUNTY text, REGION text, primary key(CITY_NAME) );CREATE TABLE RESTAURANT ( ID int, NAME text\n",
            "Inference time = 1432.1126058101654\n",
            "index :  370\n"
          ]
        },
        {
          "output_type": "stream",
          "name": "stderr",
          "text": [
            "Setting `pad_token_id` to `eos_token_id`:128001 for open-end generation.\n"
          ]
        },
        {
          "output_type": "stream",
          "name": "stdout",
          "text": [
            "Verification SELECT AVG(RATING) FROM RESTAURANT WHERE FOOD_TYPE = \"European\" AND CITY_NAME = \"Boulder\"\n",
            "Inference time = 1435.026511669159\n",
            "index :  371\n"
          ]
        },
        {
          "output_type": "stream",
          "name": "stderr",
          "text": [
            "Setting `pad_token_id` to `eos_token_id`:128001 for open-end generation.\n"
          ]
        },
        {
          "output_type": "stream",
          "name": "stdout",
          "text": [
            "Verification SELECT CITY_NAME FROM GEOGRAPHIC WHERE CITY_NAME IN (SELECT CITY_NAME FROM RESTAURANT WHERE FOOD_TYPE = \"Italian\" AND RATING > 3.5) ORDER BY COUNT(CITY_NAME) DESC LIMIT 1;\n",
            "\n",
            "### Response:\n",
            "SELECT CITY_NAME FROM GEOGRAPHIC WHERE CITY_NAME IN (SELECT\n",
            "Inference time = 1441.4287509918213\n",
            "index :  372\n"
          ]
        },
        {
          "output_type": "stream",
          "name": "stderr",
          "text": [
            "Setting `pad_token_id` to `eos_token_id`:128001 for open-end generation.\n"
          ]
        },
        {
          "output_type": "stream",
          "name": "stdout",
          "text": [
            "Verification SELECT COUNT(CITY_NAME) FROM `GEOGRAPHIC` WHERE CITY_NAME IN (SELECT CITY_NAME FROM `RESTAURANT` WHERE FOOD_TYPE = 'African' AND RATING > 3.5) GROUP BY CITY_NAME ORDER BY COUNT(CITY_NAME) DESC;\n",
            "\n",
            "### Response:\n",
            "SELECT COUNT(C\n",
            "Inference time = 1447.841267824173\n",
            "index :  373\n"
          ]
        },
        {
          "output_type": "stream",
          "name": "stderr",
          "text": [
            "Setting `pad_token_id` to `eos_token_id`:128001 for open-end generation.\n"
          ]
        },
        {
          "output_type": "stream",
          "name": "stdout",
          "text": [
            "Verification SELECT STREET_NAME, HOUSE_NUMBER FROM LOCATION WHERE FOOD_TYPE = \"Vietnamese\" AND CITY_NAME = \"Santa Clara\"\n",
            "Inference time = 1450.8048191070557\n",
            "index :  374\n"
          ]
        },
        {
          "output_type": "stream",
          "name": "stderr",
          "text": [
            "Setting `pad_token_id` to `eos_token_id`:128001 for open-end generation.\n"
          ]
        },
        {
          "output_type": "stream",
          "name": "stdout",
          "text": [
            "Verification SELECT REGION, RATING FROM `RESTAURANT` WHERE FOOD_TYPE = \"Italian\" ORDER BY RATING DESC LIMIT 5\n",
            "Inference time = 1454.225815296173\n",
            "index :  375\n"
          ]
        },
        {
          "output_type": "stream",
          "name": "stderr",
          "text": [
            "Setting `pad_token_id` to `eos_token_id`:128001 for open-end generation.\n"
          ]
        },
        {
          "output_type": "stream",
          "name": "stdout",
          "text": [
            "Verification SELECT COUNT(RESTAURANT.NAME) FROM RESTAURANT JOIN GEOGRAPHIC ON RESTAURANT.CITY_NAME = GEOGRAPHIC.CITY_NAME WHERE GEOGRAPHIC.REGION = \"North\" AND RESTAURANT.FOOD_TYPE = \"Japanese\" GROUP BY GEOGRAPHIC.REGION;\n",
            "\n",
            "###\n",
            "Inference time = 1460.5315668582916\n",
            "index :  376\n"
          ]
        },
        {
          "output_type": "stream",
          "name": "stderr",
          "text": [
            "Setting `pad_token_id` to `eos_token_id`:128001 for open-end generation.\n"
          ]
        },
        {
          "output_type": "stream",
          "name": "stdout",
          "text": [
            "Verification SELECT REGION, COUNT(*) FROM `RESTAURANT` WHERE FOOD_TYPE = \"Latin\" AND RATING > 4 GROUP BY REGION ORDER BY REGION ASC;\n",
            "\n",
            "### Response:\n",
            "SELECT REGION, COUNT(*) FROM `RESTAURANT` WHERE FOOD_TYPE = \"Latin\" AND RATING > 4 GROUP BY REGION\n",
            "Inference time = 1467.153107881546\n",
            "index :  377\n"
          ]
        },
        {
          "output_type": "stream",
          "name": "stderr",
          "text": [
            "Setting `pad_token_id` to `eos_token_id`:128001 for open-end generation.\n"
          ]
        },
        {
          "output_type": "stream",
          "name": "stdout",
          "text": [
            "Verification SELECT AVG(RATING) FROM RESTAURANT WHERE CITY_NAME = \"San Francisco\" AND FOOD_TYPE = \"Ethiopian\"\n",
            "Inference time = 1470.2417600154877\n",
            "index :  378\n"
          ]
        },
        {
          "output_type": "stream",
          "name": "stderr",
          "text": [
            "Setting `pad_token_id` to `eos_token_id`:128001 for open-end generation.\n"
          ]
        },
        {
          "output_type": "stream",
          "name": "stdout",
          "text": [
            "Verification SELECT CITY_NAME, RATING FROM RESTAURANT WHERE FOOD_TYPE = \"American\" ORDER BY RATING DESC LIMIT 5\n",
            "Inference time = 1473.2558391094208\n",
            "index :  379\n"
          ]
        },
        {
          "output_type": "stream",
          "name": "stderr",
          "text": [
            "Setting `pad_token_id` to `eos_token_id`:128001 for open-end generation.\n"
          ]
        },
        {
          "output_type": "stream",
          "name": "stdout",
          "text": [
            "Verification SELECT CITY_NAME, COUNT(*) FROM RESTAURANT WHERE FOOD_TYPE = \"Asian\" GROUP BY CITY_NAME ORDER BY COUNT(*) DESC\n",
            "Inference time = 1476.356765985489\n",
            "index :  380\n"
          ]
        },
        {
          "output_type": "stream",
          "name": "stderr",
          "text": [
            "Setting `pad_token_id` to `eos_token_id`:128001 for open-end generation.\n"
          ]
        },
        {
          "output_type": "stream",
          "name": "stdout",
          "text": [
            "Verification SELECT NAME FROM RESTAURANT WHERE FOOD_TYPE = \"Italian\" AND CITY_NAME = \"Alberta\"\n",
            "Inference time = 1479.199756860733\n",
            "index :  381\n"
          ]
        },
        {
          "output_type": "stream",
          "name": "stderr",
          "text": [
            "Setting `pad_token_id` to `eos_token_id`:128001 for open-end generation.\n"
          ]
        },
        {
          "output_type": "stream",
          "name": "stdout",
          "text": [
            "Verification SELECT NAME FROM RESTAURANT WHERE RATING > 3.5 AND COUNTY = \"Santa Clara\"\n",
            "Inference time = 1481.8624875545502\n",
            "index :  382\n"
          ]
        },
        {
          "output_type": "stream",
          "name": "stderr",
          "text": [
            "Setting `pad_token_id` to `eos_token_id`:128001 for open-end generation.\n"
          ]
        },
        {
          "output_type": "stream",
          "name": "stdout",
          "text": [
            "Verification SELECT HOUSE_NUMBER, STREET_NAME FROM LOCATION WHERE CITY_NAME = \"Mountain View\" AND FOOD_TYPE = \"Indo Chinese\"\n",
            "Inference time = 1484.7874414920807\n",
            "index :  383\n"
          ]
        },
        {
          "output_type": "stream",
          "name": "stderr",
          "text": [
            "Setting `pad_token_id` to `eos_token_id`:128001 for open-end generation.\n"
          ]
        },
        {
          "output_type": "stream",
          "name": "stdout",
          "text": [
            "Verification SELECT NAME FROM RESTAURANT WHERE FOOD_TYPE = \"Malaysian\" AND RATING > 3.5 AND CITY_NAME IN (SELECT CITY_NAME FROM GEOGRAPHIC WHERE REGION = \"California\")\n",
            "Inference time = 1489.2679331302643\n",
            "index :  384\n"
          ]
        },
        {
          "output_type": "stream",
          "name": "stderr",
          "text": [
            "Setting `pad_token_id` to `eos_token_id`:128001 for open-end generation.\n"
          ]
        },
        {
          "output_type": "stream",
          "name": "stdout",
          "text": [
            "Verification SELECT HOUSE_NUMBER, STREET_NAME, CITY_NAME FROM LOCATION WHERE RATING > 4.5 AND FOOD_TYPE = \"Indian\"\n",
            "Inference time = 1492.4354078769684\n",
            "index :  385\n"
          ]
        },
        {
          "output_type": "stream",
          "name": "stderr",
          "text": [
            "Setting `pad_token_id` to `eos_token_id`:128001 for open-end generation.\n"
          ]
        },
        {
          "output_type": "stream",
          "name": "stdout",
          "text": [
            "Verification SELECT REGION FROM GEOGRAPHIC WHERE CITY_NAME IN (SELECT CITY_NAME FROM RESTAURANT WHERE FOOD_TYPE = \"Sushi\" AND RATING > 4.0)\n",
            "Inference time = 1496.3216075897217\n",
            "index :  386\n"
          ]
        },
        {
          "output_type": "stream",
          "name": "stderr",
          "text": [
            "Setting `pad_token_id` to `eos_token_id`:128001 for open-end generation.\n"
          ]
        },
        {
          "output_type": "stream",
          "name": "stdout",
          "text": [
            "Verification SELECT NAME FROM RESTAURANT WHERE CITY_NAME = \"Los Angeles\" AND FOOD_TYPE = \"French\"\n",
            "Inference time = 1498.9624950885773\n",
            "index :  387\n"
          ]
        },
        {
          "output_type": "stream",
          "name": "stderr",
          "text": [
            "Setting `pad_token_id` to `eos_token_id`:128001 for open-end generation.\n"
          ]
        },
        {
          "output_type": "stream",
          "name": "stdout",
          "text": [
            "Verification SELECT CITY_NAME FROM GEOGRAPHIC WHERE COUNTY = \"new york\" AND RATING > 4.5 AND FOOD_TYPE = \"thai\"\n",
            "Inference time = 1502.6326394081116\n",
            "index :  388\n"
          ]
        },
        {
          "output_type": "stream",
          "name": "stderr",
          "text": [
            "Setting `pad_token_id` to `eos_token_id`:128001 for open-end generation.\n"
          ]
        },
        {
          "output_type": "stream",
          "name": "stdout",
          "text": [
            "Verification SELECT ID, NAME FROM RESTAURANT WHERE FOOD_TYPE = \"Korean\" AND CITY_NAME = \"Washington\"\n",
            "Inference time = 1505.4745733737946\n",
            "index :  389\n"
          ]
        },
        {
          "output_type": "stream",
          "name": "stderr",
          "text": [
            "Setting `pad_token_id` to `eos_token_id`:128001 for open-end generation.\n"
          ]
        },
        {
          "output_type": "stream",
          "name": "stdout",
          "text": [
            "Verification SELECT CITY_NAME FROM GEOGRAPHIC WHERE CITY_NAME IN (SELECT CITY_NAME FROM RESTAURANT WHERE FOOD_TYPE = \"japanese\" AND RATING > 4.0)\n",
            "Inference time = 1509.4527344703674\n",
            "index :  390\n"
          ]
        },
        {
          "output_type": "stream",
          "name": "stderr",
          "text": [
            "Setting `pad_token_id` to `eos_token_id`:128001 for open-end generation.\n"
          ]
        },
        {
          "output_type": "stream",
          "name": "stdout",
          "text": [
            "Verification SELECT NAME FROM RESTAURANT WHERE RATING > 5\n",
            "Inference time = 1511.2949976921082\n",
            "index :  391\n"
          ]
        },
        {
          "output_type": "stream",
          "name": "stderr",
          "text": [
            "Setting `pad_token_id` to `eos_token_id`:128001 for open-end generation.\n"
          ]
        },
        {
          "output_type": "stream",
          "name": "stdout",
          "text": [
            "Verification SELECT COUNT(CITY_NAME) FROM GEOGRAPHIC GROUP BY CITY_NAME;\n",
            "\n",
            "### Response:\n",
            "CREATE TABLE GEOGRAPHIC ( CITY_NAME text, COUNTY text, REGION text, primary key(CITY_NAME) );CREATE TABLE RESTAURANT ( ID int, NAME text, FOOD_TYPE text, CITY_NAME text, RATING\n",
            "Inference time = 1517.881599664688\n",
            "index :  392\n"
          ]
        },
        {
          "output_type": "stream",
          "name": "stderr",
          "text": [
            "Setting `pad_token_id` to `eos_token_id`:128001 for open-end generation.\n"
          ]
        },
        {
          "output_type": "stream",
          "name": "stdout",
          "text": [
            "Verification SELECT NAME FROM RESTAURANT WHERE FOOD_TYPE = 'Mexican' AND RATING > 4 AND CITY_NAME = 'Denver'\n",
            "Inference time = 1521.1388683319092\n",
            "index :  393\n"
          ]
        },
        {
          "output_type": "stream",
          "name": "stderr",
          "text": [
            "Setting `pad_token_id` to `eos_token_id`:128001 for open-end generation.\n"
          ]
        },
        {
          "output_type": "stream",
          "name": "stdout",
          "text": [
            "Verification SELECT REGION FROM GEOGRAPHIC WHERE RATING = (SELECT MAX(RATING) FROM RESTAURANT)\n",
            "Inference time = 1523.7784826755524\n",
            "index :  394\n"
          ]
        },
        {
          "output_type": "stream",
          "name": "stderr",
          "text": [
            "Setting `pad_token_id` to `eos_token_id`:128001 for open-end generation.\n"
          ]
        },
        {
          "output_type": "stream",
          "name": "stdout",
          "text": [
            "Verification SELECT HOUSE_NUMBER FROM LOCATION WHERE RESTAURANT_ID IN (SELECT ID FROM RESTAURANT WHERE NAME = \"The Golden Chopstick\")\n",
            "Inference time = 1527.3303072452545\n",
            "index :  395\n"
          ]
        },
        {
          "output_type": "stream",
          "name": "stderr",
          "text": [
            "Setting `pad_token_id` to `eos_token_id`:128001 for open-end generation.\n"
          ]
        },
        {
          "output_type": "stream",
          "name": "stdout",
          "text": [
            "Verification SELECT COUNT(FOOD_TYPE) FROM RESTAURANT GROUP BY FOOD_TYPE ORDER BY COUNT(FOOD_TYPE) DESC LIMIT 1\n",
            "Inference time = 1530.5056431293488\n",
            "index :  396\n"
          ]
        },
        {
          "output_type": "stream",
          "name": "stderr",
          "text": [
            "Setting `pad_token_id` to `eos_token_id`:128001 for open-end generation.\n"
          ]
        },
        {
          "output_type": "stream",
          "name": "stdout",
          "text": [
            "Verification SELECT REGION, COUNT(DISTINCT FOOD_TYPE) FROM GEOGRAPHIC JOIN RESTAURANT ON GEOGRAPHIC.CITY_NAME = RESTAURANT.CITY_NAME GROUP BY REGION ORDER BY COUNT(DISTINCT FOOD_TYPE) DESC LIMIT 1;\n",
            "\n",
            "### Response:\n",
            "SELECT REGION, COUNT(DISTINCT FOOD_TYPE)\n",
            "Inference time = 1536.8521845340729\n",
            "index :  397\n"
          ]
        },
        {
          "output_type": "stream",
          "name": "stderr",
          "text": [
            "Setting `pad_token_id` to `eos_token_id`:128001 for open-end generation.\n"
          ]
        },
        {
          "output_type": "stream",
          "name": "stdout",
          "text": [
            "Verification SELECT CITY_NAME FROM GEOGRAPHIC WHERE CITY_NAME IN (SELECT CITY_NAME FROM RESTAURANT WHERE FOOD_TYPE = \"Pizza\" AND RATING > 4.5)\n",
            "Inference time = 1540.9645550251007\n",
            "index :  398\n"
          ]
        },
        {
          "output_type": "stream",
          "name": "stderr",
          "text": [
            "Setting `pad_token_id` to `eos_token_id`:128001 for open-end generation.\n"
          ]
        },
        {
          "output_type": "stream",
          "name": "stdout",
          "text": [
            "Verification SELECT R.NAME, R.FOOD_TYPE, AVG(R.RATING) FROM RESTAURANT AS R GROUP BY R.NAME, R.FOOD_TYPE ORDER BY R.NAME, R.FOOD_TYPE;\n",
            "\n",
            "### Response:\n",
            "SELECT R.NAME, R.FOOD_TYPE, AVG(R.RATING) FROM RESTAURANT AS R\n",
            "Inference time = 1547.277928352356\n",
            "index :  399\n"
          ]
        },
        {
          "output_type": "stream",
          "name": "stderr",
          "text": [
            "Setting `pad_token_id` to `eos_token_id`:128001 for open-end generation.\n"
          ]
        },
        {
          "output_type": "stream",
          "name": "stdout",
          "text": [
            "Verification SELECT REGION FROM GEOGRAPHIC WHERE RATING = (SELECT AVG(RATING) FROM RESTAURANT ORDER BY RATING DESC LIMIT 2 OFFSET 1)\n",
            "Inference time = 1551.1646134853363\n",
            "index :  400\n"
          ]
        },
        {
          "output_type": "stream",
          "name": "stderr",
          "text": [
            "Setting `pad_token_id` to `eos_token_id`:128001 for open-end generation.\n"
          ]
        },
        {
          "output_type": "stream",
          "name": "stdout",
          "text": [
            "Verification SELECT NAME FROM RESTAURANT WHERE CITY_NAME = \"San Francisco\"\n",
            "Inference time = 1553.1864235401154\n",
            "index :  401\n"
          ]
        },
        {
          "output_type": "stream",
          "name": "stderr",
          "text": [
            "Setting `pad_token_id` to `eos_token_id`:128001 for open-end generation.\n"
          ]
        },
        {
          "output_type": "stream",
          "name": "stdout",
          "text": [
            "Verification SELECT AVG(RATING) FROM RESTAURANT WHERE CITY_NAME = \"Los Angeles\" AND FOOD_TYPE = \"Italian\"\n",
            "Inference time = 1556.1026363372803\n",
            "index :  402\n"
          ]
        },
        {
          "output_type": "stream",
          "name": "stderr",
          "text": [
            "Setting `pad_token_id` to `eos_token_id`:128001 for open-end generation.\n"
          ]
        },
        {
          "output_type": "stream",
          "name": "stdout",
          "text": [
            "Verification SELECT NAME FROM RESTAURANT WHERE FOOD_TYPE = \"Thai\" AND CITY_NAME = \"San Diego\"\n",
            "Inference time = 1558.7358202934265\n",
            "index :  403\n"
          ]
        },
        {
          "output_type": "stream",
          "name": "stderr",
          "text": [
            "Setting `pad_token_id` to `eos_token_id`:128001 for open-end generation.\n"
          ]
        },
        {
          "output_type": "stream",
          "name": "stdout",
          "text": [
            "Verification SELECT CITY_NAME FROM GEOGRAPHIC WHERE NAME = \"The Red Door\"\n",
            "Inference time = 1560.7627561092377\n",
            "index :  404\n"
          ]
        },
        {
          "output_type": "stream",
          "name": "stderr",
          "text": [
            "Setting `pad_token_id` to `eos_token_id`:128001 for open-end generation.\n"
          ]
        },
        {
          "output_type": "stream",
          "name": "stdout",
          "text": [
            "Verification SELECT NAME FROM RESTAURANT WHERE RATING > 4 AND CITY_NAME IN (SELECT CITY_NAME FROM GEOGRAPHIC WHERE REGION = \"austin\")\n",
            "Inference time = 1564.564667224884\n",
            "index :  405\n"
          ]
        },
        {
          "output_type": "stream",
          "name": "stderr",
          "text": [
            "Setting `pad_token_id` to `eos_token_id`:128001 for open-end generation.\n"
          ]
        },
        {
          "output_type": "stream",
          "name": "stdout",
          "text": [
            "Verification SELECT REGION, COUNT(*) FROM GEOGRAPHIC GROUP BY REGION ORDER BY REGION ASC;\n",
            "\n",
            "### Response:\n",
            "CREATE TABLE GEOGRAPHIC ( CITY_NAME text, COUNTY text, REGION text, primary key(CITY_NAME) );CREATE TABLE RESTAURANT ( ID int, NAME text, FOOD_TYPE text, CITY_NAME text,\n",
            "Inference time = 1570.8399922847748\n",
            "index :  406\n"
          ]
        },
        {
          "output_type": "stream",
          "name": "stderr",
          "text": [
            "Setting `pad_token_id` to `eos_token_id`:128001 for open-end generation.\n"
          ]
        },
        {
          "output_type": "stream",
          "name": "stdout",
          "text": [
            "Verification SELECT FOOD_TYPE, AVG(RATING) FROM RESTAURANT WHERE CITY_NAME = \"Los Angeles\" GROUP BY FOOD_TYPE;\n",
            "\n",
            "### Response:\n",
            "SELECT FOOD_TYPE, AVG(RATING) FROM RESTAURANT WHERE CITY_NAME = \"Los Angeles\" GROUP BY FOOD_TYPE;\n",
            "Inference time = 1576.7619416713715\n",
            "index :  407\n"
          ]
        },
        {
          "output_type": "stream",
          "name": "stderr",
          "text": [
            "Setting `pad_token_id` to `eos_token_id`:128001 for open-end generation.\n"
          ]
        },
        {
          "output_type": "stream",
          "name": "stdout",
          "text": [
            "Verification SELECT NAME FROM RESTAURANT WHERE RATING > 4.5 AND FOOD_TYPE = \"Mexican\" AND CITY_NAME IN (SELECT CITY_NAME FROM GEOGRAPHIC WHERE REGION = \"Denver\")\n",
            "Inference time = 1581.1089355945587\n",
            "index :  408\n"
          ]
        },
        {
          "output_type": "stream",
          "name": "stderr",
          "text": [
            "Setting `pad_token_id` to `eos_token_id`:128001 for open-end generation.\n"
          ]
        },
        {
          "output_type": "stream",
          "name": "stdout",
          "text": [
            "Verification SELECT NAME, CITY_NAME FROM RESTAURANT WHERE FOOD_TYPE = \"Chinese\"\n",
            "Inference time = 1583.3163430690765\n",
            "index :  409\n"
          ]
        },
        {
          "output_type": "stream",
          "name": "stderr",
          "text": [
            "Setting `pad_token_id` to `eos_token_id`:128001 for open-end generation.\n"
          ]
        },
        {
          "output_type": "stream",
          "name": "stdout",
          "text": [
            "Verification SELECT COUNT(COUNTY) FROM GEOGRAPHIC GROUP BY COUNTY;\n",
            "\n",
            "### Response:\n",
            "SELECT COUNT(COUNTY) FROM GEOGRAPHIC GROUP BY COUNTY;\n",
            "Inference time = 1587.0773720741272\n",
            "index :  410\n"
          ]
        },
        {
          "output_type": "stream",
          "name": "stderr",
          "text": [
            "Setting `pad_token_id` to `eos_token_id`:128001 for open-end generation.\n"
          ]
        },
        {
          "output_type": "stream",
          "name": "stdout",
          "text": [
            "Verification SELECT AVG(RATING) FROM RESTAURANT WHERE CITY_NAME = \"SAN JOSE\" AND FOOD_TYPE = \"ITALIAN\"\n",
            "Inference time = 1590.162232875824\n",
            "index :  411\n"
          ]
        },
        {
          "output_type": "stream",
          "name": "stderr",
          "text": [
            "Setting `pad_token_id` to `eos_token_id`:128001 for open-end generation.\n"
          ]
        },
        {
          "output_type": "stream",
          "name": "stdout",
          "text": [
            "Verification SELECT CITY_NAME FROM GEOGRAPHIC WHERE CITY_NAME IN (SELECT CITY_NAME FROM RESTAURANT WHERE FOOD_TYPE = \"korean\" GROUP BY CITY_NAME HAVING COUNT(*) > 5)\n",
            "Inference time = 1594.4169414043427\n",
            "index :  412\n"
          ]
        },
        {
          "output_type": "stream",
          "name": "stderr",
          "text": [
            "Setting `pad_token_id` to `eos_token_id`:128001 for open-end generation.\n"
          ]
        },
        {
          "output_type": "stream",
          "name": "stdout",
          "text": [
            "Verification SELECT COUNT(*) FROM `RESTAURANT` WHERE `GEOGRAPHIC`.`COUNTY` = \"alameda\"\n",
            "Inference time = 1597.3972322940826\n",
            "index :  413\n"
          ]
        },
        {
          "output_type": "stream",
          "name": "stderr",
          "text": [
            "Setting `pad_token_id` to `eos_token_id`:128001 for open-end generation.\n"
          ]
        },
        {
          "output_type": "stream",
          "name": "stdout",
          "text": [
            "Verification SELECT NAME FROM RESTAURANT WHERE CITY_NAME = \"oakland\" ORDER BY RATING DESC LIMIT 1;\n",
            "\n",
            "### Response:\n",
            "SELECT NAME FROM RESTAURANT WHERE CITY_NAME = \"oakland\" ORDER BY RATING DESC LIMIT 1;\n",
            "Inference time = 1602.9792103767395\n",
            "index :  414\n"
          ]
        },
        {
          "output_type": "stream",
          "name": "stderr",
          "text": [
            "Setting `pad_token_id` to `eos_token_id`:128001 for open-end generation.\n"
          ]
        },
        {
          "output_type": "stream",
          "name": "stdout",
          "text": [
            "Verification SELECT NAME FROM RESTAURANT WHERE RATING = 5 AND CITY_NAME = \"SAN JOSE\"\n",
            "Inference time = 1605.6272795200348\n",
            "index :  415\n"
          ]
        },
        {
          "output_type": "stream",
          "name": "stderr",
          "text": [
            "Setting `pad_token_id` to `eos_token_id`:128001 for open-end generation.\n"
          ]
        },
        {
          "output_type": "stream",
          "name": "stdout",
          "text": [
            "Verification SELECT FOOD_TYPE FROM RESTAURANT WHERE CITY_NAME = \"SAN FRANCISCO\" GROUP BY FOOD_TYPE ORDER BY COUNT(FOOD_TYPE) DESC LIMIT 1\n",
            "Inference time = 1609.3742520809174\n",
            "index :  416\n"
          ]
        },
        {
          "output_type": "stream",
          "name": "stderr",
          "text": [
            "Setting `pad_token_id` to `eos_token_id`:128001 for open-end generation.\n"
          ]
        },
        {
          "output_type": "stream",
          "name": "stdout",
          "text": [
            "Verification SELECT AVG(RATING) FROM RESTAURANT WHERE REGION = \"socal\"\n",
            "Inference time = 1611.7741310596466\n",
            "index :  417\n"
          ]
        },
        {
          "output_type": "stream",
          "name": "stderr",
          "text": [
            "Setting `pad_token_id` to `eos_token_id`:128001 for open-end generation.\n"
          ]
        },
        {
          "output_type": "stream",
          "name": "stdout",
          "text": [
            "Verification SELECT HOUSE_NUMBER FROM LOCATION WHERE RESTAURANT_ID IN (SELECT ID FROM RESTAURANT WHERE NAME = \"the red lion\" AND CITY_NAME = \"los angeles\")\n",
            "Inference time = 1615.7529623508453\n",
            "index :  418\n"
          ]
        },
        {
          "output_type": "stream",
          "name": "stderr",
          "text": [
            "Setting `pad_token_id` to `eos_token_id`:128001 for open-end generation.\n"
          ]
        },
        {
          "output_type": "stream",
          "name": "stdout",
          "text": [
            "Verification SELECT NAME FROM RESTAURANT WHERE FOOD_TYPE = \"chinese\" AND CITY_NAME = \"orange\"\n",
            "Inference time = 1618.3903455734253\n",
            "index :  419\n"
          ]
        },
        {
          "output_type": "stream",
          "name": "stderr",
          "text": [
            "Setting `pad_token_id` to `eos_token_id`:128001 for open-end generation.\n"
          ]
        },
        {
          "output_type": "stream",
          "name": "stdout",
          "text": [
            "Verification SELECT AVG(RATING) FROM RESTAURANT WHERE REGION = \"northwest\"\n",
            "Inference time = 1621.0471484661102\n",
            "index :  420\n"
          ]
        },
        {
          "output_type": "stream",
          "name": "stderr",
          "text": [
            "Setting `pad_token_id` to `eos_token_id`:128001 for open-end generation.\n"
          ]
        },
        {
          "output_type": "stream",
          "name": "stdout",
          "text": [
            "Verification SELECT NAME FROM RESTAURANT WHERE FOOD_TYPE = \"continental cuisine\" AND CITY_NAME = \"san jose\"\n",
            "Inference time = 1625.2272067070007\n",
            "index :  421\n"
          ]
        },
        {
          "output_type": "stream",
          "name": "stderr",
          "text": [
            "Setting `pad_token_id` to `eos_token_id`:128001 for open-end generation.\n"
          ]
        },
        {
          "output_type": "stream",
          "name": "stdout",
          "text": [
            "Verification SELECT NAME FROM RESTAURANT WHERE RATING > 4.5 AND CITY_NAME = \"CHICAGO\"\n",
            "Inference time = 1628.0448417663574\n",
            "index :  422\n"
          ]
        },
        {
          "output_type": "stream",
          "name": "stderr",
          "text": [
            "Setting `pad_token_id` to `eos_token_id`:128001 for open-end generation.\n"
          ]
        },
        {
          "output_type": "stream",
          "name": "stdout",
          "text": [
            "Verification SELECT CITY_NAME, COUNT(*) FROM GEOGRAPHIC JOIN RESTAURANT ON GEOGRAPHIC.CITY_NAME = RESTAURANT.CITY_NAME WHERE FOOD_TYPE = \"Italian\" GROUP BY CITY_NAME ORDER BY CITY_NAME ASC;\n",
            "\n",
            "### Response:\n",
            "CREATE TABLE GEOGRAPHIC ( CITY_NAME text, COUNTY text, REGION\n",
            "Inference time = 1634.3096272945404\n",
            "index :  423\n"
          ]
        },
        {
          "output_type": "stream",
          "name": "stderr",
          "text": [
            "Setting `pad_token_id` to `eos_token_id`:128001 for open-end generation.\n"
          ]
        },
        {
          "output_type": "stream",
          "name": "stdout",
          "text": [
            "Verification SELECT NAME FROM RESTAURANT WHERE RATING > (SELECT AVG(RATING) FROM RESTAURANT WHERE CITY_NAME = \"new york\") ORDER BY RATING DESC LIMIT 5\n",
            "Inference time = 1638.78657412529\n",
            "index :  424\n"
          ]
        },
        {
          "output_type": "stream",
          "name": "stderr",
          "text": [
            "Setting `pad_token_id` to `eos_token_id`:128001 for open-end generation.\n"
          ]
        },
        {
          "output_type": "stream",
          "name": "stdout",
          "text": [
            "Verification SELECT HOUSE_NUMBER FROM LOCATION WHERE CITY_NAME = \"los angeles\" AND FOOD_TYPE = \"vegan delight\"\n",
            "Inference time = 1641.7261135578156\n",
            "index :  425\n"
          ]
        },
        {
          "output_type": "stream",
          "name": "stderr",
          "text": [
            "Setting `pad_token_id` to `eos_token_id`:128001 for open-end generation.\n"
          ]
        },
        {
          "output_type": "stream",
          "name": "stdout",
          "text": [
            "Verification SELECT COUNT(CITY_NAME) FROM GEOGRAPHIC WHERE COUNTY = \"CALIFORNIA\" AND REGION = \"MEXICAN\" GROUP BY CITY_NAME ORDER BY COUNT(CITY_NAME) DESC\n",
            "Inference time = 1645.9827718734741\n",
            "index :  426\n"
          ]
        },
        {
          "output_type": "stream",
          "name": "stderr",
          "text": [
            "Setting `pad_token_id` to `eos_token_id`:128001 for open-end generation.\n"
          ]
        },
        {
          "output_type": "stream",
          "name": "stdout",
          "text": [
            "Verification SELECT REGION, AVG(RATING) FROM `RESTAURANT` WHERE FOOD_TYPE = \"ITALIAN\" GROUP BY REGION ORDER BY REGION ASC;\n",
            "\n",
            "### Response:\n",
            "CREATE TABLE GEOGRAPHIC ( CITY_NAME text, COUNTY text, REGION text, primary key(CITY_NAME) );CREATE TABLE RESTAURANT ( ID\n",
            "Inference time = 1652.5445818901062\n",
            "index :  427\n"
          ]
        },
        {
          "output_type": "stream",
          "name": "stderr",
          "text": [
            "Setting `pad_token_id` to `eos_token_id`:128001 for open-end generation.\n"
          ]
        },
        {
          "output_type": "stream",
          "name": "stdout",
          "text": [
            "Verification SELECT GEOGRAPHIC.COUNTY, RESTAURANT.NAME FROM GEOGRAPHIC JOIN RESTAURANT ON GEOGRAPHIC.CITY_NAME = RESTAURANT.CITY_NAME WHERE RESTAURANT.RATING = (SELECT MAX(RESTAURANT.RATING) FROM GEOGRAPHIC JOIN RESTAUR\n",
            "Inference time = 1658.8536348342896\n",
            "index :  428\n"
          ]
        },
        {
          "output_type": "stream",
          "name": "stderr",
          "text": [
            "Setting `pad_token_id` to `eos_token_id`:128001 for open-end generation.\n"
          ]
        },
        {
          "output_type": "stream",
          "name": "stdout",
          "text": [
            "Verification SELECT COUNT(*) FROM `RESTAURANT` WHERE `CITY_NAME` = \"florida\"\n",
            "Inference time = 1661.652604341507\n",
            "index :  429\n"
          ]
        },
        {
          "output_type": "stream",
          "name": "stderr",
          "text": [
            "Setting `pad_token_id` to `eos_token_id`:128001 for open-end generation.\n"
          ]
        },
        {
          "output_type": "stream",
          "name": "stdout",
          "text": [
            "Verification SELECT STREET_NAME, HOUSE_NUMBER FROM LOCATION WHERE RATING = (SELECT MAX(RATING) FROM RESTAURANT WHERE CITY_NAME ='seattle')\n",
            "Inference time = 1665.1090376377106\n",
            "index :  430\n"
          ]
        },
        {
          "output_type": "stream",
          "name": "stderr",
          "text": [
            "Setting `pad_token_id` to `eos_token_id`:128001 for open-end generation.\n"
          ]
        },
        {
          "output_type": "stream",
          "name": "stdout",
          "text": [
            "Verification SELECT R.NAME FROM RESTAURANT AS R JOIN GEOGRAPHIC AS G ON R.CITY_NAME = G.CITY_NAME ORDER BY R.RATING DESC LIMIT 5\n",
            "\n",
            "### Response:\n",
            "SELECT R.NAME FROM RESTAURANT AS R JOIN GEOGRAPHIC AS G ON R.CITY_NAME = G.CITY\n",
            "Inference time = 1671.4240350723267\n",
            "index :  431\n"
          ]
        },
        {
          "output_type": "stream",
          "name": "stderr",
          "text": [
            "Setting `pad_token_id` to `eos_token_id`:128001 for open-end generation.\n"
          ]
        },
        {
          "output_type": "stream",
          "name": "stdout",
          "text": [
            "Verification SELECT NAME FROM RESTAURANT WHERE FOOD_TYPE = \"burgers\" AND CITY_NAME = \"san francisco\" ORDER BY RATING DESC LIMIT 1;\n",
            "Inference time = 1675.2735974788666\n",
            "index :  432\n"
          ]
        },
        {
          "output_type": "stream",
          "name": "stderr",
          "text": [
            "Setting `pad_token_id` to `eos_token_id`:128001 for open-end generation.\n"
          ]
        },
        {
          "output_type": "stream",
          "name": "stdout",
          "text": [
            "Verification SELECT NAME FROM RESTAURANT WHERE FOOD_TYPE = \"Italian\" AND CITY_NAME = \"Los Angeles\"\n",
            "Inference time = 1677.926922082901\n",
            "index :  433\n"
          ]
        },
        {
          "output_type": "stream",
          "name": "stderr",
          "text": [
            "Setting `pad_token_id` to `eos_token_id`:128001 for open-end generation.\n"
          ]
        },
        {
          "output_type": "stream",
          "name": "stdout",
          "text": [
            "Verification SELECT NAME FROM RESTAURANT WHERE RATING = (SELECT MAX(RATING) FROM RESTAURANT WHERE CITY_NAME = (SELECT CITY_NAME FROM GEOGRAPHIC WHERE STREET_NAME = \"lombard street\"))\n",
            "Inference time = 1682.5229325294495\n",
            "index :  434\n"
          ]
        },
        {
          "output_type": "stream",
          "name": "stderr",
          "text": [
            "Setting `pad_token_id` to `eos_token_id`:128001 for open-end generation.\n"
          ]
        },
        {
          "output_type": "stream",
          "name": "stdout",
          "text": [
            "Verification SELECT AVG(RATING) FROM RESTAURANT WHERE COUNTY = \"San Francisco\"\n",
            "Inference time = 1684.893078327179\n",
            "index :  435\n"
          ]
        },
        {
          "output_type": "stream",
          "name": "stderr",
          "text": [
            "Setting `pad_token_id` to `eos_token_id`:128001 for open-end generation.\n"
          ]
        },
        {
          "output_type": "stream",
          "name": "stdout",
          "text": [
            "Verification SELECT NAME FROM RESTAURANT WHERE RATING > 4 AND CITY_NAME = \"Bay Area\" ORDER BY RATING DESC\n",
            "Inference time = 1687.885086774826\n",
            "index :  436\n"
          ]
        },
        {
          "output_type": "stream",
          "name": "stderr",
          "text": [
            "Setting `pad_token_id` to `eos_token_id`:128001 for open-end generation.\n"
          ]
        },
        {
          "output_type": "stream",
          "name": "stdout",
          "text": [
            "Verification SELECT NAME FROM RESTAURANT WHERE RATING > (SELECT AVG(RATING) FROM RESTAURANT WHERE COUNTY = \"Bakersfield\") ORDER BY RATING DESC LIMIT 5\n",
            "Inference time = 1691.9483139514923\n",
            "index :  437\n"
          ]
        },
        {
          "output_type": "stream",
          "name": "stderr",
          "text": [
            "Setting `pad_token_id` to `eos_token_id`:128001 for open-end generation.\n"
          ]
        },
        {
          "output_type": "stream",
          "name": "stdout",
          "text": [
            "Verification SELECT NAME FROM RESTAURANT WHERE CITY_NAME = \"Denver\" AND FOOD_TYPE = \"Italian\"\n",
            "Inference time = 1694.5006844997406\n",
            "index :  438\n"
          ]
        },
        {
          "output_type": "stream",
          "name": "stderr",
          "text": [
            "Setting `pad_token_id` to `eos_token_id`:128001 for open-end generation.\n"
          ]
        },
        {
          "output_type": "stream",
          "name": "stdout",
          "text": [
            "Verification SELECT NAME FROM RESTAURANT WHERE RATING = 5 ORDER BY RATING DESC LIMIT 1;\n",
            "\n",
            "### Response:\n",
            "SELECT NAME FROM RESTAURANT WHERE RATING = 5 ORDER BY RATING DESC LIMIT 1;\n",
            "Inference time = 1699.686214208603\n",
            "index :  439\n"
          ]
        },
        {
          "output_type": "stream",
          "name": "stderr",
          "text": [
            "Setting `pad_token_id` to `eos_token_id`:128001 for open-end generation.\n"
          ]
        },
        {
          "output_type": "stream",
          "name": "stdout",
          "text": [
            "Verification SELECT REGION, AVG(RATING) FROM GEOGRAPHIC JOIN RESTAURANT ON GEOGRAPHIC.CITY_NAME = RESTAURANT.CITY_NAME GROUP BY REGION ORDER BY AVG(RATING) DESC LIMIT 3\n",
            "Inference time = 1704.2828011512756\n",
            "index :  440\n"
          ]
        },
        {
          "output_type": "stream",
          "name": "stderr",
          "text": [
            "Setting `pad_token_id` to `eos_token_id`:128001 for open-end generation.\n"
          ]
        },
        {
          "output_type": "stream",
          "name": "stdout",
          "text": [
            "Verification SELECT NAME FROM RESTAURANT WHERE FOOD_TYPE = \"japanese\" AND RATING > 4 AND CITY_NAME = \"bay area\"\n",
            "Inference time = 1707.5514702796936\n",
            "index :  441\n"
          ]
        },
        {
          "output_type": "stream",
          "name": "stderr",
          "text": [
            "Setting `pad_token_id` to `eos_token_id`:128001 for open-end generation.\n"
          ]
        },
        {
          "output_type": "stream",
          "name": "stdout",
          "text": [
            "Verification SELECT NAME FROM RESTAURANT WHERE FOOD_TYPE = \"Italian\" AND RATING > 4.5\n",
            "Inference time = 1710.4523599147797\n",
            "index :  442\n"
          ]
        },
        {
          "output_type": "stream",
          "name": "stderr",
          "text": [
            "Setting `pad_token_id` to `eos_token_id`:128001 for open-end generation.\n"
          ]
        },
        {
          "output_type": "stream",
          "name": "stdout",
          "text": [
            "Verification SELECT AVG(RATING) FROM RESTAURANT WHERE CITY_NAME = \"Bay Area\" AND FOOD_TYPE = \"Japanese\"\n",
            "Inference time = 1713.3748092651367\n",
            "index :  443\n"
          ]
        },
        {
          "output_type": "stream",
          "name": "stderr",
          "text": [
            "Setting `pad_token_id` to `eos_token_id`:128001 for open-end generation.\n"
          ]
        },
        {
          "output_type": "stream",
          "name": "stdout",
          "text": [
            "Verification SELECT CITY_NAME FROM GEOGRAPHIC WHERE REGION = \"Northwest\" ORDER BY COUNT(CITY_NAME) DESC LIMIT 1;\n",
            "\n",
            "### Response:\n",
            "SELECT CITY_NAME FROM GEOGRAPHIC WHERE REGION = \"Northwest\" ORDER BY COUNT(CITY_NAME) DESC LIMIT 1;\n",
            "Inference time = 1718.9568202495575\n",
            "index :  444\n"
          ]
        },
        {
          "output_type": "stream",
          "name": "stderr",
          "text": [
            "Setting `pad_token_id` to `eos_token_id`:128001 for open-end generation.\n"
          ]
        },
        {
          "output_type": "stream",
          "name": "stdout",
          "text": [
            "Verification SELECT NAME FROM RESTAURANT WHERE CITY_NAME IN (SELECT CITY_NAME FROM GEOGRAPHIC WHERE COUNTY LIKE '%San%')\n",
            "Inference time = 1722.2579743862152\n",
            "index :  445\n"
          ]
        },
        {
          "output_type": "stream",
          "name": "stderr",
          "text": [
            "Setting `pad_token_id` to `eos_token_id`:128001 for open-end generation.\n"
          ]
        },
        {
          "output_type": "stream",
          "name": "stdout",
          "text": [
            "Verification SELECT NAME, RATING FROM RESTAURANT WHERE REGION = \"WEST\" ORDER BY RATING DESC LIMIT 5\n",
            "Inference time = 1725.0900356769562\n",
            "index :  446\n"
          ]
        },
        {
          "output_type": "stream",
          "name": "stderr",
          "text": [
            "Setting `pad_token_id` to `eos_token_id`:128001 for open-end generation.\n"
          ]
        },
        {
          "output_type": "stream",
          "name": "stdout",
          "text": [
            "Verification SELECT CITY_NAME FROM GEOGRAPHIC WHERE (SELECT COUNT(*) FROM RESTAURANT WHERE FOOD_TYPE = \"Italian\" AND CITY_NAME = GEOGRAPHIC.CITY_NAME) = (SELECT MIN(COUNT(*)) FROM RESTAURANT WHERE FOOD_TYPE = \"Italian\" AND CITY_NAME = GEOGRAPHIC.CITY\n",
            "Inference time = 1731.366397857666\n",
            "index :  447\n"
          ]
        },
        {
          "output_type": "stream",
          "name": "stderr",
          "text": [
            "Setting `pad_token_id` to `eos_token_id`:128001 for open-end generation.\n"
          ]
        },
        {
          "output_type": "stream",
          "name": "stdout",
          "text": [
            "Verification SELECT REGION, COUNT(*) FROM RESTAURANT WHERE RATING > 4.5 GROUP BY REGION ORDER BY REGION ASC;\n",
            "\n",
            "### Response:\n",
            "SELECT REGION, COUNT(*) FROM RESTAURANT WHERE RATING > 4.5 GROUP BY REGION ORDER BY REGION ASC;\n",
            "Inference time = 1737.1981661319733\n",
            "index :  448\n"
          ]
        },
        {
          "output_type": "stream",
          "name": "stderr",
          "text": [
            "Setting `pad_token_id` to `eos_token_id`:128001 for open-end generation.\n"
          ]
        },
        {
          "output_type": "stream",
          "name": "stdout",
          "text": [
            "Verification SELECT AVG(RATING) FROM RESTAURANT GROUP BY CITY_NAME\n",
            "Inference time = 1739.1285042762756\n",
            "index :  449\n"
          ]
        },
        {
          "output_type": "stream",
          "name": "stderr",
          "text": [
            "Setting `pad_token_id` to `eos_token_id`:128001 for open-end generation.\n"
          ]
        },
        {
          "output_type": "stream",
          "name": "stdout",
          "text": [
            "Verification SELECT NAME FROM RESTAURANT WHERE RATING = (SELECT MIN(RATING) FROM RESTAURANT WHERE CITY_NAME = \"Oakland\")\n",
            "Inference time = 1742.4762659072876\n",
            "index :  450\n"
          ]
        },
        {
          "output_type": "stream",
          "name": "stderr",
          "text": [
            "Setting `pad_token_id` to `eos_token_id`:128001 for open-end generation.\n"
          ]
        },
        {
          "output_type": "stream",
          "name": "stdout",
          "text": [
            "Verification SELECT COUNT(CITY_NAME) FROM GEOGRAPHIC WHERE COUNTY = (SELECT COUNTY FROM GEOGRAPHIC WHERE REGION = (SELECT MAX(REGION) FROM GEOGRAPHIC))\n",
            "Inference time = 1746.5511183738708\n",
            "index :  451\n"
          ]
        },
        {
          "output_type": "stream",
          "name": "stderr",
          "text": [
            "Setting `pad_token_id` to `eos_token_id`:128001 for open-end generation.\n"
          ]
        },
        {
          "output_type": "stream",
          "name": "stdout",
          "text": [
            "Verification SELECT RESTAURANT.ID, RESTAURANT.NAME FROM RESTAURANT JOIN GEOGRAPHIC ON RESTAURANT.CITY_NAME = GEOGRAPHIC.CITY_NAME WHERE GEOGRAPHIC.CITY_NAME IN (SELECT CITY_NAME FROM GEOGRAPHIC WHERE FOOD_TYPE = 'Pizza')\n",
            "Inference time = 1752.4911561012268\n",
            "index :  452\n"
          ]
        },
        {
          "output_type": "stream",
          "name": "stderr",
          "text": [
            "Setting `pad_token_id` to `eos_token_id`:128001 for open-end generation.\n"
          ]
        },
        {
          "output_type": "stream",
          "name": "stdout",
          "text": [
            "Verification SELECT R.NAME FROM RESTAURANT AS R JOIN GEOGRAPHIC AS G ON R.CITY_NAME = G.CITY_NAME WHERE R.RATING = (SELECT MAX(R2.RATING) FROM RESTAURANT AS R2 JOIN GEOGRAPHIC AS G2 ON R2.CITY_NAME = G2.C\n",
            "Inference time = 1759.1352097988129\n",
            "index :  453\n"
          ]
        },
        {
          "output_type": "stream",
          "name": "stderr",
          "text": [
            "Setting `pad_token_id` to `eos_token_id`:128001 for open-end generation.\n"
          ]
        },
        {
          "output_type": "stream",
          "name": "stdout",
          "text": [
            "Verification SELECT CITY_NAME, AVG(RATING) FROM RESTAURANT WHERE RATING > 5 GROUP BY CITY_NAME HAVING COUNT(*) > 5 ORDER BY AVG(RATING) DESC\n",
            "Inference time = 1763.1155076026917\n",
            "index :  454\n"
          ]
        },
        {
          "output_type": "stream",
          "name": "stderr",
          "text": [
            "Setting `pad_token_id` to `eos_token_id`:128001 for open-end generation.\n"
          ]
        },
        {
          "output_type": "stream",
          "name": "stdout",
          "text": [
            "Verification SELECT CITY_NAME FROM GEOGRAPHIC WHERE CITY_NAME IN (SELECT CITY_NAME FROM RESTAURANT WHERE FOOD_TYPE = 'Mexican')\n",
            "Inference time = 1766.3042206764221\n",
            "index :  455\n"
          ]
        },
        {
          "output_type": "stream",
          "name": "stderr",
          "text": [
            "Setting `pad_token_id` to `eos_token_id`:128001 for open-end generation.\n"
          ]
        },
        {
          "output_type": "stream",
          "name": "stdout",
          "text": [
            "Verification SELECT `GEOGRAPHIC`.CITY_NAME, `RESTAURANT`.RATING FROM `GEOGRAPHIC` JOIN `RESTAURANT` ON `GEOGRAPHIC`.CITY_NAME = `RESTAURANT`.CITY_NAME WHERE `RESTAURANT`.FOOD_TYPE =\n",
            "Inference time = 1772.8962585926056\n",
            "index :  456\n"
          ]
        },
        {
          "output_type": "stream",
          "name": "stderr",
          "text": [
            "Setting `pad_token_id` to `eos_token_id`:128001 for open-end generation.\n"
          ]
        },
        {
          "output_type": "stream",
          "name": "stdout",
          "text": [
            "Verification SELECT AVG(RATING) FROM RESTAURANT WHERE FOOD_TYPE = \"Italian\" GROUP BY CITY_NAME\n",
            "Inference time = 1775.447012424469\n",
            "index :  457\n"
          ]
        },
        {
          "output_type": "stream",
          "name": "stderr",
          "text": [
            "Setting `pad_token_id` to `eos_token_id`:128001 for open-end generation.\n"
          ]
        },
        {
          "output_type": "stream",
          "name": "stdout",
          "text": [
            "Verification SELECT R.NAME, R.RATING FROM RESTAURANT AS R JOIN GEOGRAPHIC AS G ON R.CITY_NAME = G.CITY_NAME WHERE G.CITY_NAME IN (SELECT G.CITY_NAME FROM GEOGRAPHIC AS G WHERE G.CITY_NAME IN (SELECT G.CITY_NAME FROM GEOGRAPHIC\n",
            "Inference time = 1782.001874446869\n",
            "index :  458\n"
          ]
        },
        {
          "output_type": "stream",
          "name": "stderr",
          "text": [
            "Setting `pad_token_id` to `eos_token_id`:128001 for open-end generation.\n"
          ]
        },
        {
          "output_type": "stream",
          "name": "stdout",
          "text": [
            "Verification SELECT NAME FROM RESTAURANT WHERE CITY_NAME IN (SELECT CITY_NAME FROM GEOGRAPHIC WHERE CITY_NAME IN (SELECT CITY_NAME FROM LOCATION GROUP BY CITY_NAME HAVING COUNT(CITY_NAME) > 1))\n",
            "Inference time = 1786.6055471897125\n",
            "index :  459\n"
          ]
        },
        {
          "output_type": "stream",
          "name": "stderr",
          "text": [
            "Setting `pad_token_id` to `eos_token_id`:128001 for open-end generation.\n"
          ]
        },
        {
          "output_type": "stream",
          "name": "stdout",
          "text": [
            "Verification SELECT COUNT(CITY_NAME) FROM GEOGRAPHIC WHERE REGION = \"Bay Area\" GROUP BY COUNTY\n",
            "\n",
            "### Response:\n",
            "CREATE TABLE GEOGRAPHIC ( CITY_NAME text, COUNTY text, REGION text, primary key(CITY_NAME) );CREATE TABLE RESTAURANT ( ID int, NAME text, FOOD_TYPE text,\n",
            "Inference time = 1792.977929353714\n",
            "index :  460\n"
          ]
        },
        {
          "output_type": "stream",
          "name": "stderr",
          "text": [
            "Setting `pad_token_id` to `eos_token_id`:128001 for open-end generation.\n"
          ]
        },
        {
          "output_type": "stream",
          "name": "stdout",
          "text": [
            "Verification SELECT NAME FROM RESTAURANT WHERE RATING > (SELECT AVG(RATING) FROM RESTAURANT WHERE CITY_NAME = \"San Francisco\") ORDER BY RATING DESC LIMIT 5\n",
            "Inference time = 1797.1851954460144\n",
            "index :  461\n"
          ]
        },
        {
          "output_type": "stream",
          "name": "stderr",
          "text": [
            "Setting `pad_token_id` to `eos_token_id`:128001 for open-end generation.\n"
          ]
        },
        {
          "output_type": "stream",
          "name": "stdout",
          "text": [
            "Verification SELECT NAME FROM RESTAURANT WHERE CITY_NAME = (SELECT CITY_NAME FROM GEOGRAPHIC WHERE COUNTY = \"Santa Clara\" AND REGION = \"South Bay\" AND HOUSE_NUMBER = 101)\n",
            "Inference time = 1801.4396169185638\n",
            "index :  462\n"
          ]
        },
        {
          "output_type": "stream",
          "name": "stderr",
          "text": [
            "Setting `pad_token_id` to `eos_token_id`:128001 for open-end generation.\n"
          ]
        },
        {
          "output_type": "stream",
          "name": "stdout",
          "text": [
            "Verification SELECT AVG(RATING) FROM RESTAURANT WHERE CITY_NAME IN (SELECT CITY_NAME FROM GEOGRAPHIC WHERE REGION = \"East Bay\") AND FOOD_TYPE = \"Japanese\"\n",
            "Inference time = 1805.4753844738007\n",
            "index :  463\n"
          ]
        },
        {
          "output_type": "stream",
          "name": "stderr",
          "text": [
            "Setting `pad_token_id` to `eos_token_id`:128001 for open-end generation.\n"
          ]
        },
        {
          "output_type": "stream",
          "name": "stdout",
          "text": [
            "Verification SELECT NAME, RATING FROM RESTAURANT WHERE FOOD_TYPE = \"Indian\" AND REGION = \"Southern California\" ORDER BY RATING DESC\n",
            "Inference time = 1808.8158249855042\n",
            "index :  464\n"
          ]
        },
        {
          "output_type": "stream",
          "name": "stderr",
          "text": [
            "Setting `pad_token_id` to `eos_token_id`:128001 for open-end generation.\n"
          ]
        },
        {
          "output_type": "stream",
          "name": "stdout",
          "text": [
            "Verification SELECT NAME, RATING FROM RESTAURANT WHERE FOOD_TYPE = \"mexican\" AND CITY_NAME = \"bay area\" ORDER BY RATING DESC LIMIT 1\n",
            "Inference time = 1812.6305937767029\n",
            "index :  465\n"
          ]
        },
        {
          "output_type": "stream",
          "name": "stderr",
          "text": [
            "Setting `pad_token_id` to `eos_token_id`:128001 for open-end generation.\n"
          ]
        },
        {
          "output_type": "stream",
          "name": "stdout",
          "text": [
            "Verification SELECT COUNT(CITY_NAME) FROM GEOGRAPHIC WHERE REGION = \"socal\" GROUP BY CITY_NAME;\n",
            "\n",
            "### Response:\n",
            "CREATE TABLE GEOGRAPHIC ( CITY_NAME text, COUNTY text, REGION text, primary key(CITY_NAME) );CREATE TABLE RESTAURANT ( ID int, NAME text, FOOD_TYPE text\n",
            "Inference time = 1819.232433795929\n",
            "index :  466\n"
          ]
        },
        {
          "output_type": "stream",
          "name": "stderr",
          "text": [
            "Setting `pad_token_id` to `eos_token_id`:128001 for open-end generation.\n"
          ]
        },
        {
          "output_type": "stream",
          "name": "stdout",
          "text": [
            "Verification SELECT DISTINCT NAME FROM RESTAURANT WHERE FOOD_TYPE = \"Italian\" AND CITY_NAME = \"Los Angeles\"\n",
            "Inference time = 1821.9720435142517\n",
            "index :  467\n"
          ]
        },
        {
          "output_type": "stream",
          "name": "stderr",
          "text": [
            "Setting `pad_token_id` to `eos_token_id`:128001 for open-end generation.\n"
          ]
        },
        {
          "output_type": "stream",
          "name": "stdout",
          "text": [
            "Verification SELECT NAME, RATING FROM RESTAURANT WHERE COUNTY IN (SELECT COUNTY FROM GEOGRAPHIC ORDER BY RATING DESC LIMIT 1)\n",
            "Inference time = 1825.2547254562378\n",
            "index :  468\n"
          ]
        },
        {
          "output_type": "stream",
          "name": "stderr",
          "text": [
            "Setting `pad_token_id` to `eos_token_id`:128001 for open-end generation.\n"
          ]
        },
        {
          "output_type": "stream",
          "name": "stdout",
          "text": [
            "Verification SELECT HOUSE_NUMBER FROM LOCATION WHERE RATING > 4.5 AND FOOD_TYPE = \"Chinese\" AND CITY_NAME = \"North Bay\"\n",
            "Inference time = 1828.7937517166138\n",
            "index :  469\n"
          ]
        },
        {
          "output_type": "stream",
          "name": "stderr",
          "text": [
            "Setting `pad_token_id` to `eos_token_id`:128001 for open-end generation.\n"
          ]
        },
        {
          "output_type": "stream",
          "name": "stdout",
          "text": [
            "Verification SELECT MIN(RATING), MAX(RATING), AVG(RATING) FROM RESTAURANT WHERE CITY_NAME = \"bay area\" AND FOOD_TYPE = \"italian\"\n",
            "Inference time = 1832.7136096954346\n",
            "index :  470\n"
          ]
        },
        {
          "output_type": "stream",
          "name": "stderr",
          "text": [
            "Setting `pad_token_id` to `eos_token_id`:128001 for open-end generation.\n"
          ]
        },
        {
          "output_type": "stream",
          "name": "stdout",
          "text": [
            "Verification SELECT NAME FROM RESTAURANT WHERE CITY_NAME IN (SELECT CITY_NAME FROM GEOGRAPHIC WHERE REGION = \"New England\") AND RATING > 3.5 ORDER BY RATING DESC LIMIT 5\n",
            "Inference time = 1837.1465425491333\n",
            "index :  471\n"
          ]
        },
        {
          "output_type": "stream",
          "name": "stderr",
          "text": [
            "Setting `pad_token_id` to `eos_token_id`:128001 for open-end generation.\n"
          ]
        },
        {
          "output_type": "stream",
          "name": "stdout",
          "text": [
            "Verification SELECT NAME FROM RESTAURANT WHERE CITY_NAME = \"Chicago\" ORDER BY RATING DESC LIMIT 1;\n",
            "\n",
            "### Response:\n",
            "SELECT NAME FROM RESTAURANT WHERE CITY_NAME = \"Chicago\" ORDER BY RATING DESC LIMIT 1;\n",
            "Inference time = 1842.4265727996826\n",
            "index :  472\n"
          ]
        },
        {
          "output_type": "stream",
          "name": "stderr",
          "text": [
            "Setting `pad_token_id` to `eos_token_id`:128001 for open-end generation.\n"
          ]
        },
        {
          "output_type": "stream",
          "name": "stdout",
          "text": [
            "Verification SELECT NAME FROM RESTAURANT WHERE FOOD_TYPE = \"Italian\" AND CITY_NAME IN (SELECT CITY_NAME FROM GEOGRAPHIC WHERE REGION = \"Midwest\") ORDER BY RATING DESC LIMIT 1;\n",
            "\n",
            "### Response:\n",
            "SELECT NAME FROM RESTAURANT WHERE FOOD_TYPE = \"Italian\" AND CITY_NAME IN (\n",
            "Inference time = 1848.7288672924042\n",
            "index :  473\n"
          ]
        },
        {
          "output_type": "stream",
          "name": "stderr",
          "text": [
            "Setting `pad_token_id` to `eos_token_id`:128001 for open-end generation.\n"
          ]
        },
        {
          "output_type": "stream",
          "name": "stdout",
          "text": [
            "Verification SELECT NAME FROM RESTAURANT WHERE FOOD_TYPE = \"japanese\" AND CITY_NAME IN (SELECT CITY_NAME FROM GEOGRAPHIC WHERE REGION = \"japan\" )\n",
            "Inference time = 1852.517616033554\n",
            "index :  474\n"
          ]
        },
        {
          "output_type": "stream",
          "name": "stderr",
          "text": [
            "Setting `pad_token_id` to `eos_token_id`:128001 for open-end generation.\n"
          ]
        },
        {
          "output_type": "stream",
          "name": "stdout",
          "text": [
            "Verification SELECT COUNT(*) FROM `RESTAURANT` WHERE `CITY_NAME` = \"San Francisco\"\n",
            "Inference time = 1855.2858562469482\n",
            "index :  475\n"
          ]
        },
        {
          "output_type": "stream",
          "name": "stderr",
          "text": [
            "Setting `pad_token_id` to `eos_token_id`:128001 for open-end generation.\n"
          ]
        },
        {
          "output_type": "stream",
          "name": "stdout",
          "text": [
            "Verification SELECT AVG(RATING) FROM RESTAURANT WHERE CITY_NAME = \"Los Angeles\"\n",
            "Inference time = 1857.5728578567505\n",
            "index :  476\n"
          ]
        },
        {
          "output_type": "stream",
          "name": "stderr",
          "text": [
            "Setting `pad_token_id` to `eos_token_id`:128001 for open-end generation.\n"
          ]
        },
        {
          "output_type": "stream",
          "name": "stdout",
          "text": [
            "Verification SELECT REGION, NAME FROM `RESTAURANT` WHERE RATING > 4 ORDER BY RATING DESC LIMIT 5 GROUP BY REGION\n",
            "\n",
            "### Response:\n",
            "CREATE TABLE GEOGRAPHIC ( CITY_NAME text, COUNTY text, REGION text, primary key(CITY_NAME) );CREATE TABLE RESTAURANT ( ID int\n",
            "Inference time = 1863.8338668346405\n",
            "index :  477\n"
          ]
        },
        {
          "output_type": "stream",
          "name": "stderr",
          "text": [
            "Setting `pad_token_id` to `eos_token_id`:128001 for open-end generation.\n"
          ]
        },
        {
          "output_type": "stream",
          "name": "stdout",
          "text": [
            "Verification SELECT NAME FROM RESTAURANT WHERE FOOD_TYPE = \"Italian\" AND CITY_NAME IN (SELECT CITY_NAME FROM GEOGRAPHIC WHERE REGION = \"Pacific Coast\")\n",
            "Inference time = 1867.8117339611053\n",
            "index :  478\n"
          ]
        },
        {
          "output_type": "stream",
          "name": "stderr",
          "text": [
            "Setting `pad_token_id` to `eos_token_id`:128001 for open-end generation.\n"
          ]
        },
        {
          "output_type": "stream",
          "name": "stdout",
          "text": [
            "Verification SELECT NAME FROM RESTAURANT WHERE RATING > 3.0\n",
            "Inference time = 1869.835326910019\n",
            "index :  479\n"
          ]
        },
        {
          "output_type": "stream",
          "name": "stderr",
          "text": [
            "Setting `pad_token_id` to `eos_token_id`:128001 for open-end generation.\n"
          ]
        },
        {
          "output_type": "stream",
          "name": "stdout",
          "text": [
            "Verification SELECT NAME FROM RESTAURANT WHERE FOOD_TYPE = \"Chinese\" ORDER BY RATING DESC LIMIT 5\n",
            "Inference time = 1872.4829528331757\n",
            "index :  480\n"
          ]
        },
        {
          "output_type": "stream",
          "name": "stderr",
          "text": [
            "Setting `pad_token_id` to `eos_token_id`:128001 for open-end generation.\n"
          ]
        },
        {
          "output_type": "stream",
          "name": "stdout",
          "text": [
            "Verification SELECT NAME FROM RESTAURANT WHERE CITY_NAME LIKE 'A%' ORDER BY NAME ASC\n",
            "\n",
            "### Response:\n",
            "SELECT NAME FROM RESTAURANT WHERE CITY_NAME LIKE 'A%' ORDER BY NAME ASC\n",
            "Inference time = 1876.7178795337677\n",
            "index :  481\n"
          ]
        },
        {
          "output_type": "stream",
          "name": "stderr",
          "text": [
            "Setting `pad_token_id` to `eos_token_id`:128001 for open-end generation.\n"
          ]
        },
        {
          "output_type": "stream",
          "name": "stdout",
          "text": [
            "Verification SELECT NAME FROM RESTAURANT WHERE CITY_NAME IN (SELECT CITY_NAME FROM GEOGRAPHIC WHERE CITY_NAME = \"Las Vegas\" OR CITY_NAME = \"San Diego\") AND RATING > 4.0\n",
            "Inference time = 1881.4511680603027\n",
            "index :  482\n"
          ]
        },
        {
          "output_type": "stream",
          "name": "stderr",
          "text": [
            "Setting `pad_token_id` to `eos_token_id`:128001 for open-end generation.\n"
          ]
        },
        {
          "output_type": "stream",
          "name": "stdout",
          "text": [
            "Verification SELECT NAME FROM RESTAURANT WHERE CITY_NAME IN (SELECT CITY_NAME FROM GEOGRAPHIC ORDER BY COUNT(CITY_NAME) DESC LIMIT 1) ORDER BY RATING DESC LIMIT 5\n",
            "Inference time = 1885.6000542640686\n",
            "index :  483\n"
          ]
        },
        {
          "output_type": "stream",
          "name": "stderr",
          "text": [
            "Setting `pad_token_id` to `eos_token_id`:128001 for open-end generation.\n"
          ]
        },
        {
          "output_type": "stream",
          "name": "stdout",
          "text": [
            "Verification SELECT NAME FROM RESTAURANT WHERE CITY_NAME = (SELECT CITY_NAME FROM GEOGRAPHIC WHERE REGION = \"Bay Area\" AND COUNTY = \"Italian\") ORDER BY RATING DESC LIMIT 1;\n",
            "\n",
            "### Response:\n",
            "SELECT NAME FROM RESTAURANT WHERE CITY_NAME = (SELECT CITY_NAME FROM GEOGRAPHIC WHERE\n",
            "Inference time = 1892.1819682121277\n",
            "index :  484\n"
          ]
        },
        {
          "output_type": "stream",
          "name": "stderr",
          "text": [
            "Setting `pad_token_id` to `eos_token_id`:128001 for open-end generation.\n"
          ]
        },
        {
          "output_type": "stream",
          "name": "stdout",
          "text": [
            "Verification SELECT NAME FROM RESTAURANT WHERE RATING > 3.5 ORDER BY RATING DESC LIMIT 10;\n",
            "\n",
            "### Response:\n",
            "SELECT NAME FROM RESTAURANT WHERE RATING > 3.5 ORDER BY RATING DESC LIMIT 10;\n",
            "Inference time = 1897.4057891368866\n",
            "index :  485\n"
          ]
        },
        {
          "output_type": "stream",
          "name": "stderr",
          "text": [
            "Setting `pad_token_id` to `eos_token_id`:128001 for open-end generation.\n"
          ]
        },
        {
          "output_type": "stream",
          "name": "stdout",
          "text": [
            "Verification SELECT NAME FROM RESTAURANT WHERE FOOD_TYPE = \"vegetarian\" AND CITY_NAME IN (SELECT CITY_NAME FROM GEOGRAPHIC WHERE REGION = \"bay area\")\n",
            "Inference time = 1901.1280801296234\n",
            "index :  486\n"
          ]
        },
        {
          "output_type": "stream",
          "name": "stderr",
          "text": [
            "Setting `pad_token_id` to `eos_token_id`:128001 for open-end generation.\n"
          ]
        },
        {
          "output_type": "stream",
          "name": "stdout",
          "text": [
            "Verification SELECT REGION, COUNT(*) FROM GEOGRAPHIC WHERE CITY_NAME IN (SELECT CITY_NAME FROM RESTAURANT WHERE FOOD_TYPE = \"Italian\" OR FOOD_TYPE = \"American\") GROUP BY REGION ORDER BY REGION ASC;\n",
            "\n",
            "### Response:\n",
            "SELECT REGION, COUNT(*) FROM GEOGRAPHIC WHERE CITY_NAME IN (SELECT CITY_NAME\n",
            "Inference time = 1907.6257531642914\n",
            "index :  487\n"
          ]
        },
        {
          "output_type": "stream",
          "name": "stderr",
          "text": [
            "Setting `pad_token_id` to `eos_token_id`:128001 for open-end generation.\n"
          ]
        },
        {
          "output_type": "stream",
          "name": "stdout",
          "text": [
            "Verification SELECT CITY_NAME, FOOD_TYPE FROM RESTAURANT GROUP BY CITY_NAME ORDER BY FOOD_TYPE DESC;\n",
            "\n",
            "### Response:\n",
            "SELECT CITY_NAME, FOOD_TYPE FROM RESTAURANT GROUP BY CITY_NAME ORDER BY FOOD_TYPE DESC;\n",
            "Inference time = 1912.297457933426\n",
            "index :  488\n"
          ]
        },
        {
          "output_type": "stream",
          "name": "stderr",
          "text": [
            "Setting `pad_token_id` to `eos_token_id`:128001 for open-end generation.\n"
          ]
        },
        {
          "output_type": "stream",
          "name": "stdout",
          "text": [
            "Verification SELECT REGION FROM GEOGRAPHIC WHERE CITY_NAME IN (SELECT CITY_NAME FROM RESTAURANT ORDER BY COUNT(CITY_NAME) DESC LIMIT 1)\n",
            "Inference time = 1916.0049700737\n",
            "index :  489\n"
          ]
        },
        {
          "output_type": "stream",
          "name": "stderr",
          "text": [
            "Setting `pad_token_id` to `eos_token_id`:128001 for open-end generation.\n"
          ]
        },
        {
          "output_type": "stream",
          "name": "stdout",
          "text": [
            "Verification SELECT NAME FROM RESTAURANT WHERE CITY_NAME IN (SELECT CITY_NAME FROM GEOGRAPHIC WHERE COUNTY = \"bay area\") ORDER BY RATING DESC LIMIT 5;\n",
            "\n",
            "### Response:\n",
            "SELECT NAME FROM RESTAURANT WHERE CITY_NAME IN (SELECT CITY_NAME FROM GEOGRAPHIC WHERE COUNTY = \"bay area\")\n",
            "Inference time = 1922.2931191921234\n",
            "index :  490\n"
          ]
        },
        {
          "output_type": "stream",
          "name": "stderr",
          "text": [
            "Setting `pad_token_id` to `eos_token_id`:128001 for open-end generation.\n"
          ]
        },
        {
          "output_type": "stream",
          "name": "stdout",
          "text": [
            "Verification SELECT NAME FROM RESTAURANT WHERE RATING > 3.5 AND CITY_NAME = \"San Jose\"\n",
            "Inference time = 1925.034967660904\n",
            "index :  491\n"
          ]
        },
        {
          "output_type": "stream",
          "name": "stderr",
          "text": [
            "Setting `pad_token_id` to `eos_token_id`:128001 for open-end generation.\n"
          ]
        },
        {
          "output_type": "stream",
          "name": "stdout",
          "text": [
            "Verification SELECT HOUSE_NUMBER FROM LOCATION WHERE RATING > 4 AND FOOD_TYPE = \"Italian\" AND REGION = \"New York\"\n",
            "Inference time = 1928.2054917812347\n",
            "index :  492\n"
          ]
        },
        {
          "output_type": "stream",
          "name": "stderr",
          "text": [
            "Setting `pad_token_id` to `eos_token_id`:128001 for open-end generation.\n"
          ]
        },
        {
          "output_type": "stream",
          "name": "stdout",
          "text": [
            "Verification SELECT NAME, RATING FROM RESTAURANT WHERE REGION = \"LA\" ORDER BY RATING DESC LIMIT 5\n",
            "Inference time = 1931.0336453914642\n",
            "index :  493\n"
          ]
        },
        {
          "output_type": "stream",
          "name": "stderr",
          "text": [
            "Setting `pad_token_id` to `eos_token_id`:128001 for open-end generation.\n"
          ]
        },
        {
          "output_type": "stream",
          "name": "stdout",
          "text": [
            "Verification SELECT NAME FROM RESTAURANT WHERE FOOD_TYPE = \"American\" AND REGION = \"San Francisco\" ORDER BY RATING DESC;\n",
            "\n",
            "### Response:\n",
            "SELECT NAME FROM RESTAURANT WHERE FOOD_TYPE = \"American\" AND REGION = \"San Francisco\" ORDER BY RATING DESC;\n",
            "Inference time = 1936.7889964580536\n",
            "index :  494\n"
          ]
        },
        {
          "output_type": "stream",
          "name": "stderr",
          "text": [
            "Setting `pad_token_id` to `eos_token_id`:128001 for open-end generation.\n"
          ]
        },
        {
          "output_type": "stream",
          "name": "stdout",
          "text": [
            "Verification SELECT AVG(RATING) FROM RESTAURANT WHERE CITY_NAME = \"Bay Area\" AND FOOD_TYPE = \"Italian\"\n",
            "Inference time = 1939.9210176467896\n",
            "index :  495\n"
          ]
        },
        {
          "output_type": "stream",
          "name": "stderr",
          "text": [
            "Setting `pad_token_id` to `eos_token_id`:128001 for open-end generation.\n"
          ]
        },
        {
          "output_type": "stream",
          "name": "stdout",
          "text": [
            "Verification SELECT COUNT(*) FROM `RESTAURANT` WHERE `FOOD_TYPE` = \"Indian\" AND `CITY_NAME` = \"San Diego\"\n",
            "Inference time = 1943.349091053009\n",
            "index :  496\n"
          ]
        },
        {
          "output_type": "stream",
          "name": "stderr",
          "text": [
            "Setting `pad_token_id` to `eos_token_id`:128001 for open-end generation.\n"
          ]
        },
        {
          "output_type": "stream",
          "name": "stdout",
          "text": [
            "Verification SELECT CITY_NAME FROM GEOGRAPHIC WHERE RATING = (SELECT MIN(RATING) FROM RESTAURANT WHERE CITY_NAME = (SELECT CITY_NAME FROM GEOGRAPHIC WHERE REGION = 'Los Angeles'))\n",
            "Inference time = 1947.673169374466\n",
            "index :  497\n"
          ]
        },
        {
          "output_type": "stream",
          "name": "stderr",
          "text": [
            "Setting `pad_token_id` to `eos_token_id`:128001 for open-end generation.\n"
          ]
        },
        {
          "output_type": "stream",
          "name": "stdout",
          "text": [
            "Verification SELECT NAME FROM RESTAURANT WHERE CITY_NAME = \"Orange County\" ORDER BY RATING DESC LIMIT 3\n",
            "Inference time = 1950.5983550548553\n",
            "index :  498\n"
          ]
        },
        {
          "output_type": "stream",
          "name": "stderr",
          "text": [
            "Setting `pad_token_id` to `eos_token_id`:128001 for open-end generation.\n"
          ]
        },
        {
          "output_type": "stream",
          "name": "stdout",
          "text": [
            "Verification SELECT AVG(RATING) FROM RESTAURANT WHERE CITY_NAME = \"Santa Clara\" AND FOOD_TYPE = \"Mexican\"\n",
            "Inference time = 1953.5934526920319\n",
            "index :  499\n",
            "Verification SELECT HOUSE_NUMBER FROM LOCATION WHERE RATING > (SELECT MAX(RATING) FROM RESTAURANT WHERE COUNTY = \"San Mateo\") ORDER BY RATING DESC LIMIT 10\n",
            "Inference time = 1957.499623298645\n",
            "Inference time = 1958.1240057945251\n"
          ]
        }
      ]
    },
    {
      "cell_type": "code",
      "source": [
        "excel_file = \"text2sql_dataset_subset.xlsx\"\n",
        "df = pd.read_excel(excel_file)\n",
        "mean_BS = df['bleu_score'].mean()\n",
        "mean_RS = df['rouge_score'].mean()\n",
        "print(mean_BS, mean_RS)"
      ],
      "metadata": {
        "id": "Cs868X71fFoD",
        "outputId": "f9c4771b-cbb2-4a1a-ebb5-d70b7a7c140b",
        "colab": {
          "base_uri": "https://localhost:8080/"
        }
      },
      "execution_count": null,
      "outputs": [
        {
          "output_type": "stream",
          "name": "stdout",
          "text": [
            "0.015962085900194458 0.5180998102292317\n"
          ]
        }
      ]
    },
    {
      "cell_type": "code",
      "source": [
        "e = \"aggregation.xlsx\"\n",
        "df1 = pd.read_excel(e)\n",
        "mbs = df1['bleu_score'].mean()\n",
        "mrs = df1['rouge_score'].mean()\n",
        "print(mbs,mrs)"
      ],
      "metadata": {
        "id": "qkuMSX7af3oE"
      },
      "execution_count": null,
      "outputs": []
    },
    {
      "cell_type": "code",
      "source": [
        "e1 = \"CTEs.xlsx\"\n",
        "df2 = pd.read_excel(e1)\n",
        "mbs1 = df2['bleu_score'].mean()\n",
        "mrs1 = df2['rouge_score'].mean()\n",
        "print(mbs1,mrs1)"
      ],
      "metadata": {
        "id": "vzrrxqrRgcWB"
      },
      "execution_count": null,
      "outputs": []
    },
    {
      "cell_type": "code",
      "source": [
        "e2 = \"multiple_joins.xlsx\"\n",
        "df3 = pd.read_excel(e2)\n",
        "mbs2 = df3['bleu_score'].mean()\n",
        "mrs2 = df3['rouge_score'].mean()\n",
        "print(mbs2,mrs2)"
      ],
      "metadata": {
        "id": "rn2cg_uvgswZ"
      },
      "execution_count": null,
      "outputs": []
    },
    {
      "cell_type": "code",
      "source": [
        "e3 = \"set operations.xlsx\"\n",
        "df4 = pd.read_excel(e3)\n",
        "mbs3 = df4['bleu_score'].mean()\n",
        "mrs3 = df4['rouge_score'].mean()\n",
        "print(mbs3,mrs3)"
      ],
      "metadata": {
        "id": "eoc5Nboog7kd"
      },
      "execution_count": null,
      "outputs": []
    },
    {
      "cell_type": "code",
      "source": [
        "e4 = \"single join.xlsx\"\n",
        "df5 = pd.read_excel(e4)\n",
        "mbs4 = df5['bleu_score'].mean()\n",
        "mrs4 = df5['rouge_score'].mean()\n",
        "print(mbs4,mrs4)"
      ],
      "metadata": {
        "id": "dNyStA9XhJ82"
      },
      "execution_count": null,
      "outputs": []
    },
    {
      "cell_type": "code",
      "source": [
        "e5 = \"subqueries.xlsx\"\n",
        "df6 = pd.read_excel(e5)\n",
        "mbs5 = df6['bleu_score'].mean()\n",
        "mrs5 = df6['rouge_score'].mean()\n",
        "print(mbs5,mrs5)"
      ],
      "metadata": {
        "id": "xmKa-aLXhRwN"
      },
      "execution_count": null,
      "outputs": []
    },
    {
      "cell_type": "code",
      "source": [
        "e6 = \"window functions.xlsx\"\n",
        "df7 = pd.read_excel(e6)\n",
        "mbs6 = df7['bleu_score'].mean()\n",
        "mrs6 = df7['rouge_score'].mean()\n",
        "print(mbs6,mrs6)"
      ],
      "metadata": {
        "id": "K7k7e8GQhel_"
      },
      "execution_count": null,
      "outputs": []
    },
    {
      "cell_type": "code",
      "source": [],
      "metadata": {
        "id": "siPUmHxqhoUD"
      },
      "execution_count": null,
      "outputs": []
    }
  ]
}